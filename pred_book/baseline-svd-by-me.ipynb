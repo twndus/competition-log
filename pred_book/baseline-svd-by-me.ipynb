{
 "cells": [
  {
   "cell_type": "markdown",
   "id": "98fef23d-e905-495a-98ed-393a8c8e19cd",
   "metadata": {},
   "source": [
    "## Import"
   ]
  },
  {
   "cell_type": "code",
   "execution_count": 6,
   "id": "57dd1c7c-9a3e-4cb3-9616-9a1a3aa45c4a",
   "metadata": {},
   "outputs": [],
   "source": [
    "import pandas as pd\n",
    "from sklearn.svm import SVR\n",
    "from surprise import SVD, Dataset, Reader, accuracy, SVDpp"
   ]
  },
  {
   "cell_type": "markdown",
   "id": "188ebb07-b146-45c8-bac9-e7bb27d45056",
   "metadata": {},
   "source": [
    "## Data Load"
   ]
  },
  {
   "cell_type": "code",
   "execution_count": 2,
   "id": "96379c36-c2ee-48f7-87f9-7e77e7c58fb3",
   "metadata": {},
   "outputs": [],
   "source": [
    "train_df = pd.read_csv('open/train.csv')\n",
    "test_df = pd.read_csv('open/test.csv')"
   ]
  },
  {
   "cell_type": "code",
   "execution_count": 4,
   "id": "223d49a9",
   "metadata": {},
   "outputs": [
    {
     "data": {
      "text/html": [
       "<div>\n",
       "<style scoped>\n",
       "    .dataframe tbody tr th:only-of-type {\n",
       "        vertical-align: middle;\n",
       "    }\n",
       "\n",
       "    .dataframe tbody tr th {\n",
       "        vertical-align: top;\n",
       "    }\n",
       "\n",
       "    .dataframe thead th {\n",
       "        text-align: right;\n",
       "    }\n",
       "</style>\n",
       "<table border=\"1\" class=\"dataframe\">\n",
       "  <thead>\n",
       "    <tr style=\"text-align: right;\">\n",
       "      <th></th>\n",
       "      <th>User-ID</th>\n",
       "      <th>Book-ID</th>\n",
       "      <th>Book-Rating</th>\n",
       "    </tr>\n",
       "  </thead>\n",
       "  <tbody>\n",
       "    <tr>\n",
       "      <th>0</th>\n",
       "      <td>USER_00000</td>\n",
       "      <td>BOOK_044368</td>\n",
       "      <td>8</td>\n",
       "    </tr>\n",
       "    <tr>\n",
       "      <th>1</th>\n",
       "      <td>USER_00000</td>\n",
       "      <td>BOOK_081205</td>\n",
       "      <td>8</td>\n",
       "    </tr>\n",
       "    <tr>\n",
       "      <th>2</th>\n",
       "      <td>USER_00000</td>\n",
       "      <td>BOOK_086781</td>\n",
       "      <td>0</td>\n",
       "    </tr>\n",
       "    <tr>\n",
       "      <th>3</th>\n",
       "      <td>USER_00000</td>\n",
       "      <td>BOOK_098622</td>\n",
       "      <td>0</td>\n",
       "    </tr>\n",
       "    <tr>\n",
       "      <th>4</th>\n",
       "      <td>USER_00000</td>\n",
       "      <td>BOOK_180810</td>\n",
       "      <td>8</td>\n",
       "    </tr>\n",
       "    <tr>\n",
       "      <th>...</th>\n",
       "      <td>...</td>\n",
       "      <td>...</td>\n",
       "      <td>...</td>\n",
       "    </tr>\n",
       "    <tr>\n",
       "      <th>871388</th>\n",
       "      <td>USER_92096</td>\n",
       "      <td>BOOK_081138</td>\n",
       "      <td>0</td>\n",
       "    </tr>\n",
       "    <tr>\n",
       "      <th>871389</th>\n",
       "      <td>USER_92097</td>\n",
       "      <td>BOOK_258124</td>\n",
       "      <td>0</td>\n",
       "    </tr>\n",
       "    <tr>\n",
       "      <th>871390</th>\n",
       "      <td>USER_92098</td>\n",
       "      <td>BOOK_071848</td>\n",
       "      <td>0</td>\n",
       "    </tr>\n",
       "    <tr>\n",
       "      <th>871391</th>\n",
       "      <td>USER_92099</td>\n",
       "      <td>BOOK_252599</td>\n",
       "      <td>8</td>\n",
       "    </tr>\n",
       "    <tr>\n",
       "      <th>871392</th>\n",
       "      <td>USER_92100</td>\n",
       "      <td>BOOK_130798</td>\n",
       "      <td>0</td>\n",
       "    </tr>\n",
       "  </tbody>\n",
       "</table>\n",
       "<p>871393 rows × 3 columns</p>\n",
       "</div>"
      ],
      "text/plain": [
       "           User-ID      Book-ID  Book-Rating\n",
       "0       USER_00000  BOOK_044368            8\n",
       "1       USER_00000  BOOK_081205            8\n",
       "2       USER_00000  BOOK_086781            0\n",
       "3       USER_00000  BOOK_098622            0\n",
       "4       USER_00000  BOOK_180810            8\n",
       "...            ...          ...          ...\n",
       "871388  USER_92096  BOOK_081138            0\n",
       "871389  USER_92097  BOOK_258124            0\n",
       "871390  USER_92098  BOOK_071848            0\n",
       "871391  USER_92099  BOOK_252599            8\n",
       "871392  USER_92100  BOOK_130798            0\n",
       "\n",
       "[871393 rows x 3 columns]"
      ]
     },
     "execution_count": 4,
     "metadata": {},
     "output_type": "execute_result"
    }
   ],
   "source": [
    "train_df[['User-ID', 'Book-ID', 'Book-Rating']]"
   ]
  },
  {
   "cell_type": "code",
   "execution_count": 8,
   "id": "865d2a3b-0e6d-43be-9a03-65dfbd9fab8c",
   "metadata": {},
   "outputs": [],
   "source": [
    "# Surprise 라이브러리용 Reader 및 Dataset 객체 생성\n",
    "reader = Reader(rating_scale=(0, 10))\n",
    "train = Dataset.load_from_df(train_df[['User-ID', 'Book-ID', 'Book-Rating']], reader)\n",
    "train = train.build_full_trainset()"
   ]
  },
  {
   "cell_type": "markdown",
   "id": "9adfad88-0fec-4c8c-a0cb-af2a872b7e29",
   "metadata": {},
   "source": [
    "## SVD"
   ]
  },
  {
   "cell_type": "code",
   "execution_count": 9,
   "id": "d10bfc29-a64b-4085-881b-0ade13b7eaf6",
   "metadata": {},
   "outputs": [],
   "source": [
    "# # SVD 모델 훈련\n",
    "# model = SVD()\n",
    "# model.fit(train)"
   ]
  },
  {
   "cell_type": "code",
   "execution_count": 10,
   "id": "e5e1feda",
   "metadata": {},
   "outputs": [
    {
     "data": {
      "text/plain": [
       "<surprise.prediction_algorithms.matrix_factorization.SVDpp at 0x7fc80192f340>"
      ]
     },
     "execution_count": 10,
     "metadata": {},
     "output_type": "execute_result"
    }
   ],
   "source": [
    "# SVD 모델 훈련\n",
    "model = SVDpp()\n",
    "model.fit(train)"
   ]
  },
  {
   "cell_type": "markdown",
   "id": "a6796046-3103-41ba-9696-ace5c97c2065",
   "metadata": {},
   "source": [
    "## Prediction"
   ]
  },
  {
   "cell_type": "code",
   "execution_count": 12,
   "id": "4fce1dd9-2496-4693-8103-0c9d333a2104",
   "metadata": {},
   "outputs": [],
   "source": [
    "submit = pd.read_csv('open/sample_submission.csv')"
   ]
  },
  {
   "cell_type": "code",
   "execution_count": 13,
   "id": "96dd897b-3be5-4755-9e82-a31b3b733c4e",
   "metadata": {},
   "outputs": [],
   "source": [
    "submit['Book-Rating'] = test_df.apply(lambda row: model.predict(row['User-ID'], row['Book-ID']).est, axis=1)"
   ]
  },
  {
   "cell_type": "markdown",
   "id": "d98a4c44-59d3-4ebd-b400-8ff0b2d61839",
   "metadata": {},
   "source": [
    "## Submission"
   ]
  },
  {
   "cell_type": "code",
   "execution_count": 14,
   "id": "0ca8af54-f372-4618-9ff5-cc86057ff174",
   "metadata": {},
   "outputs": [],
   "source": [
    "submit.to_csv('results/baseline_svdpp.csv', index=False)"
   ]
  },
  {
   "cell_type": "markdown",
   "id": "8ee00e1e",
   "metadata": {},
   "source": [
    "# Evaluation"
   ]
  },
  {
   "cell_type": "code",
   "execution_count": 15,
   "id": "475ebdcf",
   "metadata": {},
   "outputs": [],
   "source": [
    "from sklearn.metrics import mean_squared_error"
   ]
  },
  {
   "cell_type": "code",
   "execution_count": 16,
   "id": "4971eee6",
   "metadata": {},
   "outputs": [
    {
     "data": {
      "text/plain": [
       "1.2620298259134914"
      ]
     },
     "execution_count": 16,
     "metadata": {},
     "output_type": "execute_result"
    }
   ],
   "source": [
    "train_pred = train_df.apply(lambda row: model.predict(row['User-ID'], row['Book-ID']).est, axis=1)\n",
    "rmse = mean_squared_error(train_df['Book-Rating'], train_pred, squared=False)\n",
    "rmse"
   ]
  },
  {
   "attachments": {},
   "cell_type": "markdown",
   "id": "f2ae99e4",
   "metadata": {},
   "source": [
    "train rmse = 1.26203"
   ]
  }
 ],
 "metadata": {
  "kernelspec": {
   "display_name": "PyTorch 1.14 (NGC 22.12/Python 3.8) on Backend.AI",
   "language": "python",
   "name": "python3"
  },
  "language_info": {
   "codemirror_mode": {
    "name": "ipython",
    "version": 3
   },
   "file_extension": ".py",
   "mimetype": "text/x-python",
   "name": "python",
   "nbconvert_exporter": "python",
   "pygments_lexer": "ipython3",
   "version": "3.10.0"
  }
 },
 "nbformat": 4,
 "nbformat_minor": 5
}
