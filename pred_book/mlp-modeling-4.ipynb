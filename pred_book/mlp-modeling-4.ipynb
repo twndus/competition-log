{
 "cells": [
  {
   "attachments": {},
   "cell_type": "markdown",
   "id": "e4c024ed-156e-4ac2-9df8-63be9bd57dbf",
   "metadata": {},
   "source": [
    "# MLP Modeling - 4\n",
    "지금 원핫 인코딩하는 작업을 Embedding layer로 넣어보는 시도\n",
    "\n",
    "마구 생각:\n",
    " * vocab도 만들어야 하고.. tokenizing도 해야될 듯?\n",
    " * mlpregressor에서 keras로 바꾸는 것도 필요"
   ]
  },
  {
   "attachments": {},
   "cell_type": "markdown",
   "id": "2979858b",
   "metadata": {},
   "source": [
    "- 23-04-26 그냥 임베딩 레이어랑 RNN만 넣었더니 성능이 MLP 보다 안좋음;;;;;;;;;;;;;;;;;;;; 대혼란\n",
    "\n",
    "그래서\n",
    "- 임베딩 뺴고 그냥 모델 학습 시켜보자"
   ]
  },
  {
   "cell_type": "code",
   "execution_count": 1,
   "id": "c99a78df-a588-4746-aa1c-827fc197adb2",
   "metadata": {},
   "outputs": [
    {
     "name": "stderr",
     "output_type": "stream",
     "text": [
      "2023-04-27 03:30:50.789276: I tensorflow/core/platform/cpu_feature_guard.cc:193] This TensorFlow binary is optimized with oneAPI Deep Neural Network Library (oneDNN) to use the following CPU instructions in performance-critical operations:  AVX2 AVX512F FMA\n",
      "To enable them in other operations, rebuild TensorFlow with the appropriate compiler flags.\n",
      "2023-04-27 03:30:51.680757: W tensorflow/compiler/xla/stream_executor/platform/default/dso_loader.cc:64] Could not load dynamic library 'libnvinfer.so.7'; dlerror: libnvinfer.so.7: cannot open shared object file: No such file or directory; LD_LIBRARY_PATH: /usr/local/cuda/lib64:/usr/local/nccl2/lib:/usr/local/cuda/extras/CUPTI/lib64:/usr/local/cuda/lib64:/usr/local/nccl2/lib:/usr/local/cuda/extras/CUPTI/lib64\n",
      "2023-04-27 03:30:51.680869: W tensorflow/compiler/xla/stream_executor/platform/default/dso_loader.cc:64] Could not load dynamic library 'libnvinfer_plugin.so.7'; dlerror: libnvinfer_plugin.so.7: cannot open shared object file: No such file or directory; LD_LIBRARY_PATH: /usr/local/cuda/lib64:/usr/local/nccl2/lib:/usr/local/cuda/extras/CUPTI/lib64:/usr/local/cuda/lib64:/usr/local/nccl2/lib:/usr/local/cuda/extras/CUPTI/lib64\n",
      "2023-04-27 03:30:51.680881: W tensorflow/compiler/tf2tensorrt/utils/py_utils.cc:38] TF-TRT Warning: Cannot dlopen some TensorRT libraries. If you would like to use Nvidia GPU with TensorRT, please make sure the missing libraries mentioned above are installed properly.\n"
     ]
    }
   ],
   "source": [
    "import os\n",
    "from datetime import datetime as dt\n",
    "\n",
    "import numpy as np\n",
    "import pandas as pd\n",
    "\n",
    "import matplotlib.pyplot as plt\n",
    "import seaborn as sns\n",
    "\n",
    "import tensorflow as tf\n",
    "# import optuna"
   ]
  },
  {
   "cell_type": "markdown",
   "id": "70ac056c-da9c-4fbf-9187-1cf73df5e1ef",
   "metadata": {},
   "source": [
    "## load data"
   ]
  },
  {
   "cell_type": "code",
   "execution_count": 2,
   "id": "14bd5180-e00c-4e12-b8e7-5959054e102b",
   "metadata": {},
   "outputs": [
    {
     "data": {
      "text/plain": [
       "((871393, 9), (159621, 8), (159621, 2))"
      ]
     },
     "execution_count": 2,
     "metadata": {},
     "output_type": "execute_result"
    }
   ],
   "source": [
    "train_df = pd.read_csv(\"open/train.csv\", index_col='ID')\n",
    "test_df = pd.read_csv(\"open/test.csv\", index_col='ID')\n",
    "sample_submission_df = pd.read_csv(\"open/sample_submission.csv\")\n",
    "\n",
    "train_df.shape, test_df.shape, sample_submission_df.shape"
   ]
  },
  {
   "cell_type": "code",
   "execution_count": 3,
   "id": "8fefe7e6-f6b1-4fa5-826a-6fd7c7a51441",
   "metadata": {},
   "outputs": [
    {
     "name": "stdout",
     "output_type": "stream",
     "text": [
      "<class 'pandas.core.frame.DataFrame'>\n",
      "Index: 871393 entries, TRAIN_000000 to TRAIN_871392\n",
      "Data columns (total 9 columns):\n",
      " #   Column               Non-Null Count   Dtype  \n",
      "---  ------               --------------   -----  \n",
      " 0   User-ID              871393 non-null  object \n",
      " 1   Book-ID              871393 non-null  object \n",
      " 2   Book-Rating          871393 non-null  int64  \n",
      " 3   Age                  871393 non-null  float64\n",
      " 4   Location             871393 non-null  object \n",
      " 5   Book-Title           871393 non-null  object \n",
      " 6   Book-Author          871393 non-null  object \n",
      " 7   Year-Of-Publication  871393 non-null  float64\n",
      " 8   Publisher            871393 non-null  object \n",
      "dtypes: float64(2), int64(1), object(6)\n",
      "memory usage: 66.5+ MB\n"
     ]
    }
   ],
   "source": [
    "train_df.info()"
   ]
  },
  {
   "cell_type": "markdown",
   "id": "fb46156c-cfdc-41d5-b11d-6375f6f9b8c7",
   "metadata": {},
   "source": [
    "## preprocess data"
   ]
  },
  {
   "cell_type": "code",
   "execution_count": 4,
   "id": "d1724967-00b1-4acc-972c-a6918158e420",
   "metadata": {},
   "outputs": [
    {
     "data": {
      "text/plain": [
       "(83256, 243441)"
      ]
     },
     "execution_count": 4,
     "metadata": {},
     "output_type": "execute_result"
    }
   ],
   "source": [
    "train_users = train_df['User-ID'].unique()\n",
    "train_books = train_df['Book-ID'].unique()\n",
    "\n",
    "len(train_users), len(train_books)"
   ]
  },
  {
   "cell_type": "code",
   "execution_count": 5,
   "id": "e37b65fe-4e31-4ce8-a379-10027903de2e",
   "metadata": {},
   "outputs": [
    {
     "data": {
      "text/plain": [
       "(21909, 62333)"
      ]
     },
     "execution_count": 5,
     "metadata": {},
     "output_type": "execute_result"
    }
   ],
   "source": [
    "test_users = test_df['User-ID'].unique()\n",
    "test_books = test_df['Book-ID'].unique()\n",
    "\n",
    "len(test_users), len(test_books)"
   ]
  },
  {
   "cell_type": "code",
   "execution_count": 6,
   "id": "0f8ad687-f299-4abe-8800-7aa2ebed42f8",
   "metadata": {},
   "outputs": [
    {
     "data": {
      "text/plain": [
       "(92101, 270056)"
      ]
     },
     "execution_count": 6,
     "metadata": {},
     "output_type": "execute_result"
    }
   ],
   "source": [
    "len(set(train_users) | set(test_users)), len(set(train_books) | set(test_books))"
   ]
  },
  {
   "cell_type": "markdown",
   "id": "2bdb91f0-3379-41ff-adeb-1517c26fe0a1",
   "metadata": {},
   "source": [
    "새로운 유저, 새로운 책이 분명 있음"
   ]
  },
  {
   "cell_type": "code",
   "execution_count": 7,
   "id": "6c7004c0-c6b9-4242-86ba-a24fb6547be3",
   "metadata": {},
   "outputs": [
    {
     "data": {
      "text/html": [
       "<div>\n",
       "<style scoped>\n",
       "    .dataframe tbody tr th:only-of-type {\n",
       "        vertical-align: middle;\n",
       "    }\n",
       "\n",
       "    .dataframe tbody tr th {\n",
       "        vertical-align: top;\n",
       "    }\n",
       "\n",
       "    .dataframe thead th {\n",
       "        text-align: right;\n",
       "    }\n",
       "</style>\n",
       "<table border=\"1\" class=\"dataframe\">\n",
       "  <thead>\n",
       "    <tr style=\"text-align: right;\">\n",
       "      <th></th>\n",
       "      <th>User-ID</th>\n",
       "      <th>Book-ID</th>\n",
       "      <th>Book-Rating</th>\n",
       "      <th>Age</th>\n",
       "      <th>Location</th>\n",
       "      <th>Book-Title</th>\n",
       "      <th>Book-Author</th>\n",
       "      <th>Year-Of-Publication</th>\n",
       "      <th>Publisher</th>\n",
       "    </tr>\n",
       "    <tr>\n",
       "      <th>ID</th>\n",
       "      <th></th>\n",
       "      <th></th>\n",
       "      <th></th>\n",
       "      <th></th>\n",
       "      <th></th>\n",
       "      <th></th>\n",
       "      <th></th>\n",
       "      <th></th>\n",
       "      <th></th>\n",
       "    </tr>\n",
       "  </thead>\n",
       "  <tbody>\n",
       "    <tr>\n",
       "      <th>TRAIN_000000</th>\n",
       "      <td>USER_00000</td>\n",
       "      <td>BOOK_044368</td>\n",
       "      <td>8</td>\n",
       "      <td>23.0</td>\n",
       "      <td>sackville, new brunswick, canada</td>\n",
       "      <td>Road Taken</td>\n",
       "      <td>Rona Jaffe</td>\n",
       "      <td>2001.0</td>\n",
       "      <td>Mira</td>\n",
       "    </tr>\n",
       "    <tr>\n",
       "      <th>TRAIN_000001</th>\n",
       "      <td>USER_00000</td>\n",
       "      <td>BOOK_081205</td>\n",
       "      <td>8</td>\n",
       "      <td>23.0</td>\n",
       "      <td>sackville, new brunswick, canada</td>\n",
       "      <td>Macbeth (New Penguin Shakespeare)</td>\n",
       "      <td>William Shakespeare</td>\n",
       "      <td>1981.0</td>\n",
       "      <td>Penguin Books</td>\n",
       "    </tr>\n",
       "    <tr>\n",
       "      <th>TRAIN_000002</th>\n",
       "      <td>USER_00000</td>\n",
       "      <td>BOOK_086781</td>\n",
       "      <td>0</td>\n",
       "      <td>23.0</td>\n",
       "      <td>sackville, new brunswick, canada</td>\n",
       "      <td>Waverley (Penguin English Library)</td>\n",
       "      <td>Walter Scott</td>\n",
       "      <td>1981.0</td>\n",
       "      <td>Penguin Books</td>\n",
       "    </tr>\n",
       "    <tr>\n",
       "      <th>TRAIN_000003</th>\n",
       "      <td>USER_00000</td>\n",
       "      <td>BOOK_098622</td>\n",
       "      <td>0</td>\n",
       "      <td>23.0</td>\n",
       "      <td>sackville, new brunswick, canada</td>\n",
       "      <td>Mother Earth Father Sky</td>\n",
       "      <td>Sue Harrison</td>\n",
       "      <td>1991.0</td>\n",
       "      <td>Avon</td>\n",
       "    </tr>\n",
       "    <tr>\n",
       "      <th>TRAIN_000004</th>\n",
       "      <td>USER_00000</td>\n",
       "      <td>BOOK_180810</td>\n",
       "      <td>8</td>\n",
       "      <td>23.0</td>\n",
       "      <td>sackville, new brunswick, canada</td>\n",
       "      <td>She Who Remembers</td>\n",
       "      <td>Linda Lay Shuler</td>\n",
       "      <td>1989.0</td>\n",
       "      <td>Signet Book</td>\n",
       "    </tr>\n",
       "  </tbody>\n",
       "</table>\n",
       "</div>"
      ],
      "text/plain": [
       "                 User-ID      Book-ID  Book-Rating   Age   \n",
       "ID                                                         \n",
       "TRAIN_000000  USER_00000  BOOK_044368            8  23.0  \\\n",
       "TRAIN_000001  USER_00000  BOOK_081205            8  23.0   \n",
       "TRAIN_000002  USER_00000  BOOK_086781            0  23.0   \n",
       "TRAIN_000003  USER_00000  BOOK_098622            0  23.0   \n",
       "TRAIN_000004  USER_00000  BOOK_180810            8  23.0   \n",
       "\n",
       "                                      Location   \n",
       "ID                                               \n",
       "TRAIN_000000  sackville, new brunswick, canada  \\\n",
       "TRAIN_000001  sackville, new brunswick, canada   \n",
       "TRAIN_000002  sackville, new brunswick, canada   \n",
       "TRAIN_000003  sackville, new brunswick, canada   \n",
       "TRAIN_000004  sackville, new brunswick, canada   \n",
       "\n",
       "                                      Book-Title          Book-Author   \n",
       "ID                                                                      \n",
       "TRAIN_000000                          Road Taken           Rona Jaffe  \\\n",
       "TRAIN_000001   Macbeth (New Penguin Shakespeare)  William Shakespeare   \n",
       "TRAIN_000002  Waverley (Penguin English Library)         Walter Scott   \n",
       "TRAIN_000003             Mother Earth Father Sky         Sue Harrison   \n",
       "TRAIN_000004                   She Who Remembers     Linda Lay Shuler   \n",
       "\n",
       "              Year-Of-Publication      Publisher  \n",
       "ID                                                \n",
       "TRAIN_000000               2001.0           Mira  \n",
       "TRAIN_000001               1981.0  Penguin Books  \n",
       "TRAIN_000002               1981.0  Penguin Books  \n",
       "TRAIN_000003               1991.0           Avon  \n",
       "TRAIN_000004               1989.0    Signet Book  "
      ]
     },
     "execution_count": 7,
     "metadata": {},
     "output_type": "execute_result"
    }
   ],
   "source": [
    "train_df.head()"
   ]
  },
  {
   "cell_type": "markdown",
   "id": "c37910e6-9481-4c2f-ab12-039ca6543a59",
   "metadata": {},
   "source": [
    "User feature\n",
    " * Age: int\n",
    " * Location: string\n",
    "\n",
    "Book feature\n",
    " * Book-Title: string\n",
    " * Book-Author: string\n",
    " * Year-Of-Pulication: int\n",
    " * Publisher: string"
   ]
  },
  {
   "cell_type": "markdown",
   "id": "d57114ba-03e0-463e-84f2-5baf375f06d9",
   "metadata": {},
   "source": [
    "특징의 분해 이전에 label 형태로도 해볼 수 있음"
   ]
  },
  {
   "cell_type": "markdown",
   "id": "51039168-6946-402b-bb6c-8ffddf8f7ecc",
   "metadata": {},
   "source": [
    "# Feature Selection"
   ]
  },
  {
   "cell_type": "code",
   "execution_count": 8,
   "id": "1b22c596-17c4-4ead-ac76-7288c5d03d00",
   "metadata": {},
   "outputs": [
    {
     "data": {
      "text/plain": [
       "Index(['User-ID', 'Book-ID', 'Age', 'Location', 'Book-Title', 'Book-Author',\n",
       "       'Year-Of-Publication', 'Publisher'],\n",
       "      dtype='object')"
      ]
     },
     "execution_count": 8,
     "metadata": {},
     "output_type": "execute_result"
    }
   ],
   "source": [
    "features = test_df.columns\n",
    "features"
   ]
  },
  {
   "cell_type": "code",
   "execution_count": 9,
   "id": "2e687b27-055b-4541-9cf1-f95d74de3bef",
   "metadata": {},
   "outputs": [],
   "source": [
    "continuous_features = ['Age', 'Year-Of-Publication']\n",
    "categorical_features = ['Location', 'Book-Title', 'Book-Author', 'Publisher']"
   ]
  },
  {
   "cell_type": "code",
   "execution_count": 10,
   "id": "10e22f70-bab6-4de6-bfdb-090af36f14bd",
   "metadata": {},
   "outputs": [
    {
     "data": {
      "text/html": [
       "<div>\n",
       "<style scoped>\n",
       "    .dataframe tbody tr th:only-of-type {\n",
       "        vertical-align: middle;\n",
       "    }\n",
       "\n",
       "    .dataframe tbody tr th {\n",
       "        vertical-align: top;\n",
       "    }\n",
       "\n",
       "    .dataframe thead th {\n",
       "        text-align: right;\n",
       "    }\n",
       "</style>\n",
       "<table border=\"1\" class=\"dataframe\">\n",
       "  <thead>\n",
       "    <tr style=\"text-align: right;\">\n",
       "      <th></th>\n",
       "      <th>User-ID</th>\n",
       "      <th>Book-ID</th>\n",
       "      <th>Book-Rating</th>\n",
       "      <th>Age</th>\n",
       "      <th>Book-Title</th>\n",
       "      <th>Book-Author</th>\n",
       "      <th>Year-Of-Publication</th>\n",
       "      <th>Publisher</th>\n",
       "      <th>Location_country</th>\n",
       "      <th>Location_city</th>\n",
       "    </tr>\n",
       "    <tr>\n",
       "      <th>ID</th>\n",
       "      <th></th>\n",
       "      <th></th>\n",
       "      <th></th>\n",
       "      <th></th>\n",
       "      <th></th>\n",
       "      <th></th>\n",
       "      <th></th>\n",
       "      <th></th>\n",
       "      <th></th>\n",
       "      <th></th>\n",
       "    </tr>\n",
       "  </thead>\n",
       "  <tbody>\n",
       "    <tr>\n",
       "      <th>TRAIN_000000</th>\n",
       "      <td>USER_00000</td>\n",
       "      <td>BOOK_044368</td>\n",
       "      <td>8</td>\n",
       "      <td>23.0</td>\n",
       "      <td>Road Taken</td>\n",
       "      <td>Rona Jaffe</td>\n",
       "      <td>2001.0</td>\n",
       "      <td>Mira</td>\n",
       "      <td>canada</td>\n",
       "      <td>newbrunswick</td>\n",
       "    </tr>\n",
       "    <tr>\n",
       "      <th>TRAIN_000001</th>\n",
       "      <td>USER_00000</td>\n",
       "      <td>BOOK_081205</td>\n",
       "      <td>8</td>\n",
       "      <td>23.0</td>\n",
       "      <td>Macbeth (New Penguin Shakespeare)</td>\n",
       "      <td>William Shakespeare</td>\n",
       "      <td>1981.0</td>\n",
       "      <td>Penguin Books</td>\n",
       "      <td>canada</td>\n",
       "      <td>newbrunswick</td>\n",
       "    </tr>\n",
       "    <tr>\n",
       "      <th>TRAIN_000002</th>\n",
       "      <td>USER_00000</td>\n",
       "      <td>BOOK_086781</td>\n",
       "      <td>0</td>\n",
       "      <td>23.0</td>\n",
       "      <td>Waverley (Penguin English Library)</td>\n",
       "      <td>Walter Scott</td>\n",
       "      <td>1981.0</td>\n",
       "      <td>Penguin Books</td>\n",
       "      <td>canada</td>\n",
       "      <td>newbrunswick</td>\n",
       "    </tr>\n",
       "    <tr>\n",
       "      <th>TRAIN_000003</th>\n",
       "      <td>USER_00000</td>\n",
       "      <td>BOOK_098622</td>\n",
       "      <td>0</td>\n",
       "      <td>23.0</td>\n",
       "      <td>Mother Earth Father Sky</td>\n",
       "      <td>Sue Harrison</td>\n",
       "      <td>1991.0</td>\n",
       "      <td>Avon</td>\n",
       "      <td>canada</td>\n",
       "      <td>newbrunswick</td>\n",
       "    </tr>\n",
       "    <tr>\n",
       "      <th>TRAIN_000004</th>\n",
       "      <td>USER_00000</td>\n",
       "      <td>BOOK_180810</td>\n",
       "      <td>8</td>\n",
       "      <td>23.0</td>\n",
       "      <td>She Who Remembers</td>\n",
       "      <td>Linda Lay Shuler</td>\n",
       "      <td>1989.0</td>\n",
       "      <td>Signet Book</td>\n",
       "      <td>canada</td>\n",
       "      <td>newbrunswick</td>\n",
       "    </tr>\n",
       "  </tbody>\n",
       "</table>\n",
       "</div>"
      ],
      "text/plain": [
       "                 User-ID      Book-ID  Book-Rating   Age   \n",
       "ID                                                         \n",
       "TRAIN_000000  USER_00000  BOOK_044368            8  23.0  \\\n",
       "TRAIN_000001  USER_00000  BOOK_081205            8  23.0   \n",
       "TRAIN_000002  USER_00000  BOOK_086781            0  23.0   \n",
       "TRAIN_000003  USER_00000  BOOK_098622            0  23.0   \n",
       "TRAIN_000004  USER_00000  BOOK_180810            8  23.0   \n",
       "\n",
       "                                      Book-Title          Book-Author   \n",
       "ID                                                                      \n",
       "TRAIN_000000                          Road Taken           Rona Jaffe  \\\n",
       "TRAIN_000001   Macbeth (New Penguin Shakespeare)  William Shakespeare   \n",
       "TRAIN_000002  Waverley (Penguin English Library)         Walter Scott   \n",
       "TRAIN_000003             Mother Earth Father Sky         Sue Harrison   \n",
       "TRAIN_000004                   She Who Remembers     Linda Lay Shuler   \n",
       "\n",
       "              Year-Of-Publication      Publisher Location_country   \n",
       "ID                                                                  \n",
       "TRAIN_000000               2001.0           Mira           canada  \\\n",
       "TRAIN_000001               1981.0  Penguin Books           canada   \n",
       "TRAIN_000002               1981.0  Penguin Books           canada   \n",
       "TRAIN_000003               1991.0           Avon           canada   \n",
       "TRAIN_000004               1989.0    Signet Book           canada   \n",
       "\n",
       "             Location_city  \n",
       "ID                          \n",
       "TRAIN_000000  newbrunswick  \n",
       "TRAIN_000001  newbrunswick  \n",
       "TRAIN_000002  newbrunswick  \n",
       "TRAIN_000003  newbrunswick  \n",
       "TRAIN_000004  newbrunswick  "
      ]
     },
     "execution_count": 10,
     "metadata": {},
     "output_type": "execute_result"
    }
   ],
   "source": [
    "train_df['Location'] = train_df['Location'].str.replace(' ', '')\n",
    "train_df['Location_country'] = train_df['Location'].apply(lambda x: x.split(',')[-1])\n",
    "train_df['Location_city'] = train_df['Location'].apply(lambda x: x.split(',')[-2])\n",
    "train_df.drop(columns='Location', inplace=True)\n",
    "train_df.head()"
   ]
  },
  {
   "cell_type": "code",
   "execution_count": 11,
   "id": "328e87fe-8091-4c84-bd0c-c43f2fe4f5a1",
   "metadata": {},
   "outputs": [
    {
     "data": {
      "text/html": [
       "<div>\n",
       "<style scoped>\n",
       "    .dataframe tbody tr th:only-of-type {\n",
       "        vertical-align: middle;\n",
       "    }\n",
       "\n",
       "    .dataframe tbody tr th {\n",
       "        vertical-align: top;\n",
       "    }\n",
       "\n",
       "    .dataframe thead th {\n",
       "        text-align: right;\n",
       "    }\n",
       "</style>\n",
       "<table border=\"1\" class=\"dataframe\">\n",
       "  <thead>\n",
       "    <tr style=\"text-align: right;\">\n",
       "      <th></th>\n",
       "      <th>User-ID</th>\n",
       "      <th>Book-ID</th>\n",
       "      <th>Age</th>\n",
       "      <th>Book-Title</th>\n",
       "      <th>Book-Author</th>\n",
       "      <th>Year-Of-Publication</th>\n",
       "      <th>Publisher</th>\n",
       "      <th>Location_country</th>\n",
       "      <th>Location_city</th>\n",
       "    </tr>\n",
       "    <tr>\n",
       "      <th>ID</th>\n",
       "      <th></th>\n",
       "      <th></th>\n",
       "      <th></th>\n",
       "      <th></th>\n",
       "      <th></th>\n",
       "      <th></th>\n",
       "      <th></th>\n",
       "      <th></th>\n",
       "      <th></th>\n",
       "    </tr>\n",
       "  </thead>\n",
       "  <tbody>\n",
       "    <tr>\n",
       "      <th>TEST_000000</th>\n",
       "      <td>USER_00008</td>\n",
       "      <td>BOOK_047966</td>\n",
       "      <td>37.0</td>\n",
       "      <td>Birds of Prey: A Novel of Suspense</td>\n",
       "      <td>J.A. Jance</td>\n",
       "      <td>2002.0</td>\n",
       "      <td>Avon</td>\n",
       "      <td>usa</td>\n",
       "      <td>ohio</td>\n",
       "    </tr>\n",
       "    <tr>\n",
       "      <th>TEST_000001</th>\n",
       "      <td>USER_00008</td>\n",
       "      <td>BOOK_119494</td>\n",
       "      <td>37.0</td>\n",
       "      <td>Midnight Voices</td>\n",
       "      <td>JOHN SAUL</td>\n",
       "      <td>2003.0</td>\n",
       "      <td>Ballantine Books</td>\n",
       "      <td>usa</td>\n",
       "      <td>ohio</td>\n",
       "    </tr>\n",
       "    <tr>\n",
       "      <th>TEST_000002</th>\n",
       "      <td>USER_00008</td>\n",
       "      <td>BOOK_151775</td>\n",
       "      <td>37.0</td>\n",
       "      <td>Breaking Free : A Prescription for Personal an...</td>\n",
       "      <td>David M.  Noer</td>\n",
       "      <td>1996.0</td>\n",
       "      <td>Jossey-Bass</td>\n",
       "      <td>usa</td>\n",
       "      <td>ohio</td>\n",
       "    </tr>\n",
       "    <tr>\n",
       "      <th>TEST_000003</th>\n",
       "      <td>USER_00008</td>\n",
       "      <td>BOOK_176255</td>\n",
       "      <td>37.0</td>\n",
       "      <td>Bitter Harvest</td>\n",
       "      <td>Ann Rule</td>\n",
       "      <td>1999.0</td>\n",
       "      <td>Pocket</td>\n",
       "      <td>usa</td>\n",
       "      <td>ohio</td>\n",
       "    </tr>\n",
       "    <tr>\n",
       "      <th>TEST_000004</th>\n",
       "      <td>USER_00008</td>\n",
       "      <td>BOOK_187307</td>\n",
       "      <td>37.0</td>\n",
       "      <td>Embraced by the Light</td>\n",
       "      <td>Betty J. Eadie</td>\n",
       "      <td>1994.0</td>\n",
       "      <td>Bantam Books</td>\n",
       "      <td>usa</td>\n",
       "      <td>ohio</td>\n",
       "    </tr>\n",
       "  </tbody>\n",
       "</table>\n",
       "</div>"
      ],
      "text/plain": [
       "                User-ID      Book-ID   Age   \n",
       "ID                                           \n",
       "TEST_000000  USER_00008  BOOK_047966  37.0  \\\n",
       "TEST_000001  USER_00008  BOOK_119494  37.0   \n",
       "TEST_000002  USER_00008  BOOK_151775  37.0   \n",
       "TEST_000003  USER_00008  BOOK_176255  37.0   \n",
       "TEST_000004  USER_00008  BOOK_187307  37.0   \n",
       "\n",
       "                                                    Book-Title   \n",
       "ID                                                               \n",
       "TEST_000000                 Birds of Prey: A Novel of Suspense  \\\n",
       "TEST_000001                                    Midnight Voices   \n",
       "TEST_000002  Breaking Free : A Prescription for Personal an...   \n",
       "TEST_000003                                     Bitter Harvest   \n",
       "TEST_000004                              Embraced by the Light   \n",
       "\n",
       "                Book-Author  Year-Of-Publication         Publisher   \n",
       "ID                                                                   \n",
       "TEST_000000      J.A. Jance               2002.0              Avon  \\\n",
       "TEST_000001       JOHN SAUL               2003.0  Ballantine Books   \n",
       "TEST_000002  David M.  Noer               1996.0       Jossey-Bass   \n",
       "TEST_000003        Ann Rule               1999.0            Pocket   \n",
       "TEST_000004  Betty J. Eadie               1994.0      Bantam Books   \n",
       "\n",
       "            Location_country Location_city  \n",
       "ID                                          \n",
       "TEST_000000              usa          ohio  \n",
       "TEST_000001              usa          ohio  \n",
       "TEST_000002              usa          ohio  \n",
       "TEST_000003              usa          ohio  \n",
       "TEST_000004              usa          ohio  "
      ]
     },
     "execution_count": 11,
     "metadata": {},
     "output_type": "execute_result"
    }
   ],
   "source": [
    "test_df['Location'] = test_df['Location'].str.replace(' ', '')\n",
    "test_df['Location_country'] = test_df['Location'].apply(lambda x: x.split(',')[-1])\n",
    "test_df['Location_city'] = test_df['Location'].apply(lambda x: x.split(',')[-2])\n",
    "test_df.drop(columns='Location', inplace=True)\n",
    "test_df.head()"
   ]
  },
  {
   "cell_type": "markdown",
   "id": "20482046-c93a-4f94-bcdd-52994a8af400",
   "metadata": {},
   "source": [
    "# encoding\n",
    "\n",
    "for location_country, publisher"
   ]
  },
  {
   "cell_type": "code",
   "execution_count": 12,
   "id": "c6f87274-5fe4-401f-979c-2bd862f8b3ac",
   "metadata": {},
   "outputs": [],
   "source": [
    "from sklearn.preprocessing import OneHotEncoder"
   ]
  },
  {
   "cell_type": "code",
   "execution_count": 13,
   "id": "13448b23-c176-4731-bc89-4c750792eb99",
   "metadata": {},
   "outputs": [],
   "source": [
    "cont_encoder = OneHotEncoder(handle_unknown='ignore')\n",
    "train_country_array = cont_encoder.fit_transform(train_df[['Location_country']]).toarray()\n",
    "test_country_array = cont_encoder.transform(test_df[['Location_country']]).toarray()"
   ]
  },
  {
   "cell_type": "code",
   "execution_count": 14,
   "id": "491a402c-ae25-4c40-9eed-c36ede970bed",
   "metadata": {},
   "outputs": [],
   "source": [
    "# pub_encoder = OneHotEncoder(handle_unknown='ignore')\n",
    "# train_publisher_array = pub_encoder.fit_transform(train_df[['Publisher']]).toarray()\n",
    "# test_publisher_array = pub_encoder.transform(train_df[['Publisher']]).toarray()"
   ]
  },
  {
   "cell_type": "markdown",
   "id": "8faed6d6-9ca0-4c50-b84b-21e2c2d897db",
   "metadata": {},
   "source": [
    "# scaling"
   ]
  },
  {
   "cell_type": "code",
   "execution_count": 15,
   "id": "0b466a2e-aff2-46e7-a9b7-970affef8416",
   "metadata": {},
   "outputs": [],
   "source": [
    "from sklearn.preprocessing import StandardScaler"
   ]
  },
  {
   "cell_type": "code",
   "execution_count": 16,
   "id": "e7435345-74de-463c-9b82-2e76b466b532",
   "metadata": {},
   "outputs": [],
   "source": [
    "scaler = StandardScaler()\n",
    "train_cont_array = scaler.fit_transform(train_df[continuous_features])\n",
    "test_cont_array = scaler.transform(test_df[continuous_features])"
   ]
  },
  {
   "cell_type": "markdown",
   "id": "87b1d091-bbc5-45a7-b15f-4f90d60ff4e2",
   "metadata": {},
   "source": [
    "# merge prcessed data"
   ]
  },
  {
   "cell_type": "code",
   "execution_count": 17,
   "id": "8734759d-ca07-4c26-b48d-e67339e2cba5",
   "metadata": {},
   "outputs": [
    {
     "data": {
      "text/plain": [
       "((871393, 2), (871393, 243))"
      ]
     },
     "execution_count": 17,
     "metadata": {},
     "output_type": "execute_result"
    }
   ],
   "source": [
    "train_cont_array.shape, train_country_array.shape#, train_publisher_array.shape"
   ]
  },
  {
   "cell_type": "code",
   "execution_count": 18,
   "id": "780609ea",
   "metadata": {},
   "outputs": [],
   "source": [
    "# train_x = {\n",
    "#     'input_continuous': train_cont_array,\n",
    "#     'input_country': train_country_array,\n",
    "# }\n",
    "\n",
    "# test_x = {\n",
    "#     'input_continuous': test_cont_array,\n",
    "#     'input_country': test_country_array,\n",
    "# }\n",
    "\n",
    "train_x = [train_cont_array, train_country_array]\n",
    "test_x = [test_cont_array, test_country_array]"
   ]
  },
  {
   "cell_type": "code",
   "execution_count": 19,
   "id": "0a05a430-7f0a-4848-8dad-74b36554bd51",
   "metadata": {},
   "outputs": [],
   "source": [
    "# train_x = np.concatenate([train_cont_array, train_df[['Location_country']].values], axis=1) #train_publisher_array\n",
    "# test_x = np.concatenate([test_cont_array, test_df[['Location_country']].values], axis=1) #test_publisher_array\n",
    "\n",
    "# train_x.shape, test_x.shape"
   ]
  },
  {
   "cell_type": "code",
   "execution_count": 20,
   "id": "3628cab0-e333-49e0-9eba-842d14f05ab9",
   "metadata": {},
   "outputs": [
    {
     "data": {
      "text/plain": [
       "(871393,)"
      ]
     },
     "execution_count": 20,
     "metadata": {},
     "output_type": "execute_result"
    }
   ],
   "source": [
    "train_y = train_df['Book-Rating'].values\n",
    "train_y.shape"
   ]
  },
  {
   "cell_type": "code",
   "execution_count": 21,
   "id": "92133ccc-5560-45c0-b88f-b84e16736032",
   "metadata": {},
   "outputs": [],
   "source": [
    "# train_array = np.concatenate([train_cont_array, train_country_array, train_publisher_array], axis=1)\n",
    "# test_array = np.concatenate([test_cont_array, test_country_array, test_publisher_array], axis=1)"
   ]
  },
  {
   "attachments": {},
   "cell_type": "markdown",
   "id": "a690f085-d1b1-4271-8779-aca955767ba2",
   "metadata": {
    "tags": []
   },
   "source": [
    "# model"
   ]
  },
  {
   "cell_type": "code",
   "execution_count": 22,
   "id": "8cde1097",
   "metadata": {},
   "outputs": [],
   "source": [
    "alpha = 0.001"
   ]
  },
  {
   "cell_type": "code",
   "execution_count": 23,
   "id": "15f15399",
   "metadata": {},
   "outputs": [
    {
     "data": {
      "text/plain": [
       "243"
      ]
     },
     "execution_count": 23,
     "metadata": {},
     "output_type": "execute_result"
    }
   ],
   "source": [
    "train_country_array.shape[1]"
   ]
  },
  {
   "cell_type": "code",
   "execution_count": 25,
   "id": "7763b5e6",
   "metadata": {},
   "outputs": [],
   "source": [
    "# define input tensor\n",
    "input_continuous = tf.keras.Input(shape=train_cont_array.shape[1], dtype=tf.float32)\n",
    "input_country = tf.keras.Input(shape=train_country_array.shape[1], dtype=tf.float32)\n",
    "\n",
    "# # embedding layer\n",
    "# embedding_layer = tf.keras.layers.Embedding(\n",
    "#     train_country_array.shape[1], 100)(input_country)\n",
    "\n",
    "# # rnn layer\n",
    "# country_layer = tf.keras.layers.SimpleRNN(\n",
    "#     100, return_sequences=False, dtype=np.float32)(embedding_layer)\n",
    "\n",
    "# concatenate\n",
    "x = tf.keras.layers.Concatenate(axis=-1)([input_continuous, input_country])\n",
    "# # concatenate\n",
    "# x = tf.keras.layers.Concatenate(axis=-1)([input_continuous, input_country])\n",
    "\n",
    "# hidden layer\n",
    "x = tf.keras.layers.Dense(\n",
    "    64, activation='relu', \n",
    "    kernel_regularizer=tf.keras.regularizers.l2(alpha))(x)\n",
    "\n",
    "# hidden layer\n",
    "x = tf.keras.layers.Dense(\n",
    "    16, activation='relu',\n",
    "    kernel_regularizer=tf.keras.regularizers.l2(alpha))(x)\n",
    "\n",
    "# output layer\n",
    "x = tf.keras.layers.Dense(1, activation='linear')(x)\n",
    "\n",
    "model = tf.keras.Model([input_continuous, input_country], x)"
   ]
  },
  {
   "cell_type": "code",
   "execution_count": 26,
   "id": "b1ffc8c5",
   "metadata": {},
   "outputs": [],
   "source": [
    "# 임시 보류\n",
    "# # define input tensor\n",
    "# input_continuous = tf.keras.Input(shape=train_cont_array.shape[1], dtype=tf.float32)\n",
    "# input_country = tf.keras.Input(shape=train_country_array.shape[1], dtype=bool)\n",
    "\n",
    "# # embedding layer\n",
    "# embedding_layer = tf.keras.layers.Embedding(\n",
    "#     train_country_array.shape[1], 100)(input_country)\n",
    "\n",
    "# # rnn layer\n",
    "# country_layer = tf.keras.layers.SimpleRNN(\n",
    "#     100, return_sequences=False, dtype=np.float32)(embedding_layer)\n",
    "\n",
    "# # concatenate\n",
    "# x = tf.keras.layers.Concatenate(axis=-1)([input_continuous, country_layer])\n",
    "# # # concatenate\n",
    "# # x = tf.keras.layers.Concatenate(axis=-1)([input_continuous, input_country])\n",
    "\n",
    "# # hidden layer\n",
    "# x = tf.keras.layers.Dense(\n",
    "#     64, activation='relu', \n",
    "#     kernel_regularizer=tf.keras.regularizers.l2(alpha))(x)\n",
    "\n",
    "# # hidden layer\n",
    "# x = tf.keras.layers.Dense(\n",
    "#     16, activation='relu',\n",
    "#     kernel_regularizer=tf.keras.regularizers.l2(alpha))(x)\n",
    "\n",
    "# # output layer\n",
    "# x = tf.keras.layers.Dense(1, activation='linear')(x)\n",
    "\n",
    "# model = tf.keras.Model([input_continuous, input_country], x)"
   ]
  },
  {
   "cell_type": "code",
   "execution_count": 27,
   "id": "602a2b94",
   "metadata": {},
   "outputs": [
    {
     "name": "stdout",
     "output_type": "stream",
     "text": [
      "Model: \"model\"\n",
      "__________________________________________________________________________________________________\n",
      " Layer (type)                   Output Shape         Param #     Connected to                     \n",
      "==================================================================================================\n",
      " input_3 (InputLayer)           [(None, 2)]          0           []                               \n",
      "                                                                                                  \n",
      " input_4 (InputLayer)           [(None, 243)]        0           []                               \n",
      "                                                                                                  \n",
      " concatenate_1 (Concatenate)    (None, 245)          0           ['input_3[0][0]',                \n",
      "                                                                  'input_4[0][0]']                \n",
      "                                                                                                  \n",
      " dense (Dense)                  (None, 64)           15744       ['concatenate_1[0][0]']          \n",
      "                                                                                                  \n",
      " dense_1 (Dense)                (None, 16)           1040        ['dense[0][0]']                  \n",
      "                                                                                                  \n",
      " dense_2 (Dense)                (None, 1)            17          ['dense_1[0][0]']                \n",
      "                                                                                                  \n",
      "==================================================================================================\n",
      "Total params: 16,801\n",
      "Trainable params: 16,801\n",
      "Non-trainable params: 0\n",
      "__________________________________________________________________________________________________\n"
     ]
    }
   ],
   "source": [
    "model.summary()"
   ]
  },
  {
   "cell_type": "code",
   "execution_count": 28,
   "id": "1195b649",
   "metadata": {},
   "outputs": [],
   "source": [
    "learning_rate = 0.001\n",
    "batch_size = 100\n",
    "epochs = 100"
   ]
  },
  {
   "cell_type": "code",
   "execution_count": 29,
   "id": "3d20442e",
   "metadata": {},
   "outputs": [],
   "source": [
    "# define optimizer RMSProp used instead of RProp\n",
    "optimizer = tf.keras.optimizers.Adam(learning_rate=learning_rate)\n",
    "\n",
    "# model compile\n",
    "model.compile(optimizer=optimizer, loss='mse', metrics='mse')"
   ]
  },
  {
   "cell_type": "code",
   "execution_count": 30,
   "id": "eef8947c",
   "metadata": {},
   "outputs": [
    {
     "name": "stdout",
     "output_type": "stream",
     "text": [
      "Epoch 1/100\n",
      "7843/7843 [==============================] - 30s 3ms/step - loss: 14.7236 - mse: 14.6873 - val_loss: 14.6906 - val_mse: 14.6555\n",
      "Epoch 2/100\n",
      "7843/7843 [==============================] - 21s 3ms/step - loss: 14.6324 - mse: 14.5995 - val_loss: 14.7006 - val_mse: 14.6678\n",
      "Epoch 3/100\n",
      "7843/7843 [==============================] - 22s 3ms/step - loss: 14.6182 - mse: 14.5850 - val_loss: 14.7149 - val_mse: 14.6810\n",
      "Epoch 4/100\n",
      "7843/7843 [==============================] - 22s 3ms/step - loss: 14.6020 - mse: 14.5667 - val_loss: 14.7512 - val_mse: 14.7151\n",
      "Epoch 5/100\n",
      "7843/7843 [==============================] - 21s 3ms/step - loss: 14.5863 - mse: 14.5488 - val_loss: 14.7036 - val_mse: 14.6649\n",
      "Epoch 6/100\n",
      "7843/7843 [==============================] - 21s 3ms/step - loss: 14.5734 - mse: 14.5340 - val_loss: 14.7275 - val_mse: 14.6881\n",
      "Epoch 7/100\n",
      "7843/7843 [==============================] - 22s 3ms/step - loss: 14.5664 - mse: 14.5261 - val_loss: 14.7516 - val_mse: 14.7106\n",
      "Epoch 8/100\n",
      "7843/7843 [==============================] - 21s 3ms/step - loss: 14.5569 - mse: 14.5152 - val_loss: 14.7114 - val_mse: 14.6707\n",
      "Epoch 9/100\n",
      "7843/7843 [==============================] - 21s 3ms/step - loss: 14.5504 - mse: 14.5087 - val_loss: 14.7250 - val_mse: 14.6826\n",
      "Epoch 10/100\n",
      "7843/7843 [==============================] - 21s 3ms/step - loss: 14.5456 - mse: 14.5031 - val_loss: 14.7286 - val_mse: 14.6858\n",
      "Epoch 11/100\n",
      "7843/7843 [==============================] - 21s 3ms/step - loss: 14.5420 - mse: 14.4993 - val_loss: 14.6776 - val_mse: 14.6352\n",
      "Epoch 12/100\n",
      "7843/7843 [==============================] - 21s 3ms/step - loss: 14.5389 - mse: 14.4966 - val_loss: 14.7293 - val_mse: 14.6871\n",
      "Epoch 13/100\n",
      "7843/7843 [==============================] - 21s 3ms/step - loss: 14.5361 - mse: 14.4936 - val_loss: 14.7623 - val_mse: 14.7203\n",
      "Epoch 14/100\n",
      "7843/7843 [==============================] - 21s 3ms/step - loss: 14.5320 - mse: 14.4898 - val_loss: 14.7251 - val_mse: 14.6832\n",
      "Epoch 15/100\n",
      "7843/7843 [==============================] - 21s 3ms/step - loss: 14.5326 - mse: 14.4904 - val_loss: 14.7263 - val_mse: 14.6846\n",
      "Epoch 16/100\n",
      "7843/7843 [==============================] - 21s 3ms/step - loss: 14.5293 - mse: 14.4874 - val_loss: 14.7538 - val_mse: 14.7119\n",
      "Epoch 17/100\n",
      "7843/7843 [==============================] - 21s 3ms/step - loss: 14.5277 - mse: 14.4862 - val_loss: 14.7376 - val_mse: 14.6963\n",
      "Epoch 18/100\n",
      "7843/7843 [==============================] - 21s 3ms/step - loss: 14.5248 - mse: 14.4838 - val_loss: 14.7330 - val_mse: 14.6921\n",
      "Epoch 19/100\n",
      "7843/7843 [==============================] - 21s 3ms/step - loss: 14.5251 - mse: 14.4847 - val_loss: 14.7527 - val_mse: 14.7120\n",
      "Epoch 20/100\n",
      "7843/7843 [==============================] - 21s 3ms/step - loss: 14.5231 - mse: 14.4826 - val_loss: 14.7135 - val_mse: 14.6736\n",
      "Epoch 21/100\n",
      "7843/7843 [==============================] - 21s 3ms/step - loss: 14.5222 - mse: 14.4818 - val_loss: 14.7742 - val_mse: 14.7344\n",
      "Epoch 22/100\n",
      "7843/7843 [==============================] - 21s 3ms/step - loss: 14.5203 - mse: 14.4801 - val_loss: 14.7653 - val_mse: 14.7256\n",
      "Epoch 23/100\n",
      "7843/7843 [==============================] - 21s 3ms/step - loss: 14.5209 - mse: 14.4809 - val_loss: 14.7060 - val_mse: 14.6665\n",
      "Epoch 24/100\n",
      "7843/7843 [==============================] - 21s 3ms/step - loss: 14.5195 - mse: 14.4800 - val_loss: 14.7056 - val_mse: 14.6662\n",
      "Epoch 25/100\n",
      "7843/7843 [==============================] - 21s 3ms/step - loss: 14.5175 - mse: 14.4780 - val_loss: 14.7274 - val_mse: 14.6887\n",
      "Epoch 26/100\n",
      "7843/7843 [==============================] - 21s 3ms/step - loss: 14.5175 - mse: 14.4786 - val_loss: 14.7449 - val_mse: 14.7062\n",
      "Epoch 27/100\n",
      "7843/7843 [==============================] - 21s 3ms/step - loss: 14.5149 - mse: 14.4759 - val_loss: 14.6930 - val_mse: 14.6537\n",
      "Epoch 28/100\n",
      "7843/7843 [==============================] - 21s 3ms/step - loss: 14.5150 - mse: 14.4761 - val_loss: 14.7313 - val_mse: 14.6922\n",
      "Epoch 29/100\n",
      "7843/7843 [==============================] - 21s 3ms/step - loss: 14.5151 - mse: 14.4762 - val_loss: 14.7541 - val_mse: 14.7159\n",
      "Epoch 30/100\n",
      "7843/7843 [==============================] - 20s 3ms/step - loss: 14.5143 - mse: 14.4757 - val_loss: 14.7157 - val_mse: 14.6768\n",
      "Epoch 31/100\n",
      "7843/7843 [==============================] - 20s 3ms/step - loss: 14.5126 - mse: 14.4736 - val_loss: 14.7516 - val_mse: 14.7129\n",
      "Epoch 32/100\n",
      "7843/7843 [==============================] - 21s 3ms/step - loss: 14.5132 - mse: 14.4743 - val_loss: 14.7443 - val_mse: 14.7055\n",
      "Epoch 33/100\n",
      "7843/7843 [==============================] - 21s 3ms/step - loss: 14.5108 - mse: 14.4719 - val_loss: 14.7951 - val_mse: 14.7562\n",
      "Epoch 34/100\n",
      "7843/7843 [==============================] - 21s 3ms/step - loss: 14.5103 - mse: 14.4716 - val_loss: 14.7240 - val_mse: 14.6854\n",
      "Epoch 35/100\n",
      "7843/7843 [==============================] - 21s 3ms/step - loss: 14.5117 - mse: 14.4731 - val_loss: 14.7365 - val_mse: 14.6977\n",
      "Epoch 36/100\n",
      "7843/7843 [==============================] - 21s 3ms/step - loss: 14.5101 - mse: 14.4714 - val_loss: 14.7727 - val_mse: 14.7345\n",
      "Epoch 37/100\n",
      "7843/7843 [==============================] - 21s 3ms/step - loss: 14.5101 - mse: 14.4717 - val_loss: 14.7173 - val_mse: 14.6791\n",
      "Epoch 38/100\n",
      "7843/7843 [==============================] - 21s 3ms/step - loss: 14.5099 - mse: 14.4717 - val_loss: 14.7421 - val_mse: 14.7042\n",
      "Epoch 39/100\n",
      "7843/7843 [==============================] - 21s 3ms/step - loss: 14.5105 - mse: 14.4724 - val_loss: 14.7192 - val_mse: 14.6811\n",
      "Epoch 40/100\n",
      "7843/7843 [==============================] - 21s 3ms/step - loss: 14.5096 - mse: 14.4714 - val_loss: 14.6953 - val_mse: 14.6578\n",
      "Epoch 41/100\n",
      "7843/7843 [==============================] - 21s 3ms/step - loss: 14.5103 - mse: 14.4724 - val_loss: 14.7370 - val_mse: 14.6992\n",
      "Epoch 42/100\n",
      "7843/7843 [==============================] - 20s 3ms/step - loss: 14.5104 - mse: 14.4725 - val_loss: 14.7240 - val_mse: 14.6859\n",
      "Epoch 43/100\n",
      "7843/7843 [==============================] - 20s 3ms/step - loss: 14.5084 - mse: 14.4705 - val_loss: 14.7293 - val_mse: 14.6916\n",
      "Epoch 44/100\n",
      "7843/7843 [==============================] - 20s 3ms/step - loss: 14.5095 - mse: 14.4717 - val_loss: 14.7011 - val_mse: 14.6634\n",
      "Epoch 45/100\n",
      "7843/7843 [==============================] - 20s 3ms/step - loss: 14.5097 - mse: 14.4720 - val_loss: 14.6980 - val_mse: 14.6607\n",
      "Epoch 46/100\n",
      "7843/7843 [==============================] - 21s 3ms/step - loss: 14.5081 - mse: 14.4705 - val_loss: 14.7367 - val_mse: 14.6991\n",
      "Epoch 47/100\n",
      "7843/7843 [==============================] - 21s 3ms/step - loss: 14.5090 - mse: 14.4712 - val_loss: 14.7449 - val_mse: 14.7074\n",
      "Epoch 48/100\n",
      "7843/7843 [==============================] - 21s 3ms/step - loss: 14.5103 - mse: 14.4727 - val_loss: 14.7696 - val_mse: 14.7321\n",
      "Epoch 49/100\n",
      "7843/7843 [==============================] - 21s 3ms/step - loss: 14.5071 - mse: 14.4695 - val_loss: 14.7418 - val_mse: 14.7043\n",
      "Epoch 50/100\n",
      "7843/7843 [==============================] - 21s 3ms/step - loss: 14.5088 - mse: 14.4711 - val_loss: 14.7629 - val_mse: 14.7253\n",
      "Epoch 51/100\n",
      "7843/7843 [==============================] - 21s 3ms/step - loss: 14.5068 - mse: 14.4692 - val_loss: 14.7079 - val_mse: 14.6697\n",
      "Epoch 52/100\n",
      "7843/7843 [==============================] - 21s 3ms/step - loss: 14.5073 - mse: 14.4695 - val_loss: 14.7628 - val_mse: 14.7256\n",
      "Epoch 53/100\n",
      "7843/7843 [==============================] - 21s 3ms/step - loss: 14.5087 - mse: 14.4710 - val_loss: 14.7228 - val_mse: 14.6858\n",
      "Epoch 54/100\n",
      "7843/7843 [==============================] - 21s 3ms/step - loss: 14.5080 - mse: 14.4709 - val_loss: 14.7642 - val_mse: 14.7268\n",
      "Epoch 55/100\n",
      "7843/7843 [==============================] - 21s 3ms/step - loss: 14.5074 - mse: 14.4697 - val_loss: 14.7379 - val_mse: 14.7005\n",
      "Epoch 56/100\n",
      "7843/7843 [==============================] - 21s 3ms/step - loss: 14.5060 - mse: 14.4685 - val_loss: 14.7344 - val_mse: 14.6967\n",
      "Epoch 57/100\n",
      "7843/7843 [==============================] - 21s 3ms/step - loss: 14.5083 - mse: 14.4707 - val_loss: 14.7455 - val_mse: 14.7083\n",
      "Epoch 58/100\n",
      "7843/7843 [==============================] - 21s 3ms/step - loss: 14.5049 - mse: 14.4678 - val_loss: 14.7070 - val_mse: 14.6686\n",
      "Epoch 59/100\n",
      "7843/7843 [==============================] - 20s 3ms/step - loss: 14.5045 - mse: 14.4664 - val_loss: 14.7711 - val_mse: 14.7331\n",
      "Epoch 60/100\n",
      "7843/7843 [==============================] - 20s 3ms/step - loss: 14.5026 - mse: 14.4643 - val_loss: 14.7587 - val_mse: 14.7206\n",
      "Epoch 61/100\n",
      "7843/7843 [==============================] - 20s 3ms/step - loss: 14.5031 - mse: 14.4652 - val_loss: 14.7786 - val_mse: 14.7408\n",
      "Epoch 62/100\n",
      "7843/7843 [==============================] - 20s 3ms/step - loss: 14.5033 - mse: 14.4651 - val_loss: 14.7174 - val_mse: 14.6791\n",
      "Epoch 63/100\n",
      "7843/7843 [==============================] - 20s 3ms/step - loss: 14.5023 - mse: 14.4639 - val_loss: 14.7874 - val_mse: 14.7492\n",
      "Epoch 64/100\n",
      "7843/7843 [==============================] - 20s 3ms/step - loss: 14.5025 - mse: 14.4644 - val_loss: 14.7354 - val_mse: 14.6973\n",
      "Epoch 65/100\n",
      "7843/7843 [==============================] - 20s 3ms/step - loss: 14.5012 - mse: 14.4632 - val_loss: 14.7095 - val_mse: 14.6718\n",
      "Epoch 66/100\n",
      "7843/7843 [==============================] - 21s 3ms/step - loss: 14.5010 - mse: 14.4632 - val_loss: 14.7856 - val_mse: 14.7477\n",
      "Epoch 67/100\n",
      "7843/7843 [==============================] - 20s 3ms/step - loss: 14.5013 - mse: 14.4635 - val_loss: 14.7792 - val_mse: 14.7415\n",
      "Epoch 68/100\n",
      "7843/7843 [==============================] - 21s 3ms/step - loss: 14.5002 - mse: 14.4626 - val_loss: 14.7201 - val_mse: 14.6826\n",
      "Epoch 69/100\n",
      "7843/7843 [==============================] - 20s 3ms/step - loss: 14.5023 - mse: 14.4648 - val_loss: 14.7617 - val_mse: 14.7247\n",
      "Epoch 70/100\n",
      "7843/7843 [==============================] - 20s 3ms/step - loss: 14.4997 - mse: 14.4622 - val_loss: 14.7387 - val_mse: 14.7010\n",
      "Epoch 71/100\n",
      "7843/7843 [==============================] - 20s 3ms/step - loss: 14.4997 - mse: 14.4620 - val_loss: 14.7516 - val_mse: 14.7140\n",
      "Epoch 72/100\n",
      "7843/7843 [==============================] - 21s 3ms/step - loss: 14.5000 - mse: 14.4622 - val_loss: 14.7665 - val_mse: 14.7288\n",
      "Epoch 73/100\n",
      "7843/7843 [==============================] - 21s 3ms/step - loss: 14.5002 - mse: 14.4623 - val_loss: 14.7733 - val_mse: 14.7364\n",
      "Epoch 74/100\n",
      "7843/7843 [==============================] - 20s 3ms/step - loss: 14.5011 - mse: 14.4635 - val_loss: 14.6754 - val_mse: 14.6380\n",
      "Epoch 75/100\n",
      "7843/7843 [==============================] - 20s 3ms/step - loss: 14.4990 - mse: 14.4613 - val_loss: 14.7539 - val_mse: 14.7164\n",
      "Epoch 76/100\n",
      "7843/7843 [==============================] - 20s 3ms/step - loss: 14.5010 - mse: 14.4635 - val_loss: 14.7298 - val_mse: 14.6923\n",
      "Epoch 77/100\n",
      "7843/7843 [==============================] - 20s 3ms/step - loss: 14.5004 - mse: 14.4629 - val_loss: 14.8305 - val_mse: 14.7928\n",
      "Epoch 78/100\n",
      "7843/7843 [==============================] - 20s 3ms/step - loss: 14.4982 - mse: 14.4605 - val_loss: 14.7549 - val_mse: 14.7174\n",
      "Epoch 79/100\n",
      "7843/7843 [==============================] - 20s 3ms/step - loss: 14.5002 - mse: 14.4627 - val_loss: 14.7079 - val_mse: 14.6708\n",
      "Epoch 80/100\n",
      "7843/7843 [==============================] - 21s 3ms/step - loss: 14.4992 - mse: 14.4618 - val_loss: 14.7546 - val_mse: 14.7172\n",
      "Epoch 81/100\n",
      "7843/7843 [==============================] - 21s 3ms/step - loss: 14.4995 - mse: 14.4621 - val_loss: 14.7364 - val_mse: 14.6988\n",
      "Epoch 82/100\n",
      "7843/7843 [==============================] - 21s 3ms/step - loss: 14.4974 - mse: 14.4598 - val_loss: 14.7491 - val_mse: 14.7114\n",
      "Epoch 83/100\n",
      "7843/7843 [==============================] - 21s 3ms/step - loss: 14.4992 - mse: 14.4612 - val_loss: 14.7208 - val_mse: 14.6835\n",
      "Epoch 84/100\n",
      "7843/7843 [==============================] - 21s 3ms/step - loss: 14.4972 - mse: 14.4596 - val_loss: 14.7333 - val_mse: 14.6950\n",
      "Epoch 85/100\n",
      "7843/7843 [==============================] - 21s 3ms/step - loss: 14.4966 - mse: 14.4582 - val_loss: 14.7606 - val_mse: 14.7224\n",
      "Epoch 86/100\n",
      "7843/7843 [==============================] - 21s 3ms/step - loss: 14.4960 - mse: 14.4577 - val_loss: 14.7333 - val_mse: 14.6955\n",
      "Epoch 87/100\n",
      "7843/7843 [==============================] - 20s 3ms/step - loss: 14.4958 - mse: 14.4576 - val_loss: 14.7577 - val_mse: 14.7198\n",
      "Epoch 88/100\n",
      "7843/7843 [==============================] - 20s 3ms/step - loss: 14.4974 - mse: 14.4594 - val_loss: 14.8209 - val_mse: 14.7829\n",
      "Epoch 89/100\n",
      "7843/7843 [==============================] - 20s 3ms/step - loss: 14.4961 - mse: 14.4579 - val_loss: 14.7636 - val_mse: 14.7257\n",
      "Epoch 90/100\n",
      "7843/7843 [==============================] - 20s 3ms/step - loss: 14.4964 - mse: 14.4583 - val_loss: 14.7604 - val_mse: 14.7220\n",
      "Epoch 91/100\n",
      "7843/7843 [==============================] - 20s 3ms/step - loss: 14.4964 - mse: 14.4581 - val_loss: 14.7002 - val_mse: 14.6616\n",
      "Epoch 92/100\n",
      "7843/7843 [==============================] - 20s 3ms/step - loss: 14.4964 - mse: 14.4580 - val_loss: 14.7626 - val_mse: 14.7243\n",
      "Epoch 93/100\n",
      "7843/7843 [==============================] - 20s 3ms/step - loss: 14.4956 - mse: 14.4572 - val_loss: 14.7607 - val_mse: 14.7222\n",
      "Epoch 94/100\n",
      "7843/7843 [==============================] - 20s 3ms/step - loss: 14.4960 - mse: 14.4573 - val_loss: 14.7151 - val_mse: 14.6769\n",
      "Epoch 95/100\n",
      "7843/7843 [==============================] - 21s 3ms/step - loss: 14.4973 - mse: 14.4588 - val_loss: 14.7573 - val_mse: 14.7189\n",
      "Epoch 96/100\n",
      "7843/7843 [==============================] - 20s 3ms/step - loss: 14.4957 - mse: 14.4571 - val_loss: 14.7540 - val_mse: 14.7157\n",
      "Epoch 97/100\n",
      "7843/7843 [==============================] - 21s 3ms/step - loss: 14.4957 - mse: 14.4569 - val_loss: 14.7368 - val_mse: 14.6976\n",
      "Epoch 98/100\n",
      "7843/7843 [==============================] - 20s 3ms/step - loss: 14.4953 - mse: 14.4564 - val_loss: 14.7875 - val_mse: 14.7488\n",
      "Epoch 99/100\n",
      "7843/7843 [==============================] - 21s 3ms/step - loss: 14.4934 - mse: 14.4546 - val_loss: 14.7312 - val_mse: 14.6927\n",
      "Epoch 100/100\n",
      "7843/7843 [==============================] - 20s 3ms/step - loss: 14.4958 - mse: 14.4570 - val_loss: 14.7492 - val_mse: 14.7106\n"
     ]
    },
    {
     "data": {
      "text/plain": [
       "<keras.callbacks.History at 0x7fec0299f760>"
      ]
     },
     "execution_count": 30,
     "metadata": {},
     "output_type": "execute_result"
    }
   ],
   "source": [
    "model.fit(train_x, train_y, validation_split=.1, epochs=epochs, batch_size=batch_size)"
   ]
  },
  {
   "attachments": {},
   "cell_type": "markdown",
   "id": "40c8ec25",
   "metadata": {},
   "source": [
    "에이쒸... 암튼 학습 제대로 안됨."
   ]
  },
  {
   "cell_type": "code",
   "execution_count": 31,
   "id": "ea451a38",
   "metadata": {},
   "outputs": [
    {
     "name": "stdout",
     "output_type": "stream",
     "text": [
      "27232/27232 [==============================] - 34s 1ms/step\n"
     ]
    },
    {
     "data": {
      "text/plain": [
       "array([[3.6174195],\n",
       "       [3.4679973],\n",
       "       [3.4679973],\n",
       "       ...,\n",
       "       [3.1984024],\n",
       "       [2.412163 ],\n",
       "       [2.997895 ]], dtype=float32)"
      ]
     },
     "execution_count": 31,
     "metadata": {},
     "output_type": "execute_result"
    }
   ],
   "source": [
    "train_pred = model.predict(train_x)\n",
    "train_pred"
   ]
  },
  {
   "cell_type": "code",
   "execution_count": 32,
   "id": "1820a336",
   "metadata": {},
   "outputs": [
    {
     "data": {
      "text/plain": [
       "(871393, 1)"
      ]
     },
     "execution_count": 32,
     "metadata": {},
     "output_type": "execute_result"
    }
   ],
   "source": [
    "train_pred.shape"
   ]
  },
  {
   "cell_type": "code",
   "execution_count": 33,
   "id": "44be1d60",
   "metadata": {},
   "outputs": [
    {
     "name": "stdout",
     "output_type": "stream",
     "text": [
      "4989/4989 [==============================] - 6s 1ms/step\n"
     ]
    },
    {
     "data": {
      "text/plain": [
       "array([[2.8391378],\n",
       "       [2.8713033],\n",
       "       [2.6461456],\n",
       "       ...,\n",
       "       [3.2239828],\n",
       "       [3.5754986],\n",
       "       [3.8391364]], dtype=float32)"
      ]
     },
     "execution_count": 33,
     "metadata": {},
     "output_type": "execute_result"
    }
   ],
   "source": [
    "test_pred = model.predict(test_x)\n",
    "test_pred"
   ]
  },
  {
   "cell_type": "code",
   "execution_count": 34,
   "id": "0318eec6",
   "metadata": {},
   "outputs": [],
   "source": [
    "from sklearn.metrics import mean_squared_error"
   ]
  },
  {
   "cell_type": "code",
   "execution_count": 35,
   "id": "b9ca55e0",
   "metadata": {},
   "outputs": [
    {
     "data": {
      "text/plain": [
       "3.8036542165822924"
      ]
     },
     "execution_count": 35,
     "metadata": {},
     "output_type": "execute_result"
    }
   ],
   "source": [
    "rmse = mean_squared_error(train_y, train_pred, squared=False)\n",
    "rmse"
   ]
  },
  {
   "cell_type": "code",
   "execution_count": 36,
   "id": "6e68d40a",
   "metadata": {},
   "outputs": [
    {
     "data": {
      "text/html": [
       "<div>\n",
       "<style scoped>\n",
       "    .dataframe tbody tr th:only-of-type {\n",
       "        vertical-align: middle;\n",
       "    }\n",
       "\n",
       "    .dataframe tbody tr th {\n",
       "        vertical-align: top;\n",
       "    }\n",
       "\n",
       "    .dataframe thead th {\n",
       "        text-align: right;\n",
       "    }\n",
       "</style>\n",
       "<table border=\"1\" class=\"dataframe\">\n",
       "  <thead>\n",
       "    <tr style=\"text-align: right;\">\n",
       "      <th></th>\n",
       "      <th>ID</th>\n",
       "      <th>Book-Rating</th>\n",
       "    </tr>\n",
       "  </thead>\n",
       "  <tbody>\n",
       "    <tr>\n",
       "      <th>0</th>\n",
       "      <td>TEST_000000</td>\n",
       "      <td>0</td>\n",
       "    </tr>\n",
       "    <tr>\n",
       "      <th>1</th>\n",
       "      <td>TEST_000001</td>\n",
       "      <td>0</td>\n",
       "    </tr>\n",
       "    <tr>\n",
       "      <th>2</th>\n",
       "      <td>TEST_000002</td>\n",
       "      <td>0</td>\n",
       "    </tr>\n",
       "    <tr>\n",
       "      <th>3</th>\n",
       "      <td>TEST_000003</td>\n",
       "      <td>0</td>\n",
       "    </tr>\n",
       "    <tr>\n",
       "      <th>4</th>\n",
       "      <td>TEST_000004</td>\n",
       "      <td>0</td>\n",
       "    </tr>\n",
       "    <tr>\n",
       "      <th>...</th>\n",
       "      <td>...</td>\n",
       "      <td>...</td>\n",
       "    </tr>\n",
       "    <tr>\n",
       "      <th>159616</th>\n",
       "      <td>TEST_159616</td>\n",
       "      <td>0</td>\n",
       "    </tr>\n",
       "    <tr>\n",
       "      <th>159617</th>\n",
       "      <td>TEST_159617</td>\n",
       "      <td>0</td>\n",
       "    </tr>\n",
       "    <tr>\n",
       "      <th>159618</th>\n",
       "      <td>TEST_159618</td>\n",
       "      <td>0</td>\n",
       "    </tr>\n",
       "    <tr>\n",
       "      <th>159619</th>\n",
       "      <td>TEST_159619</td>\n",
       "      <td>0</td>\n",
       "    </tr>\n",
       "    <tr>\n",
       "      <th>159620</th>\n",
       "      <td>TEST_159620</td>\n",
       "      <td>0</td>\n",
       "    </tr>\n",
       "  </tbody>\n",
       "</table>\n",
       "<p>159621 rows × 2 columns</p>\n",
       "</div>"
      ],
      "text/plain": [
       "                 ID  Book-Rating\n",
       "0       TEST_000000            0\n",
       "1       TEST_000001            0\n",
       "2       TEST_000002            0\n",
       "3       TEST_000003            0\n",
       "4       TEST_000004            0\n",
       "...             ...          ...\n",
       "159616  TEST_159616            0\n",
       "159617  TEST_159617            0\n",
       "159618  TEST_159618            0\n",
       "159619  TEST_159619            0\n",
       "159620  TEST_159620            0\n",
       "\n",
       "[159621 rows x 2 columns]"
      ]
     },
     "execution_count": 36,
     "metadata": {},
     "output_type": "execute_result"
    }
   ],
   "source": [
    "sample_submission_df = pd.read_csv(\"open/sample_submission.csv\")\n",
    "sample_submission_df"
   ]
  },
  {
   "cell_type": "code",
   "execution_count": 37,
   "id": "1ec53519",
   "metadata": {},
   "outputs": [],
   "source": [
    "mname = 'custom_dl'"
   ]
  },
  {
   "cell_type": "code",
   "execution_count": 38,
   "id": "4e1b7265",
   "metadata": {},
   "outputs": [],
   "source": [
    "def make_report(template, test_pred, mname):\n",
    "    template['Book-Rating'] = test_pred\n",
    "    now = dt.strftime(dt.now(), '%y-%m-%d')\n",
    "    template.to_csv(f'results/{mname}-{now}.csv', index=False)\n",
    "    \n",
    "make_report(sample_submission_df, test_pred, mname)"
   ]
  },
  {
   "attachments": {},
   "cell_type": "markdown",
   "id": "0e6ce5be",
   "metadata": {},
   "source": [
    "test_rmse = 3.8036542165822924"
   ]
  }
 ],
 "metadata": {
  "kernelspec": {
   "display_name": "general",
   "language": "python",
   "name": "python3"
  },
  "language_info": {
   "codemirror_mode": {
    "name": "ipython",
    "version": 3
   },
   "file_extension": ".py",
   "mimetype": "text/x-python",
   "name": "python",
   "nbconvert_exporter": "python",
   "pygments_lexer": "ipython3",
   "version": "3.10.0"
  }
 },
 "nbformat": 4,
 "nbformat_minor": 5
}
