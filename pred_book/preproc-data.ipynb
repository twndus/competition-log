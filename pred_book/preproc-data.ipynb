{
 "cells": [
  {
   "attachments": {},
   "cell_type": "markdown",
   "metadata": {},
   "source": [
    "# data processing"
   ]
  },
  {
   "cell_type": "code",
   "execution_count": 67,
   "metadata": {},
   "outputs": [],
   "source": [
    "import os, copy\n",
    "from datetime import datetime as dt\n",
    "\n",
    "import numpy as np\n",
    "import pandas as pd\n",
    "from tqdm import tqdm"
   ]
  },
  {
   "cell_type": "markdown",
   "metadata": {},
   "source": [
    "# load data"
   ]
  },
  {
   "cell_type": "code",
   "execution_count": 2,
   "metadata": {},
   "outputs": [
    {
     "name": "stdout",
     "output_type": "stream",
     "text": [
      "(871393, 10)\n"
     ]
    },
    {
     "data": {
      "text/html": [
       "<div>\n",
       "<style scoped>\n",
       "    .dataframe tbody tr th:only-of-type {\n",
       "        vertical-align: middle;\n",
       "    }\n",
       "\n",
       "    .dataframe tbody tr th {\n",
       "        vertical-align: top;\n",
       "    }\n",
       "\n",
       "    .dataframe thead th {\n",
       "        text-align: right;\n",
       "    }\n",
       "</style>\n",
       "<table border=\"1\" class=\"dataframe\">\n",
       "  <thead>\n",
       "    <tr style=\"text-align: right;\">\n",
       "      <th></th>\n",
       "      <th>ID</th>\n",
       "      <th>User-ID</th>\n",
       "      <th>Book-ID</th>\n",
       "      <th>Book-Rating</th>\n",
       "      <th>Age</th>\n",
       "      <th>Location</th>\n",
       "      <th>Book-Title</th>\n",
       "      <th>Book-Author</th>\n",
       "      <th>Year-Of-Publication</th>\n",
       "      <th>Publisher</th>\n",
       "    </tr>\n",
       "  </thead>\n",
       "  <tbody>\n",
       "    <tr>\n",
       "      <th>0</th>\n",
       "      <td>TRAIN_000000</td>\n",
       "      <td>USER_00000</td>\n",
       "      <td>BOOK_044368</td>\n",
       "      <td>8</td>\n",
       "      <td>23.0</td>\n",
       "      <td>sackville, new brunswick, canada</td>\n",
       "      <td>Road Taken</td>\n",
       "      <td>Rona Jaffe</td>\n",
       "      <td>2001.0</td>\n",
       "      <td>Mira</td>\n",
       "    </tr>\n",
       "    <tr>\n",
       "      <th>1</th>\n",
       "      <td>TRAIN_000001</td>\n",
       "      <td>USER_00000</td>\n",
       "      <td>BOOK_081205</td>\n",
       "      <td>8</td>\n",
       "      <td>23.0</td>\n",
       "      <td>sackville, new brunswick, canada</td>\n",
       "      <td>Macbeth (New Penguin Shakespeare)</td>\n",
       "      <td>William Shakespeare</td>\n",
       "      <td>1981.0</td>\n",
       "      <td>Penguin Books</td>\n",
       "    </tr>\n",
       "    <tr>\n",
       "      <th>2</th>\n",
       "      <td>TRAIN_000002</td>\n",
       "      <td>USER_00000</td>\n",
       "      <td>BOOK_086781</td>\n",
       "      <td>0</td>\n",
       "      <td>23.0</td>\n",
       "      <td>sackville, new brunswick, canada</td>\n",
       "      <td>Waverley (Penguin English Library)</td>\n",
       "      <td>Walter Scott</td>\n",
       "      <td>1981.0</td>\n",
       "      <td>Penguin Books</td>\n",
       "    </tr>\n",
       "    <tr>\n",
       "      <th>3</th>\n",
       "      <td>TRAIN_000003</td>\n",
       "      <td>USER_00000</td>\n",
       "      <td>BOOK_098622</td>\n",
       "      <td>0</td>\n",
       "      <td>23.0</td>\n",
       "      <td>sackville, new brunswick, canada</td>\n",
       "      <td>Mother Earth Father Sky</td>\n",
       "      <td>Sue Harrison</td>\n",
       "      <td>1991.0</td>\n",
       "      <td>Avon</td>\n",
       "    </tr>\n",
       "    <tr>\n",
       "      <th>4</th>\n",
       "      <td>TRAIN_000004</td>\n",
       "      <td>USER_00000</td>\n",
       "      <td>BOOK_180810</td>\n",
       "      <td>8</td>\n",
       "      <td>23.0</td>\n",
       "      <td>sackville, new brunswick, canada</td>\n",
       "      <td>She Who Remembers</td>\n",
       "      <td>Linda Lay Shuler</td>\n",
       "      <td>1989.0</td>\n",
       "      <td>Signet Book</td>\n",
       "    </tr>\n",
       "  </tbody>\n",
       "</table>\n",
       "</div>"
      ],
      "text/plain": [
       "             ID     User-ID      Book-ID  Book-Rating   Age   \n",
       "0  TRAIN_000000  USER_00000  BOOK_044368            8  23.0  \\\n",
       "1  TRAIN_000001  USER_00000  BOOK_081205            8  23.0   \n",
       "2  TRAIN_000002  USER_00000  BOOK_086781            0  23.0   \n",
       "3  TRAIN_000003  USER_00000  BOOK_098622            0  23.0   \n",
       "4  TRAIN_000004  USER_00000  BOOK_180810            8  23.0   \n",
       "\n",
       "                           Location                          Book-Title   \n",
       "0  sackville, new brunswick, canada                          Road Taken  \\\n",
       "1  sackville, new brunswick, canada   Macbeth (New Penguin Shakespeare)   \n",
       "2  sackville, new brunswick, canada  Waverley (Penguin English Library)   \n",
       "3  sackville, new brunswick, canada             Mother Earth Father Sky   \n",
       "4  sackville, new brunswick, canada                   She Who Remembers   \n",
       "\n",
       "           Book-Author  Year-Of-Publication      Publisher  \n",
       "0           Rona Jaffe               2001.0           Mira  \n",
       "1  William Shakespeare               1981.0  Penguin Books  \n",
       "2         Walter Scott               1981.0  Penguin Books  \n",
       "3         Sue Harrison               1991.0           Avon  \n",
       "4     Linda Lay Shuler               1989.0    Signet Book  "
      ]
     },
     "execution_count": 2,
     "metadata": {},
     "output_type": "execute_result"
    }
   ],
   "source": [
    "train_df = pd.read_csv('open/train.csv')\n",
    "print(train_df.shape)\n",
    "train_df.head()"
   ]
  },
  {
   "cell_type": "code",
   "execution_count": 3,
   "metadata": {},
   "outputs": [
    {
     "name": "stdout",
     "output_type": "stream",
     "text": [
      "(159621, 9)\n"
     ]
    },
    {
     "data": {
      "text/html": [
       "<div>\n",
       "<style scoped>\n",
       "    .dataframe tbody tr th:only-of-type {\n",
       "        vertical-align: middle;\n",
       "    }\n",
       "\n",
       "    .dataframe tbody tr th {\n",
       "        vertical-align: top;\n",
       "    }\n",
       "\n",
       "    .dataframe thead th {\n",
       "        text-align: right;\n",
       "    }\n",
       "</style>\n",
       "<table border=\"1\" class=\"dataframe\">\n",
       "  <thead>\n",
       "    <tr style=\"text-align: right;\">\n",
       "      <th></th>\n",
       "      <th>ID</th>\n",
       "      <th>User-ID</th>\n",
       "      <th>Book-ID</th>\n",
       "      <th>Age</th>\n",
       "      <th>Location</th>\n",
       "      <th>Book-Title</th>\n",
       "      <th>Book-Author</th>\n",
       "      <th>Year-Of-Publication</th>\n",
       "      <th>Publisher</th>\n",
       "    </tr>\n",
       "  </thead>\n",
       "  <tbody>\n",
       "    <tr>\n",
       "      <th>0</th>\n",
       "      <td>TEST_000000</td>\n",
       "      <td>USER_00008</td>\n",
       "      <td>BOOK_047966</td>\n",
       "      <td>37.0</td>\n",
       "      <td>vermilion, ohio, usa</td>\n",
       "      <td>Birds of Prey: A Novel of Suspense</td>\n",
       "      <td>J.A. Jance</td>\n",
       "      <td>2002.0</td>\n",
       "      <td>Avon</td>\n",
       "    </tr>\n",
       "    <tr>\n",
       "      <th>1</th>\n",
       "      <td>TEST_000001</td>\n",
       "      <td>USER_00008</td>\n",
       "      <td>BOOK_119494</td>\n",
       "      <td>37.0</td>\n",
       "      <td>vermilion, ohio, usa</td>\n",
       "      <td>Midnight Voices</td>\n",
       "      <td>JOHN SAUL</td>\n",
       "      <td>2003.0</td>\n",
       "      <td>Ballantine Books</td>\n",
       "    </tr>\n",
       "    <tr>\n",
       "      <th>2</th>\n",
       "      <td>TEST_000002</td>\n",
       "      <td>USER_00008</td>\n",
       "      <td>BOOK_151775</td>\n",
       "      <td>37.0</td>\n",
       "      <td>vermilion, ohio, usa</td>\n",
       "      <td>Breaking Free : A Prescription for Personal an...</td>\n",
       "      <td>David M.  Noer</td>\n",
       "      <td>1996.0</td>\n",
       "      <td>Jossey-Bass</td>\n",
       "    </tr>\n",
       "    <tr>\n",
       "      <th>3</th>\n",
       "      <td>TEST_000003</td>\n",
       "      <td>USER_00008</td>\n",
       "      <td>BOOK_176255</td>\n",
       "      <td>37.0</td>\n",
       "      <td>vermilion, ohio, usa</td>\n",
       "      <td>Bitter Harvest</td>\n",
       "      <td>Ann Rule</td>\n",
       "      <td>1999.0</td>\n",
       "      <td>Pocket</td>\n",
       "    </tr>\n",
       "    <tr>\n",
       "      <th>4</th>\n",
       "      <td>TEST_000004</td>\n",
       "      <td>USER_00008</td>\n",
       "      <td>BOOK_187307</td>\n",
       "      <td>37.0</td>\n",
       "      <td>vermilion, ohio, usa</td>\n",
       "      <td>Embraced by the Light</td>\n",
       "      <td>Betty J. Eadie</td>\n",
       "      <td>1994.0</td>\n",
       "      <td>Bantam Books</td>\n",
       "    </tr>\n",
       "  </tbody>\n",
       "</table>\n",
       "</div>"
      ],
      "text/plain": [
       "            ID     User-ID      Book-ID   Age              Location   \n",
       "0  TEST_000000  USER_00008  BOOK_047966  37.0  vermilion, ohio, usa  \\\n",
       "1  TEST_000001  USER_00008  BOOK_119494  37.0  vermilion, ohio, usa   \n",
       "2  TEST_000002  USER_00008  BOOK_151775  37.0  vermilion, ohio, usa   \n",
       "3  TEST_000003  USER_00008  BOOK_176255  37.0  vermilion, ohio, usa   \n",
       "4  TEST_000004  USER_00008  BOOK_187307  37.0  vermilion, ohio, usa   \n",
       "\n",
       "                                          Book-Title     Book-Author   \n",
       "0                 Birds of Prey: A Novel of Suspense      J.A. Jance  \\\n",
       "1                                    Midnight Voices       JOHN SAUL   \n",
       "2  Breaking Free : A Prescription for Personal an...  David M.  Noer   \n",
       "3                                     Bitter Harvest        Ann Rule   \n",
       "4                              Embraced by the Light  Betty J. Eadie   \n",
       "\n",
       "   Year-Of-Publication         Publisher  \n",
       "0               2002.0              Avon  \n",
       "1               2003.0  Ballantine Books  \n",
       "2               1996.0       Jossey-Bass  \n",
       "3               1999.0            Pocket  \n",
       "4               1994.0      Bantam Books  "
      ]
     },
     "execution_count": 3,
     "metadata": {},
     "output_type": "execute_result"
    }
   ],
   "source": [
    "test_df = pd.read_csv('open/test.csv')\n",
    "print(test_df.shape)\n",
    "test_df.head()"
   ]
  },
  {
   "attachments": {},
   "cell_type": "markdown",
   "metadata": {},
   "source": [
    "# Get train, test array"
   ]
  },
  {
   "cell_type": "code",
   "execution_count": 4,
   "metadata": {},
   "outputs": [
    {
     "data": {
      "text/html": [
       "<div>\n",
       "<style scoped>\n",
       "    .dataframe tbody tr th:only-of-type {\n",
       "        vertical-align: middle;\n",
       "    }\n",
       "\n",
       "    .dataframe tbody tr th {\n",
       "        vertical-align: top;\n",
       "    }\n",
       "\n",
       "    .dataframe thead th {\n",
       "        text-align: right;\n",
       "    }\n",
       "</style>\n",
       "<table border=\"1\" class=\"dataframe\">\n",
       "  <thead>\n",
       "    <tr style=\"text-align: right;\">\n",
       "      <th></th>\n",
       "      <th>ID</th>\n",
       "      <th>User-ID</th>\n",
       "      <th>Book-ID</th>\n",
       "      <th>Book-Rating</th>\n",
       "      <th>Age</th>\n",
       "      <th>Location</th>\n",
       "      <th>Book-Title</th>\n",
       "      <th>Book-Author</th>\n",
       "      <th>Year-Of-Publication</th>\n",
       "      <th>Publisher</th>\n",
       "    </tr>\n",
       "  </thead>\n",
       "  <tbody>\n",
       "    <tr>\n",
       "      <th>0</th>\n",
       "      <td>TRAIN_000000</td>\n",
       "      <td>USER_00000</td>\n",
       "      <td>BOOK_044368</td>\n",
       "      <td>8</td>\n",
       "      <td>23.0</td>\n",
       "      <td>sackville, new brunswick, canada</td>\n",
       "      <td>Road Taken</td>\n",
       "      <td>Rona Jaffe</td>\n",
       "      <td>2001.0</td>\n",
       "      <td>Mira</td>\n",
       "    </tr>\n",
       "    <tr>\n",
       "      <th>1</th>\n",
       "      <td>TRAIN_000001</td>\n",
       "      <td>USER_00000</td>\n",
       "      <td>BOOK_081205</td>\n",
       "      <td>8</td>\n",
       "      <td>23.0</td>\n",
       "      <td>sackville, new brunswick, canada</td>\n",
       "      <td>Macbeth (New Penguin Shakespeare)</td>\n",
       "      <td>William Shakespeare</td>\n",
       "      <td>1981.0</td>\n",
       "      <td>Penguin Books</td>\n",
       "    </tr>\n",
       "    <tr>\n",
       "      <th>2</th>\n",
       "      <td>TRAIN_000002</td>\n",
       "      <td>USER_00000</td>\n",
       "      <td>BOOK_086781</td>\n",
       "      <td>0</td>\n",
       "      <td>23.0</td>\n",
       "      <td>sackville, new brunswick, canada</td>\n",
       "      <td>Waverley (Penguin English Library)</td>\n",
       "      <td>Walter Scott</td>\n",
       "      <td>1981.0</td>\n",
       "      <td>Penguin Books</td>\n",
       "    </tr>\n",
       "    <tr>\n",
       "      <th>3</th>\n",
       "      <td>TRAIN_000003</td>\n",
       "      <td>USER_00000</td>\n",
       "      <td>BOOK_098622</td>\n",
       "      <td>0</td>\n",
       "      <td>23.0</td>\n",
       "      <td>sackville, new brunswick, canada</td>\n",
       "      <td>Mother Earth Father Sky</td>\n",
       "      <td>Sue Harrison</td>\n",
       "      <td>1991.0</td>\n",
       "      <td>Avon</td>\n",
       "    </tr>\n",
       "    <tr>\n",
       "      <th>4</th>\n",
       "      <td>TRAIN_000004</td>\n",
       "      <td>USER_00000</td>\n",
       "      <td>BOOK_180810</td>\n",
       "      <td>8</td>\n",
       "      <td>23.0</td>\n",
       "      <td>sackville, new brunswick, canada</td>\n",
       "      <td>She Who Remembers</td>\n",
       "      <td>Linda Lay Shuler</td>\n",
       "      <td>1989.0</td>\n",
       "      <td>Signet Book</td>\n",
       "    </tr>\n",
       "    <tr>\n",
       "      <th>...</th>\n",
       "      <td>...</td>\n",
       "      <td>...</td>\n",
       "      <td>...</td>\n",
       "      <td>...</td>\n",
       "      <td>...</td>\n",
       "      <td>...</td>\n",
       "      <td>...</td>\n",
       "      <td>...</td>\n",
       "      <td>...</td>\n",
       "      <td>...</td>\n",
       "    </tr>\n",
       "    <tr>\n",
       "      <th>871388</th>\n",
       "      <td>TRAIN_871388</td>\n",
       "      <td>USER_92096</td>\n",
       "      <td>BOOK_081138</td>\n",
       "      <td>0</td>\n",
       "      <td>34.0</td>\n",
       "      <td>minneapolis, minnesota, usa</td>\n",
       "      <td>Healing Words: The Power of Prayer and the Pra...</td>\n",
       "      <td>Larry Dossey</td>\n",
       "      <td>1993.0</td>\n",
       "      <td>Harpercollins</td>\n",
       "    </tr>\n",
       "    <tr>\n",
       "      <th>871389</th>\n",
       "      <td>TRAIN_871389</td>\n",
       "      <td>USER_92097</td>\n",
       "      <td>BOOK_258124</td>\n",
       "      <td>0</td>\n",
       "      <td>35.0</td>\n",
       "      <td>temple, texas, usa</td>\n",
       "      <td>The Salmon of Doubt: Hitchhiking the Galaxy On...</td>\n",
       "      <td>DOUGLAS ADAMS</td>\n",
       "      <td>2002.0</td>\n",
       "      <td>Harmony</td>\n",
       "    </tr>\n",
       "    <tr>\n",
       "      <th>871390</th>\n",
       "      <td>TRAIN_871390</td>\n",
       "      <td>USER_92098</td>\n",
       "      <td>BOOK_071848</td>\n",
       "      <td>0</td>\n",
       "      <td>45.0</td>\n",
       "      <td>ottawa, ontario, canada</td>\n",
       "      <td>Harry Potter and the Prisoner of Azkaban (Book 3)</td>\n",
       "      <td>J. K. Rowling</td>\n",
       "      <td>2000.0</td>\n",
       "      <td>Thorndike Press</td>\n",
       "    </tr>\n",
       "    <tr>\n",
       "      <th>871391</th>\n",
       "      <td>TRAIN_871391</td>\n",
       "      <td>USER_92099</td>\n",
       "      <td>BOOK_252599</td>\n",
       "      <td>8</td>\n",
       "      <td>43.0</td>\n",
       "      <td>maple grove, minnesota, usa</td>\n",
       "      <td>Heartbreak Hill: Anatomy of a Ryder Cup</td>\n",
       "      <td>Tim Rosaforte</td>\n",
       "      <td>1996.0</td>\n",
       "      <td>St Martins Pr</td>\n",
       "    </tr>\n",
       "    <tr>\n",
       "      <th>871392</th>\n",
       "      <td>TRAIN_871392</td>\n",
       "      <td>USER_92100</td>\n",
       "      <td>BOOK_130798</td>\n",
       "      <td>0</td>\n",
       "      <td>35.0</td>\n",
       "      <td>castiglion fiorentino, toscana, italy</td>\n",
       "      <td>The Coffin Quilt: The Feud between the Hatfiel...</td>\n",
       "      <td>Ann Rinaldi</td>\n",
       "      <td>1999.0</td>\n",
       "      <td>Harcourt Children's Books</td>\n",
       "    </tr>\n",
       "  </tbody>\n",
       "</table>\n",
       "<p>871393 rows × 10 columns</p>\n",
       "</div>"
      ],
      "text/plain": [
       "                  ID     User-ID      Book-ID  Book-Rating   Age   \n",
       "0       TRAIN_000000  USER_00000  BOOK_044368            8  23.0  \\\n",
       "1       TRAIN_000001  USER_00000  BOOK_081205            8  23.0   \n",
       "2       TRAIN_000002  USER_00000  BOOK_086781            0  23.0   \n",
       "3       TRAIN_000003  USER_00000  BOOK_098622            0  23.0   \n",
       "4       TRAIN_000004  USER_00000  BOOK_180810            8  23.0   \n",
       "...              ...         ...          ...          ...   ...   \n",
       "871388  TRAIN_871388  USER_92096  BOOK_081138            0  34.0   \n",
       "871389  TRAIN_871389  USER_92097  BOOK_258124            0  35.0   \n",
       "871390  TRAIN_871390  USER_92098  BOOK_071848            0  45.0   \n",
       "871391  TRAIN_871391  USER_92099  BOOK_252599            8  43.0   \n",
       "871392  TRAIN_871392  USER_92100  BOOK_130798            0  35.0   \n",
       "\n",
       "                                     Location   \n",
       "0            sackville, new brunswick, canada  \\\n",
       "1            sackville, new brunswick, canada   \n",
       "2            sackville, new brunswick, canada   \n",
       "3            sackville, new brunswick, canada   \n",
       "4            sackville, new brunswick, canada   \n",
       "...                                       ...   \n",
       "871388            minneapolis, minnesota, usa   \n",
       "871389                     temple, texas, usa   \n",
       "871390                ottawa, ontario, canada   \n",
       "871391            maple grove, minnesota, usa   \n",
       "871392  castiglion fiorentino, toscana, italy   \n",
       "\n",
       "                                               Book-Title   \n",
       "0                                              Road Taken  \\\n",
       "1                       Macbeth (New Penguin Shakespeare)   \n",
       "2                      Waverley (Penguin English Library)   \n",
       "3                                 Mother Earth Father Sky   \n",
       "4                                       She Who Remembers   \n",
       "...                                                   ...   \n",
       "871388  Healing Words: The Power of Prayer and the Pra...   \n",
       "871389  The Salmon of Doubt: Hitchhiking the Galaxy On...   \n",
       "871390  Harry Potter and the Prisoner of Azkaban (Book 3)   \n",
       "871391            Heartbreak Hill: Anatomy of a Ryder Cup   \n",
       "871392  The Coffin Quilt: The Feud between the Hatfiel...   \n",
       "\n",
       "                Book-Author  Year-Of-Publication                  Publisher  \n",
       "0                Rona Jaffe               2001.0                       Mira  \n",
       "1       William Shakespeare               1981.0              Penguin Books  \n",
       "2              Walter Scott               1981.0              Penguin Books  \n",
       "3              Sue Harrison               1991.0                       Avon  \n",
       "4          Linda Lay Shuler               1989.0                Signet Book  \n",
       "...                     ...                  ...                        ...  \n",
       "871388         Larry Dossey               1993.0              Harpercollins  \n",
       "871389        DOUGLAS ADAMS               2002.0                    Harmony  \n",
       "871390        J. K. Rowling               2000.0            Thorndike Press  \n",
       "871391        Tim Rosaforte               1996.0              St Martins Pr  \n",
       "871392          Ann Rinaldi               1999.0  Harcourt Children's Books  \n",
       "\n",
       "[871393 rows x 10 columns]"
      ]
     },
     "execution_count": 4,
     "metadata": {},
     "output_type": "execute_result"
    }
   ],
   "source": [
    "train_df"
   ]
  },
  {
   "cell_type": "markdown",
   "metadata": {},
   "source": [
    "## 유저 정보\n",
    "\n",
    "### 나이"
   ]
  },
  {
   "cell_type": "code",
   "execution_count": 5,
   "metadata": {},
   "outputs": [
    {
     "name": "stdout",
     "output_type": "stream",
     "text": [
      "36.49875233074745\n"
     ]
    }
   ],
   "source": [
    "Age_scaled = train_df['Age'].apply(lambda x: x if x <= 100 else np.nan)\n",
    "user_mean = Age_scaled.mean()\n",
    "print(user_mean)\n",
    "train_df['Age_scaled'] = Age_scaled.fillna(user_mean)"
   ]
  },
  {
   "cell_type": "code",
   "execution_count": 6,
   "metadata": {},
   "outputs": [],
   "source": [
    "test_df['Age_scaled'] = test_df['Age'].apply(lambda x: x if x <= 100 else np.nan).fillna(user_mean)"
   ]
  },
  {
   "cell_type": "markdown",
   "metadata": {},
   "source": [
    "### 국가"
   ]
  },
  {
   "cell_type": "code",
   "execution_count": 7,
   "metadata": {},
   "outputs": [
    {
     "name": "stdout",
     "output_type": "stream",
     "text": [
      "(83256, 3)\n"
     ]
    },
    {
     "data": {
      "text/html": [
       "<div>\n",
       "<style scoped>\n",
       "    .dataframe tbody tr th:only-of-type {\n",
       "        vertical-align: middle;\n",
       "    }\n",
       "\n",
       "    .dataframe tbody tr th {\n",
       "        vertical-align: top;\n",
       "    }\n",
       "\n",
       "    .dataframe thead th {\n",
       "        text-align: right;\n",
       "    }\n",
       "</style>\n",
       "<table border=\"1\" class=\"dataframe\">\n",
       "  <thead>\n",
       "    <tr style=\"text-align: right;\">\n",
       "      <th></th>\n",
       "      <th>User-ID</th>\n",
       "      <th>Age</th>\n",
       "      <th>Location</th>\n",
       "    </tr>\n",
       "  </thead>\n",
       "  <tbody>\n",
       "    <tr>\n",
       "      <th>0</th>\n",
       "      <td>USER_00000</td>\n",
       "      <td>23.0</td>\n",
       "      <td>sackville, new brunswick, canada</td>\n",
       "    </tr>\n",
       "    <tr>\n",
       "      <th>8</th>\n",
       "      <td>USER_00001</td>\n",
       "      <td>35.0</td>\n",
       "      <td>wake forest, north carolina, usa</td>\n",
       "    </tr>\n",
       "    <tr>\n",
       "      <th>11</th>\n",
       "      <td>USER_00002</td>\n",
       "      <td>35.0</td>\n",
       "      <td>minneapolis, minnesota, usa</td>\n",
       "    </tr>\n",
       "    <tr>\n",
       "      <th>12</th>\n",
       "      <td>USER_00003</td>\n",
       "      <td>24.0</td>\n",
       "      <td>magdeburg, sachsen-anhalt, germany</td>\n",
       "    </tr>\n",
       "    <tr>\n",
       "      <th>34</th>\n",
       "      <td>USER_00004</td>\n",
       "      <td>35.0</td>\n",
       "      <td>new york, new york, usa</td>\n",
       "    </tr>\n",
       "  </tbody>\n",
       "</table>\n",
       "</div>"
      ],
      "text/plain": [
       "       User-ID   Age                            Location\n",
       "0   USER_00000  23.0    sackville, new brunswick, canada\n",
       "8   USER_00001  35.0    wake forest, north carolina, usa\n",
       "11  USER_00002  35.0         minneapolis, minnesota, usa\n",
       "12  USER_00003  24.0  magdeburg, sachsen-anhalt, germany\n",
       "34  USER_00004  35.0             new york, new york, usa"
      ]
     },
     "execution_count": 7,
     "metadata": {},
     "output_type": "execute_result"
    }
   ],
   "source": [
    "user_df = train_df[['User-ID', 'Age', 'Location']].drop_duplicates('User-ID', keep='first')\n",
    "print(user_df.shape)\n",
    "user_df.head()"
   ]
  },
  {
   "cell_type": "code",
   "execution_count": 8,
   "metadata": {},
   "outputs": [],
   "source": [
    "user_df['Country'] = user_df['Location'].apply(lambda x: x.split(',')[-1])"
   ]
  },
  {
   "cell_type": "code",
   "execution_count": 9,
   "metadata": {},
   "outputs": [
    {
     "data": {
      "text/plain": [
       "244"
      ]
     },
     "execution_count": 9,
     "metadata": {},
     "output_type": "execute_result"
    }
   ],
   "source": [
    "len(user_df['Country'].unique())"
   ]
  },
  {
   "cell_type": "code",
   "execution_count": 10,
   "metadata": {},
   "outputs": [],
   "source": [
    "import string\n",
    "\n",
    "# 제거할 문장부호\n",
    "punctuations = string.punctuation\n",
    "\n",
    "# 문장부호가 제거된 문자열을 반환하는 함수\n",
    "def remove_punctuations(text):\n",
    "    result = ''\n",
    "    if not pd.isna(text):\n",
    "        result = ''.join(char for char in text if char not in punctuations)\n",
    "    return result"
   ]
  },
  {
   "cell_type": "code",
   "execution_count": 11,
   "metadata": {},
   "outputs": [],
   "source": [
    "user_df['Country'] = user_df['Country'].str.strip().replace('', np.nan).replace('n/a', np.nan).replace('nan', np.nan)\n",
    "user_df['Country'] = user_df['Country'].apply(lambda x: remove_punctuations(x))\n",
    "user_df['Country'] = user_df['Country'].str.strip().replace('', np.nan)"
   ]
  },
  {
   "cell_type": "code",
   "execution_count": 12,
   "metadata": {},
   "outputs": [
    {
     "data": {
      "text/plain": [
       "Index(['usa', 'canada', 'germany', 'united kingdom', 'australia', 'spain',\n",
       "       'italy', 'france', 'new zealand', 'switzerland', 'netherlands',\n",
       "       'portugal', 'austria', 'malaysia', 'sweden', 'finland', 'ireland',\n",
       "       'singapore', 'brazil', 'belgium', 'denmark', 'argentina', 'philippines',\n",
       "       'mexico', 'japan', 'norway', 'israel', 'india', 'china', 'south africa',\n",
       "       'poland', 'greece', 'romania', 'south korea', 'luxembourg', 'turkey',\n",
       "       'hong kong', 'chile', 'costa rica', 'iran', 'slovenia',\n",
       "       'czech republic', 'iceland', 'indonesia', 'egypt', 'bulgaria',\n",
       "       'croatia', 'hungary', 'taiwan', 'united states', 'slovakia'],\n",
       "      dtype='object', name='Country')"
      ]
     },
     "execution_count": 12,
     "metadata": {},
     "output_type": "execute_result"
    }
   ],
   "source": [
    "countries = user_df['Country'].value_counts()[user_df['Country'].value_counts() > 10].index\n",
    "countries"
   ]
  },
  {
   "cell_type": "markdown",
   "metadata": {},
   "source": [
    "united states -> usa"
   ]
  },
  {
   "cell_type": "code",
   "execution_count": 13,
   "metadata": {},
   "outputs": [],
   "source": [
    "from sklearn.preprocessing import OneHotEncoder"
   ]
  },
  {
   "cell_type": "code",
   "execution_count": 14,
   "metadata": {},
   "outputs": [],
   "source": [
    "encoder = OneHotEncoder(categories=[list(countries.values)], handle_unknown='ignore')"
   ]
  },
  {
   "cell_type": "code",
   "execution_count": 15,
   "metadata": {},
   "outputs": [],
   "source": [
    "def preproc_location_to_country(location):\n",
    "    country = location.split(',')[-1].strip()\n",
    "    if not pd.isna(country):\n",
    "        if country in ['', 'n/a', 'nan']:\n",
    "            country = np.nan\n",
    "        country = remove_punctuations(country).strip()\n",
    "        if country in ['', 'n/a', 'nan']:\n",
    "            country = np.nan\n",
    "    return country"
   ]
  },
  {
   "cell_type": "code",
   "execution_count": 16,
   "metadata": {},
   "outputs": [],
   "source": [
    "train_df['Country'] = train_df['Location'].apply(lambda x: preproc_location_to_country(x))\n",
    "test_df['Country'] = test_df['Location'].apply(lambda x: preproc_location_to_country(x))"
   ]
  },
  {
   "cell_type": "code",
   "execution_count": 17,
   "metadata": {},
   "outputs": [
    {
     "data": {
      "text/plain": [
       "array([['canada'],\n",
       "       ['canada'],\n",
       "       ['canada'],\n",
       "       ...,\n",
       "       ['canada'],\n",
       "       ['usa'],\n",
       "       ['italy']], dtype=object)"
      ]
     },
     "execution_count": 17,
     "metadata": {},
     "output_type": "execute_result"
    }
   ],
   "source": [
    "train_df[['Country']].values"
   ]
  },
  {
   "cell_type": "code",
   "execution_count": 18,
   "metadata": {},
   "outputs": [
    {
     "data": {
      "text/plain": [
       "((871393, 51), (159621, 51))"
      ]
     },
     "execution_count": 18,
     "metadata": {},
     "output_type": "execute_result"
    }
   ],
   "source": [
    "train_countries = encoder.fit_transform(train_df[['Country']]).toarray()\n",
    "test_countries = encoder.transform(test_df[['Country']]).toarray()\n",
    "\n",
    "train_countries.shape, test_countries.shape"
   ]
  },
  {
   "cell_type": "markdown",
   "metadata": {},
   "source": [
    "## 도서 정보"
   ]
  },
  {
   "cell_type": "code",
   "execution_count": 19,
   "metadata": {},
   "outputs": [
    {
     "name": "stdout",
     "output_type": "stream",
     "text": [
      "(243441, 6)\n"
     ]
    },
    {
     "data": {
      "text/html": [
       "<div>\n",
       "<style scoped>\n",
       "    .dataframe tbody tr th:only-of-type {\n",
       "        vertical-align: middle;\n",
       "    }\n",
       "\n",
       "    .dataframe tbody tr th {\n",
       "        vertical-align: top;\n",
       "    }\n",
       "\n",
       "    .dataframe thead th {\n",
       "        text-align: right;\n",
       "    }\n",
       "</style>\n",
       "<table border=\"1\" class=\"dataframe\">\n",
       "  <thead>\n",
       "    <tr style=\"text-align: right;\">\n",
       "      <th></th>\n",
       "      <th>Book-ID</th>\n",
       "      <th>Book-Title</th>\n",
       "      <th>Book-Author</th>\n",
       "      <th>Year-Of-Publication</th>\n",
       "      <th>Publisher</th>\n",
       "      <th>Book-Rating</th>\n",
       "    </tr>\n",
       "  </thead>\n",
       "  <tbody>\n",
       "    <tr>\n",
       "      <th>0</th>\n",
       "      <td>BOOK_044368</td>\n",
       "      <td>Road Taken</td>\n",
       "      <td>Rona Jaffe</td>\n",
       "      <td>2001.0</td>\n",
       "      <td>Mira</td>\n",
       "      <td>8</td>\n",
       "    </tr>\n",
       "    <tr>\n",
       "      <th>1</th>\n",
       "      <td>BOOK_081205</td>\n",
       "      <td>Macbeth (New Penguin Shakespeare)</td>\n",
       "      <td>William Shakespeare</td>\n",
       "      <td>1981.0</td>\n",
       "      <td>Penguin Books</td>\n",
       "      <td>8</td>\n",
       "    </tr>\n",
       "    <tr>\n",
       "      <th>2</th>\n",
       "      <td>BOOK_086781</td>\n",
       "      <td>Waverley (Penguin English Library)</td>\n",
       "      <td>Walter Scott</td>\n",
       "      <td>1981.0</td>\n",
       "      <td>Penguin Books</td>\n",
       "      <td>0</td>\n",
       "    </tr>\n",
       "    <tr>\n",
       "      <th>3</th>\n",
       "      <td>BOOK_098622</td>\n",
       "      <td>Mother Earth Father Sky</td>\n",
       "      <td>Sue Harrison</td>\n",
       "      <td>1991.0</td>\n",
       "      <td>Avon</td>\n",
       "      <td>0</td>\n",
       "    </tr>\n",
       "    <tr>\n",
       "      <th>4</th>\n",
       "      <td>BOOK_180810</td>\n",
       "      <td>She Who Remembers</td>\n",
       "      <td>Linda Lay Shuler</td>\n",
       "      <td>1989.0</td>\n",
       "      <td>Signet Book</td>\n",
       "      <td>8</td>\n",
       "    </tr>\n",
       "  </tbody>\n",
       "</table>\n",
       "</div>"
      ],
      "text/plain": [
       "       Book-ID                          Book-Title          Book-Author   \n",
       "0  BOOK_044368                          Road Taken           Rona Jaffe  \\\n",
       "1  BOOK_081205   Macbeth (New Penguin Shakespeare)  William Shakespeare   \n",
       "2  BOOK_086781  Waverley (Penguin English Library)         Walter Scott   \n",
       "3  BOOK_098622             Mother Earth Father Sky         Sue Harrison   \n",
       "4  BOOK_180810                   She Who Remembers     Linda Lay Shuler   \n",
       "\n",
       "   Year-Of-Publication      Publisher  Book-Rating  \n",
       "0               2001.0           Mira            8  \n",
       "1               1981.0  Penguin Books            8  \n",
       "2               1981.0  Penguin Books            0  \n",
       "3               1991.0           Avon            0  \n",
       "4               1989.0    Signet Book            8  "
      ]
     },
     "execution_count": 19,
     "metadata": {},
     "output_type": "execute_result"
    }
   ],
   "source": [
    "book_df = train_df[['Book-ID', 'Book-Title', 'Book-Author', 'Year-Of-Publication', 'Publisher', 'Book-Rating']].drop_duplicates('Book-ID', keep='first')\n",
    "print(book_df.shape)\n",
    "book_df.head()"
   ]
  },
  {
   "cell_type": "markdown",
   "metadata": {},
   "source": [
    "## 10개 이상의 책이 있는 출판사"
   ]
  },
  {
   "cell_type": "code",
   "execution_count": 20,
   "metadata": {},
   "outputs": [
    {
     "data": {
      "text/plain": [
       "Index(['Harlequin', 'Silhouette', 'Pocket', 'Ballantine Books', 'Bantam Books',\n",
       "       'Scholastic', 'Simon &amp; Schuster', 'Penguin Books',\n",
       "       'Berkley Publishing Group', 'Warner Books',\n",
       "       ...\n",
       "       'Mondadori Italian', 'Perennial Dark Alley', 'Everest Pub',\n",
       "       'Second Story Press', 'Bobbs-Merrill', 'Scholastic Signature',\n",
       "       'Starscape', 'Vintage Books Canada', 'Robson Books Ltd',\n",
       "       'Black Swan Books, Limited'],\n",
       "      dtype='object', name='Publisher', length=2023)"
      ]
     },
     "execution_count": 20,
     "metadata": {},
     "output_type": "execute_result"
    }
   ],
   "source": [
    "publishers = book_df['Publisher'].value_counts()[book_df['Publisher'].value_counts() > 10].index\n",
    "publishers"
   ]
  },
  {
   "cell_type": "code",
   "execution_count": 21,
   "metadata": {},
   "outputs": [
    {
     "data": {
      "text/plain": [
       "((871393, 2023), (159621, 2023))"
      ]
     },
     "execution_count": 21,
     "metadata": {},
     "output_type": "execute_result"
    }
   ],
   "source": [
    "encoder = OneHotEncoder(categories=[list(publishers.values)], handle_unknown='ignore')\n",
    "\n",
    "train_publisher = encoder.fit_transform(train_df[['Publisher']]).toarray()\n",
    "test_publisher = encoder.transform(test_df[['Publisher']]).toarray()\n",
    "\n",
    "train_publisher.shape, test_publisher.shape"
   ]
  },
  {
   "attachments": {},
   "cell_type": "markdown",
   "metadata": {},
   "source": [
    "## 10개 이상의 책을 낸 작가"
   ]
  },
  {
   "cell_type": "code",
   "execution_count": 22,
   "metadata": {},
   "outputs": [
    {
     "data": {
      "text/plain": [
       "Index(['Agatha Christie', 'William Shakespeare', 'Stephen King',\n",
       "       'Ann M. Martin', 'Francine Pascal', 'Carolyn Keene', 'Isaac Asimov',\n",
       "       'Barbara Cartland', 'Nora Roberts', 'Charles Dickens', 'R. L. Stine',\n",
       "       'Not Applicable (Na )', 'Piers Anthony', 'Mark Twain',\n",
       "       'Marion Zimmer Bradley', 'Jane Austen', 'Terry Pratchett',\n",
       "       'Mary Higgins Clark', 'Franklin W. Dixon', 'Janet Dailey', 'Roald Dahl',\n",
       "       'Dick Francis', 'Anne McCaffrey', 'J. R. R. Tolkien', 'Tom Clancy',\n",
       "       'Nathaniel Hawthorne', 'John Steinbeck', 'Danielle Steel',\n",
       "       'Diana Palmer', 'Fern Michaels', 'Enid Blyton', 'Sandra Brown',\n",
       "       'Don Pendleton', 'Ed McBain', 'L. Frank Baum', 'R.L. Stine',\n",
       "       'Jim Davis', 'Jayne Ann Krentz', 'Andre Norton', 'Stan Berenstain',\n",
       "       'John Grisham', 'Elmore Leonard', 'James A. Michener', 'C. S. Lewis',\n",
       "       'Orson Scott Card', 'Robert Ludlum', 'Oscar Wilde',\n",
       "       'Robert Louis Stevenson', 'Beatrix Potter', 'Jack Canfield',\n",
       "       'Alan Dean Foster', 'Barbara Delinsky', 'Jude Deveraux', 'Henry James',\n",
       "       'Catherine Coulter', 'Clive Cussler', 'Linda Howard', 'Golden Books',\n",
       "       'Anne Rice', 'Thomas Hardy', 'Louisa May Alcott', 'Louis L'Amour',\n",
       "       'Georges Simenon', 'Ken Follett', 'Ray Bradbury', 'Jack London',\n",
       "       'Margaret Weis', 'Robert A. Heinlein', 'Larry Niven',\n",
       "       'Lawrence Sanders', 'James Patterson', 'Ruth Rendell', 'Betty Neels',\n",
       "       'Edith Wharton', 'Beverly Cleary', 'Robin Cook', 'Lewis Carroll',\n",
       "       'Ursula K. Le Guin', 'Frank Herbert', 'Joyce Carol Oates',\n",
       "       'Robert Silverberg', 'Rudyard Kipling', 'Ellis Peters',\n",
       "       'Edgar Allan Poe', 'Christopher Pike'],\n",
       "      dtype='object', name='Book-Author')"
      ]
     },
     "execution_count": 22,
     "metadata": {},
     "output_type": "execute_result"
    }
   ],
   "source": [
    "authors = book_df['Book-Author'].value_counts()[book_df['Book-Author'].value_counts() > 100].index\n",
    "authors"
   ]
  },
  {
   "cell_type": "code",
   "execution_count": 23,
   "metadata": {},
   "outputs": [
    {
     "data": {
      "text/plain": [
       "((871393, 85), (159621, 85))"
      ]
     },
     "execution_count": 23,
     "metadata": {},
     "output_type": "execute_result"
    }
   ],
   "source": [
    "encoder = OneHotEncoder(categories=[list(authors.values)], handle_unknown='ignore')\n",
    "\n",
    "train_author = encoder.fit_transform(train_df[['Book-Author']]).toarray()\n",
    "test_author = encoder.transform(test_df[['Book-Author']]).toarray()\n",
    "\n",
    "train_author.shape, test_author.shape"
   ]
  },
  {
   "attachments": {},
   "cell_type": "markdown",
   "metadata": {},
   "source": [
    "## 책 제목 임베딩"
   ]
  },
  {
   "cell_type": "markdown",
   "metadata": {},
   "source": [
    "## 단어 토큰화"
   ]
  },
  {
   "cell_type": "code",
   "execution_count": 24,
   "metadata": {},
   "outputs": [],
   "source": [
    "import nltk\n",
    "from nltk.tokenize import sent_tokenize\n",
    "from nltk.tokenize import word_tokenize\n",
    "from nltk.tokenize import RegexpTokenizer\n",
    "from nltk.corpus import stopwords\n",
    "from nltk.stem import PorterStemmer"
   ]
  },
  {
   "cell_type": "code",
   "execution_count": 25,
   "metadata": {},
   "outputs": [],
   "source": [
    "def preproc_title(title):\n",
    "    # remove noise\n",
    "    tokenizer = RegexpTokenizer(\"[\\w']+\")\n",
    "    tokens = tokenizer.tokenize(title.lower())\n",
    "    # print(tokens)\n",
    "\n",
    "    # remove stopwords\n",
    "    english_stops = set(stopwords.words('english'))\n",
    "    result = [word for word in tokens if word not in english_stops]\n",
    "    # print(result)\n",
    "    \n",
    "    # stemming\n",
    "    stemmer = PorterStemmer()\n",
    "    stemmed_result = [stemmer.stem(token) for token in result]\n",
    "    # print(stemmed_result)\n",
    "    \n",
    "    return stemmed_result\n"
   ]
  },
  {
   "cell_type": "code",
   "execution_count": 26,
   "metadata": {},
   "outputs": [
    {
     "name": "stderr",
     "output_type": "stream",
     "text": [
      "100%|██████████| 871393/871393 [02:48<00:00, 5160.47it/s]\n"
     ]
    }
   ],
   "source": [
    "train_titles = []\n",
    "for title in tqdm(train_df['Book-Title']):\n",
    "    train_titles.append(preproc_title(title))"
   ]
  },
  {
   "cell_type": "code",
   "execution_count": 27,
   "metadata": {},
   "outputs": [
    {
     "name": "stderr",
     "output_type": "stream",
     "text": [
      "100%|██████████| 159621/159621 [00:31<00:00, 5091.81it/s]\n"
     ]
    }
   ],
   "source": [
    "test_titles = []\n",
    "for title in tqdm(test_df['Book-Title']):\n",
    "    test_titles.append(preproc_title(title))"
   ]
  },
  {
   "cell_type": "code",
   "execution_count": 28,
   "metadata": {},
   "outputs": [
    {
     "name": "stderr",
     "output_type": "stream",
     "text": [
      "2023-05-07 13:16:27.106342: I tensorflow/core/platform/cpu_feature_guard.cc:193] This TensorFlow binary is optimized with oneAPI Deep Neural Network Library (oneDNN) to use the following CPU instructions in performance-critical operations:  AVX2 AVX512F AVX512_VNNI FMA\n",
      "To enable them in other operations, rebuild TensorFlow with the appropriate compiler flags.\n",
      "2023-05-07 13:16:28.704958: I tensorflow/core/util/port.cc:104] oneDNN custom operations are on. You may see slightly different numerical results due to floating-point round-off errors from different computation orders. To turn them off, set the environment variable `TF_ENABLE_ONEDNN_OPTS=0`.\n",
      "2023-05-07 13:16:34.334122: W tensorflow/compiler/xla/stream_executor/platform/default/dso_loader.cc:64] Could not load dynamic library 'libnvinfer.so.7'; dlerror: libnvinfer.so.7: cannot open shared object file: No such file or directory; LD_LIBRARY_PATH: /usr/local/cuda/lib64:/usr/local/nccl2/lib:/usr/local/cuda/extras/CUPTI/lib64:/usr/local/cuda/lib64:/usr/local/nccl2/lib:/usr/local/cuda/extras/CUPTI/lib64\n",
      "2023-05-07 13:16:34.335184: W tensorflow/compiler/xla/stream_executor/platform/default/dso_loader.cc:64] Could not load dynamic library 'libnvinfer_plugin.so.7'; dlerror: libnvinfer_plugin.so.7: cannot open shared object file: No such file or directory; LD_LIBRARY_PATH: /usr/local/cuda/lib64:/usr/local/nccl2/lib:/usr/local/cuda/extras/CUPTI/lib64:/usr/local/cuda/lib64:/usr/local/nccl2/lib:/usr/local/cuda/extras/CUPTI/lib64\n",
      "2023-05-07 13:16:34.335201: W tensorflow/compiler/tf2tensorrt/utils/py_utils.cc:38] TF-TRT Warning: Cannot dlopen some TensorRT libraries. If you would like to use Nvidia GPU with TensorRT, please make sure the missing libraries mentioned above are installed properly.\n"
     ]
    }
   ],
   "source": [
    "from tensorflow.keras.preprocessing.text import Tokenizer\n",
    "from tensorflow.keras.preprocessing.sequence import pad_sequences"
   ]
  },
  {
   "cell_type": "code",
   "execution_count": 30,
   "metadata": {},
   "outputs": [],
   "source": [
    "max_words = 300\n",
    "maxlen = 40\n",
    "\n",
    "tokenizer = Tokenizer(num_words=max_words, oov_token='UNK')\n",
    "tokenizer.fit_on_texts(train_titles)\n"
   ]
  },
  {
   "cell_type": "code",
   "execution_count": 31,
   "metadata": {},
   "outputs": [],
   "source": [
    "train_title = tokenizer.texts_to_sequences(train_titles)\n",
    "train_title = pad_sequences(train_title, maxlen=maxlen, truncating='pre')"
   ]
  },
  {
   "cell_type": "code",
   "execution_count": 33,
   "metadata": {},
   "outputs": [],
   "source": [
    "test_title = tokenizer.texts_to_sequences(test_titles)\n",
    "test_title = pad_sequences(test_title, maxlen=maxlen, truncating='pre')"
   ]
  },
  {
   "cell_type": "code",
   "execution_count": 34,
   "metadata": {},
   "outputs": [
    {
     "data": {
      "text/plain": [
       "((871393, 40), (159621, 40))"
      ]
     },
     "execution_count": 34,
     "metadata": {},
     "output_type": "execute_result"
    }
   ],
   "source": [
    "train_title.shape, test_title.shape"
   ]
  },
  {
   "cell_type": "markdown",
   "metadata": {},
   "source": [
    "위와 같은 과정이 필요하다. train, test 모두"
   ]
  },
  {
   "cell_type": "markdown",
   "metadata": {},
   "source": [
    "# define train test data"
   ]
  },
  {
   "cell_type": "code",
   "execution_count": 38,
   "metadata": {},
   "outputs": [
    {
     "data": {
      "text/plain": [
       "(871393, 2200)"
      ]
     },
     "execution_count": 38,
     "metadata": {},
     "output_type": "execute_result"
    }
   ],
   "source": [
    "train_X = np.concatenate([train_df[['Age_scaled']].values, train_countries, train_author, train_publisher, train_title], axis=-1)\n",
    "train_X.shape"
   ]
  },
  {
   "cell_type": "code",
   "execution_count": 40,
   "metadata": {},
   "outputs": [
    {
     "data": {
      "text/plain": [
       "(159621, 2200)"
      ]
     },
     "execution_count": 40,
     "metadata": {},
     "output_type": "execute_result"
    }
   ],
   "source": [
    "test_X = np.concatenate([test_df[['Age_scaled']].values, test_countries, test_author, test_publisher, test_title], axis=-1)\n",
    "test_X.shape"
   ]
  },
  {
   "cell_type": "code",
   "execution_count": 44,
   "metadata": {},
   "outputs": [],
   "source": [
    "train_y = train_df[['Book-Rating']].values"
   ]
  },
  {
   "cell_type": "markdown",
   "metadata": {},
   "source": [
    "# Train models"
   ]
  },
  {
   "cell_type": "code",
   "execution_count": 42,
   "metadata": {},
   "outputs": [],
   "source": [
    "import tensorflow as tf"
   ]
  },
  {
   "cell_type": "code",
   "execution_count": 50,
   "metadata": {},
   "outputs": [],
   "source": [
    "def build_custom_model(input_dims, alpha):\n",
    "    # define input tensor\n",
    "    input_layer = tf.keras.Input(shape=input_dims, dtype=tf.float32)\n",
    "\n",
    "    # hidden layer\n",
    "    x = tf.keras.layers.Dense(\n",
    "        1024, activation='relu', \n",
    "        kernel_regularizer=tf.keras.regularizers.l2(alpha))(input_layer)\n",
    "\n",
    "    # hidden layer\n",
    "    x = tf.keras.layers.Dense(\n",
    "        256, activation='relu',\n",
    "        kernel_regularizer=tf.keras.regularizers.l2(alpha))(x)\n",
    "\n",
    "    # hidden layer\n",
    "    x = tf.keras.layers.Dense(\n",
    "        32, activation='relu',\n",
    "        kernel_regularizer=tf.keras.regularizers.l2(alpha))(x)\n",
    "    \n",
    "    # output layer\n",
    "    x = tf.keras.layers.Dense(1, activation='linear')(x)\n",
    "\n",
    "    model = tf.keras.Model(input_layer, x)\n",
    "\n",
    "    return model"
   ]
  },
  {
   "cell_type": "code",
   "execution_count": 51,
   "metadata": {},
   "outputs": [],
   "source": [
    "learning_rate = 0.001\n",
    "batch_size = 1000\n",
    "epochs = 100\n",
    "alpha = 0.005"
   ]
  },
  {
   "cell_type": "code",
   "execution_count": 56,
   "metadata": {},
   "outputs": [
    {
     "name": "stdout",
     "output_type": "stream",
     "text": [
      "INFO:tensorflow:Using MirroredStrategy with devices ('/job:localhost/replica:0/task:0/device:GPU:0',)\n",
      "INFO:tensorflow:Reduce to /job:localhost/replica:0/task:0/device:CPU:0 then broadcast to ('/job:localhost/replica:0/task:0/device:CPU:0',).\n",
      "INFO:tensorflow:Reduce to /job:localhost/replica:0/task:0/device:CPU:0 then broadcast to ('/job:localhost/replica:0/task:0/device:CPU:0',).\n",
      "INFO:tensorflow:Reduce to /job:localhost/replica:0/task:0/device:CPU:0 then broadcast to ('/job:localhost/replica:0/task:0/device:CPU:0',).\n",
      "INFO:tensorflow:Reduce to /job:localhost/replica:0/task:0/device:CPU:0 then broadcast to ('/job:localhost/replica:0/task:0/device:CPU:0',).\n"
     ]
    }
   ],
   "source": [
    "mirrored_strategy = tf.distribute.MirroredStrategy()\n",
    "\n",
    "with mirrored_strategy.scope():\n",
    "    model = build_custom_model(input_dims=train_X.shape[1:], alpha=alpha)\n",
    "\n",
    "    # define optimizer Adam\n",
    "    optimizer = tf.keras.optimizers.Adam(learning_rate=learning_rate)\n",
    "\n",
    "    # model compile\n",
    "    model.compile(optimizer=optimizer, loss='mse', metrics='mse')"
   ]
  },
  {
   "cell_type": "code",
   "execution_count": 57,
   "metadata": {},
   "outputs": [
    {
     "name": "stdout",
     "output_type": "stream",
     "text": [
      "Model: \"model_1\"\n",
      "_________________________________________________________________\n",
      " Layer (type)                Output Shape              Param #   \n",
      "=================================================================\n",
      " input_4 (InputLayer)        [(None, 2200)]            0         \n",
      "                                                                 \n",
      " dense_9 (Dense)             (None, 1024)              2253824   \n",
      "                                                                 \n",
      " dense_10 (Dense)            (None, 256)               262400    \n",
      "                                                                 \n",
      " dense_11 (Dense)            (None, 32)                8224      \n",
      "                                                                 \n",
      " dense_12 (Dense)            (None, 1)                 33        \n",
      "                                                                 \n",
      "=================================================================\n",
      "Total params: 2,524,481\n",
      "Trainable params: 2,524,481\n",
      "Non-trainable params: 0\n",
      "_________________________________________________________________\n"
     ]
    }
   ],
   "source": [
    "model.summary()"
   ]
  },
  {
   "cell_type": "code",
   "execution_count": 58,
   "metadata": {},
   "outputs": [
    {
     "name": "stdout",
     "output_type": "stream",
     "text": [
      "Epoch 1/100\n",
      "INFO:tensorflow:Reduce to /job:localhost/replica:0/task:0/device:CPU:0 then broadcast to ('/job:localhost/replica:0/task:0/device:CPU:0',).\n",
      "INFO:tensorflow:Reduce to /job:localhost/replica:0/task:0/device:CPU:0 then broadcast to ('/job:localhost/replica:0/task:0/device:CPU:0',).\n"
     ]
    },
    {
     "name": "stderr",
     "output_type": "stream",
     "text": [
      "2023-05-07 13:27:56.855314: I tensorflow/compiler/xla/stream_executor/cuda/cuda_blas.cc:630] TensorFloat-32 will be used for the matrix multiplication. This will only be logged once.\n"
     ]
    },
    {
     "name": "stdout",
     "output_type": "stream",
     "text": [
      "785/785 [==============================] - 18s 11ms/step - loss: 16.9356 - mse: 15.2493 - val_loss: 16.4847 - val_mse: 15.4489\n",
      "Epoch 2/100\n",
      "785/785 [==============================] - 5s 7ms/step - loss: 15.6009 - mse: 14.8574 - val_loss: 15.2932 - val_mse: 14.7736\n",
      "Epoch 3/100\n",
      "785/785 [==============================] - 6s 7ms/step - loss: 15.1707 - mse: 14.7829 - val_loss: 15.0620 - val_mse: 14.7798\n",
      "Epoch 4/100\n",
      "785/785 [==============================] - 5s 7ms/step - loss: 14.9579 - mse: 14.7380 - val_loss: 14.8116 - val_mse: 14.6399\n",
      "Epoch 5/100\n",
      "785/785 [==============================] - 5s 7ms/step - loss: 14.8056 - mse: 14.6583 - val_loss: 14.8111 - val_mse: 14.6805\n",
      "Epoch 6/100\n",
      "785/785 [==============================] - 5s 7ms/step - loss: 14.7139 - mse: 14.5909 - val_loss: 14.6555 - val_mse: 14.5348\n",
      "Epoch 7/100\n",
      "785/785 [==============================] - 6s 7ms/step - loss: 14.6539 - mse: 14.5362 - val_loss: 14.5585 - val_mse: 14.4428\n",
      "Epoch 8/100\n",
      "785/785 [==============================] - 5s 7ms/step - loss: 14.6230 - mse: 14.5075 - val_loss: 14.6208 - val_mse: 14.5073\n",
      "Epoch 9/100\n",
      "785/785 [==============================] - 5s 7ms/step - loss: 14.6017 - mse: 14.4864 - val_loss: 14.5081 - val_mse: 14.3956\n",
      "Epoch 10/100\n",
      "785/785 [==============================] - 5s 7ms/step - loss: 14.5785 - mse: 14.4656 - val_loss: 14.5558 - val_mse: 14.4451\n",
      "Epoch 11/100\n",
      "785/785 [==============================] - 6s 7ms/step - loss: 14.5751 - mse: 14.4627 - val_loss: 14.5240 - val_mse: 14.4128\n",
      "Epoch 12/100\n",
      "785/785 [==============================] - 5s 7ms/step - loss: 14.5639 - mse: 14.4528 - val_loss: 14.5488 - val_mse: 14.4401\n",
      "Epoch 13/100\n",
      "785/785 [==============================] - 5s 7ms/step - loss: 14.5507 - mse: 14.4408 - val_loss: 14.5269 - val_mse: 14.4194\n",
      "Epoch 14/100\n",
      "785/785 [==============================] - 5s 7ms/step - loss: 14.5522 - mse: 14.4435 - val_loss: 14.5432 - val_mse: 14.4360\n",
      "Epoch 15/100\n",
      "785/785 [==============================] - 5s 7ms/step - loss: 14.5530 - mse: 14.4454 - val_loss: 14.5779 - val_mse: 14.4716\n",
      "Epoch 16/100\n",
      "785/785 [==============================] - 5s 7ms/step - loss: 14.5465 - mse: 14.4397 - val_loss: 14.5537 - val_mse: 14.4471\n",
      "Epoch 17/100\n",
      "785/785 [==============================] - 6s 7ms/step - loss: 14.5415 - mse: 14.4361 - val_loss: 14.5270 - val_mse: 14.4233\n",
      "Epoch 18/100\n",
      "785/785 [==============================] - 5s 7ms/step - loss: 14.5402 - mse: 14.4370 - val_loss: 14.5345 - val_mse: 14.4323\n",
      "Epoch 19/100\n",
      "785/785 [==============================] - 5s 7ms/step - loss: 14.5292 - mse: 14.4267 - val_loss: 14.5511 - val_mse: 14.4503\n",
      "Epoch 20/100\n",
      "785/785 [==============================] - 6s 7ms/step - loss: 14.5343 - mse: 14.4332 - val_loss: 14.5384 - val_mse: 14.4376\n",
      "Epoch 21/100\n",
      "785/785 [==============================] - 6s 7ms/step - loss: 14.5386 - mse: 14.4370 - val_loss: 14.5410 - val_mse: 14.4409\n",
      "Epoch 22/100\n",
      "785/785 [==============================] - 6s 7ms/step - loss: 14.5360 - mse: 14.4354 - val_loss: 14.4942 - val_mse: 14.3963\n",
      "Epoch 23/100\n",
      "785/785 [==============================] - 5s 7ms/step - loss: 14.5342 - mse: 14.4352 - val_loss: 14.5452 - val_mse: 14.4481\n",
      "Epoch 24/100\n",
      "785/785 [==============================] - 6s 7ms/step - loss: 14.5318 - mse: 14.4345 - val_loss: 14.5203 - val_mse: 14.4218\n",
      "Epoch 25/100\n",
      "785/785 [==============================] - 6s 7ms/step - loss: 14.5333 - mse: 14.4360 - val_loss: 14.5513 - val_mse: 14.4556\n",
      "Epoch 26/100\n",
      "785/785 [==============================] - 5s 7ms/step - loss: 14.5292 - mse: 14.4324 - val_loss: 14.5857 - val_mse: 14.4900\n",
      "Epoch 27/100\n",
      "785/785 [==============================] - 6s 7ms/step - loss: 14.5279 - mse: 14.4314 - val_loss: 14.4866 - val_mse: 14.3927\n",
      "Epoch 28/100\n",
      "785/785 [==============================] - 5s 7ms/step - loss: 14.5248 - mse: 14.4306 - val_loss: 14.4877 - val_mse: 14.3940\n",
      "Epoch 29/100\n",
      "785/785 [==============================] - 6s 7ms/step - loss: 14.5257 - mse: 14.4311 - val_loss: 14.5528 - val_mse: 14.4571\n",
      "Epoch 30/100\n",
      "785/785 [==============================] - 5s 7ms/step - loss: 14.5218 - mse: 14.4281 - val_loss: 14.5321 - val_mse: 14.4378\n",
      "Epoch 31/100\n",
      "785/785 [==============================] - 6s 7ms/step - loss: 14.5215 - mse: 14.4284 - val_loss: 14.4963 - val_mse: 14.4055\n",
      "Epoch 32/100\n",
      "785/785 [==============================] - 5s 7ms/step - loss: 14.5177 - mse: 14.4259 - val_loss: 14.4923 - val_mse: 14.4010\n",
      "Epoch 33/100\n",
      "785/785 [==============================] - 6s 7ms/step - loss: 14.5177 - mse: 14.4258 - val_loss: 14.5427 - val_mse: 14.4514\n",
      "Epoch 34/100\n",
      "785/785 [==============================] - 6s 7ms/step - loss: 14.5182 - mse: 14.4261 - val_loss: 14.4839 - val_mse: 14.3933\n",
      "Epoch 35/100\n",
      "785/785 [==============================] - 6s 7ms/step - loss: 14.5167 - mse: 14.4259 - val_loss: 14.4974 - val_mse: 14.4079\n",
      "Epoch 36/100\n",
      "785/785 [==============================] - 5s 7ms/step - loss: 14.5158 - mse: 14.4257 - val_loss: 14.4914 - val_mse: 14.4018\n",
      "Epoch 37/100\n",
      "785/785 [==============================] - 6s 7ms/step - loss: 14.5154 - mse: 14.4259 - val_loss: 14.4979 - val_mse: 14.4086\n",
      "Epoch 38/100\n",
      "785/785 [==============================] - 5s 7ms/step - loss: 14.5114 - mse: 14.4219 - val_loss: 14.5539 - val_mse: 14.4661\n",
      "Epoch 39/100\n",
      "785/785 [==============================] - 6s 7ms/step - loss: 14.5160 - mse: 14.4268 - val_loss: 14.5902 - val_mse: 14.5022\n",
      "Epoch 40/100\n",
      "785/785 [==============================] - 6s 7ms/step - loss: 14.5166 - mse: 14.4276 - val_loss: 14.4683 - val_mse: 14.3798\n",
      "Epoch 41/100\n",
      "785/785 [==============================] - 6s 7ms/step - loss: 14.5143 - mse: 14.4250 - val_loss: 14.4928 - val_mse: 14.4043\n",
      "Epoch 42/100\n",
      "785/785 [==============================] - 6s 7ms/step - loss: 14.5164 - mse: 14.4274 - val_loss: 14.4960 - val_mse: 14.4082\n",
      "Epoch 43/100\n",
      "785/785 [==============================] - 6s 7ms/step - loss: 14.5112 - mse: 14.4234 - val_loss: 14.5097 - val_mse: 14.4225\n",
      "Epoch 44/100\n",
      "785/785 [==============================] - 6s 7ms/step - loss: 14.5119 - mse: 14.4248 - val_loss: 14.4766 - val_mse: 14.3894\n",
      "Epoch 45/100\n",
      "785/785 [==============================] - 6s 7ms/step - loss: 14.5145 - mse: 14.4266 - val_loss: 14.5005 - val_mse: 14.4127\n",
      "Epoch 46/100\n",
      "785/785 [==============================] - 6s 7ms/step - loss: 14.5107 - mse: 14.4230 - val_loss: 14.4776 - val_mse: 14.3903\n",
      "Epoch 47/100\n",
      "785/785 [==============================] - 6s 7ms/step - loss: 14.5055 - mse: 14.4183 - val_loss: 14.5769 - val_mse: 14.4899\n",
      "Epoch 48/100\n",
      "785/785 [==============================] - 6s 7ms/step - loss: 14.5122 - mse: 14.4253 - val_loss: 14.6495 - val_mse: 14.5627\n",
      "Epoch 49/100\n",
      "785/785 [==============================] - 6s 7ms/step - loss: 14.5101 - mse: 14.4232 - val_loss: 14.4791 - val_mse: 14.3939\n",
      "Epoch 50/100\n",
      "785/785 [==============================] - 5s 7ms/step - loss: 14.5135 - mse: 14.4274 - val_loss: 14.4720 - val_mse: 14.3868\n",
      "Epoch 51/100\n",
      "785/785 [==============================] - 6s 7ms/step - loss: 14.5104 - mse: 14.4243 - val_loss: 14.5595 - val_mse: 14.4743\n",
      "Epoch 52/100\n",
      "785/785 [==============================] - 6s 7ms/step - loss: 14.5095 - mse: 14.4238 - val_loss: 14.5026 - val_mse: 14.4178\n",
      "Epoch 53/100\n",
      "785/785 [==============================] - 6s 7ms/step - loss: 14.5070 - mse: 14.4219 - val_loss: 14.4726 - val_mse: 14.3885\n",
      "Epoch 54/100\n",
      "785/785 [==============================] - 5s 7ms/step - loss: 14.5113 - mse: 14.4263 - val_loss: 14.4968 - val_mse: 14.4124\n",
      "Epoch 55/100\n",
      "785/785 [==============================] - 6s 7ms/step - loss: 14.5031 - mse: 14.4180 - val_loss: 14.5412 - val_mse: 14.4569\n",
      "Epoch 56/100\n",
      "785/785 [==============================] - 6s 7ms/step - loss: 14.5019 - mse: 14.4172 - val_loss: 14.4943 - val_mse: 14.4104\n",
      "Epoch 57/100\n",
      "785/785 [==============================] - 6s 7ms/step - loss: 14.5061 - mse: 14.4211 - val_loss: 14.5018 - val_mse: 14.4173\n",
      "Epoch 58/100\n",
      "785/785 [==============================] - 6s 7ms/step - loss: 14.5082 - mse: 14.4233 - val_loss: 14.4682 - val_mse: 14.3844\n",
      "Epoch 59/100\n",
      "785/785 [==============================] - 6s 7ms/step - loss: 14.5069 - mse: 14.4221 - val_loss: 14.5208 - val_mse: 14.4378\n",
      "Epoch 60/100\n",
      "785/785 [==============================] - 5s 7ms/step - loss: 14.5073 - mse: 14.4226 - val_loss: 14.4629 - val_mse: 14.3794\n",
      "Epoch 61/100\n",
      "785/785 [==============================] - 6s 7ms/step - loss: 14.5078 - mse: 14.4236 - val_loss: 14.4897 - val_mse: 14.4058\n",
      "Epoch 62/100\n",
      "785/785 [==============================] - 6s 7ms/step - loss: 14.5044 - mse: 14.4205 - val_loss: 14.5201 - val_mse: 14.4362\n",
      "Epoch 63/100\n",
      "785/785 [==============================] - 6s 7ms/step - loss: 14.5078 - mse: 14.4234 - val_loss: 14.4594 - val_mse: 14.3760\n",
      "Epoch 64/100\n",
      "785/785 [==============================] - 6s 7ms/step - loss: 14.5058 - mse: 14.4212 - val_loss: 14.5168 - val_mse: 14.4341\n",
      "Epoch 65/100\n",
      "785/785 [==============================] - 6s 7ms/step - loss: 14.4993 - mse: 14.4152 - val_loss: 14.5325 - val_mse: 14.4483\n",
      "Epoch 66/100\n",
      "785/785 [==============================] - 6s 7ms/step - loss: 14.5051 - mse: 14.4203 - val_loss: 14.5207 - val_mse: 14.4370\n",
      "Epoch 67/100\n",
      "785/785 [==============================] - 6s 7ms/step - loss: 14.5122 - mse: 14.4282 - val_loss: 14.4881 - val_mse: 14.4055\n",
      "Epoch 68/100\n",
      "785/785 [==============================] - 6s 7ms/step - loss: 14.5032 - mse: 14.4194 - val_loss: 14.4719 - val_mse: 14.3883\n",
      "Epoch 69/100\n",
      "785/785 [==============================] - 6s 7ms/step - loss: 14.5013 - mse: 14.4170 - val_loss: 14.4609 - val_mse: 14.3768\n",
      "Epoch 70/100\n",
      "785/785 [==============================] - 6s 7ms/step - loss: 14.4955 - mse: 14.4112 - val_loss: 14.5004 - val_mse: 14.4171\n",
      "Epoch 71/100\n",
      "785/785 [==============================] - 6s 7ms/step - loss: 14.5066 - mse: 14.4230 - val_loss: 14.5223 - val_mse: 14.4383\n",
      "Epoch 72/100\n",
      "785/785 [==============================] - 6s 7ms/step - loss: 14.4978 - mse: 14.4136 - val_loss: 14.4943 - val_mse: 14.4110\n",
      "Epoch 73/100\n",
      "785/785 [==============================] - 6s 7ms/step - loss: 14.5058 - mse: 14.4221 - val_loss: 14.4848 - val_mse: 14.4017\n",
      "Epoch 74/100\n",
      "785/785 [==============================] - 5s 7ms/step - loss: 14.4976 - mse: 14.4138 - val_loss: 14.4973 - val_mse: 14.4146\n",
      "Epoch 75/100\n",
      "785/785 [==============================] - 6s 7ms/step - loss: 14.5001 - mse: 14.4169 - val_loss: 14.4502 - val_mse: 14.3673\n",
      "Epoch 76/100\n",
      "785/785 [==============================] - 6s 7ms/step - loss: 14.4992 - mse: 14.4158 - val_loss: 14.4930 - val_mse: 14.4101\n",
      "Epoch 77/100\n",
      "785/785 [==============================] - 6s 7ms/step - loss: 14.5003 - mse: 14.4169 - val_loss: 14.4971 - val_mse: 14.4144\n",
      "Epoch 78/100\n",
      "785/785 [==============================] - 5s 7ms/step - loss: 14.5018 - mse: 14.4187 - val_loss: 14.4797 - val_mse: 14.3977\n",
      "Epoch 79/100\n",
      "785/785 [==============================] - 5s 7ms/step - loss: 14.5058 - mse: 14.4230 - val_loss: 14.4778 - val_mse: 14.3959\n",
      "Epoch 80/100\n",
      "785/785 [==============================] - 6s 7ms/step - loss: 14.5033 - mse: 14.4210 - val_loss: 14.4698 - val_mse: 14.3883\n",
      "Epoch 81/100\n",
      "785/785 [==============================] - 5s 7ms/step - loss: 14.5017 - mse: 14.4193 - val_loss: 14.4655 - val_mse: 14.3836\n",
      "Epoch 82/100\n",
      "785/785 [==============================] - 5s 7ms/step - loss: 14.4983 - mse: 14.4159 - val_loss: 14.4861 - val_mse: 14.4040\n",
      "Epoch 83/100\n",
      "785/785 [==============================] - 5s 7ms/step - loss: 14.4983 - mse: 14.4158 - val_loss: 14.4667 - val_mse: 14.3842\n",
      "Epoch 84/100\n",
      "785/785 [==============================] - 5s 7ms/step - loss: 14.5028 - mse: 14.4197 - val_loss: 14.5652 - val_mse: 14.4830\n",
      "Epoch 85/100\n",
      "785/785 [==============================] - 5s 7ms/step - loss: 14.5023 - mse: 14.4193 - val_loss: 14.5197 - val_mse: 14.4373\n",
      "Epoch 86/100\n",
      "785/785 [==============================] - 6s 7ms/step - loss: 14.4946 - mse: 14.4118 - val_loss: 14.5812 - val_mse: 14.4990\n",
      "Epoch 87/100\n",
      "785/785 [==============================] - 6s 7ms/step - loss: 14.5039 - mse: 14.4211 - val_loss: 14.5397 - val_mse: 14.4584\n",
      "Epoch 88/100\n",
      "785/785 [==============================] - 5s 7ms/step - loss: 14.4990 - mse: 14.4168 - val_loss: 14.4911 - val_mse: 14.4097\n",
      "Epoch 89/100\n",
      "785/785 [==============================] - 5s 7ms/step - loss: 14.5036 - mse: 14.4215 - val_loss: 14.4843 - val_mse: 14.4028\n",
      "Epoch 90/100\n",
      "785/785 [==============================] - 6s 7ms/step - loss: 14.4977 - mse: 14.4157 - val_loss: 14.4559 - val_mse: 14.3742\n",
      "Epoch 91/100\n",
      "785/785 [==============================] - 5s 7ms/step - loss: 14.5030 - mse: 14.4210 - val_loss: 14.4839 - val_mse: 14.4021\n",
      "Epoch 92/100\n",
      "785/785 [==============================] - 5s 7ms/step - loss: 14.4980 - mse: 14.4158 - val_loss: 14.6033 - val_mse: 14.5215\n",
      "Epoch 93/100\n",
      "785/785 [==============================] - 6s 7ms/step - loss: 14.4957 - mse: 14.4134 - val_loss: 14.4895 - val_mse: 14.4075\n",
      "Epoch 94/100\n",
      "785/785 [==============================] - 5s 7ms/step - loss: 14.4970 - mse: 14.4147 - val_loss: 14.5322 - val_mse: 14.4502\n",
      "Epoch 95/100\n",
      "785/785 [==============================] - 5s 7ms/step - loss: 14.4945 - mse: 14.4123 - val_loss: 14.5083 - val_mse: 14.4270\n",
      "Epoch 96/100\n",
      "785/785 [==============================] - 5s 7ms/step - loss: 14.4978 - mse: 14.4157 - val_loss: 14.6029 - val_mse: 14.5211\n",
      "Epoch 97/100\n",
      "785/785 [==============================] - 5s 7ms/step - loss: 14.5023 - mse: 14.4198 - val_loss: 14.4997 - val_mse: 14.4182\n",
      "Epoch 98/100\n",
      "785/785 [==============================] - 6s 7ms/step - loss: 14.4942 - mse: 14.4121 - val_loss: 14.5314 - val_mse: 14.4505\n",
      "Epoch 99/100\n",
      "785/785 [==============================] - 5s 7ms/step - loss: 14.5025 - mse: 14.4209 - val_loss: 14.5008 - val_mse: 14.4193\n",
      "Epoch 100/100\n",
      "785/785 [==============================] - 5s 7ms/step - loss: 14.4950 - mse: 14.4132 - val_loss: 14.5466 - val_mse: 14.4648\n"
     ]
    }
   ],
   "source": [
    "history = model.fit(train_X, train_y, validation_split=.1, epochs=epochs, batch_size=batch_size)"
   ]
  },
  {
   "cell_type": "code",
   "execution_count": 60,
   "metadata": {},
   "outputs": [
    {
     "data": {
      "image/png": "[encoded data removed]",
      "text/plain": [
       "<Figure size 640x480 with 1 Axes>"
      ]
     },
     "metadata": {},
     "output_type": "display_data"
    }
   ],
   "source": [
    "import matplotlib.pyplot as plt\n",
    "\n",
    "plt.plot(history.history['loss'])\n",
    "plt.plot(history.history['val_loss'])\n",
    "plt.show()"
   ]
  },
  {
   "cell_type": "code",
   "execution_count": 61,
   "metadata": {},
   "outputs": [
    {
     "name": "stdout",
     "output_type": "stream",
     "text": [
      "27232/27232 [==============================] - 58s 2ms/step\n"
     ]
    },
    {
     "data": {
      "text/plain": [
       "array([[2.054266 ],\n",
       "       [4.036036 ],\n",
       "       [3.3141494],\n",
       "       ...,\n",
       "       [5.0709248],\n",
       "       [2.1488323],\n",
       "       [3.608563 ]], dtype=float32)"
      ]
     },
     "execution_count": 61,
     "metadata": {},
     "output_type": "execute_result"
    }
   ],
   "source": [
    "train_pred = model.predict(train_X)\n",
    "train_pred"
   ]
  },
  {
   "cell_type": "code",
   "execution_count": 62,
   "metadata": {},
   "outputs": [
    {
     "name": "stdout",
     "output_type": "stream",
     "text": [
      "4989/4989 [==============================] - 11s 2ms/step\n"
     ]
    },
    {
     "data": {
      "text/plain": [
       "array([[2.3164315],\n",
       "       [2.380022 ],\n",
       "       [3.344884 ],\n",
       "       ...,\n",
       "       [4.3874393],\n",
       "       [4.1827965],\n",
       "       [3.878858 ]], dtype=float32)"
      ]
     },
     "execution_count": 62,
     "metadata": {},
     "output_type": "execute_result"
    }
   ],
   "source": [
    "test_pred = model.predict(test_X)"
   ]
  },
  {
   "cell_type": "code",
   "execution_count": 63,
   "metadata": {},
   "outputs": [
    {
     "data": {
      "text/plain": [
       "3.7977871748349745"
      ]
     },
     "execution_count": 63,
     "metadata": {},
     "output_type": "execute_result"
    }
   ],
   "source": [
    "from sklearn.metrics import mean_squared_error\n",
    "rmse = mean_squared_error(train_y, train_pred, squared=False)\n",
    "rmse"
   ]
  },
  {
   "cell_type": "markdown",
   "metadata": {},
   "source": [
    "# store result"
   ]
  },
  {
   "cell_type": "code",
   "execution_count": 64,
   "metadata": {},
   "outputs": [
    {
     "data": {
      "text/html": [
       "<div>\n",
       "<style scoped>\n",
       "    .dataframe tbody tr th:only-of-type {\n",
       "        vertical-align: middle;\n",
       "    }\n",
       "\n",
       "    .dataframe tbody tr th {\n",
       "        vertical-align: top;\n",
       "    }\n",
       "\n",
       "    .dataframe thead th {\n",
       "        text-align: right;\n",
       "    }\n",
       "</style>\n",
       "<table border=\"1\" class=\"dataframe\">\n",
       "  <thead>\n",
       "    <tr style=\"text-align: right;\">\n",
       "      <th></th>\n",
       "      <th>ID</th>\n",
       "      <th>Book-Rating</th>\n",
       "    </tr>\n",
       "  </thead>\n",
       "  <tbody>\n",
       "    <tr>\n",
       "      <th>0</th>\n",
       "      <td>TEST_000000</td>\n",
       "      <td>0</td>\n",
       "    </tr>\n",
       "    <tr>\n",
       "      <th>1</th>\n",
       "      <td>TEST_000001</td>\n",
       "      <td>0</td>\n",
       "    </tr>\n",
       "    <tr>\n",
       "      <th>2</th>\n",
       "      <td>TEST_000002</td>\n",
       "      <td>0</td>\n",
       "    </tr>\n",
       "    <tr>\n",
       "      <th>3</th>\n",
       "      <td>TEST_000003</td>\n",
       "      <td>0</td>\n",
       "    </tr>\n",
       "    <tr>\n",
       "      <th>4</th>\n",
       "      <td>TEST_000004</td>\n",
       "      <td>0</td>\n",
       "    </tr>\n",
       "    <tr>\n",
       "      <th>...</th>\n",
       "      <td>...</td>\n",
       "      <td>...</td>\n",
       "    </tr>\n",
       "    <tr>\n",
       "      <th>159616</th>\n",
       "      <td>TEST_159616</td>\n",
       "      <td>0</td>\n",
       "    </tr>\n",
       "    <tr>\n",
       "      <th>159617</th>\n",
       "      <td>TEST_159617</td>\n",
       "      <td>0</td>\n",
       "    </tr>\n",
       "    <tr>\n",
       "      <th>159618</th>\n",
       "      <td>TEST_159618</td>\n",
       "      <td>0</td>\n",
       "    </tr>\n",
       "    <tr>\n",
       "      <th>159619</th>\n",
       "      <td>TEST_159619</td>\n",
       "      <td>0</td>\n",
       "    </tr>\n",
       "    <tr>\n",
       "      <th>159620</th>\n",
       "      <td>TEST_159620</td>\n",
       "      <td>0</td>\n",
       "    </tr>\n",
       "  </tbody>\n",
       "</table>\n",
       "<p>159621 rows × 2 columns</p>\n",
       "</div>"
      ],
      "text/plain": [
       "                 ID  Book-Rating\n",
       "0       TEST_000000            0\n",
       "1       TEST_000001            0\n",
       "2       TEST_000002            0\n",
       "3       TEST_000003            0\n",
       "4       TEST_000004            0\n",
       "...             ...          ...\n",
       "159616  TEST_159616            0\n",
       "159617  TEST_159617            0\n",
       "159618  TEST_159618            0\n",
       "159619  TEST_159619            0\n",
       "159620  TEST_159620            0\n",
       "\n",
       "[159621 rows x 2 columns]"
      ]
     },
     "execution_count": 64,
     "metadata": {},
     "output_type": "execute_result"
    }
   ],
   "source": [
    "sample_submission_df = pd.read_csv(\"open/sample_submission.csv\")\n",
    "sample_submission_df"
   ]
  },
  {
   "cell_type": "code",
   "execution_count": 65,
   "metadata": {},
   "outputs": [],
   "source": [
    "mname = 'title-wordembed'"
   ]
  },
  {
   "cell_type": "code",
   "execution_count": 68,
   "metadata": {},
   "outputs": [],
   "source": [
    "def make_report(template, test_pred, mname):\n",
    "    template['Book-Rating'] = test_pred\n",
    "    now = dt.strftime(dt.now(), '%y-%m-%d')\n",
    "    template.to_csv(f'results/{mname}-{now}.csv', index=False)\n",
    "    \n",
    "make_report(sample_submission_df, test_pred, mname)"
   ]
  },
  {
   "cell_type": "code",
   "execution_count": null,
   "metadata": {},
   "outputs": [],
   "source": []
  }
 ],
 "metadata": {
  "kernelspec": {
   "display_name": "general",
   "language": "python",
   "name": "python3"
  },
  "language_info": {
   "codemirror_mode": {
    "name": "ipython",
    "version": 3
   },
   "file_extension": ".py",
   "mimetype": "text/x-python",
   "name": "python",
   "nbconvert_exporter": "python",
   "pygments_lexer": "ipython3",
   "version": "3.10.0"
  },
  "orig_nbformat": 4
 },
 "nbformat": 4,
 "nbformat_minor": 2
}
