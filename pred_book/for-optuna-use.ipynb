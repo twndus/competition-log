{
 "cells": [
  {
   "cell_type": "markdown",
   "id": "6d5c647c-5db8-48a2-b444-a1fdf95517cd",
   "metadata": {},
   "source": [
    "optuna 써보기"
   ]
  },
  {
   "cell_type": "code",
   "execution_count": 8,
   "id": "cde2ade2-f1f2-4527-a9fe-c6b7d2ec0051",
   "metadata": {},
   "outputs": [],
   "source": [
    "import pandas as pd\n",
    "\n",
    "from sklearn.datasets import load_iris"
   ]
  },
  {
   "cell_type": "code",
   "execution_count": 9,
   "id": "68355f1d-3610-42b7-8d23-b20d4a914d3c",
   "metadata": {},
   "outputs": [],
   "source": [
    "import optuna"
   ]
  },
  {
   "cell_type": "markdown",
   "id": "9ef3d807-e761-42cf-a1b0-379f80125ece",
   "metadata": {},
   "source": [
    "# get data"
   ]
  },
  {
   "cell_type": "code",
   "execution_count": 10,
   "id": "08bedaf0-d2e9-4f28-be2b-56efabeadaf2",
   "metadata": {},
   "outputs": [
    {
     "data": {
      "text/plain": [
       "dict_keys(['data', 'target', 'frame', 'target_names', 'DESCR', 'feature_names', 'filename', 'data_module'])"
      ]
     },
     "execution_count": 10,
     "metadata": {},
     "output_type": "execute_result"
    }
   ],
   "source": [
    "iris = load_iris()\n",
    "iris.keys()"
   ]
  },
  {
   "cell_type": "code",
   "execution_count": 11,
   "id": "fb51c952-1bf7-4f42-864f-e85d935880c1",
   "metadata": {},
   "outputs": [
    {
     "data": {
      "text/html": [
       "<div>\n",
       "<style scoped>\n",
       "    .dataframe tbody tr th:only-of-type {\n",
       "        vertical-align: middle;\n",
       "    }\n",
       "\n",
       "    .dataframe tbody tr th {\n",
       "        vertical-align: top;\n",
       "    }\n",
       "\n",
       "    .dataframe thead th {\n",
       "        text-align: right;\n",
       "    }\n",
       "</style>\n",
       "<table border=\"1\" class=\"dataframe\">\n",
       "  <thead>\n",
       "    <tr style=\"text-align: right;\">\n",
       "      <th></th>\n",
       "      <th>sepal length (cm)</th>\n",
       "      <th>sepal width (cm)</th>\n",
       "      <th>petal length (cm)</th>\n",
       "      <th>petal width (cm)</th>\n",
       "    </tr>\n",
       "  </thead>\n",
       "  <tbody>\n",
       "    <tr>\n",
       "      <th>0</th>\n",
       "      <td>5.1</td>\n",
       "      <td>3.5</td>\n",
       "      <td>1.4</td>\n",
       "      <td>0.2</td>\n",
       "    </tr>\n",
       "    <tr>\n",
       "      <th>1</th>\n",
       "      <td>4.9</td>\n",
       "      <td>3.0</td>\n",
       "      <td>1.4</td>\n",
       "      <td>0.2</td>\n",
       "    </tr>\n",
       "    <tr>\n",
       "      <th>2</th>\n",
       "      <td>4.7</td>\n",
       "      <td>3.2</td>\n",
       "      <td>1.3</td>\n",
       "      <td>0.2</td>\n",
       "    </tr>\n",
       "    <tr>\n",
       "      <th>3</th>\n",
       "      <td>4.6</td>\n",
       "      <td>3.1</td>\n",
       "      <td>1.5</td>\n",
       "      <td>0.2</td>\n",
       "    </tr>\n",
       "    <tr>\n",
       "      <th>4</th>\n",
       "      <td>5.0</td>\n",
       "      <td>3.6</td>\n",
       "      <td>1.4</td>\n",
       "      <td>0.2</td>\n",
       "    </tr>\n",
       "  </tbody>\n",
       "</table>\n",
       "</div>"
      ],
      "text/plain": [
       "   sepal length (cm)  sepal width (cm)  petal length (cm)  petal width (cm)\n",
       "0                5.1               3.5                1.4               0.2\n",
       "1                4.9               3.0                1.4               0.2\n",
       "2                4.7               3.2                1.3               0.2\n",
       "3                4.6               3.1                1.5               0.2\n",
       "4                5.0               3.6                1.4               0.2"
      ]
     },
     "execution_count": 11,
     "metadata": {},
     "output_type": "execute_result"
    }
   ],
   "source": [
    "iris_df = pd.DataFrame(iris['data'], columns=iris['feature_names'])\n",
    "iris_df.head()"
   ]
  },
  {
   "cell_type": "markdown",
   "id": "5fc426d7-502b-48f1-853f-26462685b56c",
   "metadata": {},
   "source": [
    "# split data"
   ]
  },
  {
   "cell_type": "code",
   "execution_count": 12,
   "id": "bc7a8cb7-becb-4a90-86da-30ce3d02db1d",
   "metadata": {},
   "outputs": [],
   "source": [
    "from sklearn.model_selection import train_test_split"
   ]
  },
  {
   "cell_type": "code",
   "execution_count": 14,
   "id": "ab65b9ad-08b9-4739-a404-8256a5e9caf0",
   "metadata": {},
   "outputs": [
    {
     "data": {
      "text/plain": [
       "((120, 4), (30, 4), (120,), (30,))"
      ]
     },
     "execution_count": 14,
     "metadata": {},
     "output_type": "execute_result"
    }
   ],
   "source": [
    "train_x, test_x, train_y, test_y = train_test_split(iris_df, iris['target'], test_size=.2)\n",
    "train_x.shape, test_x.shape, train_y.shape, test_y.shape"
   ]
  },
  {
   "cell_type": "markdown",
   "id": "3126fffc-c091-4476-9d37-d35d2bf03889",
   "metadata": {},
   "source": [
    "# mlpregressor"
   ]
  },
  {
   "cell_type": "code",
   "execution_count": 15,
   "id": "9a9e8917-38c2-4879-b4fd-d69deaabb2d2",
   "metadata": {},
   "outputs": [],
   "source": [
    "mname = 'mlpregressor'"
   ]
  },
  {
   "cell_type": "code",
   "execution_count": 17,
   "id": "8b31aee6-af0a-44cb-93cf-f0e00ee248da",
   "metadata": {},
   "outputs": [],
   "source": [
    "from sklearn.neural_network import MLPRegressor\n",
    "# from sklearn.model_selection import RandomizedSearchCV"
   ]
  },
  {
   "cell_type": "code",
   "execution_count": 18,
   "id": "85b3675f-4650-4561-88af-d8b53bc0191f",
   "metadata": {},
   "outputs": [],
   "source": [
    "params = {\n",
    "    'hidden_layer_sizes': [10, 50, 100, 200],\n",
    "    'activation' : ['identity', 'logistic', 'tanh', 'relu'],\n",
    "    'solver': ['lbfgs', 'sgd', 'adam'],\n",
    "    'alpha': [1, 0.1, 0.01, 0.001, 0.0001],\n",
    "    'batch_size': [10, 50, 100, 200, 500, 1000],\n",
    "    'warm_start': [True, False],\n",
    "    'learning_rate_init': [1, 0.1, 0.01, 0.001, 0.0001], #24 added\n",
    "    'max_iter': [100, 200, 500, 1000, 5000], #24 added\n",
    "    \n",
    "}"
   ]
  },
  {
   "cell_type": "code",
   "execution_count": 19,
   "id": "771695f3-9828-4329-bc3e-c5478b773547",
   "metadata": {},
   "outputs": [
    {
     "data": {
      "text/html": [
       "<style>#sk-container-id-1 {color: black;background-color: white;}#sk-container-id-1 pre{padding: 0;}#sk-container-id-1 div.sk-toggleable {background-color: white;}#sk-container-id-1 label.sk-toggleable__label {cursor: pointer;display: block;width: 100%;margin-bottom: 0;padding: 0.3em;box-sizing: border-box;text-align: center;}#sk-container-id-1 label.sk-toggleable__label-arrow:before {content: \"▸\";float: left;margin-right: 0.25em;color: #696969;}#sk-container-id-1 label.sk-toggleable__label-arrow:hover:before {color: black;}#sk-container-id-1 div.sk-estimator:hover label.sk-toggleable__label-arrow:before {color: black;}#sk-container-id-1 div.sk-toggleable__content {max-height: 0;max-width: 0;overflow: hidden;text-align: left;background-color: #f0f8ff;}#sk-container-id-1 div.sk-toggleable__content pre {margin: 0.2em;color: black;border-radius: 0.25em;background-color: #f0f8ff;}#sk-container-id-1 input.sk-toggleable__control:checked~div.sk-toggleable__content {max-height: 200px;max-width: 100%;overflow: auto;}#sk-container-id-1 input.sk-toggleable__control:checked~label.sk-toggleable__label-arrow:before {content: \"▾\";}#sk-container-id-1 div.sk-estimator input.sk-toggleable__control:checked~label.sk-toggleable__label {background-color: #d4ebff;}#sk-container-id-1 div.sk-label input.sk-toggleable__control:checked~label.sk-toggleable__label {background-color: #d4ebff;}#sk-container-id-1 input.sk-hidden--visually {border: 0;clip: rect(1px 1px 1px 1px);clip: rect(1px, 1px, 1px, 1px);height: 1px;margin: -1px;overflow: hidden;padding: 0;position: absolute;width: 1px;}#sk-container-id-1 div.sk-estimator {font-family: monospace;background-color: #f0f8ff;border: 1px dotted black;border-radius: 0.25em;box-sizing: border-box;margin-bottom: 0.5em;}#sk-container-id-1 div.sk-estimator:hover {background-color: #d4ebff;}#sk-container-id-1 div.sk-parallel-item::after {content: \"\";width: 100%;border-bottom: 1px solid gray;flex-grow: 1;}#sk-container-id-1 div.sk-label:hover label.sk-toggleable__label {background-color: #d4ebff;}#sk-container-id-1 div.sk-serial::before {content: \"\";position: absolute;border-left: 1px solid gray;box-sizing: border-box;top: 0;bottom: 0;left: 50%;z-index: 0;}#sk-container-id-1 div.sk-serial {display: flex;flex-direction: column;align-items: center;background-color: white;padding-right: 0.2em;padding-left: 0.2em;position: relative;}#sk-container-id-1 div.sk-item {position: relative;z-index: 1;}#sk-container-id-1 div.sk-parallel {display: flex;align-items: stretch;justify-content: center;background-color: white;position: relative;}#sk-container-id-1 div.sk-item::before, #sk-container-id-1 div.sk-parallel-item::before {content: \"\";position: absolute;border-left: 1px solid gray;box-sizing: border-box;top: 0;bottom: 0;left: 50%;z-index: -1;}#sk-container-id-1 div.sk-parallel-item {display: flex;flex-direction: column;z-index: 1;position: relative;background-color: white;}#sk-container-id-1 div.sk-parallel-item:first-child::after {align-self: flex-end;width: 50%;}#sk-container-id-1 div.sk-parallel-item:last-child::after {align-self: flex-start;width: 50%;}#sk-container-id-1 div.sk-parallel-item:only-child::after {width: 0;}#sk-container-id-1 div.sk-dashed-wrapped {border: 1px dashed gray;margin: 0 0.4em 0.5em 0.4em;box-sizing: border-box;padding-bottom: 0.4em;background-color: white;}#sk-container-id-1 div.sk-label label {font-family: monospace;font-weight: bold;display: inline-block;line-height: 1.2em;}#sk-container-id-1 div.sk-label-container {text-align: center;}#sk-container-id-1 div.sk-container {/* jupyter's `normalize.less` sets `[hidden] { display: none; }` but bootstrap.min.css set `[hidden] { display: none !important; }` so we also need the `!important` here to be able to override the default hidden behavior on the sphinx rendered scikit-learn.org. See: https://github.com/scikit-learn/scikit-learn/issues/21755 */display: inline-block !important;position: relative;}#sk-container-id-1 div.sk-text-repr-fallback {display: none;}</style><div id=\"sk-container-id-1\" class=\"sk-top-container\"><div class=\"sk-text-repr-fallback\"><pre>MLPRegressor()</pre><b>In a Jupyter environment, please rerun this cell to show the HTML representation or trust the notebook. <br />On GitHub, the HTML representation is unable to render, please try loading this page with nbviewer.org.</b></div><div class=\"sk-container\" hidden><div class=\"sk-item\"><div class=\"sk-estimator sk-toggleable\"><input class=\"sk-toggleable__control sk-hidden--visually\" id=\"sk-estimator-id-1\" type=\"checkbox\" checked><label for=\"sk-estimator-id-1\" class=\"sk-toggleable__label sk-toggleable__label-arrow\">MLPRegressor</label><div class=\"sk-toggleable__content\"><pre>MLPRegressor()</pre></div></div></div></div></div>"
      ],
      "text/plain": [
       "MLPRegressor()"
      ]
     },
     "execution_count": 19,
     "metadata": {},
     "output_type": "execute_result"
    }
   ],
   "source": [
    "model = MLPRegressor()\n",
    "model.fit(train_x, train_y)"
   ]
  },
  {
   "cell_type": "code",
   "execution_count": 23,
   "id": "55f839d9-ba0d-4e76-94c4-a9b5d0b2e636",
   "metadata": {},
   "outputs": [],
   "source": [
    "from sklearn.metrics import mean_squared_error, r2_score"
   ]
  },
  {
   "cell_type": "code",
   "execution_count": 24,
   "id": "e8d4f634-2cd5-4535-baab-6228edd83920",
   "metadata": {},
   "outputs": [
    {
     "name": "stdout",
     "output_type": "stream",
     "text": [
      "train_rmse:  0.261609533010679\n",
      "test_rmse:  0.2757712430066753\n",
      "train_r2:  0.8985976450484882\n",
      "test_r2:  0.8797103679745131\n"
     ]
    }
   ],
   "source": [
    "# predict\n",
    "train_pred = model.predict(train_x)\n",
    "test_pred = model.predict(test_x)\n",
    "\n",
    "# evaluate\n",
    "train_rmse = mean_squared_error(train_y, train_pred, squared=False)\n",
    "test_rmse = mean_squared_error(test_y, test_pred, squared=False)\n",
    "train_r2 = r2_score(train_y, train_pred)\n",
    "test_r2 = r2_score(test_y, test_pred)\n",
    "\n",
    "print('train_rmse: ', train_rmse)\n",
    "print('test_rmse: ', test_rmse)\n",
    "print('train_r2: ', train_r2)\n",
    "print('test_r2: ', test_r2)"
   ]
  },
  {
   "cell_type": "code",
   "execution_count": 28,
   "id": "831a779a-5447-4503-9fe0-a856afb6ae9e",
   "metadata": {},
   "outputs": [
    {
     "name": "stderr",
     "output_type": "stream",
     "text": [
      "\u001b[32m[I 2023-04-25 00:21:13,975]\u001b[0m A new study created in memory with name: no-name-58ffa261-9a6a-4415-83ba-24a6567d30ab\u001b[0m\n",
      "\u001b[32m[I 2023-04-25 00:21:14,037]\u001b[0m Trial 0 finished with value: 0.9533333333333333 and parameters: {'rf_max_depth': 14}. Best is trial 0 with value: 0.9533333333333333.\u001b[0m\n",
      "\u001b[32m[I 2023-04-25 00:21:14,067]\u001b[0m Trial 1 finished with value: 0.9533333333333333 and parameters: {'rf_max_depth': 4}. Best is trial 0 with value: 0.9533333333333333.\u001b[0m\n",
      "\u001b[32m[I 2023-04-25 00:21:14,093]\u001b[0m Trial 2 finished with value: 0.96 and parameters: {'rf_max_depth': 21}. Best is trial 2 with value: 0.96.\u001b[0m\n",
      "\u001b[32m[I 2023-04-25 00:21:14,124]\u001b[0m Trial 3 finished with value: 0.96 and parameters: {'rf_max_depth': 12}. Best is trial 2 with value: 0.96.\u001b[0m\n",
      "\u001b[32m[I 2023-04-25 00:21:14,168]\u001b[0m Trial 4 finished with value: 0.9666666666666667 and parameters: {'rf_max_depth': 8}. Best is trial 4 with value: 0.9666666666666667.\u001b[0m\n",
      "\u001b[32m[I 2023-04-25 00:21:14,198]\u001b[0m Trial 5 finished with value: 0.9733333333333333 and parameters: {'rf_max_depth': 3}. Best is trial 5 with value: 0.9733333333333333.\u001b[0m\n",
      "\u001b[32m[I 2023-04-25 00:21:14,244]\u001b[0m Trial 6 finished with value: 0.96 and parameters: {'rf_max_depth': 25}. Best is trial 5 with value: 0.9733333333333333.\u001b[0m\n",
      "\u001b[32m[I 2023-04-25 00:21:14,278]\u001b[0m Trial 7 finished with value: 0.9466666666666667 and parameters: {'rf_max_depth': 19}. Best is trial 5 with value: 0.9733333333333333.\u001b[0m\n",
      "\u001b[32m[I 2023-04-25 00:21:14,305]\u001b[0m Trial 8 finished with value: 0.9533333333333333 and parameters: {'rf_max_depth': 26}. Best is trial 5 with value: 0.9733333333333333.\u001b[0m\n",
      "\u001b[32m[I 2023-04-25 00:21:14,338]\u001b[0m Trial 9 finished with value: 0.96 and parameters: {'rf_max_depth': 5}. Best is trial 5 with value: 0.9733333333333333.\u001b[0m\n",
      "\u001b[32m[I 2023-04-25 00:21:14,370]\u001b[0m Trial 10 finished with value: 0.96 and parameters: {'rf_max_depth': 2}. Best is trial 5 with value: 0.9733333333333333.\u001b[0m\n",
      "\u001b[32m[I 2023-04-25 00:21:14,414]\u001b[0m Trial 11 finished with value: 0.9666666666666667 and parameters: {'rf_max_depth': 8}. Best is trial 5 with value: 0.9733333333333333.\u001b[0m\n",
      "\u001b[32m[I 2023-04-25 00:21:14,460]\u001b[0m Trial 12 finished with value: 0.9533333333333333 and parameters: {'rf_max_depth': 3}. Best is trial 5 with value: 0.9733333333333333.\u001b[0m\n",
      "\u001b[32m[I 2023-04-25 00:21:14,487]\u001b[0m Trial 13 finished with value: 0.9733333333333333 and parameters: {'rf_max_depth': 7}. Best is trial 5 with value: 0.9733333333333333.\u001b[0m\n",
      "\u001b[32m[I 2023-04-25 00:21:14,516]\u001b[0m Trial 14 finished with value: 0.9466666666666667 and parameters: {'rf_max_depth': 2}. Best is trial 5 with value: 0.9733333333333333.\u001b[0m\n",
      "\u001b[32m[I 2023-04-25 00:21:14,541]\u001b[0m Trial 15 finished with value: 0.9533333333333333 and parameters: {'rf_max_depth': 5}. Best is trial 5 with value: 0.9733333333333333.\u001b[0m\n",
      "\u001b[32m[I 2023-04-25 00:21:14,576]\u001b[0m Trial 16 finished with value: 0.9533333333333333 and parameters: {'rf_max_depth': 3}. Best is trial 5 with value: 0.9733333333333333.\u001b[0m\n",
      "\u001b[32m[I 2023-04-25 00:21:14,606]\u001b[0m Trial 17 finished with value: 0.9533333333333333 and parameters: {'rf_max_depth': 7}. Best is trial 5 with value: 0.9733333333333333.\u001b[0m\n",
      "\u001b[32m[I 2023-04-25 00:21:14,637]\u001b[0m Trial 18 finished with value: 0.9466666666666667 and parameters: {'rf_max_depth': 10}. Best is trial 5 with value: 0.9733333333333333.\u001b[0m\n",
      "\u001b[32m[I 2023-04-25 00:21:14,666]\u001b[0m Trial 19 finished with value: 0.9466666666666667 and parameters: {'rf_max_depth': 6}. Best is trial 5 with value: 0.9733333333333333.\u001b[0m\n",
      "\u001b[32m[I 2023-04-25 00:21:14,699]\u001b[0m Trial 20 finished with value: 0.96 and parameters: {'rf_max_depth': 3}. Best is trial 5 with value: 0.9733333333333333.\u001b[0m\n",
      "\u001b[32m[I 2023-04-25 00:21:14,747]\u001b[0m Trial 21 finished with value: 0.9666666666666667 and parameters: {'rf_max_depth': 9}. Best is trial 5 with value: 0.9733333333333333.\u001b[0m\n",
      "\u001b[32m[I 2023-04-25 00:21:14,779]\u001b[0m Trial 22 finished with value: 0.96 and parameters: {'rf_max_depth': 7}. Best is trial 5 with value: 0.9733333333333333.\u001b[0m\n",
      "\u001b[32m[I 2023-04-25 00:21:14,812]\u001b[0m Trial 23 finished with value: 0.96 and parameters: {'rf_max_depth': 10}. Best is trial 5 with value: 0.9733333333333333.\u001b[0m\n",
      "\u001b[32m[I 2023-04-25 00:21:14,842]\u001b[0m Trial 24 finished with value: 0.9533333333333333 and parameters: {'rf_max_depth': 6}. Best is trial 5 with value: 0.9733333333333333.\u001b[0m\n",
      "\u001b[32m[I 2023-04-25 00:21:14,870]\u001b[0m Trial 25 finished with value: 0.96 and parameters: {'rf_max_depth': 14}. Best is trial 5 with value: 0.9733333333333333.\u001b[0m\n",
      "\u001b[32m[I 2023-04-25 00:21:14,965]\u001b[0m Trial 26 finished with value: 0.9666666666666667 and parameters: {'rf_max_depth': 4}. Best is trial 5 with value: 0.9733333333333333.\u001b[0m\n",
      "\u001b[32m[I 2023-04-25 00:21:15,022]\u001b[0m Trial 27 finished with value: 0.96 and parameters: {'rf_max_depth': 8}. Best is trial 5 with value: 0.9733333333333333.\u001b[0m\n",
      "\u001b[32m[I 2023-04-25 00:21:15,087]\u001b[0m Trial 28 finished with value: 0.94 and parameters: {'rf_max_depth': 12}. Best is trial 5 with value: 0.9733333333333333.\u001b[0m\n",
      "\u001b[32m[I 2023-04-25 00:21:15,127]\u001b[0m Trial 29 finished with value: 0.96 and parameters: {'rf_max_depth': 15}. Best is trial 5 with value: 0.9733333333333333.\u001b[0m\n",
      "\u001b[32m[I 2023-04-25 00:21:15,164]\u001b[0m Trial 30 finished with value: 0.9533333333333333 and parameters: {'rf_max_depth': 9}. Best is trial 5 with value: 0.9733333333333333.\u001b[0m\n",
      "\u001b[32m[I 2023-04-25 00:21:15,207]\u001b[0m Trial 31 finished with value: 0.9533333333333333 and parameters: {'rf_max_depth': 8}. Best is trial 5 with value: 0.9733333333333333.\u001b[0m\n",
      "\u001b[32m[I 2023-04-25 00:21:15,246]\u001b[0m Trial 32 finished with value: 0.9533333333333333 and parameters: {'rf_max_depth': 7}. Best is trial 5 with value: 0.9733333333333333.\u001b[0m\n",
      "\u001b[32m[I 2023-04-25 00:21:15,291]\u001b[0m Trial 33 finished with value: 0.9533333333333333 and parameters: {'rf_max_depth': 6}. Best is trial 5 with value: 0.9733333333333333.\u001b[0m\n",
      "\u001b[32m[I 2023-04-25 00:21:15,329]\u001b[0m Trial 34 finished with value: 0.9533333333333333 and parameters: {'rf_max_depth': 5}. Best is trial 5 with value: 0.9733333333333333.\u001b[0m\n",
      "\u001b[32m[I 2023-04-25 00:21:15,371]\u001b[0m Trial 35 finished with value: 0.9533333333333333 and parameters: {'rf_max_depth': 11}. Best is trial 5 with value: 0.9733333333333333.\u001b[0m\n",
      "\u001b[32m[I 2023-04-25 00:21:15,408]\u001b[0m Trial 36 finished with value: 0.9533333333333333 and parameters: {'rf_max_depth': 9}. Best is trial 5 with value: 0.9733333333333333.\u001b[0m\n",
      "\u001b[32m[I 2023-04-25 00:21:15,453]\u001b[0m Trial 37 finished with value: 0.9466666666666667 and parameters: {'rf_max_depth': 13}. Best is trial 5 with value: 0.9733333333333333.\u001b[0m\n",
      "\u001b[32m[I 2023-04-25 00:21:15,490]\u001b[0m Trial 38 finished with value: 0.96 and parameters: {'rf_max_depth': 19}. Best is trial 5 with value: 0.9733333333333333.\u001b[0m\n",
      "\u001b[32m[I 2023-04-25 00:21:15,522]\u001b[0m Trial 39 finished with value: 0.9533333333333333 and parameters: {'rf_max_depth': 32}. Best is trial 5 with value: 0.9733333333333333.\u001b[0m\n",
      "\u001b[32m[I 2023-04-25 00:21:15,564]\u001b[0m Trial 40 finished with value: 0.96 and parameters: {'rf_max_depth': 11}. Best is trial 5 with value: 0.9733333333333333.\u001b[0m\n",
      "\u001b[32m[I 2023-04-25 00:21:15,591]\u001b[0m Trial 41 finished with value: 0.9533333333333333 and parameters: {'rf_max_depth': 8}. Best is trial 5 with value: 0.9733333333333333.\u001b[0m\n",
      "\u001b[32m[I 2023-04-25 00:21:15,629]\u001b[0m Trial 42 finished with value: 0.9666666666666667 and parameters: {'rf_max_depth': 9}. Best is trial 5 with value: 0.9733333333333333.\u001b[0m\n",
      "\u001b[32m[I 2023-04-25 00:21:15,656]\u001b[0m Trial 43 finished with value: 0.9466666666666667 and parameters: {'rf_max_depth': 16}. Best is trial 5 with value: 0.9733333333333333.\u001b[0m\n",
      "\u001b[32m[I 2023-04-25 00:21:15,709]\u001b[0m Trial 44 finished with value: 0.96 and parameters: {'rf_max_depth': 12}. Best is trial 5 with value: 0.9733333333333333.\u001b[0m\n",
      "\u001b[32m[I 2023-04-25 00:21:15,749]\u001b[0m Trial 45 finished with value: 0.9466666666666667 and parameters: {'rf_max_depth': 6}. Best is trial 5 with value: 0.9733333333333333.\u001b[0m\n",
      "\u001b[32m[I 2023-04-25 00:21:15,790]\u001b[0m Trial 46 finished with value: 0.96 and parameters: {'rf_max_depth': 4}. Best is trial 5 with value: 0.9733333333333333.\u001b[0m\n",
      "\u001b[32m[I 2023-04-25 00:21:15,815]\u001b[0m Trial 47 finished with value: 0.9666666666666667 and parameters: {'rf_max_depth': 8}. Best is trial 5 with value: 0.9733333333333333.\u001b[0m\n",
      "\u001b[32m[I 2023-04-25 00:21:15,844]\u001b[0m Trial 48 finished with value: 0.94 and parameters: {'rf_max_depth': 2}. Best is trial 5 with value: 0.9733333333333333.\u001b[0m\n",
      "\u001b[32m[I 2023-04-25 00:21:15,875]\u001b[0m Trial 49 finished with value: 0.96 and parameters: {'rf_max_depth': 5}. Best is trial 5 with value: 0.9733333333333333.\u001b[0m\n",
      "\u001b[32m[I 2023-04-25 00:21:15,905]\u001b[0m Trial 50 finished with value: 0.9466666666666667 and parameters: {'rf_max_depth': 10}. Best is trial 5 with value: 0.9733333333333333.\u001b[0m\n",
      "\u001b[32m[I 2023-04-25 00:21:15,932]\u001b[0m Trial 51 finished with value: 0.96 and parameters: {'rf_max_depth': 4}. Best is trial 5 with value: 0.9733333333333333.\u001b[0m\n",
      "\u001b[32m[I 2023-04-25 00:21:15,976]\u001b[0m Trial 52 finished with value: 0.96 and parameters: {'rf_max_depth': 7}. Best is trial 5 with value: 0.9733333333333333.\u001b[0m\n",
      "\u001b[32m[I 2023-04-25 00:21:16,013]\u001b[0m Trial 53 finished with value: 0.96 and parameters: {'rf_max_depth': 4}. Best is trial 5 with value: 0.9733333333333333.\u001b[0m\n",
      "\u001b[32m[I 2023-04-25 00:21:16,049]\u001b[0m Trial 54 finished with value: 0.9533333333333333 and parameters: {'rf_max_depth': 3}. Best is trial 5 with value: 0.9733333333333333.\u001b[0m\n",
      "\u001b[32m[I 2023-04-25 00:21:16,087]\u001b[0m Trial 55 finished with value: 0.96 and parameters: {'rf_max_depth': 6}. Best is trial 5 with value: 0.9733333333333333.\u001b[0m\n",
      "\u001b[32m[I 2023-04-25 00:21:16,113]\u001b[0m Trial 56 finished with value: 0.9333333333333332 and parameters: {'rf_max_depth': 5}. Best is trial 5 with value: 0.9733333333333333.\u001b[0m\n",
      "\u001b[32m[I 2023-04-25 00:21:16,148]\u001b[0m Trial 57 finished with value: 0.9533333333333333 and parameters: {'rf_max_depth': 9}. Best is trial 5 with value: 0.9733333333333333.\u001b[0m\n",
      "\u001b[32m[I 2023-04-25 00:21:16,194]\u001b[0m Trial 58 finished with value: 0.96 and parameters: {'rf_max_depth': 7}. Best is trial 5 with value: 0.9733333333333333.\u001b[0m\n",
      "\u001b[32m[I 2023-04-25 00:21:16,235]\u001b[0m Trial 59 finished with value: 0.9533333333333333 and parameters: {'rf_max_depth': 3}. Best is trial 5 with value: 0.9733333333333333.\u001b[0m\n",
      "\u001b[32m[I 2023-04-25 00:21:16,276]\u001b[0m Trial 60 finished with value: 0.9666666666666667 and parameters: {'rf_max_depth': 8}. Best is trial 5 with value: 0.9733333333333333.\u001b[0m\n",
      "\u001b[32m[I 2023-04-25 00:21:16,321]\u001b[0m Trial 61 finished with value: 0.9533333333333333 and parameters: {'rf_max_depth': 9}. Best is trial 5 with value: 0.9733333333333333.\u001b[0m\n",
      "\u001b[32m[I 2023-04-25 00:21:16,346]\u001b[0m Trial 62 finished with value: 0.9533333333333333 and parameters: {'rf_max_depth': 10}. Best is trial 5 with value: 0.9733333333333333.\u001b[0m\n",
      "\u001b[32m[I 2023-04-25 00:21:16,376]\u001b[0m Trial 63 finished with value: 0.9533333333333333 and parameters: {'rf_max_depth': 11}. Best is trial 5 with value: 0.9733333333333333.\u001b[0m\n",
      "\u001b[32m[I 2023-04-25 00:21:16,409]\u001b[0m Trial 64 finished with value: 0.96 and parameters: {'rf_max_depth': 9}. Best is trial 5 with value: 0.9733333333333333.\u001b[0m\n",
      "\u001b[32m[I 2023-04-25 00:21:16,448]\u001b[0m Trial 65 finished with value: 0.96 and parameters: {'rf_max_depth': 7}. Best is trial 5 with value: 0.9733333333333333.\u001b[0m\n",
      "\u001b[32m[I 2023-04-25 00:21:16,487]\u001b[0m Trial 66 finished with value: 0.96 and parameters: {'rf_max_depth': 8}. Best is trial 5 with value: 0.9733333333333333.\u001b[0m\n",
      "\u001b[32m[I 2023-04-25 00:21:16,516]\u001b[0m Trial 67 finished with value: 0.9666666666666667 and parameters: {'rf_max_depth': 6}. Best is trial 5 with value: 0.9733333333333333.\u001b[0m\n",
      "\u001b[32m[I 2023-04-25 00:21:16,548]\u001b[0m Trial 68 finished with value: 0.96 and parameters: {'rf_max_depth': 13}. Best is trial 5 with value: 0.9733333333333333.\u001b[0m\n",
      "\u001b[32m[I 2023-04-25 00:21:16,573]\u001b[0m Trial 69 finished with value: 0.9533333333333333 and parameters: {'rf_max_depth': 7}. Best is trial 5 with value: 0.9733333333333333.\u001b[0m\n",
      "\u001b[32m[I 2023-04-25 00:21:16,609]\u001b[0m Trial 70 finished with value: 0.96 and parameters: {'rf_max_depth': 10}. Best is trial 5 with value: 0.9733333333333333.\u001b[0m\n",
      "\u001b[32m[I 2023-04-25 00:21:16,658]\u001b[0m Trial 71 finished with value: 0.9533333333333333 and parameters: {'rf_max_depth': 8}. Best is trial 5 with value: 0.9733333333333333.\u001b[0m\n",
      "\u001b[32m[I 2023-04-25 00:21:16,711]\u001b[0m Trial 72 finished with value: 0.9533333333333333 and parameters: {'rf_max_depth': 9}. Best is trial 5 with value: 0.9733333333333333.\u001b[0m\n",
      "\u001b[32m[I 2023-04-25 00:21:16,763]\u001b[0m Trial 73 finished with value: 0.9533333333333333 and parameters: {'rf_max_depth': 8}. Best is trial 5 with value: 0.9733333333333333.\u001b[0m\n",
      "\u001b[32m[I 2023-04-25 00:21:16,788]\u001b[0m Trial 74 finished with value: 0.9533333333333333 and parameters: {'rf_max_depth': 11}. Best is trial 5 with value: 0.9733333333333333.\u001b[0m\n",
      "\u001b[32m[I 2023-04-25 00:21:16,822]\u001b[0m Trial 75 finished with value: 0.9533333333333333 and parameters: {'rf_max_depth': 8}. Best is trial 5 with value: 0.9733333333333333.\u001b[0m\n",
      "\u001b[32m[I 2023-04-25 00:21:16,842]\u001b[0m Trial 76 finished with value: 0.9533333333333333 and parameters: {'rf_max_depth': 10}. Best is trial 5 with value: 0.9733333333333333.\u001b[0m\n",
      "\u001b[32m[I 2023-04-25 00:21:16,868]\u001b[0m Trial 77 finished with value: 0.96 and parameters: {'rf_max_depth': 9}. Best is trial 5 with value: 0.9733333333333333.\u001b[0m\n",
      "\u001b[32m[I 2023-04-25 00:21:16,899]\u001b[0m Trial 78 finished with value: 0.96 and parameters: {'rf_max_depth': 6}. Best is trial 5 with value: 0.9733333333333333.\u001b[0m\n",
      "\u001b[32m[I 2023-04-25 00:21:16,941]\u001b[0m Trial 79 finished with value: 0.96 and parameters: {'rf_max_depth': 7}. Best is trial 5 with value: 0.9733333333333333.\u001b[0m\n",
      "\u001b[32m[I 2023-04-25 00:21:16,976]\u001b[0m Trial 80 finished with value: 0.9466666666666667 and parameters: {'rf_max_depth': 12}. Best is trial 5 with value: 0.9733333333333333.\u001b[0m\n",
      "\u001b[32m[I 2023-04-25 00:21:17,012]\u001b[0m Trial 81 finished with value: 0.9733333333333333 and parameters: {'rf_max_depth': 8}. Best is trial 5 with value: 0.9733333333333333.\u001b[0m\n",
      "\u001b[32m[I 2023-04-25 00:21:17,053]\u001b[0m Trial 82 finished with value: 0.9466666666666667 and parameters: {'rf_max_depth': 8}. Best is trial 5 with value: 0.9733333333333333.\u001b[0m\n",
      "\u001b[32m[I 2023-04-25 00:21:17,090]\u001b[0m Trial 83 finished with value: 0.9533333333333333 and parameters: {'rf_max_depth': 7}. Best is trial 5 with value: 0.9733333333333333.\u001b[0m\n",
      "\u001b[32m[I 2023-04-25 00:21:17,120]\u001b[0m Trial 84 finished with value: 0.96 and parameters: {'rf_max_depth': 9}. Best is trial 5 with value: 0.9733333333333333.\u001b[0m\n",
      "\u001b[32m[I 2023-04-25 00:21:17,146]\u001b[0m Trial 85 finished with value: 0.96 and parameters: {'rf_max_depth': 6}. Best is trial 5 with value: 0.9733333333333333.\u001b[0m\n",
      "\u001b[32m[I 2023-04-25 00:21:17,177]\u001b[0m Trial 86 finished with value: 0.9533333333333333 and parameters: {'rf_max_depth': 10}. Best is trial 5 with value: 0.9733333333333333.\u001b[0m\n",
      "\u001b[32m[I 2023-04-25 00:21:17,215]\u001b[0m Trial 87 finished with value: 0.9466666666666667 and parameters: {'rf_max_depth': 2}. Best is trial 5 with value: 0.9733333333333333.\u001b[0m\n",
      "\u001b[32m[I 2023-04-25 00:21:17,282]\u001b[0m Trial 88 finished with value: 0.9533333333333333 and parameters: {'rf_max_depth': 8}. Best is trial 5 with value: 0.9733333333333333.\u001b[0m\n",
      "\u001b[32m[I 2023-04-25 00:21:17,399]\u001b[0m Trial 89 finished with value: 0.96 and parameters: {'rf_max_depth': 7}. Best is trial 5 with value: 0.9733333333333333.\u001b[0m\n",
      "\u001b[32m[I 2023-04-25 00:21:17,429]\u001b[0m Trial 90 finished with value: 0.9466666666666667 and parameters: {'rf_max_depth': 11}. Best is trial 5 with value: 0.9733333333333333.\u001b[0m\n",
      "\u001b[32m[I 2023-04-25 00:21:17,467]\u001b[0m Trial 91 finished with value: 0.96 and parameters: {'rf_max_depth': 8}. Best is trial 5 with value: 0.9733333333333333.\u001b[0m\n",
      "\u001b[32m[I 2023-04-25 00:21:17,515]\u001b[0m Trial 92 finished with value: 0.9533333333333333 and parameters: {'rf_max_depth': 8}. Best is trial 5 with value: 0.9733333333333333.\u001b[0m\n",
      "\u001b[32m[I 2023-04-25 00:21:17,546]\u001b[0m Trial 93 finished with value: 0.96 and parameters: {'rf_max_depth': 9}. Best is trial 5 with value: 0.9733333333333333.\u001b[0m\n",
      "\u001b[32m[I 2023-04-25 00:21:17,590]\u001b[0m Trial 94 finished with value: 0.96 and parameters: {'rf_max_depth': 9}. Best is trial 5 with value: 0.9733333333333333.\u001b[0m\n",
      "\u001b[32m[I 2023-04-25 00:21:17,615]\u001b[0m Trial 95 finished with value: 0.9466666666666667 and parameters: {'rf_max_depth': 5}. Best is trial 5 with value: 0.9733333333333333.\u001b[0m\n",
      "\u001b[32m[I 2023-04-25 00:21:17,640]\u001b[0m Trial 96 finished with value: 0.9733333333333333 and parameters: {'rf_max_depth': 10}. Best is trial 5 with value: 0.9733333333333333.\u001b[0m\n",
      "\u001b[32m[I 2023-04-25 00:21:17,672]\u001b[0m Trial 97 finished with value: 0.9466666666666667 and parameters: {'rf_max_depth': 10}. Best is trial 5 with value: 0.9733333333333333.\u001b[0m\n",
      "\u001b[32m[I 2023-04-25 00:21:17,702]\u001b[0m Trial 98 finished with value: 0.9466666666666667 and parameters: {'rf_max_depth': 11}. Best is trial 5 with value: 0.9733333333333333.\u001b[0m\n",
      "\u001b[32m[I 2023-04-25 00:21:17,728]\u001b[0m Trial 99 finished with value: 0.9533333333333333 and parameters: {'rf_max_depth': 13}. Best is trial 5 with value: 0.9733333333333333.\u001b[0m\n"
     ]
    },
    {
     "name": "stdout",
     "output_type": "stream",
     "text": [
      "FrozenTrial(number=5, state=TrialState.COMPLETE, values=[0.9733333333333333], datetime_start=datetime.datetime(2023, 4, 25, 0, 21, 14, 170664), datetime_complete=datetime.datetime(2023, 4, 25, 0, 21, 14, 198800), params={'rf_max_depth': 3}, user_attrs={}, system_attrs={}, intermediate_values={}, distributions={'rf_max_depth': IntDistribution(high=32, log=True, low=2, step=1)}, trial_id=5, value=None)\n"
     ]
    }
   ],
   "source": [
    "import sklearn.ensemble\n",
    "import sklearn.model_selection\n",
    "import sklearn.svm\n",
    "\n",
    "# FYI: Objective functions can take additional arguments\n",
    "# (https://optuna.readthedocs.io/en/stable/faq.html#objective-func-additional-args).\n",
    "def objective(trial):\n",
    "    iris = sklearn.datasets.load_iris()\n",
    "    x, y = iris.data, iris.target\n",
    "\n",
    "    # classifier_name = trial.suggest_categorical(\"classifier\", [\"SVC\", \"RandomForest\"])\n",
    "    # if classifier_name == \"SVC\":\n",
    "    #     svc_c = trial.suggest_float(\"svc_c\", 1e-10, 1e10, log=True)\n",
    "    #     classifier_obj = sklearn.svm.SVC(C=svc_c, gamma=\"auto\")\n",
    "    # else:\n",
    "    rf_max_depth = trial.suggest_int(\"rf_max_depth\", 2, 32, log=True)\n",
    "    classifier_obj = sklearn.ensemble.RandomForestClassifier(\n",
    "        max_depth=rf_max_depth, n_estimators=10\n",
    "    )\n",
    "\n",
    "    score = sklearn.model_selection.cross_val_score(classifier_obj, x, y, n_jobs=-1, cv=3)\n",
    "    accuracy = score.mean()\n",
    "    return accuracy\n",
    "\n",
    "\n",
    "# if __name__ == \"__main__\":\n",
    "study = optuna.create_study(direction=\"maximize\")\n",
    "study.optimize(objective, n_trials=100)\n",
    "print(study.best_trial)"
   ]
  }
 ],
 "metadata": {
  "kernelspec": {
   "display_name": "recsys",
   "language": "python",
   "name": "recsys"
  },
  "language_info": {
   "codemirror_mode": {
    "name": "ipython",
    "version": 3
   },
   "file_extension": ".py",
   "mimetype": "text/x-python",
   "name": "python",
   "nbconvert_exporter": "python",
   "pygments_lexer": "ipython3",
   "version": "3.10.0"
  }
 },
 "nbformat": 4,
 "nbformat_minor": 5
}
