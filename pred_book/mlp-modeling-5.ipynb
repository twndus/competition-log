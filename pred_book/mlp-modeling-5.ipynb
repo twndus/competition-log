{
 "cells": [
  {
   "attachments": {},
   "cell_type": "markdown",
   "id": "e4c024ed-156e-4ac2-9df8-63be9bd57dbf",
   "metadata": {},
   "source": [
    "# MLP Modeling - 5\n",
    "5에서는 publisher 데이터까지 넣어보자\n",
    "\n",
    "마구 생각:\n",
    " * vocab도 만들어야 하고.. tokenizing도 해야될 듯?\n",
    " * mlpregressor에서 keras로 바꾸는 것도 필요"
   ]
  },
  {
   "cell_type": "code",
   "execution_count": 1,
   "id": "c99a78df-a588-4746-aa1c-827fc197adb2",
   "metadata": {},
   "outputs": [
    {
     "name": "stderr",
     "output_type": "stream",
     "text": [
      "2023-04-27 06:10:59.008512: I tensorflow/core/platform/cpu_feature_guard.cc:193] This TensorFlow binary is optimized with oneAPI Deep Neural Network Library (oneDNN) to use the following CPU instructions in performance-critical operations:  AVX2 AVX512F FMA\n",
      "To enable them in other operations, rebuild TensorFlow with the appropriate compiler flags.\n",
      "2023-04-27 06:10:59.931296: W tensorflow/compiler/xla/stream_executor/platform/default/dso_loader.cc:64] Could not load dynamic library 'libnvinfer.so.7'; dlerror: libnvinfer.so.7: cannot open shared object file: No such file or directory; LD_LIBRARY_PATH: /usr/local/cuda/lib64:/usr/local/nccl2/lib:/usr/local/cuda/extras/CUPTI/lib64:/usr/local/cuda/lib64:/usr/local/nccl2/lib:/usr/local/cuda/extras/CUPTI/lib64\n",
      "2023-04-27 06:10:59.931397: W tensorflow/compiler/xla/stream_executor/platform/default/dso_loader.cc:64] Could not load dynamic library 'libnvinfer_plugin.so.7'; dlerror: libnvinfer_plugin.so.7: cannot open shared object file: No such file or directory; LD_LIBRARY_PATH: /usr/local/cuda/lib64:/usr/local/nccl2/lib:/usr/local/cuda/extras/CUPTI/lib64:/usr/local/cuda/lib64:/usr/local/nccl2/lib:/usr/local/cuda/extras/CUPTI/lib64\n",
      "2023-04-27 06:10:59.931408: W tensorflow/compiler/tf2tensorrt/utils/py_utils.cc:38] TF-TRT Warning: Cannot dlopen some TensorRT libraries. If you would like to use Nvidia GPU with TensorRT, please make sure the missing libraries mentioned above are installed properly.\n"
     ]
    }
   ],
   "source": [
    "import os\n",
    "from datetime import datetime as dt\n",
    "\n",
    "import numpy as np\n",
    "import pandas as pd\n",
    "\n",
    "import matplotlib.pyplot as plt\n",
    "import seaborn as sns\n",
    "\n",
    "import tensorflow as tf\n",
    "# import optuna"
   ]
  },
  {
   "cell_type": "markdown",
   "id": "70ac056c-da9c-4fbf-9187-1cf73df5e1ef",
   "metadata": {},
   "source": [
    "## load data"
   ]
  },
  {
   "cell_type": "code",
   "execution_count": 2,
   "id": "14bd5180-e00c-4e12-b8e7-5959054e102b",
   "metadata": {},
   "outputs": [
    {
     "data": {
      "text/plain": [
       "((871393, 9), (159621, 8), (159621, 2))"
      ]
     },
     "execution_count": 2,
     "metadata": {},
     "output_type": "execute_result"
    }
   ],
   "source": [
    "train_df = pd.read_csv(\"open/train.csv\", index_col='ID')\n",
    "test_df = pd.read_csv(\"open/test.csv\", index_col='ID')\n",
    "sample_submission_df = pd.read_csv(\"open/sample_submission.csv\")\n",
    "\n",
    "train_df.shape, test_df.shape, sample_submission_df.shape"
   ]
  },
  {
   "cell_type": "code",
   "execution_count": 3,
   "id": "8fefe7e6-f6b1-4fa5-826a-6fd7c7a51441",
   "metadata": {},
   "outputs": [
    {
     "name": "stdout",
     "output_type": "stream",
     "text": [
      "<class 'pandas.core.frame.DataFrame'>\n",
      "Index: 871393 entries, TRAIN_000000 to TRAIN_871392\n",
      "Data columns (total 9 columns):\n",
      " #   Column               Non-Null Count   Dtype  \n",
      "---  ------               --------------   -----  \n",
      " 0   User-ID              871393 non-null  object \n",
      " 1   Book-ID              871393 non-null  object \n",
      " 2   Book-Rating          871393 non-null  int64  \n",
      " 3   Age                  871393 non-null  float64\n",
      " 4   Location             871393 non-null  object \n",
      " 5   Book-Title           871393 non-null  object \n",
      " 6   Book-Author          871393 non-null  object \n",
      " 7   Year-Of-Publication  871393 non-null  float64\n",
      " 8   Publisher            871393 non-null  object \n",
      "dtypes: float64(2), int64(1), object(6)\n",
      "memory usage: 66.5+ MB\n"
     ]
    }
   ],
   "source": [
    "train_df.info()"
   ]
  },
  {
   "cell_type": "markdown",
   "id": "fb46156c-cfdc-41d5-b11d-6375f6f9b8c7",
   "metadata": {},
   "source": [
    "## preprocess data"
   ]
  },
  {
   "cell_type": "code",
   "execution_count": 4,
   "id": "d1724967-00b1-4acc-972c-a6918158e420",
   "metadata": {},
   "outputs": [
    {
     "data": {
      "text/plain": [
       "(83256, 243441)"
      ]
     },
     "execution_count": 4,
     "metadata": {},
     "output_type": "execute_result"
    }
   ],
   "source": [
    "train_users = train_df['User-ID'].unique()\n",
    "train_books = train_df['Book-ID'].unique()\n",
    "\n",
    "len(train_users), len(train_books)"
   ]
  },
  {
   "cell_type": "code",
   "execution_count": 5,
   "id": "e37b65fe-4e31-4ce8-a379-10027903de2e",
   "metadata": {},
   "outputs": [
    {
     "data": {
      "text/plain": [
       "(21909, 62333)"
      ]
     },
     "execution_count": 5,
     "metadata": {},
     "output_type": "execute_result"
    }
   ],
   "source": [
    "test_users = test_df['User-ID'].unique()\n",
    "test_books = test_df['Book-ID'].unique()\n",
    "\n",
    "len(test_users), len(test_books)"
   ]
  },
  {
   "cell_type": "code",
   "execution_count": 6,
   "id": "0f8ad687-f299-4abe-8800-7aa2ebed42f8",
   "metadata": {},
   "outputs": [
    {
     "data": {
      "text/plain": [
       "(92101, 270056)"
      ]
     },
     "execution_count": 6,
     "metadata": {},
     "output_type": "execute_result"
    }
   ],
   "source": [
    "len(set(train_users) | set(test_users)), len(set(train_books) | set(test_books))"
   ]
  },
  {
   "cell_type": "markdown",
   "id": "2bdb91f0-3379-41ff-adeb-1517c26fe0a1",
   "metadata": {},
   "source": [
    "새로운 유저, 새로운 책이 분명 있음"
   ]
  },
  {
   "cell_type": "code",
   "execution_count": 7,
   "id": "6c7004c0-c6b9-4242-86ba-a24fb6547be3",
   "metadata": {},
   "outputs": [
    {
     "data": {
      "text/html": [
       "<div>\n",
       "<style scoped>\n",
       "    .dataframe tbody tr th:only-of-type {\n",
       "        vertical-align: middle;\n",
       "    }\n",
       "\n",
       "    .dataframe tbody tr th {\n",
       "        vertical-align: top;\n",
       "    }\n",
       "\n",
       "    .dataframe thead th {\n",
       "        text-align: right;\n",
       "    }\n",
       "</style>\n",
       "<table border=\"1\" class=\"dataframe\">\n",
       "  <thead>\n",
       "    <tr style=\"text-align: right;\">\n",
       "      <th></th>\n",
       "      <th>User-ID</th>\n",
       "      <th>Book-ID</th>\n",
       "      <th>Book-Rating</th>\n",
       "      <th>Age</th>\n",
       "      <th>Location</th>\n",
       "      <th>Book-Title</th>\n",
       "      <th>Book-Author</th>\n",
       "      <th>Year-Of-Publication</th>\n",
       "      <th>Publisher</th>\n",
       "    </tr>\n",
       "    <tr>\n",
       "      <th>ID</th>\n",
       "      <th></th>\n",
       "      <th></th>\n",
       "      <th></th>\n",
       "      <th></th>\n",
       "      <th></th>\n",
       "      <th></th>\n",
       "      <th></th>\n",
       "      <th></th>\n",
       "      <th></th>\n",
       "    </tr>\n",
       "  </thead>\n",
       "  <tbody>\n",
       "    <tr>\n",
       "      <th>TRAIN_000000</th>\n",
       "      <td>USER_00000</td>\n",
       "      <td>BOOK_044368</td>\n",
       "      <td>8</td>\n",
       "      <td>23.0</td>\n",
       "      <td>sackville, new brunswick, canada</td>\n",
       "      <td>Road Taken</td>\n",
       "      <td>Rona Jaffe</td>\n",
       "      <td>2001.0</td>\n",
       "      <td>Mira</td>\n",
       "    </tr>\n",
       "    <tr>\n",
       "      <th>TRAIN_000001</th>\n",
       "      <td>USER_00000</td>\n",
       "      <td>BOOK_081205</td>\n",
       "      <td>8</td>\n",
       "      <td>23.0</td>\n",
       "      <td>sackville, new brunswick, canada</td>\n",
       "      <td>Macbeth (New Penguin Shakespeare)</td>\n",
       "      <td>William Shakespeare</td>\n",
       "      <td>1981.0</td>\n",
       "      <td>Penguin Books</td>\n",
       "    </tr>\n",
       "    <tr>\n",
       "      <th>TRAIN_000002</th>\n",
       "      <td>USER_00000</td>\n",
       "      <td>BOOK_086781</td>\n",
       "      <td>0</td>\n",
       "      <td>23.0</td>\n",
       "      <td>sackville, new brunswick, canada</td>\n",
       "      <td>Waverley (Penguin English Library)</td>\n",
       "      <td>Walter Scott</td>\n",
       "      <td>1981.0</td>\n",
       "      <td>Penguin Books</td>\n",
       "    </tr>\n",
       "    <tr>\n",
       "      <th>TRAIN_000003</th>\n",
       "      <td>USER_00000</td>\n",
       "      <td>BOOK_098622</td>\n",
       "      <td>0</td>\n",
       "      <td>23.0</td>\n",
       "      <td>sackville, new brunswick, canada</td>\n",
       "      <td>Mother Earth Father Sky</td>\n",
       "      <td>Sue Harrison</td>\n",
       "      <td>1991.0</td>\n",
       "      <td>Avon</td>\n",
       "    </tr>\n",
       "    <tr>\n",
       "      <th>TRAIN_000004</th>\n",
       "      <td>USER_00000</td>\n",
       "      <td>BOOK_180810</td>\n",
       "      <td>8</td>\n",
       "      <td>23.0</td>\n",
       "      <td>sackville, new brunswick, canada</td>\n",
       "      <td>She Who Remembers</td>\n",
       "      <td>Linda Lay Shuler</td>\n",
       "      <td>1989.0</td>\n",
       "      <td>Signet Book</td>\n",
       "    </tr>\n",
       "  </tbody>\n",
       "</table>\n",
       "</div>"
      ],
      "text/plain": [
       "                 User-ID      Book-ID  Book-Rating   Age   \n",
       "ID                                                         \n",
       "TRAIN_000000  USER_00000  BOOK_044368            8  23.0  \\\n",
       "TRAIN_000001  USER_00000  BOOK_081205            8  23.0   \n",
       "TRAIN_000002  USER_00000  BOOK_086781            0  23.0   \n",
       "TRAIN_000003  USER_00000  BOOK_098622            0  23.0   \n",
       "TRAIN_000004  USER_00000  BOOK_180810            8  23.0   \n",
       "\n",
       "                                      Location   \n",
       "ID                                               \n",
       "TRAIN_000000  sackville, new brunswick, canada  \\\n",
       "TRAIN_000001  sackville, new brunswick, canada   \n",
       "TRAIN_000002  sackville, new brunswick, canada   \n",
       "TRAIN_000003  sackville, new brunswick, canada   \n",
       "TRAIN_000004  sackville, new brunswick, canada   \n",
       "\n",
       "                                      Book-Title          Book-Author   \n",
       "ID                                                                      \n",
       "TRAIN_000000                          Road Taken           Rona Jaffe  \\\n",
       "TRAIN_000001   Macbeth (New Penguin Shakespeare)  William Shakespeare   \n",
       "TRAIN_000002  Waverley (Penguin English Library)         Walter Scott   \n",
       "TRAIN_000003             Mother Earth Father Sky         Sue Harrison   \n",
       "TRAIN_000004                   She Who Remembers     Linda Lay Shuler   \n",
       "\n",
       "              Year-Of-Publication      Publisher  \n",
       "ID                                                \n",
       "TRAIN_000000               2001.0           Mira  \n",
       "TRAIN_000001               1981.0  Penguin Books  \n",
       "TRAIN_000002               1981.0  Penguin Books  \n",
       "TRAIN_000003               1991.0           Avon  \n",
       "TRAIN_000004               1989.0    Signet Book  "
      ]
     },
     "execution_count": 7,
     "metadata": {},
     "output_type": "execute_result"
    }
   ],
   "source": [
    "train_df.head()"
   ]
  },
  {
   "cell_type": "markdown",
   "id": "c37910e6-9481-4c2f-ab12-039ca6543a59",
   "metadata": {},
   "source": [
    "User feature\n",
    " * Age: int\n",
    " * Location: string\n",
    "\n",
    "Book feature\n",
    " * Book-Title: string\n",
    " * Book-Author: string\n",
    " * Year-Of-Pulication: int\n",
    " * Publisher: string"
   ]
  },
  {
   "cell_type": "markdown",
   "id": "d57114ba-03e0-463e-84f2-5baf375f06d9",
   "metadata": {},
   "source": [
    "특징의 분해 이전에 label 형태로도 해볼 수 있음"
   ]
  },
  {
   "cell_type": "markdown",
   "id": "51039168-6946-402b-bb6c-8ffddf8f7ecc",
   "metadata": {},
   "source": [
    "# Feature Selection"
   ]
  },
  {
   "cell_type": "code",
   "execution_count": 8,
   "id": "1b22c596-17c4-4ead-ac76-7288c5d03d00",
   "metadata": {},
   "outputs": [
    {
     "data": {
      "text/plain": [
       "Index(['User-ID', 'Book-ID', 'Age', 'Location', 'Book-Title', 'Book-Author',\n",
       "       'Year-Of-Publication', 'Publisher'],\n",
       "      dtype='object')"
      ]
     },
     "execution_count": 8,
     "metadata": {},
     "output_type": "execute_result"
    }
   ],
   "source": [
    "features = test_df.columns\n",
    "features"
   ]
  },
  {
   "cell_type": "code",
   "execution_count": 9,
   "id": "2e687b27-055b-4541-9cf1-f95d74de3bef",
   "metadata": {},
   "outputs": [],
   "source": [
    "continuous_features = ['Age', 'Year-Of-Publication']\n",
    "categorical_features = ['Location', 'Book-Title', 'Book-Author', 'Publisher']"
   ]
  },
  {
   "cell_type": "code",
   "execution_count": 10,
   "id": "10e22f70-bab6-4de6-bfdb-090af36f14bd",
   "metadata": {},
   "outputs": [
    {
     "data": {
      "text/html": [
       "<div>\n",
       "<style scoped>\n",
       "    .dataframe tbody tr th:only-of-type {\n",
       "        vertical-align: middle;\n",
       "    }\n",
       "\n",
       "    .dataframe tbody tr th {\n",
       "        vertical-align: top;\n",
       "    }\n",
       "\n",
       "    .dataframe thead th {\n",
       "        text-align: right;\n",
       "    }\n",
       "</style>\n",
       "<table border=\"1\" class=\"dataframe\">\n",
       "  <thead>\n",
       "    <tr style=\"text-align: right;\">\n",
       "      <th></th>\n",
       "      <th>User-ID</th>\n",
       "      <th>Book-ID</th>\n",
       "      <th>Book-Rating</th>\n",
       "      <th>Age</th>\n",
       "      <th>Book-Title</th>\n",
       "      <th>Book-Author</th>\n",
       "      <th>Year-Of-Publication</th>\n",
       "      <th>Publisher</th>\n",
       "      <th>Location_country</th>\n",
       "      <th>Location_city</th>\n",
       "    </tr>\n",
       "    <tr>\n",
       "      <th>ID</th>\n",
       "      <th></th>\n",
       "      <th></th>\n",
       "      <th></th>\n",
       "      <th></th>\n",
       "      <th></th>\n",
       "      <th></th>\n",
       "      <th></th>\n",
       "      <th></th>\n",
       "      <th></th>\n",
       "      <th></th>\n",
       "    </tr>\n",
       "  </thead>\n",
       "  <tbody>\n",
       "    <tr>\n",
       "      <th>TRAIN_000000</th>\n",
       "      <td>USER_00000</td>\n",
       "      <td>BOOK_044368</td>\n",
       "      <td>8</td>\n",
       "      <td>23.0</td>\n",
       "      <td>Road Taken</td>\n",
       "      <td>Rona Jaffe</td>\n",
       "      <td>2001.0</td>\n",
       "      <td>Mira</td>\n",
       "      <td>canada</td>\n",
       "      <td>newbrunswick</td>\n",
       "    </tr>\n",
       "    <tr>\n",
       "      <th>TRAIN_000001</th>\n",
       "      <td>USER_00000</td>\n",
       "      <td>BOOK_081205</td>\n",
       "      <td>8</td>\n",
       "      <td>23.0</td>\n",
       "      <td>Macbeth (New Penguin Shakespeare)</td>\n",
       "      <td>William Shakespeare</td>\n",
       "      <td>1981.0</td>\n",
       "      <td>Penguin Books</td>\n",
       "      <td>canada</td>\n",
       "      <td>newbrunswick</td>\n",
       "    </tr>\n",
       "    <tr>\n",
       "      <th>TRAIN_000002</th>\n",
       "      <td>USER_00000</td>\n",
       "      <td>BOOK_086781</td>\n",
       "      <td>0</td>\n",
       "      <td>23.0</td>\n",
       "      <td>Waverley (Penguin English Library)</td>\n",
       "      <td>Walter Scott</td>\n",
       "      <td>1981.0</td>\n",
       "      <td>Penguin Books</td>\n",
       "      <td>canada</td>\n",
       "      <td>newbrunswick</td>\n",
       "    </tr>\n",
       "    <tr>\n",
       "      <th>TRAIN_000003</th>\n",
       "      <td>USER_00000</td>\n",
       "      <td>BOOK_098622</td>\n",
       "      <td>0</td>\n",
       "      <td>23.0</td>\n",
       "      <td>Mother Earth Father Sky</td>\n",
       "      <td>Sue Harrison</td>\n",
       "      <td>1991.0</td>\n",
       "      <td>Avon</td>\n",
       "      <td>canada</td>\n",
       "      <td>newbrunswick</td>\n",
       "    </tr>\n",
       "    <tr>\n",
       "      <th>TRAIN_000004</th>\n",
       "      <td>USER_00000</td>\n",
       "      <td>BOOK_180810</td>\n",
       "      <td>8</td>\n",
       "      <td>23.0</td>\n",
       "      <td>She Who Remembers</td>\n",
       "      <td>Linda Lay Shuler</td>\n",
       "      <td>1989.0</td>\n",
       "      <td>Signet Book</td>\n",
       "      <td>canada</td>\n",
       "      <td>newbrunswick</td>\n",
       "    </tr>\n",
       "  </tbody>\n",
       "</table>\n",
       "</div>"
      ],
      "text/plain": [
       "                 User-ID      Book-ID  Book-Rating   Age   \n",
       "ID                                                         \n",
       "TRAIN_000000  USER_00000  BOOK_044368            8  23.0  \\\n",
       "TRAIN_000001  USER_00000  BOOK_081205            8  23.0   \n",
       "TRAIN_000002  USER_00000  BOOK_086781            0  23.0   \n",
       "TRAIN_000003  USER_00000  BOOK_098622            0  23.0   \n",
       "TRAIN_000004  USER_00000  BOOK_180810            8  23.0   \n",
       "\n",
       "                                      Book-Title          Book-Author   \n",
       "ID                                                                      \n",
       "TRAIN_000000                          Road Taken           Rona Jaffe  \\\n",
       "TRAIN_000001   Macbeth (New Penguin Shakespeare)  William Shakespeare   \n",
       "TRAIN_000002  Waverley (Penguin English Library)         Walter Scott   \n",
       "TRAIN_000003             Mother Earth Father Sky         Sue Harrison   \n",
       "TRAIN_000004                   She Who Remembers     Linda Lay Shuler   \n",
       "\n",
       "              Year-Of-Publication      Publisher Location_country   \n",
       "ID                                                                  \n",
       "TRAIN_000000               2001.0           Mira           canada  \\\n",
       "TRAIN_000001               1981.0  Penguin Books           canada   \n",
       "TRAIN_000002               1981.0  Penguin Books           canada   \n",
       "TRAIN_000003               1991.0           Avon           canada   \n",
       "TRAIN_000004               1989.0    Signet Book           canada   \n",
       "\n",
       "             Location_city  \n",
       "ID                          \n",
       "TRAIN_000000  newbrunswick  \n",
       "TRAIN_000001  newbrunswick  \n",
       "TRAIN_000002  newbrunswick  \n",
       "TRAIN_000003  newbrunswick  \n",
       "TRAIN_000004  newbrunswick  "
      ]
     },
     "execution_count": 10,
     "metadata": {},
     "output_type": "execute_result"
    }
   ],
   "source": [
    "train_df['Location'] = train_df['Location'].str.replace(' ', '')\n",
    "train_df['Location_country'] = train_df['Location'].apply(lambda x: x.split(',')[-1])\n",
    "train_df['Location_city'] = train_df['Location'].apply(lambda x: x.split(',')[-2])\n",
    "train_df.drop(columns='Location', inplace=True)\n",
    "train_df.head()"
   ]
  },
  {
   "cell_type": "code",
   "execution_count": 11,
   "id": "328e87fe-8091-4c84-bd0c-c43f2fe4f5a1",
   "metadata": {},
   "outputs": [
    {
     "data": {
      "text/html": [
       "<div>\n",
       "<style scoped>\n",
       "    .dataframe tbody tr th:only-of-type {\n",
       "        vertical-align: middle;\n",
       "    }\n",
       "\n",
       "    .dataframe tbody tr th {\n",
       "        vertical-align: top;\n",
       "    }\n",
       "\n",
       "    .dataframe thead th {\n",
       "        text-align: right;\n",
       "    }\n",
       "</style>\n",
       "<table border=\"1\" class=\"dataframe\">\n",
       "  <thead>\n",
       "    <tr style=\"text-align: right;\">\n",
       "      <th></th>\n",
       "      <th>User-ID</th>\n",
       "      <th>Book-ID</th>\n",
       "      <th>Age</th>\n",
       "      <th>Book-Title</th>\n",
       "      <th>Book-Author</th>\n",
       "      <th>Year-Of-Publication</th>\n",
       "      <th>Publisher</th>\n",
       "      <th>Location_country</th>\n",
       "      <th>Location_city</th>\n",
       "    </tr>\n",
       "    <tr>\n",
       "      <th>ID</th>\n",
       "      <th></th>\n",
       "      <th></th>\n",
       "      <th></th>\n",
       "      <th></th>\n",
       "      <th></th>\n",
       "      <th></th>\n",
       "      <th></th>\n",
       "      <th></th>\n",
       "      <th></th>\n",
       "    </tr>\n",
       "  </thead>\n",
       "  <tbody>\n",
       "    <tr>\n",
       "      <th>TEST_000000</th>\n",
       "      <td>USER_00008</td>\n",
       "      <td>BOOK_047966</td>\n",
       "      <td>37.0</td>\n",
       "      <td>Birds of Prey: A Novel of Suspense</td>\n",
       "      <td>J.A. Jance</td>\n",
       "      <td>2002.0</td>\n",
       "      <td>Avon</td>\n",
       "      <td>usa</td>\n",
       "      <td>ohio</td>\n",
       "    </tr>\n",
       "    <tr>\n",
       "      <th>TEST_000001</th>\n",
       "      <td>USER_00008</td>\n",
       "      <td>BOOK_119494</td>\n",
       "      <td>37.0</td>\n",
       "      <td>Midnight Voices</td>\n",
       "      <td>JOHN SAUL</td>\n",
       "      <td>2003.0</td>\n",
       "      <td>Ballantine Books</td>\n",
       "      <td>usa</td>\n",
       "      <td>ohio</td>\n",
       "    </tr>\n",
       "    <tr>\n",
       "      <th>TEST_000002</th>\n",
       "      <td>USER_00008</td>\n",
       "      <td>BOOK_151775</td>\n",
       "      <td>37.0</td>\n",
       "      <td>Breaking Free : A Prescription for Personal an...</td>\n",
       "      <td>David M.  Noer</td>\n",
       "      <td>1996.0</td>\n",
       "      <td>Jossey-Bass</td>\n",
       "      <td>usa</td>\n",
       "      <td>ohio</td>\n",
       "    </tr>\n",
       "    <tr>\n",
       "      <th>TEST_000003</th>\n",
       "      <td>USER_00008</td>\n",
       "      <td>BOOK_176255</td>\n",
       "      <td>37.0</td>\n",
       "      <td>Bitter Harvest</td>\n",
       "      <td>Ann Rule</td>\n",
       "      <td>1999.0</td>\n",
       "      <td>Pocket</td>\n",
       "      <td>usa</td>\n",
       "      <td>ohio</td>\n",
       "    </tr>\n",
       "    <tr>\n",
       "      <th>TEST_000004</th>\n",
       "      <td>USER_00008</td>\n",
       "      <td>BOOK_187307</td>\n",
       "      <td>37.0</td>\n",
       "      <td>Embraced by the Light</td>\n",
       "      <td>Betty J. Eadie</td>\n",
       "      <td>1994.0</td>\n",
       "      <td>Bantam Books</td>\n",
       "      <td>usa</td>\n",
       "      <td>ohio</td>\n",
       "    </tr>\n",
       "  </tbody>\n",
       "</table>\n",
       "</div>"
      ],
      "text/plain": [
       "                User-ID      Book-ID   Age   \n",
       "ID                                           \n",
       "TEST_000000  USER_00008  BOOK_047966  37.0  \\\n",
       "TEST_000001  USER_00008  BOOK_119494  37.0   \n",
       "TEST_000002  USER_00008  BOOK_151775  37.0   \n",
       "TEST_000003  USER_00008  BOOK_176255  37.0   \n",
       "TEST_000004  USER_00008  BOOK_187307  37.0   \n",
       "\n",
       "                                                    Book-Title   \n",
       "ID                                                               \n",
       "TEST_000000                 Birds of Prey: A Novel of Suspense  \\\n",
       "TEST_000001                                    Midnight Voices   \n",
       "TEST_000002  Breaking Free : A Prescription for Personal an...   \n",
       "TEST_000003                                     Bitter Harvest   \n",
       "TEST_000004                              Embraced by the Light   \n",
       "\n",
       "                Book-Author  Year-Of-Publication         Publisher   \n",
       "ID                                                                   \n",
       "TEST_000000      J.A. Jance               2002.0              Avon  \\\n",
       "TEST_000001       JOHN SAUL               2003.0  Ballantine Books   \n",
       "TEST_000002  David M.  Noer               1996.0       Jossey-Bass   \n",
       "TEST_000003        Ann Rule               1999.0            Pocket   \n",
       "TEST_000004  Betty J. Eadie               1994.0      Bantam Books   \n",
       "\n",
       "            Location_country Location_city  \n",
       "ID                                          \n",
       "TEST_000000              usa          ohio  \n",
       "TEST_000001              usa          ohio  \n",
       "TEST_000002              usa          ohio  \n",
       "TEST_000003              usa          ohio  \n",
       "TEST_000004              usa          ohio  "
      ]
     },
     "execution_count": 11,
     "metadata": {},
     "output_type": "execute_result"
    }
   ],
   "source": [
    "test_df['Location'] = test_df['Location'].str.replace(' ', '')\n",
    "test_df['Location_country'] = test_df['Location'].apply(lambda x: x.split(',')[-1])\n",
    "test_df['Location_city'] = test_df['Location'].apply(lambda x: x.split(',')[-2])\n",
    "test_df.drop(columns='Location', inplace=True)\n",
    "test_df.head()"
   ]
  },
  {
   "cell_type": "markdown",
   "id": "20482046-c93a-4f94-bcdd-52994a8af400",
   "metadata": {},
   "source": [
    "# encoding\n",
    "\n",
    "for location_country, publisher"
   ]
  },
  {
   "cell_type": "code",
   "execution_count": 12,
   "id": "c6f87274-5fe4-401f-979c-2bd862f8b3ac",
   "metadata": {},
   "outputs": [],
   "source": [
    "from sklearn.preprocessing import OneHotEncoder"
   ]
  },
  {
   "cell_type": "code",
   "execution_count": 13,
   "id": "13448b23-c176-4731-bc89-4c750792eb99",
   "metadata": {},
   "outputs": [],
   "source": [
    "cont_encoder = OneHotEncoder(handle_unknown='ignore', dtype='bool')\n",
    "train_country_array = cont_encoder.fit_transform(train_df[['Location_country']]).toarray()\n",
    "test_country_array = cont_encoder.transform(test_df[['Location_country']]).toarray()"
   ]
  },
  {
   "cell_type": "code",
   "execution_count": 14,
   "id": "491a402c-ae25-4c40-9eed-c36ede970bed",
   "metadata": {},
   "outputs": [],
   "source": [
    "pub_encoder = OneHotEncoder(handle_unknown='ignore', dtype='bool')\n",
    "train_publisher_array = pub_encoder.fit_transform(train_df[['Publisher']]).toarray()\n",
    "test_publisher_array = pub_encoder.transform(train_df[['Publisher']]).toarray()"
   ]
  },
  {
   "cell_type": "markdown",
   "id": "8faed6d6-9ca0-4c50-b84b-21e2c2d897db",
   "metadata": {},
   "source": [
    "# scaling"
   ]
  },
  {
   "cell_type": "code",
   "execution_count": 15,
   "id": "0b466a2e-aff2-46e7-a9b7-970affef8416",
   "metadata": {},
   "outputs": [],
   "source": [
    "from sklearn.preprocessing import StandardScaler"
   ]
  },
  {
   "cell_type": "code",
   "execution_count": 16,
   "id": "e7435345-74de-463c-9b82-2e76b466b532",
   "metadata": {},
   "outputs": [],
   "source": [
    "scaler = StandardScaler()\n",
    "train_cont_array = scaler.fit_transform(train_df[continuous_features])\n",
    "test_cont_array = scaler.transform(test_df[continuous_features])"
   ]
  },
  {
   "cell_type": "markdown",
   "id": "87b1d091-bbc5-45a7-b15f-4f90d60ff4e2",
   "metadata": {},
   "source": [
    "# merge prcessed data"
   ]
  },
  {
   "cell_type": "code",
   "execution_count": 17,
   "id": "8734759d-ca07-4c26-b48d-e67339e2cba5",
   "metadata": {},
   "outputs": [
    {
     "data": {
      "text/plain": [
       "((871393, 2), (871393, 243), (871393, 15505))"
      ]
     },
     "execution_count": 17,
     "metadata": {},
     "output_type": "execute_result"
    }
   ],
   "source": [
    "train_cont_array.shape, train_country_array.shape, train_publisher_array.shape"
   ]
  },
  {
   "cell_type": "code",
   "execution_count": 18,
   "id": "780609ea",
   "metadata": {},
   "outputs": [],
   "source": [
    "# train_x = {\n",
    "#     'input_continuous': train_cont_array,\n",
    "#     'input_country': train_country_array,\n",
    "# }\n",
    "\n",
    "# test_x = {\n",
    "#     'input_continuous': test_cont_array,\n",
    "#     'input_country': test_country_array,\n",
    "# }\n",
    "\n",
    "train_x = [train_cont_array, train_country_array, train_publisher_array]\n",
    "test_x = [test_cont_array, test_country_array, test_publisher_array]"
   ]
  },
  {
   "cell_type": "code",
   "execution_count": 19,
   "id": "0a05a430-7f0a-4848-8dad-74b36554bd51",
   "metadata": {},
   "outputs": [],
   "source": [
    "# train_x = np.concatenate([train_cont_array, train_df[['Location_country']].values], axis=1) #train_publisher_array\n",
    "# test_x = np.concatenate([test_cont_array, test_df[['Location_country']].values], axis=1) #test_publisher_array\n",
    "\n",
    "# train_x.shape, test_x.shape"
   ]
  },
  {
   "cell_type": "code",
   "execution_count": 20,
   "id": "3628cab0-e333-49e0-9eba-842d14f05ab9",
   "metadata": {},
   "outputs": [
    {
     "data": {
      "text/plain": [
       "(871393,)"
      ]
     },
     "execution_count": 20,
     "metadata": {},
     "output_type": "execute_result"
    }
   ],
   "source": [
    "train_y = train_df['Book-Rating'].values\n",
    "train_y.shape"
   ]
  },
  {
   "cell_type": "code",
   "execution_count": 21,
   "id": "92133ccc-5560-45c0-b88f-b84e16736032",
   "metadata": {},
   "outputs": [],
   "source": [
    "# train_array = np.concatenate([train_cont_array, train_country_array, train_publisher_array], axis=1)\n",
    "# test_array = np.concatenate([test_cont_array, test_country_array, test_publisher_array], axis=1)"
   ]
  },
  {
   "attachments": {},
   "cell_type": "markdown",
   "id": "a690f085-d1b1-4271-8779-aca955767ba2",
   "metadata": {
    "tags": []
   },
   "source": [
    "# model"
   ]
  },
  {
   "cell_type": "code",
   "execution_count": 22,
   "id": "8cde1097",
   "metadata": {},
   "outputs": [],
   "source": [
    "alpha = 0.001"
   ]
  },
  {
   "cell_type": "code",
   "execution_count": 23,
   "id": "15f15399",
   "metadata": {},
   "outputs": [
    {
     "data": {
      "text/plain": [
       "243"
      ]
     },
     "execution_count": 23,
     "metadata": {},
     "output_type": "execute_result"
    }
   ],
   "source": [
    "train_country_array.shape[1]"
   ]
  },
  {
   "cell_type": "code",
   "execution_count": 24,
   "id": "7763b5e6",
   "metadata": {},
   "outputs": [],
   "source": [
    "# define input tensor\n",
    "input_continuous = tf.keras.Input(shape=train_cont_array.shape[1], dtype=tf.float32)\n",
    "input_country = tf.keras.Input(shape=train_country_array.shape[1], dtype=tf.float32)\n",
    "input_publisher = tf.keras.Input(shape=train_publisher_array.shape[1], dtype=tf.float32)\n",
    "\n",
    "# # embedding layer\n",
    "# embedding_layer = tf.keras.layers.Embedding(\n",
    "#     train_country_array.shape[1], 100)(input_country)\n",
    "\n",
    "# # rnn layer\n",
    "# country_layer = tf.keras.layers.SimpleRNN(\n",
    "#     100, return_sequences=False, dtype=np.float32)(embedding_layer)\n",
    "\n",
    "# concatenate\n",
    "x = tf.keras.layers.Concatenate(axis=-1)([input_continuous, input_country, input_publisher])\n",
    "# # concatenate\n",
    "# x = tf.keras.layers.Concatenate(axis=-1)([input_continuous, input_country])\n",
    "\n",
    "# hidden layer\n",
    "x = tf.keras.layers.Dense(\n",
    "    64, activation='relu', \n",
    "    kernel_regularizer=tf.keras.regularizers.l2(alpha))(x)\n",
    "\n",
    "# hidden layer\n",
    "x = tf.keras.layers.Dense(\n",
    "    16, activation='relu',\n",
    "    kernel_regularizer=tf.keras.regularizers.l2(alpha))(x)\n",
    "\n",
    "# output layer\n",
    "x = tf.keras.layers.Dense(1, activation='linear')(x)\n",
    "\n",
    "model = tf.keras.Model([input_continuous, input_country, input_publisher], x)"
   ]
  },
  {
   "cell_type": "code",
   "execution_count": 25,
   "id": "b1ffc8c5",
   "metadata": {},
   "outputs": [],
   "source": [
    "# 임시 보류\n",
    "# # define input tensor\n",
    "# input_continuous = tf.keras.Input(shape=train_cont_array.shape[1], dtype=tf.float32)\n",
    "# input_country = tf.keras.Input(shape=train_country_array.shape[1], dtype=bool)\n",
    "\n",
    "# # embedding layer\n",
    "# embedding_layer = tf.keras.layers.Embedding(\n",
    "#     train_country_array.shape[1], 100)(input_country)\n",
    "\n",
    "# # rnn layer\n",
    "# country_layer = tf.keras.layers.SimpleRNN(\n",
    "#     100, return_sequences=False, dtype=np.float32)(embedding_layer)\n",
    "\n",
    "# # concatenate\n",
    "# x = tf.keras.layers.Concatenate(axis=-1)([input_continuous, country_layer])\n",
    "# # # concatenate\n",
    "# # x = tf.keras.layers.Concatenate(axis=-1)([input_continuous, input_country])\n",
    "\n",
    "# # hidden layer\n",
    "# x = tf.keras.layers.Dense(\n",
    "#     64, activation='relu', \n",
    "#     kernel_regularizer=tf.keras.regularizers.l2(alpha))(x)\n",
    "\n",
    "# # hidden layer\n",
    "# x = tf.keras.layers.Dense(\n",
    "#     16, activation='relu',\n",
    "#     kernel_regularizer=tf.keras.regularizers.l2(alpha))(x)\n",
    "\n",
    "# # output layer\n",
    "# x = tf.keras.layers.Dense(1, activation='linear')(x)\n",
    "\n",
    "# model = tf.keras.Model([input_continuous, input_country], x)"
   ]
  },
  {
   "cell_type": "code",
   "execution_count": 26,
   "id": "602a2b94",
   "metadata": {},
   "outputs": [
    {
     "name": "stdout",
     "output_type": "stream",
     "text": [
      "Model: \"model\"\n",
      "__________________________________________________________________________________________________\n",
      " Layer (type)                   Output Shape         Param #     Connected to                     \n",
      "==================================================================================================\n",
      " input_1 (InputLayer)           [(None, 2)]          0           []                               \n",
      "                                                                                                  \n",
      " input_2 (InputLayer)           [(None, 243)]        0           []                               \n",
      "                                                                                                  \n",
      " input_3 (InputLayer)           [(None, 15505)]      0           []                               \n",
      "                                                                                                  \n",
      " concatenate (Concatenate)      (None, 15750)        0           ['input_1[0][0]',                \n",
      "                                                                  'input_2[0][0]',                \n",
      "                                                                  'input_3[0][0]']                \n",
      "                                                                                                  \n",
      " dense (Dense)                  (None, 64)           1008064     ['concatenate[0][0]']            \n",
      "                                                                                                  \n",
      " dense_1 (Dense)                (None, 16)           1040        ['dense[0][0]']                  \n",
      "                                                                                                  \n",
      " dense_2 (Dense)                (None, 1)            17          ['dense_1[0][0]']                \n",
      "                                                                                                  \n",
      "==================================================================================================\n",
      "Total params: 1,009,121\n",
      "Trainable params: 1,009,121\n",
      "Non-trainable params: 0\n",
      "__________________________________________________________________________________________________\n"
     ]
    }
   ],
   "source": [
    "model.summary()"
   ]
  },
  {
   "cell_type": "code",
   "execution_count": 27,
   "id": "1195b649",
   "metadata": {},
   "outputs": [],
   "source": [
    "learning_rate = 0.001\n",
    "batch_size = 100\n",
    "epochs = 100"
   ]
  },
  {
   "cell_type": "code",
   "execution_count": 28,
   "id": "3d20442e",
   "metadata": {},
   "outputs": [],
   "source": [
    "# define optimizer RMSProp used instead of RProp\n",
    "optimizer = tf.keras.optimizers.Adam(learning_rate=learning_rate)\n",
    "\n",
    "# model compile\n",
    "model.compile(optimizer=optimizer, loss='mse', metrics='mse')"
   ]
  },
  {
   "cell_type": "code",
   "execution_count": 29,
   "id": "eef8947c",
   "metadata": {},
   "outputs": [
    {
     "name": "stderr",
     "output_type": "stream",
     "text": [
      "2023-04-27 06:11:17.539507: W tensorflow/tsl/framework/cpu_allocator_impl.cc:82] Allocation of 12159842765 exceeds 10% of free system memory.\n",
      "2023-04-27 06:11:24.424300: W tensorflow/tsl/framework/cpu_allocator_impl.cc:82] Allocation of 12159842765 exceeds 10% of free system memory.\n"
     ]
    },
    {
     "name": "stdout",
     "output_type": "stream",
     "text": [
      "Epoch 1/100\n",
      "7843/7843 [==============================] - 31s 4ms/step - loss: 14.5509 - mse: 14.4399 - val_loss: 14.6336 - val_mse: 14.5141\n",
      "Epoch 2/100\n",
      "7843/7843 [==============================] - 28s 4ms/step - loss: 14.4060 - mse: 14.2861 - val_loss: 14.6133 - val_mse: 14.4968\n",
      "Epoch 3/100\n",
      "7843/7843 [==============================] - 28s 4ms/step - loss: 14.3619 - mse: 14.2482 - val_loss: 14.5999 - val_mse: 14.4900\n",
      "Epoch 4/100\n",
      "7843/7843 [==============================] - 28s 4ms/step - loss: 14.3342 - mse: 14.2245 - val_loss: 14.5551 - val_mse: 14.4505\n",
      "Epoch 5/100\n",
      "7843/7843 [==============================] - 28s 4ms/step - loss: 14.3137 - mse: 14.2070 - val_loss: 14.5396 - val_mse: 14.4371\n",
      "Epoch 6/100\n",
      "7843/7843 [==============================] - 28s 4ms/step - loss: 14.3015 - mse: 14.1941 - val_loss: 14.5898 - val_mse: 14.4862\n",
      "Epoch 7/100\n",
      "7843/7843 [==============================] - 27s 3ms/step - loss: 14.2922 - mse: 14.1844 - val_loss: 14.5523 - val_mse: 14.4488\n",
      "Epoch 8/100\n",
      "7843/7843 [==============================] - 28s 4ms/step - loss: 14.2825 - mse: 14.1748 - val_loss: 14.5521 - val_mse: 14.4501\n",
      "Epoch 9/100\n",
      "7843/7843 [==============================] - 29s 4ms/step - loss: 14.2763 - mse: 14.1701 - val_loss: 14.5763 - val_mse: 14.4728\n",
      "Epoch 10/100\n",
      "7843/7843 [==============================] - 28s 4ms/step - loss: 14.2677 - mse: 14.1611 - val_loss: 14.6502 - val_mse: 14.5479\n",
      "Epoch 11/100\n",
      "7843/7843 [==============================] - 28s 4ms/step - loss: 14.2642 - mse: 14.1578 - val_loss: 14.6370 - val_mse: 14.5341\n",
      "Epoch 12/100\n",
      "7843/7843 [==============================] - 28s 4ms/step - loss: 14.2619 - mse: 14.1541 - val_loss: 14.5862 - val_mse: 14.4823\n",
      "Epoch 13/100\n",
      "7843/7843 [==============================] - 28s 4ms/step - loss: 14.2571 - mse: 14.1480 - val_loss: 14.6038 - val_mse: 14.4973\n",
      "Epoch 14/100\n",
      "7843/7843 [==============================] - 28s 4ms/step - loss: 14.2527 - mse: 14.1418 - val_loss: 14.6207 - val_mse: 14.5130\n",
      "Epoch 15/100\n",
      "7843/7843 [==============================] - 28s 4ms/step - loss: 14.2478 - mse: 14.1353 - val_loss: 14.5534 - val_mse: 14.4454\n",
      "Epoch 16/100\n",
      "7843/7843 [==============================] - 28s 4ms/step - loss: 14.2427 - mse: 14.1290 - val_loss: 14.5818 - val_mse: 14.4724\n",
      "Epoch 17/100\n",
      "7843/7843 [==============================] - 28s 4ms/step - loss: 14.2389 - mse: 14.1241 - val_loss: 14.6228 - val_mse: 14.5135\n",
      "Epoch 18/100\n",
      "7843/7843 [==============================] - 28s 4ms/step - loss: 14.2382 - mse: 14.1234 - val_loss: 14.5975 - val_mse: 14.4866\n",
      "Epoch 19/100\n",
      "7843/7843 [==============================] - 29s 4ms/step - loss: 14.2338 - mse: 14.1180 - val_loss: 14.5578 - val_mse: 14.4472\n",
      "Epoch 20/100\n",
      "7843/7843 [==============================] - 28s 4ms/step - loss: 14.2311 - mse: 14.1148 - val_loss: 14.6773 - val_mse: 14.5662\n",
      "Epoch 21/100\n",
      "7843/7843 [==============================] - 28s 4ms/step - loss: 14.2325 - mse: 14.1164 - val_loss: 14.5850 - val_mse: 14.4736\n",
      "Epoch 22/100\n",
      "7843/7843 [==============================] - 28s 4ms/step - loss: 14.2287 - mse: 14.1129 - val_loss: 14.5666 - val_mse: 14.4569\n",
      "Epoch 23/100\n",
      "7843/7843 [==============================] - 27s 3ms/step - loss: 14.2262 - mse: 14.1115 - val_loss: 14.6418 - val_mse: 14.5330\n",
      "Epoch 24/100\n",
      "7843/7843 [==============================] - 27s 3ms/step - loss: 14.2235 - mse: 14.1097 - val_loss: 14.6017 - val_mse: 14.4934\n",
      "Epoch 25/100\n",
      "7843/7843 [==============================] - 28s 4ms/step - loss: 14.2205 - mse: 14.1071 - val_loss: 14.6131 - val_mse: 14.5049\n",
      "Epoch 26/100\n",
      "7843/7843 [==============================] - 27s 4ms/step - loss: 14.2183 - mse: 14.1055 - val_loss: 14.6179 - val_mse: 14.5089\n",
      "Epoch 27/100\n",
      "7843/7843 [==============================] - 27s 3ms/step - loss: 14.2164 - mse: 14.1028 - val_loss: 14.6337 - val_mse: 14.5247\n",
      "Epoch 28/100\n",
      "7843/7843 [==============================] - 27s 3ms/step - loss: 14.2146 - mse: 14.1006 - val_loss: 14.6376 - val_mse: 14.5281\n",
      "Epoch 29/100\n",
      "7843/7843 [==============================] - 27s 4ms/step - loss: 14.2140 - mse: 14.0992 - val_loss: 14.6156 - val_mse: 14.5070\n",
      "Epoch 30/100\n",
      "7843/7843 [==============================] - 27s 3ms/step - loss: 14.2125 - mse: 14.0981 - val_loss: 14.6408 - val_mse: 14.5316\n",
      "Epoch 31/100\n",
      "7843/7843 [==============================] - 28s 4ms/step - loss: 14.2132 - mse: 14.0984 - val_loss: 14.5926 - val_mse: 14.4829\n",
      "Epoch 32/100\n",
      "7843/7843 [==============================] - 28s 4ms/step - loss: 14.2098 - mse: 14.0952 - val_loss: 14.6780 - val_mse: 14.5669\n",
      "Epoch 33/100\n",
      "7843/7843 [==============================] - 27s 3ms/step - loss: 14.2066 - mse: 14.0909 - val_loss: 14.6278 - val_mse: 14.5172\n",
      "Epoch 34/100\n",
      "7843/7843 [==============================] - 28s 4ms/step - loss: 14.2030 - mse: 14.0873 - val_loss: 14.6559 - val_mse: 14.5439\n",
      "Epoch 35/100\n",
      "7843/7843 [==============================] - 28s 4ms/step - loss: 14.2027 - mse: 14.0863 - val_loss: 14.5947 - val_mse: 14.4831\n",
      "Epoch 36/100\n",
      "7843/7843 [==============================] - 27s 3ms/step - loss: 14.2015 - mse: 14.0849 - val_loss: 14.6200 - val_mse: 14.5082\n",
      "Epoch 37/100\n",
      "7843/7843 [==============================] - 27s 3ms/step - loss: 14.2006 - mse: 14.0838 - val_loss: 14.6390 - val_mse: 14.5264\n",
      "Epoch 38/100\n",
      "7843/7843 [==============================] - 28s 4ms/step - loss: 14.1985 - mse: 14.0807 - val_loss: 14.5635 - val_mse: 14.4513\n",
      "Epoch 39/100\n",
      "7843/7843 [==============================] - 28s 4ms/step - loss: 14.1961 - mse: 14.0787 - val_loss: 14.6078 - val_mse: 14.4947\n",
      "Epoch 40/100\n",
      "7843/7843 [==============================] - 28s 4ms/step - loss: 14.1937 - mse: 14.0759 - val_loss: 14.7058 - val_mse: 14.5930\n",
      "Epoch 41/100\n",
      "7843/7843 [==============================] - 27s 3ms/step - loss: 14.1921 - mse: 14.0742 - val_loss: 14.5971 - val_mse: 14.4838\n",
      "Epoch 42/100\n",
      "7843/7843 [==============================] - 28s 4ms/step - loss: 14.1927 - mse: 14.0743 - val_loss: 14.6073 - val_mse: 14.4944\n",
      "Epoch 43/100\n",
      "7843/7843 [==============================] - 28s 4ms/step - loss: 14.1915 - mse: 14.0736 - val_loss: 14.6555 - val_mse: 14.5418\n",
      "Epoch 44/100\n",
      "7843/7843 [==============================] - 27s 3ms/step - loss: 14.1899 - mse: 14.0714 - val_loss: 14.6951 - val_mse: 14.5811\n",
      "Epoch 45/100\n",
      "7843/7843 [==============================] - 28s 4ms/step - loss: 14.1894 - mse: 14.0710 - val_loss: 14.7098 - val_mse: 14.5968\n",
      "Epoch 46/100\n",
      "7843/7843 [==============================] - 28s 4ms/step - loss: 14.1870 - mse: 14.0688 - val_loss: 14.6148 - val_mse: 14.5016\n",
      "Epoch 47/100\n",
      "7843/7843 [==============================] - 28s 4ms/step - loss: 14.1846 - mse: 14.0655 - val_loss: 14.6842 - val_mse: 14.5711\n",
      "Epoch 48/100\n",
      "7843/7843 [==============================] - 28s 4ms/step - loss: 14.1833 - mse: 14.0647 - val_loss: 14.6525 - val_mse: 14.5390\n",
      "Epoch 49/100\n",
      "7843/7843 [==============================] - 28s 4ms/step - loss: 14.1838 - mse: 14.0648 - val_loss: 14.6712 - val_mse: 14.5573\n",
      "Epoch 50/100\n",
      "7843/7843 [==============================] - 28s 4ms/step - loss: 14.1836 - mse: 14.0648 - val_loss: 14.6522 - val_mse: 14.5378\n",
      "Epoch 51/100\n",
      "7843/7843 [==============================] - 28s 4ms/step - loss: 14.1803 - mse: 14.0612 - val_loss: 14.7144 - val_mse: 14.6002\n",
      "Epoch 52/100\n",
      "7843/7843 [==============================] - 28s 4ms/step - loss: 14.1804 - mse: 14.0614 - val_loss: 14.6746 - val_mse: 14.5593\n",
      "Epoch 53/100\n",
      "7843/7843 [==============================] - 28s 4ms/step - loss: 14.1787 - mse: 14.0589 - val_loss: 14.7040 - val_mse: 14.5892\n",
      "Epoch 54/100\n",
      "7843/7843 [==============================] - 28s 4ms/step - loss: 14.1804 - mse: 14.0613 - val_loss: 14.6430 - val_mse: 14.5287\n",
      "Epoch 55/100\n",
      "7843/7843 [==============================] - 28s 4ms/step - loss: 14.1801 - mse: 14.0607 - val_loss: 14.6550 - val_mse: 14.5411\n",
      "Epoch 56/100\n",
      "7843/7843 [==============================] - 28s 4ms/step - loss: 14.1768 - mse: 14.0579 - val_loss: 14.6817 - val_mse: 14.5664\n",
      "Epoch 57/100\n",
      "7843/7843 [==============================] - 28s 4ms/step - loss: 14.1804 - mse: 14.0609 - val_loss: 14.6525 - val_mse: 14.5377\n",
      "Epoch 58/100\n",
      "7843/7843 [==============================] - 28s 4ms/step - loss: 14.1806 - mse: 14.0611 - val_loss: 14.7056 - val_mse: 14.5909\n",
      "Epoch 59/100\n",
      "7843/7843 [==============================] - 28s 4ms/step - loss: 14.1759 - mse: 14.0566 - val_loss: 14.6790 - val_mse: 14.5647\n",
      "Epoch 60/100\n",
      "7843/7843 [==============================] - 28s 4ms/step - loss: 14.1772 - mse: 14.0583 - val_loss: 14.6972 - val_mse: 14.5825\n",
      "Epoch 61/100\n",
      "7843/7843 [==============================] - 28s 4ms/step - loss: 14.1766 - mse: 14.0575 - val_loss: 14.7327 - val_mse: 14.6176\n",
      "Epoch 62/100\n",
      "7843/7843 [==============================] - 28s 4ms/step - loss: 14.1759 - mse: 14.0569 - val_loss: 14.7531 - val_mse: 14.6382\n",
      "Epoch 63/100\n",
      "7843/7843 [==============================] - 28s 4ms/step - loss: 14.1781 - mse: 14.0588 - val_loss: 14.6851 - val_mse: 14.5710\n",
      "Epoch 64/100\n",
      "7843/7843 [==============================] - 28s 4ms/step - loss: 14.1748 - mse: 14.0555 - val_loss: 14.7453 - val_mse: 14.6304\n",
      "Epoch 65/100\n",
      "7843/7843 [==============================] - 28s 4ms/step - loss: 14.1757 - mse: 14.0559 - val_loss: 14.7456 - val_mse: 14.6309\n",
      "Epoch 66/100\n",
      "7843/7843 [==============================] - 28s 4ms/step - loss: 14.1769 - mse: 14.0572 - val_loss: 14.6219 - val_mse: 14.5066\n",
      "Epoch 67/100\n",
      "7843/7843 [==============================] - 28s 4ms/step - loss: 14.1737 - mse: 14.0538 - val_loss: 14.6739 - val_mse: 14.5582\n",
      "Epoch 68/100\n",
      "7843/7843 [==============================] - 27s 3ms/step - loss: 14.1745 - mse: 14.0545 - val_loss: 14.6734 - val_mse: 14.5567\n",
      "Epoch 69/100\n",
      "7843/7843 [==============================] - 27s 3ms/step - loss: 14.1728 - mse: 14.0524 - val_loss: 14.6601 - val_mse: 14.5433\n",
      "Epoch 70/100\n",
      "7843/7843 [==============================] - 27s 3ms/step - loss: 14.1717 - mse: 14.0502 - val_loss: 14.6592 - val_mse: 14.5439\n",
      "Epoch 71/100\n",
      "7843/7843 [==============================] - 27s 3ms/step - loss: 14.1726 - mse: 14.0520 - val_loss: 14.6596 - val_mse: 14.5437\n",
      "Epoch 72/100\n",
      "7843/7843 [==============================] - 27s 3ms/step - loss: 14.1711 - mse: 14.0502 - val_loss: 14.6796 - val_mse: 14.5643\n",
      "Epoch 73/100\n",
      "7843/7843 [==============================] - 27s 3ms/step - loss: 14.1724 - mse: 14.0521 - val_loss: 14.6435 - val_mse: 14.5275\n",
      "Epoch 74/100\n",
      "7843/7843 [==============================] - 27s 3ms/step - loss: 14.1713 - mse: 14.0501 - val_loss: 14.7153 - val_mse: 14.5982\n",
      "Epoch 75/100\n",
      "7843/7843 [==============================] - 27s 3ms/step - loss: 14.1717 - mse: 14.0502 - val_loss: 14.7338 - val_mse: 14.6169\n",
      "Epoch 76/100\n",
      "7843/7843 [==============================] - 28s 4ms/step - loss: 14.1703 - mse: 14.0493 - val_loss: 14.8167 - val_mse: 14.6995\n",
      "Epoch 77/100\n",
      "7843/7843 [==============================] - 28s 4ms/step - loss: 14.1685 - mse: 14.0472 - val_loss: 14.7115 - val_mse: 14.5955\n",
      "Epoch 78/100\n",
      "7843/7843 [==============================] - 27s 3ms/step - loss: 14.1709 - mse: 14.0507 - val_loss: 14.6873 - val_mse: 14.5718\n",
      "Epoch 79/100\n",
      "7843/7843 [==============================] - 27s 3ms/step - loss: 14.1691 - mse: 14.0488 - val_loss: 14.7147 - val_mse: 14.5990\n",
      "Epoch 80/100\n",
      "7843/7843 [==============================] - 27s 3ms/step - loss: 14.1665 - mse: 14.0464 - val_loss: 14.7618 - val_mse: 14.6463\n",
      "Epoch 81/100\n",
      "7843/7843 [==============================] - 27s 3ms/step - loss: 14.1683 - mse: 14.0484 - val_loss: 14.8225 - val_mse: 14.7069\n",
      "Epoch 82/100\n",
      "7843/7843 [==============================] - 27s 3ms/step - loss: 14.1659 - mse: 14.0457 - val_loss: 14.7585 - val_mse: 14.6439\n",
      "Epoch 83/100\n",
      "7843/7843 [==============================] - 27s 3ms/step - loss: 14.1677 - mse: 14.0486 - val_loss: 14.6163 - val_mse: 14.5017\n",
      "Epoch 84/100\n",
      "7843/7843 [==============================] - 27s 3ms/step - loss: 14.1666 - mse: 14.0472 - val_loss: 14.6759 - val_mse: 14.5613\n",
      "Epoch 85/100\n",
      "7843/7843 [==============================] - 27s 3ms/step - loss: 14.1667 - mse: 14.0476 - val_loss: 14.6622 - val_mse: 14.5475\n",
      "Epoch 86/100\n",
      "7843/7843 [==============================] - 27s 3ms/step - loss: 14.1642 - mse: 14.0444 - val_loss: 14.6936 - val_mse: 14.5794\n",
      "Epoch 87/100\n",
      "7843/7843 [==============================] - 27s 3ms/step - loss: 14.1653 - mse: 14.0466 - val_loss: 14.7114 - val_mse: 14.5961\n",
      "Epoch 88/100\n",
      "7843/7843 [==============================] - 27s 3ms/step - loss: 14.1631 - mse: 14.0437 - val_loss: 14.6735 - val_mse: 14.5587\n",
      "Epoch 89/100\n",
      "7843/7843 [==============================] - 27s 3ms/step - loss: 14.1647 - mse: 14.0456 - val_loss: 14.6523 - val_mse: 14.5380\n",
      "Epoch 90/100\n",
      "7843/7843 [==============================] - 27s 3ms/step - loss: 14.1648 - mse: 14.0462 - val_loss: 14.7502 - val_mse: 14.6363\n",
      "Epoch 91/100\n",
      "7843/7843 [==============================] - 27s 3ms/step - loss: 14.1651 - mse: 14.0466 - val_loss: 14.6695 - val_mse: 14.5548\n",
      "Epoch 92/100\n",
      "7843/7843 [==============================] - 27s 3ms/step - loss: 14.1654 - mse: 14.0465 - val_loss: 14.7721 - val_mse: 14.6566\n",
      "Epoch 93/100\n",
      "7843/7843 [==============================] - 27s 3ms/step - loss: 14.1651 - mse: 14.0459 - val_loss: 14.7642 - val_mse: 14.6498\n",
      "Epoch 94/100\n",
      "7843/7843 [==============================] - 28s 4ms/step - loss: 14.1633 - mse: 14.0444 - val_loss: 14.6670 - val_mse: 14.5528\n",
      "Epoch 95/100\n",
      "7843/7843 [==============================] - 28s 4ms/step - loss: 14.1641 - mse: 14.0454 - val_loss: 14.6980 - val_mse: 14.5836\n",
      "Epoch 96/100\n",
      "7843/7843 [==============================] - 28s 4ms/step - loss: 14.1615 - mse: 14.0420 - val_loss: 14.7196 - val_mse: 14.6055\n",
      "Epoch 97/100\n",
      "7843/7843 [==============================] - 28s 4ms/step - loss: 14.1629 - mse: 14.0446 - val_loss: 14.7073 - val_mse: 14.5924\n",
      "Epoch 98/100\n",
      "7843/7843 [==============================] - 27s 3ms/step - loss: 14.1639 - mse: 14.0454 - val_loss: 14.6950 - val_mse: 14.5805\n",
      "Epoch 99/100\n",
      "7843/7843 [==============================] - 28s 4ms/step - loss: 14.1610 - mse: 14.0424 - val_loss: 14.6146 - val_mse: 14.5005\n",
      "Epoch 100/100\n",
      "7843/7843 [==============================] - 28s 4ms/step - loss: 14.1630 - mse: 14.0441 - val_loss: 14.7539 - val_mse: 14.6392\n"
     ]
    }
   ],
   "source": [
    "history = model.fit(train_x, train_y, validation_split=.1, epochs=epochs, batch_size=batch_size)"
   ]
  },
  {
   "attachments": {},
   "cell_type": "markdown",
   "id": "40c8ec25",
   "metadata": {},
   "source": [
    "에이쒸... 암튼 학습 제대로 안됨."
   ]
  },
  {
   "cell_type": "code",
   "execution_count": 32,
   "id": "367a2bb3",
   "metadata": {},
   "outputs": [
    {
     "data": {
      "image/png": "[encoded data removed]",
      "text/plain": [
       "<Figure size 640x480 with 1 Axes>"
      ]
     },
     "metadata": {},
     "output_type": "display_data"
    }
   ],
   "source": [
    "plt.plot(history.history['loss'])\n",
    "plt.plot(history.history['val_loss'])\n",
    "plt.show()"
   ]
  },
  {
   "cell_type": "code",
   "execution_count": 36,
   "id": "ea451a38",
   "metadata": {},
   "outputs": [
    {
     "name": "stderr",
     "output_type": "stream",
     "text": [
      "2023-04-27 07:09:00.372617: W tensorflow/tsl/framework/cpu_allocator_impl.cc:82] Allocation of 13510948465 exceeds 10% of free system memory.\n",
      "2023-04-27 07:09:15.131951: W tensorflow/tsl/framework/bfc_allocator.cc:479] Allocator (GPU_0_bfc) ran out of memory trying to allocate 12.58GiB (rounded to 13510948608)requested by op _EagerConst\n",
      "If the cause is memory fragmentation maybe the environment variable 'TF_GPU_ALLOCATOR=cuda_malloc_async' will improve the situation. \n",
      "Current allocation summary follows.\n",
      "Current allocation summary follows.\n",
      "2023-04-27 07:09:15.132095: W tensorflow/tsl/framework/bfc_allocator.cc:492] *_____________________________________________________________________________________***___________\n"
     ]
    },
    {
     "ename": "InternalError",
     "evalue": "Failed copying input tensor from /job:localhost/replica:0/task:0/device:CPU:0 to /job:localhost/replica:0/task:0/device:GPU:0 in order to run _EagerConst: Dst tensor is not initialized.",
     "output_type": "error",
     "traceback": [
      "\u001b[0;31m---------------------------------------------------------------------------\u001b[0m",
      "\u001b[0;31mInternalError\u001b[0m                             Traceback (most recent call last)",
      "Cell \u001b[0;32mIn[36], line 1\u001b[0m\n\u001b[0;32m----> 1\u001b[0m train_pred \u001b[39m=\u001b[39m model\u001b[39m.\u001b[39;49mevaluate(train_x)\n\u001b[1;32m      2\u001b[0m train_pred\n",
      "File \u001b[0;32m/opt/conda/envs/general/lib/python3.10/site-packages/keras/utils/traceback_utils.py:70\u001b[0m, in \u001b[0;36mfilter_traceback.<locals>.error_handler\u001b[0;34m(*args, **kwargs)\u001b[0m\n\u001b[1;32m     67\u001b[0m     filtered_tb \u001b[39m=\u001b[39m _process_traceback_frames(e\u001b[39m.\u001b[39m__traceback__)\n\u001b[1;32m     68\u001b[0m     \u001b[39m# To get the full stack trace, call:\u001b[39;00m\n\u001b[1;32m     69\u001b[0m     \u001b[39m# `tf.debugging.disable_traceback_filtering()`\u001b[39;00m\n\u001b[0;32m---> 70\u001b[0m     \u001b[39mraise\u001b[39;00m e\u001b[39m.\u001b[39mwith_traceback(filtered_tb) \u001b[39mfrom\u001b[39;00m \u001b[39mNone\u001b[39;00m\n\u001b[1;32m     71\u001b[0m \u001b[39mfinally\u001b[39;00m:\n\u001b[1;32m     72\u001b[0m     \u001b[39mdel\u001b[39;00m filtered_tb\n",
      "File \u001b[0;32m/opt/conda/envs/general/lib/python3.10/site-packages/tensorflow/python/framework/constant_op.py:102\u001b[0m, in \u001b[0;36mconvert_to_eager_tensor\u001b[0;34m(value, ctx, dtype)\u001b[0m\n\u001b[1;32m    100\u001b[0m     dtype \u001b[39m=\u001b[39m dtypes\u001b[39m.\u001b[39mas_dtype(dtype)\u001b[39m.\u001b[39mas_datatype_enum\n\u001b[1;32m    101\u001b[0m ctx\u001b[39m.\u001b[39mensure_initialized()\n\u001b[0;32m--> 102\u001b[0m \u001b[39mreturn\u001b[39;00m ops\u001b[39m.\u001b[39;49mEagerTensor(value, ctx\u001b[39m.\u001b[39;49mdevice_name, dtype)\n",
      "\u001b[0;31mInternalError\u001b[0m: Failed copying input tensor from /job:localhost/replica:0/task:0/device:CPU:0 to /job:localhost/replica:0/task:0/device:GPU:0 in order to run _EagerConst: Dst tensor is not initialized."
     ]
    }
   ],
   "source": [
    "train_pred = model.evaluate(train_x, test_x)\n",
    "train_pred"
   ]
  },
  {
   "cell_type": "code",
   "execution_count": null,
   "id": "1820a336",
   "metadata": {},
   "outputs": [
    {
     "data": {
      "text/plain": [
       "(871393, 1)"
      ]
     },
     "execution_count": 32,
     "metadata": {},
     "output_type": "execute_result"
    }
   ],
   "source": [
    "train_pred.shape"
   ]
  },
  {
   "cell_type": "code",
   "execution_count": 33,
   "id": "44be1d60",
   "metadata": {},
   "outputs": [
    {
     "name": "stdout",
     "output_type": "stream",
     "text": [
      "4989/4989 [==============================] - 6s 1ms/step\n"
     ]
    },
    {
     "data": {
      "text/plain": [
       "array([[2.8391378],\n",
       "       [2.8713033],\n",
       "       [2.6461456],\n",
       "       ...,\n",
       "       [3.2239828],\n",
       "       [3.5754986],\n",
       "       [3.8391364]], dtype=float32)"
      ]
     },
     "execution_count": 33,
     "metadata": {},
     "output_type": "execute_result"
    }
   ],
   "source": [
    "test_pred = model.predict(test_x)\n",
    "test_pred"
   ]
  },
  {
   "cell_type": "code",
   "execution_count": 34,
   "id": "0318eec6",
   "metadata": {},
   "outputs": [],
   "source": [
    "from sklearn.metrics import mean_squared_error"
   ]
  },
  {
   "cell_type": "code",
   "execution_count": 35,
   "id": "b9ca55e0",
   "metadata": {},
   "outputs": [
    {
     "data": {
      "text/plain": [
       "3.8036542165822924"
      ]
     },
     "execution_count": 35,
     "metadata": {},
     "output_type": "execute_result"
    }
   ],
   "source": [
    "rmse = mean_squared_error(train_y, train_pred, squared=False)\n",
    "rmse"
   ]
  },
  {
   "cell_type": "code",
   "execution_count": 36,
   "id": "6e68d40a",
   "metadata": {},
   "outputs": [
    {
     "data": {
      "text/html": [
       "<div>\n",
       "<style scoped>\n",
       "    .dataframe tbody tr th:only-of-type {\n",
       "        vertical-align: middle;\n",
       "    }\n",
       "\n",
       "    .dataframe tbody tr th {\n",
       "        vertical-align: top;\n",
       "    }\n",
       "\n",
       "    .dataframe thead th {\n",
       "        text-align: right;\n",
       "    }\n",
       "</style>\n",
       "<table border=\"1\" class=\"dataframe\">\n",
       "  <thead>\n",
       "    <tr style=\"text-align: right;\">\n",
       "      <th></th>\n",
       "      <th>ID</th>\n",
       "      <th>Book-Rating</th>\n",
       "    </tr>\n",
       "  </thead>\n",
       "  <tbody>\n",
       "    <tr>\n",
       "      <th>0</th>\n",
       "      <td>TEST_000000</td>\n",
       "      <td>0</td>\n",
       "    </tr>\n",
       "    <tr>\n",
       "      <th>1</th>\n",
       "      <td>TEST_000001</td>\n",
       "      <td>0</td>\n",
       "    </tr>\n",
       "    <tr>\n",
       "      <th>2</th>\n",
       "      <td>TEST_000002</td>\n",
       "      <td>0</td>\n",
       "    </tr>\n",
       "    <tr>\n",
       "      <th>3</th>\n",
       "      <td>TEST_000003</td>\n",
       "      <td>0</td>\n",
       "    </tr>\n",
       "    <tr>\n",
       "      <th>4</th>\n",
       "      <td>TEST_000004</td>\n",
       "      <td>0</td>\n",
       "    </tr>\n",
       "    <tr>\n",
       "      <th>...</th>\n",
       "      <td>...</td>\n",
       "      <td>...</td>\n",
       "    </tr>\n",
       "    <tr>\n",
       "      <th>159616</th>\n",
       "      <td>TEST_159616</td>\n",
       "      <td>0</td>\n",
       "    </tr>\n",
       "    <tr>\n",
       "      <th>159617</th>\n",
       "      <td>TEST_159617</td>\n",
       "      <td>0</td>\n",
       "    </tr>\n",
       "    <tr>\n",
       "      <th>159618</th>\n",
       "      <td>TEST_159618</td>\n",
       "      <td>0</td>\n",
       "    </tr>\n",
       "    <tr>\n",
       "      <th>159619</th>\n",
       "      <td>TEST_159619</td>\n",
       "      <td>0</td>\n",
       "    </tr>\n",
       "    <tr>\n",
       "      <th>159620</th>\n",
       "      <td>TEST_159620</td>\n",
       "      <td>0</td>\n",
       "    </tr>\n",
       "  </tbody>\n",
       "</table>\n",
       "<p>159621 rows × 2 columns</p>\n",
       "</div>"
      ],
      "text/plain": [
       "                 ID  Book-Rating\n",
       "0       TEST_000000            0\n",
       "1       TEST_000001            0\n",
       "2       TEST_000002            0\n",
       "3       TEST_000003            0\n",
       "4       TEST_000004            0\n",
       "...             ...          ...\n",
       "159616  TEST_159616            0\n",
       "159617  TEST_159617            0\n",
       "159618  TEST_159618            0\n",
       "159619  TEST_159619            0\n",
       "159620  TEST_159620            0\n",
       "\n",
       "[159621 rows x 2 columns]"
      ]
     },
     "execution_count": 36,
     "metadata": {},
     "output_type": "execute_result"
    }
   ],
   "source": [
    "sample_submission_df = pd.read_csv(\"open/sample_submission.csv\")\n",
    "sample_submission_df"
   ]
  },
  {
   "cell_type": "code",
   "execution_count": 37,
   "id": "1ec53519",
   "metadata": {},
   "outputs": [],
   "source": [
    "mname = 'custom_dl'"
   ]
  },
  {
   "cell_type": "code",
   "execution_count": 38,
   "id": "4e1b7265",
   "metadata": {},
   "outputs": [],
   "source": [
    "def make_report(template, test_pred, mname):\n",
    "    template['Book-Rating'] = test_pred\n",
    "    now = dt.strftime(dt.now(), '%y-%m-%d')\n",
    "    template.to_csv(f'results/{mname}-{now}.csv', index=False)\n",
    "    \n",
    "make_report(sample_submission_df, test_pred, mname)"
   ]
  },
  {
   "attachments": {},
   "cell_type": "markdown",
   "id": "0e6ce5be",
   "metadata": {},
   "source": [
    "test_rmse = 3.8036542165822924"
   ]
  }
 ],
 "metadata": {
  "kernelspec": {
   "display_name": "general",
   "language": "python",
   "name": "python3"
  },
  "language_info": {
   "codemirror_mode": {
    "name": "ipython",
    "version": 3
   },
   "file_extension": ".py",
   "mimetype": "text/x-python",
   "name": "python",
   "nbconvert_exporter": "python",
   "pygments_lexer": "ipython3",
   "version": "3.10.0"
  }
 },
 "nbformat": 4,
 "nbformat_minor": 5
}
