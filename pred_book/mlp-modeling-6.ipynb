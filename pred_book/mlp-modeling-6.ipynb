{
 "cells": [
  {
   "attachments": {},
   "cell_type": "markdown",
   "id": "e4c024ed-156e-4ac2-9df8-63be9bd57dbf",
   "metadata": {},
   "source": [
    "# MLP Modeling - 6\n",
    "5에서는 publisher 데이터까지 넣어보자\n",
    "rnn 적용\n",
    "\n",
    "마구 생각:\n",
    " * vocab도 만들어야 하고.. tokenizing도 해야될 듯?\n",
    " * mlpregressor에서 keras로 바꾸는 것도 필요"
   ]
  },
  {
   "cell_type": "markdown",
   "id": "53a8c71a",
   "metadata": {},
   "source": [
    "# Embedding은 이 링크 참고 (openai 또는 huggingface)\n",
    "https://lsjsj92.tistory.com/657"
   ]
  },
  {
   "cell_type": "code",
   "execution_count": 1,
   "id": "c99a78df-a588-4746-aa1c-827fc197adb2",
   "metadata": {},
   "outputs": [
    {
     "name": "stderr",
     "output_type": "stream",
     "text": [
      "2023-04-27 16:15:15.799294: I tensorflow/core/platform/cpu_feature_guard.cc:193] This TensorFlow binary is optimized with oneAPI Deep Neural Network Library (oneDNN) to use the following CPU instructions in performance-critical operations:  AVX2 AVX512F AVX512_VNNI FMA\n",
      "To enable them in other operations, rebuild TensorFlow with the appropriate compiler flags.\n",
      "2023-04-27 16:15:15.946285: I tensorflow/core/util/port.cc:104] oneDNN custom operations are on. You may see slightly different numerical results due to floating-point round-off errors from different computation orders. To turn them off, set the environment variable `TF_ENABLE_ONEDNN_OPTS=0`.\n",
      "2023-04-27 16:15:16.729736: W tensorflow/compiler/xla/stream_executor/platform/default/dso_loader.cc:64] Could not load dynamic library 'libnvinfer.so.7'; dlerror: libnvinfer.so.7: cannot open shared object file: No such file or directory; LD_LIBRARY_PATH: /usr/local/cuda/lib64:/usr/local/nccl2/lib:/usr/local/cuda/extras/CUPTI/lib64:/usr/local/cuda/lib64:/usr/local/nccl2/lib:/usr/local/cuda/extras/CUPTI/lib64\n",
      "2023-04-27 16:15:16.729861: W tensorflow/compiler/xla/stream_executor/platform/default/dso_loader.cc:64] Could not load dynamic library 'libnvinfer_plugin.so.7'; dlerror: libnvinfer_plugin.so.7: cannot open shared object file: No such file or directory; LD_LIBRARY_PATH: /usr/local/cuda/lib64:/usr/local/nccl2/lib:/usr/local/cuda/extras/CUPTI/lib64:/usr/local/cuda/lib64:/usr/local/nccl2/lib:/usr/local/cuda/extras/CUPTI/lib64\n",
      "2023-04-27 16:15:16.729872: W tensorflow/compiler/tf2tensorrt/utils/py_utils.cc:38] TF-TRT Warning: Cannot dlopen some TensorRT libraries. If you would like to use Nvidia GPU with TensorRT, please make sure the missing libraries mentioned above are installed properly.\n"
     ]
    }
   ],
   "source": [
    "import os\n",
    "from datetime import datetime as dt\n",
    "\n",
    "import numpy as np\n",
    "import pandas as pd\n",
    "\n",
    "import matplotlib.pyplot as plt\n",
    "import seaborn as sns\n",
    "\n",
    "import tensorflow as tf\n",
    "# import optuna"
   ]
  },
  {
   "cell_type": "markdown",
   "id": "70ac056c-da9c-4fbf-9187-1cf73df5e1ef",
   "metadata": {},
   "source": [
    "## load data"
   ]
  },
  {
   "cell_type": "code",
   "execution_count": 2,
   "id": "14bd5180-e00c-4e12-b8e7-5959054e102b",
   "metadata": {},
   "outputs": [
    {
     "data": {
      "text/plain": [
       "((871393, 9), (159621, 8), (159621, 2))"
      ]
     },
     "execution_count": 2,
     "metadata": {},
     "output_type": "execute_result"
    }
   ],
   "source": [
    "train_df = pd.read_csv(\"open/train.csv\", index_col='ID')\n",
    "test_df = pd.read_csv(\"open/test.csv\", index_col='ID')\n",
    "sample_submission_df = pd.read_csv(\"open/sample_submission.csv\")\n",
    "\n",
    "train_df.shape, test_df.shape, sample_submission_df.shape"
   ]
  },
  {
   "cell_type": "code",
   "execution_count": 3,
   "id": "8fefe7e6-f6b1-4fa5-826a-6fd7c7a51441",
   "metadata": {},
   "outputs": [
    {
     "name": "stdout",
     "output_type": "stream",
     "text": [
      "<class 'pandas.core.frame.DataFrame'>\n",
      "Index: 871393 entries, TRAIN_000000 to TRAIN_871392\n",
      "Data columns (total 9 columns):\n",
      " #   Column               Non-Null Count   Dtype  \n",
      "---  ------               --------------   -----  \n",
      " 0   User-ID              871393 non-null  object \n",
      " 1   Book-ID              871393 non-null  object \n",
      " 2   Book-Rating          871393 non-null  int64  \n",
      " 3   Age                  871393 non-null  float64\n",
      " 4   Location             871393 non-null  object \n",
      " 5   Book-Title           871393 non-null  object \n",
      " 6   Book-Author          871393 non-null  object \n",
      " 7   Year-Of-Publication  871393 non-null  float64\n",
      " 8   Publisher            871393 non-null  object \n",
      "dtypes: float64(2), int64(1), object(6)\n",
      "memory usage: 66.5+ MB\n"
     ]
    }
   ],
   "source": [
    "train_df.info()"
   ]
  },
  {
   "cell_type": "markdown",
   "id": "fb46156c-cfdc-41d5-b11d-6375f6f9b8c7",
   "metadata": {},
   "source": [
    "## preprocess data"
   ]
  },
  {
   "cell_type": "code",
   "execution_count": 4,
   "id": "d1724967-00b1-4acc-972c-a6918158e420",
   "metadata": {},
   "outputs": [
    {
     "data": {
      "text/plain": [
       "(83256, 243441)"
      ]
     },
     "execution_count": 4,
     "metadata": {},
     "output_type": "execute_result"
    }
   ],
   "source": [
    "train_users = train_df['User-ID'].unique()\n",
    "train_books = train_df['Book-ID'].unique()\n",
    "\n",
    "len(train_users), len(train_books)"
   ]
  },
  {
   "cell_type": "code",
   "execution_count": 5,
   "id": "e37b65fe-4e31-4ce8-a379-10027903de2e",
   "metadata": {},
   "outputs": [
    {
     "data": {
      "text/plain": [
       "(21909, 62333)"
      ]
     },
     "execution_count": 5,
     "metadata": {},
     "output_type": "execute_result"
    }
   ],
   "source": [
    "test_users = test_df['User-ID'].unique()\n",
    "test_books = test_df['Book-ID'].unique()\n",
    "\n",
    "len(test_users), len(test_books)"
   ]
  },
  {
   "cell_type": "code",
   "execution_count": 6,
   "id": "0f8ad687-f299-4abe-8800-7aa2ebed42f8",
   "metadata": {},
   "outputs": [
    {
     "data": {
      "text/plain": [
       "(92101, 270056)"
      ]
     },
     "execution_count": 6,
     "metadata": {},
     "output_type": "execute_result"
    }
   ],
   "source": [
    "len(set(train_users) | set(test_users)), len(set(train_books) | set(test_books))"
   ]
  },
  {
   "cell_type": "markdown",
   "id": "2bdb91f0-3379-41ff-adeb-1517c26fe0a1",
   "metadata": {},
   "source": [
    "새로운 유저, 새로운 책이 분명 있음"
   ]
  },
  {
   "cell_type": "code",
   "execution_count": 7,
   "id": "6c7004c0-c6b9-4242-86ba-a24fb6547be3",
   "metadata": {},
   "outputs": [
    {
     "data": {
      "text/html": [
       "<div>\n",
       "<style scoped>\n",
       "    .dataframe tbody tr th:only-of-type {\n",
       "        vertical-align: middle;\n",
       "    }\n",
       "\n",
       "    .dataframe tbody tr th {\n",
       "        vertical-align: top;\n",
       "    }\n",
       "\n",
       "    .dataframe thead th {\n",
       "        text-align: right;\n",
       "    }\n",
       "</style>\n",
       "<table border=\"1\" class=\"dataframe\">\n",
       "  <thead>\n",
       "    <tr style=\"text-align: right;\">\n",
       "      <th></th>\n",
       "      <th>User-ID</th>\n",
       "      <th>Book-ID</th>\n",
       "      <th>Book-Rating</th>\n",
       "      <th>Age</th>\n",
       "      <th>Location</th>\n",
       "      <th>Book-Title</th>\n",
       "      <th>Book-Author</th>\n",
       "      <th>Year-Of-Publication</th>\n",
       "      <th>Publisher</th>\n",
       "    </tr>\n",
       "    <tr>\n",
       "      <th>ID</th>\n",
       "      <th></th>\n",
       "      <th></th>\n",
       "      <th></th>\n",
       "      <th></th>\n",
       "      <th></th>\n",
       "      <th></th>\n",
       "      <th></th>\n",
       "      <th></th>\n",
       "      <th></th>\n",
       "    </tr>\n",
       "  </thead>\n",
       "  <tbody>\n",
       "    <tr>\n",
       "      <th>TRAIN_000000</th>\n",
       "      <td>USER_00000</td>\n",
       "      <td>BOOK_044368</td>\n",
       "      <td>8</td>\n",
       "      <td>23.0</td>\n",
       "      <td>sackville, new brunswick, canada</td>\n",
       "      <td>Road Taken</td>\n",
       "      <td>Rona Jaffe</td>\n",
       "      <td>2001.0</td>\n",
       "      <td>Mira</td>\n",
       "    </tr>\n",
       "    <tr>\n",
       "      <th>TRAIN_000001</th>\n",
       "      <td>USER_00000</td>\n",
       "      <td>BOOK_081205</td>\n",
       "      <td>8</td>\n",
       "      <td>23.0</td>\n",
       "      <td>sackville, new brunswick, canada</td>\n",
       "      <td>Macbeth (New Penguin Shakespeare)</td>\n",
       "      <td>William Shakespeare</td>\n",
       "      <td>1981.0</td>\n",
       "      <td>Penguin Books</td>\n",
       "    </tr>\n",
       "    <tr>\n",
       "      <th>TRAIN_000002</th>\n",
       "      <td>USER_00000</td>\n",
       "      <td>BOOK_086781</td>\n",
       "      <td>0</td>\n",
       "      <td>23.0</td>\n",
       "      <td>sackville, new brunswick, canada</td>\n",
       "      <td>Waverley (Penguin English Library)</td>\n",
       "      <td>Walter Scott</td>\n",
       "      <td>1981.0</td>\n",
       "      <td>Penguin Books</td>\n",
       "    </tr>\n",
       "    <tr>\n",
       "      <th>TRAIN_000003</th>\n",
       "      <td>USER_00000</td>\n",
       "      <td>BOOK_098622</td>\n",
       "      <td>0</td>\n",
       "      <td>23.0</td>\n",
       "      <td>sackville, new brunswick, canada</td>\n",
       "      <td>Mother Earth Father Sky</td>\n",
       "      <td>Sue Harrison</td>\n",
       "      <td>1991.0</td>\n",
       "      <td>Avon</td>\n",
       "    </tr>\n",
       "    <tr>\n",
       "      <th>TRAIN_000004</th>\n",
       "      <td>USER_00000</td>\n",
       "      <td>BOOK_180810</td>\n",
       "      <td>8</td>\n",
       "      <td>23.0</td>\n",
       "      <td>sackville, new brunswick, canada</td>\n",
       "      <td>She Who Remembers</td>\n",
       "      <td>Linda Lay Shuler</td>\n",
       "      <td>1989.0</td>\n",
       "      <td>Signet Book</td>\n",
       "    </tr>\n",
       "  </tbody>\n",
       "</table>\n",
       "</div>"
      ],
      "text/plain": [
       "                 User-ID      Book-ID  Book-Rating   Age   \n",
       "ID                                                         \n",
       "TRAIN_000000  USER_00000  BOOK_044368            8  23.0  \\\n",
       "TRAIN_000001  USER_00000  BOOK_081205            8  23.0   \n",
       "TRAIN_000002  USER_00000  BOOK_086781            0  23.0   \n",
       "TRAIN_000003  USER_00000  BOOK_098622            0  23.0   \n",
       "TRAIN_000004  USER_00000  BOOK_180810            8  23.0   \n",
       "\n",
       "                                      Location   \n",
       "ID                                               \n",
       "TRAIN_000000  sackville, new brunswick, canada  \\\n",
       "TRAIN_000001  sackville, new brunswick, canada   \n",
       "TRAIN_000002  sackville, new brunswick, canada   \n",
       "TRAIN_000003  sackville, new brunswick, canada   \n",
       "TRAIN_000004  sackville, new brunswick, canada   \n",
       "\n",
       "                                      Book-Title          Book-Author   \n",
       "ID                                                                      \n",
       "TRAIN_000000                          Road Taken           Rona Jaffe  \\\n",
       "TRAIN_000001   Macbeth (New Penguin Shakespeare)  William Shakespeare   \n",
       "TRAIN_000002  Waverley (Penguin English Library)         Walter Scott   \n",
       "TRAIN_000003             Mother Earth Father Sky         Sue Harrison   \n",
       "TRAIN_000004                   She Who Remembers     Linda Lay Shuler   \n",
       "\n",
       "              Year-Of-Publication      Publisher  \n",
       "ID                                                \n",
       "TRAIN_000000               2001.0           Mira  \n",
       "TRAIN_000001               1981.0  Penguin Books  \n",
       "TRAIN_000002               1981.0  Penguin Books  \n",
       "TRAIN_000003               1991.0           Avon  \n",
       "TRAIN_000004               1989.0    Signet Book  "
      ]
     },
     "execution_count": 7,
     "metadata": {},
     "output_type": "execute_result"
    }
   ],
   "source": [
    "train_df.head()"
   ]
  },
  {
   "cell_type": "markdown",
   "id": "c37910e6-9481-4c2f-ab12-039ca6543a59",
   "metadata": {},
   "source": [
    "User feature\n",
    " * Age: int\n",
    " * Location: string\n",
    "\n",
    "Book feature\n",
    " * Book-Title: string\n",
    " * Book-Author: string\n",
    " * Year-Of-Pulication: int\n",
    " * Publisher: string"
   ]
  },
  {
   "cell_type": "markdown",
   "id": "d57114ba-03e0-463e-84f2-5baf375f06d9",
   "metadata": {},
   "source": [
    "특징의 분해 이전에 label 형태로도 해볼 수 있음"
   ]
  },
  {
   "cell_type": "markdown",
   "id": "51039168-6946-402b-bb6c-8ffddf8f7ecc",
   "metadata": {},
   "source": [
    "# Feature Selection"
   ]
  },
  {
   "cell_type": "code",
   "execution_count": 8,
   "id": "1b22c596-17c4-4ead-ac76-7288c5d03d00",
   "metadata": {},
   "outputs": [
    {
     "data": {
      "text/plain": [
       "Index(['User-ID', 'Book-ID', 'Age', 'Location', 'Book-Title', 'Book-Author',\n",
       "       'Year-Of-Publication', 'Publisher'],\n",
       "      dtype='object')"
      ]
     },
     "execution_count": 8,
     "metadata": {},
     "output_type": "execute_result"
    }
   ],
   "source": [
    "features = test_df.columns\n",
    "features"
   ]
  },
  {
   "cell_type": "code",
   "execution_count": 9,
   "id": "2e687b27-055b-4541-9cf1-f95d74de3bef",
   "metadata": {},
   "outputs": [],
   "source": [
    "continuous_features = ['Age', 'Year-Of-Publication']\n",
    "categorical_features = ['Location', 'Book-Title', 'Book-Author', 'Publisher']"
   ]
  },
  {
   "cell_type": "code",
   "execution_count": 10,
   "id": "10e22f70-bab6-4de6-bfdb-090af36f14bd",
   "metadata": {},
   "outputs": [
    {
     "data": {
      "text/html": [
       "<div>\n",
       "<style scoped>\n",
       "    .dataframe tbody tr th:only-of-type {\n",
       "        vertical-align: middle;\n",
       "    }\n",
       "\n",
       "    .dataframe tbody tr th {\n",
       "        vertical-align: top;\n",
       "    }\n",
       "\n",
       "    .dataframe thead th {\n",
       "        text-align: right;\n",
       "    }\n",
       "</style>\n",
       "<table border=\"1\" class=\"dataframe\">\n",
       "  <thead>\n",
       "    <tr style=\"text-align: right;\">\n",
       "      <th></th>\n",
       "      <th>User-ID</th>\n",
       "      <th>Book-ID</th>\n",
       "      <th>Book-Rating</th>\n",
       "      <th>Age</th>\n",
       "      <th>Book-Title</th>\n",
       "      <th>Book-Author</th>\n",
       "      <th>Year-Of-Publication</th>\n",
       "      <th>Publisher</th>\n",
       "      <th>Location_country</th>\n",
       "      <th>Location_city</th>\n",
       "    </tr>\n",
       "    <tr>\n",
       "      <th>ID</th>\n",
       "      <th></th>\n",
       "      <th></th>\n",
       "      <th></th>\n",
       "      <th></th>\n",
       "      <th></th>\n",
       "      <th></th>\n",
       "      <th></th>\n",
       "      <th></th>\n",
       "      <th></th>\n",
       "      <th></th>\n",
       "    </tr>\n",
       "  </thead>\n",
       "  <tbody>\n",
       "    <tr>\n",
       "      <th>TRAIN_000000</th>\n",
       "      <td>USER_00000</td>\n",
       "      <td>BOOK_044368</td>\n",
       "      <td>8</td>\n",
       "      <td>23.0</td>\n",
       "      <td>Road Taken</td>\n",
       "      <td>Rona Jaffe</td>\n",
       "      <td>2001.0</td>\n",
       "      <td>Mira</td>\n",
       "      <td>canada</td>\n",
       "      <td>newbrunswick</td>\n",
       "    </tr>\n",
       "    <tr>\n",
       "      <th>TRAIN_000001</th>\n",
       "      <td>USER_00000</td>\n",
       "      <td>BOOK_081205</td>\n",
       "      <td>8</td>\n",
       "      <td>23.0</td>\n",
       "      <td>Macbeth (New Penguin Shakespeare)</td>\n",
       "      <td>William Shakespeare</td>\n",
       "      <td>1981.0</td>\n",
       "      <td>Penguin Books</td>\n",
       "      <td>canada</td>\n",
       "      <td>newbrunswick</td>\n",
       "    </tr>\n",
       "    <tr>\n",
       "      <th>TRAIN_000002</th>\n",
       "      <td>USER_00000</td>\n",
       "      <td>BOOK_086781</td>\n",
       "      <td>0</td>\n",
       "      <td>23.0</td>\n",
       "      <td>Waverley (Penguin English Library)</td>\n",
       "      <td>Walter Scott</td>\n",
       "      <td>1981.0</td>\n",
       "      <td>Penguin Books</td>\n",
       "      <td>canada</td>\n",
       "      <td>newbrunswick</td>\n",
       "    </tr>\n",
       "    <tr>\n",
       "      <th>TRAIN_000003</th>\n",
       "      <td>USER_00000</td>\n",
       "      <td>BOOK_098622</td>\n",
       "      <td>0</td>\n",
       "      <td>23.0</td>\n",
       "      <td>Mother Earth Father Sky</td>\n",
       "      <td>Sue Harrison</td>\n",
       "      <td>1991.0</td>\n",
       "      <td>Avon</td>\n",
       "      <td>canada</td>\n",
       "      <td>newbrunswick</td>\n",
       "    </tr>\n",
       "    <tr>\n",
       "      <th>TRAIN_000004</th>\n",
       "      <td>USER_00000</td>\n",
       "      <td>BOOK_180810</td>\n",
       "      <td>8</td>\n",
       "      <td>23.0</td>\n",
       "      <td>She Who Remembers</td>\n",
       "      <td>Linda Lay Shuler</td>\n",
       "      <td>1989.0</td>\n",
       "      <td>Signet Book</td>\n",
       "      <td>canada</td>\n",
       "      <td>newbrunswick</td>\n",
       "    </tr>\n",
       "  </tbody>\n",
       "</table>\n",
       "</div>"
      ],
      "text/plain": [
       "                 User-ID      Book-ID  Book-Rating   Age   \n",
       "ID                                                         \n",
       "TRAIN_000000  USER_00000  BOOK_044368            8  23.0  \\\n",
       "TRAIN_000001  USER_00000  BOOK_081205            8  23.0   \n",
       "TRAIN_000002  USER_00000  BOOK_086781            0  23.0   \n",
       "TRAIN_000003  USER_00000  BOOK_098622            0  23.0   \n",
       "TRAIN_000004  USER_00000  BOOK_180810            8  23.0   \n",
       "\n",
       "                                      Book-Title          Book-Author   \n",
       "ID                                                                      \n",
       "TRAIN_000000                          Road Taken           Rona Jaffe  \\\n",
       "TRAIN_000001   Macbeth (New Penguin Shakespeare)  William Shakespeare   \n",
       "TRAIN_000002  Waverley (Penguin English Library)         Walter Scott   \n",
       "TRAIN_000003             Mother Earth Father Sky         Sue Harrison   \n",
       "TRAIN_000004                   She Who Remembers     Linda Lay Shuler   \n",
       "\n",
       "              Year-Of-Publication      Publisher Location_country   \n",
       "ID                                                                  \n",
       "TRAIN_000000               2001.0           Mira           canada  \\\n",
       "TRAIN_000001               1981.0  Penguin Books           canada   \n",
       "TRAIN_000002               1981.0  Penguin Books           canada   \n",
       "TRAIN_000003               1991.0           Avon           canada   \n",
       "TRAIN_000004               1989.0    Signet Book           canada   \n",
       "\n",
       "             Location_city  \n",
       "ID                          \n",
       "TRAIN_000000  newbrunswick  \n",
       "TRAIN_000001  newbrunswick  \n",
       "TRAIN_000002  newbrunswick  \n",
       "TRAIN_000003  newbrunswick  \n",
       "TRAIN_000004  newbrunswick  "
      ]
     },
     "execution_count": 10,
     "metadata": {},
     "output_type": "execute_result"
    }
   ],
   "source": [
    "train_df['Location'] = train_df['Location'].str.replace(' ', '')\n",
    "train_df['Location_country'] = train_df['Location'].apply(lambda x: x.split(',')[-1])\n",
    "train_df['Location_city'] = train_df['Location'].apply(lambda x: x.split(',')[-2])\n",
    "train_df.drop(columns='Location', inplace=True)\n",
    "train_df.head()"
   ]
  },
  {
   "cell_type": "code",
   "execution_count": 11,
   "id": "328e87fe-8091-4c84-bd0c-c43f2fe4f5a1",
   "metadata": {},
   "outputs": [
    {
     "data": {
      "text/html": [
       "<div>\n",
       "<style scoped>\n",
       "    .dataframe tbody tr th:only-of-type {\n",
       "        vertical-align: middle;\n",
       "    }\n",
       "\n",
       "    .dataframe tbody tr th {\n",
       "        vertical-align: top;\n",
       "    }\n",
       "\n",
       "    .dataframe thead th {\n",
       "        text-align: right;\n",
       "    }\n",
       "</style>\n",
       "<table border=\"1\" class=\"dataframe\">\n",
       "  <thead>\n",
       "    <tr style=\"text-align: right;\">\n",
       "      <th></th>\n",
       "      <th>User-ID</th>\n",
       "      <th>Book-ID</th>\n",
       "      <th>Age</th>\n",
       "      <th>Book-Title</th>\n",
       "      <th>Book-Author</th>\n",
       "      <th>Year-Of-Publication</th>\n",
       "      <th>Publisher</th>\n",
       "      <th>Location_country</th>\n",
       "      <th>Location_city</th>\n",
       "    </tr>\n",
       "    <tr>\n",
       "      <th>ID</th>\n",
       "      <th></th>\n",
       "      <th></th>\n",
       "      <th></th>\n",
       "      <th></th>\n",
       "      <th></th>\n",
       "      <th></th>\n",
       "      <th></th>\n",
       "      <th></th>\n",
       "      <th></th>\n",
       "    </tr>\n",
       "  </thead>\n",
       "  <tbody>\n",
       "    <tr>\n",
       "      <th>TEST_000000</th>\n",
       "      <td>USER_00008</td>\n",
       "      <td>BOOK_047966</td>\n",
       "      <td>37.0</td>\n",
       "      <td>Birds of Prey: A Novel of Suspense</td>\n",
       "      <td>J.A. Jance</td>\n",
       "      <td>2002.0</td>\n",
       "      <td>Avon</td>\n",
       "      <td>usa</td>\n",
       "      <td>ohio</td>\n",
       "    </tr>\n",
       "    <tr>\n",
       "      <th>TEST_000001</th>\n",
       "      <td>USER_00008</td>\n",
       "      <td>BOOK_119494</td>\n",
       "      <td>37.0</td>\n",
       "      <td>Midnight Voices</td>\n",
       "      <td>JOHN SAUL</td>\n",
       "      <td>2003.0</td>\n",
       "      <td>Ballantine Books</td>\n",
       "      <td>usa</td>\n",
       "      <td>ohio</td>\n",
       "    </tr>\n",
       "    <tr>\n",
       "      <th>TEST_000002</th>\n",
       "      <td>USER_00008</td>\n",
       "      <td>BOOK_151775</td>\n",
       "      <td>37.0</td>\n",
       "      <td>Breaking Free : A Prescription for Personal an...</td>\n",
       "      <td>David M.  Noer</td>\n",
       "      <td>1996.0</td>\n",
       "      <td>Jossey-Bass</td>\n",
       "      <td>usa</td>\n",
       "      <td>ohio</td>\n",
       "    </tr>\n",
       "    <tr>\n",
       "      <th>TEST_000003</th>\n",
       "      <td>USER_00008</td>\n",
       "      <td>BOOK_176255</td>\n",
       "      <td>37.0</td>\n",
       "      <td>Bitter Harvest</td>\n",
       "      <td>Ann Rule</td>\n",
       "      <td>1999.0</td>\n",
       "      <td>Pocket</td>\n",
       "      <td>usa</td>\n",
       "      <td>ohio</td>\n",
       "    </tr>\n",
       "    <tr>\n",
       "      <th>TEST_000004</th>\n",
       "      <td>USER_00008</td>\n",
       "      <td>BOOK_187307</td>\n",
       "      <td>37.0</td>\n",
       "      <td>Embraced by the Light</td>\n",
       "      <td>Betty J. Eadie</td>\n",
       "      <td>1994.0</td>\n",
       "      <td>Bantam Books</td>\n",
       "      <td>usa</td>\n",
       "      <td>ohio</td>\n",
       "    </tr>\n",
       "  </tbody>\n",
       "</table>\n",
       "</div>"
      ],
      "text/plain": [
       "                User-ID      Book-ID   Age   \n",
       "ID                                           \n",
       "TEST_000000  USER_00008  BOOK_047966  37.0  \\\n",
       "TEST_000001  USER_00008  BOOK_119494  37.0   \n",
       "TEST_000002  USER_00008  BOOK_151775  37.0   \n",
       "TEST_000003  USER_00008  BOOK_176255  37.0   \n",
       "TEST_000004  USER_00008  BOOK_187307  37.0   \n",
       "\n",
       "                                                    Book-Title   \n",
       "ID                                                               \n",
       "TEST_000000                 Birds of Prey: A Novel of Suspense  \\\n",
       "TEST_000001                                    Midnight Voices   \n",
       "TEST_000002  Breaking Free : A Prescription for Personal an...   \n",
       "TEST_000003                                     Bitter Harvest   \n",
       "TEST_000004                              Embraced by the Light   \n",
       "\n",
       "                Book-Author  Year-Of-Publication         Publisher   \n",
       "ID                                                                   \n",
       "TEST_000000      J.A. Jance               2002.0              Avon  \\\n",
       "TEST_000001       JOHN SAUL               2003.0  Ballantine Books   \n",
       "TEST_000002  David M.  Noer               1996.0       Jossey-Bass   \n",
       "TEST_000003        Ann Rule               1999.0            Pocket   \n",
       "TEST_000004  Betty J. Eadie               1994.0      Bantam Books   \n",
       "\n",
       "            Location_country Location_city  \n",
       "ID                                          \n",
       "TEST_000000              usa          ohio  \n",
       "TEST_000001              usa          ohio  \n",
       "TEST_000002              usa          ohio  \n",
       "TEST_000003              usa          ohio  \n",
       "TEST_000004              usa          ohio  "
      ]
     },
     "execution_count": 11,
     "metadata": {},
     "output_type": "execute_result"
    }
   ],
   "source": [
    "test_df['Location'] = test_df['Location'].str.replace(' ', '')\n",
    "test_df['Location_country'] = test_df['Location'].apply(lambda x: x.split(',')[-1])\n",
    "test_df['Location_city'] = test_df['Location'].apply(lambda x: x.split(',')[-2])\n",
    "test_df.drop(columns='Location', inplace=True)\n",
    "test_df.head()"
   ]
  },
  {
   "cell_type": "markdown",
   "id": "20482046-c93a-4f94-bcdd-52994a8af400",
   "metadata": {},
   "source": [
    "# encoding\n",
    "\n",
    "for location_country, publisher"
   ]
  },
  {
   "cell_type": "code",
   "execution_count": 12,
   "id": "c6f87274-5fe4-401f-979c-2bd862f8b3ac",
   "metadata": {},
   "outputs": [],
   "source": [
    "from sklearn.preprocessing import OneHotEncoder"
   ]
  },
  {
   "cell_type": "code",
   "execution_count": 13,
   "id": "13448b23-c176-4731-bc89-4c750792eb99",
   "metadata": {},
   "outputs": [],
   "source": [
    "cont_encoder = OneHotEncoder(handle_unknown='ignore', dtype='bool')\n",
    "train_country_array = cont_encoder.fit_transform(train_df[['Location_country']]).toarray()\n",
    "test_country_array = cont_encoder.transform(test_df[['Location_country']]).toarray()"
   ]
  },
  {
   "cell_type": "code",
   "execution_count": 14,
   "id": "491a402c-ae25-4c40-9eed-c36ede970bed",
   "metadata": {},
   "outputs": [],
   "source": [
    "# pub_encoder = OneHotEncoder(handle_unknown='ignore', dtype='bool')\n",
    "# train_publisher_array = pub_encoder.fit_transform(train_df[['Publisher']]).toarray()\n",
    "# test_publisher_array = pub_encoder.transform(train_df[['Publisher']]).toarray()"
   ]
  },
  {
   "cell_type": "markdown",
   "id": "8faed6d6-9ca0-4c50-b84b-21e2c2d897db",
   "metadata": {},
   "source": [
    "# scaling"
   ]
  },
  {
   "cell_type": "code",
   "execution_count": 15,
   "id": "0b466a2e-aff2-46e7-a9b7-970affef8416",
   "metadata": {},
   "outputs": [],
   "source": [
    "from sklearn.preprocessing import StandardScaler"
   ]
  },
  {
   "cell_type": "code",
   "execution_count": 16,
   "id": "e7435345-74de-463c-9b82-2e76b466b532",
   "metadata": {},
   "outputs": [],
   "source": [
    "scaler = StandardScaler()\n",
    "train_cont_array = scaler.fit_transform(train_df[continuous_features])\n",
    "test_cont_array = scaler.transform(test_df[continuous_features])"
   ]
  },
  {
   "cell_type": "markdown",
   "id": "87b1d091-bbc5-45a7-b15f-4f90d60ff4e2",
   "metadata": {},
   "source": [
    "# merge prcessed data"
   ]
  },
  {
   "cell_type": "code",
   "execution_count": 17,
   "id": "8734759d-ca07-4c26-b48d-e67339e2cba5",
   "metadata": {},
   "outputs": [
    {
     "data": {
      "text/plain": [
       "((871393, 2), (871393, 243))"
      ]
     },
     "execution_count": 17,
     "metadata": {},
     "output_type": "execute_result"
    }
   ],
   "source": [
    "train_cont_array.shape, train_country_array.shape#, train_publisher_array.shape"
   ]
  },
  {
   "cell_type": "code",
   "execution_count": 18,
   "id": "780609ea",
   "metadata": {},
   "outputs": [],
   "source": [
    "# train_x = {\n",
    "#     'input_continuous': train_cont_array,\n",
    "#     'input_country': train_country_array,\n",
    "# }\n",
    "\n",
    "# test_x = {\n",
    "#     'input_continuous': test_cont_array,\n",
    "#     'input_country': test_country_array,\n",
    "# }\n",
    "\n",
    "train_x = [train_cont_array, train_country_array]#, train_publisher_array]\n",
    "test_x = [test_cont_array, test_country_array]#, test_publisher_array]"
   ]
  },
  {
   "cell_type": "code",
   "execution_count": 19,
   "id": "0a05a430-7f0a-4848-8dad-74b36554bd51",
   "metadata": {},
   "outputs": [],
   "source": [
    "# train_x = np.concatenate([train_cont_array, train_df[['Location_country']].values], axis=1) #train_publisher_array\n",
    "# test_x = np.concatenate([test_cont_array, test_df[['Location_country']].values], axis=1) #test_publisher_array\n",
    "\n",
    "# train_x.shape, test_x.shape"
   ]
  },
  {
   "cell_type": "code",
   "execution_count": 20,
   "id": "3628cab0-e333-49e0-9eba-842d14f05ab9",
   "metadata": {},
   "outputs": [
    {
     "data": {
      "text/plain": [
       "(871393,)"
      ]
     },
     "execution_count": 20,
     "metadata": {},
     "output_type": "execute_result"
    }
   ],
   "source": [
    "train_y = train_df['Book-Rating'].values\n",
    "train_y.shape"
   ]
  },
  {
   "cell_type": "code",
   "execution_count": 21,
   "id": "92133ccc-5560-45c0-b88f-b84e16736032",
   "metadata": {},
   "outputs": [],
   "source": [
    "# train_array = np.concatenate([train_cont_array, train_country_array, train_publisher_array], axis=1)\n",
    "# test_array = np.concatenate([test_cont_array, test_country_array, test_publisher_array], axis=1)"
   ]
  },
  {
   "attachments": {},
   "cell_type": "markdown",
   "id": "a690f085-d1b1-4271-8779-aca955767ba2",
   "metadata": {
    "tags": []
   },
   "source": [
    "# model"
   ]
  },
  {
   "cell_type": "code",
   "execution_count": 22,
   "id": "8cde1097",
   "metadata": {},
   "outputs": [],
   "source": [
    "alpha = 0.001"
   ]
  },
  {
   "cell_type": "code",
   "execution_count": 23,
   "id": "15f15399",
   "metadata": {},
   "outputs": [
    {
     "data": {
      "text/plain": [
       "243"
      ]
     },
     "execution_count": 23,
     "metadata": {},
     "output_type": "execute_result"
    }
   ],
   "source": [
    "train_country_array.shape[1]"
   ]
  },
  {
   "cell_type": "code",
   "execution_count": 24,
   "id": "7763b5e6",
   "metadata": {},
   "outputs": [],
   "source": [
    "def build_custom_model(input_dims):\n",
    "    # define input tensor\n",
    "    input_continuous = tf.keras.Input(shape=input_dims[0], dtype=tf.float32)\n",
    "    input_country = tf.keras.Input(shape=input_dims[1], dtype='bool')\n",
    "    # input_publisher = tf.keras.Input(shape=input_dims[2], dtype='bool')\n",
    "\n",
    "    # embedding layer\n",
    "    embed_country_layer = tf.keras.layers.Embedding(\n",
    "        train_country_array.shape[1], 10)(input_country)\n",
    "\n",
    "    # rnn layer\n",
    "    country_layer = tf.keras.layers.SimpleRNN(\n",
    "        10, return_sequences=False, dtype=np.float32)(embed_country_layer)\n",
    "\n",
    "    # # embedding layer\n",
    "    # embed_publisher_layer = tf.keras.layers.Embedding(\n",
    "    #     train_country_array.shape[1], 10)(input_publisher)\n",
    "\n",
    "    # # rnn layer\n",
    "    # publisher_layer = tf.keras.layers.SimpleRNN(\n",
    "    #     10, return_sequences=False, dtype=np.float32)(embed_publisher_layer)\n",
    "\n",
    "    # concatenate\n",
    "    x = tf.keras.layers.Concatenate(axis=-1)([input_continuous, country_layer])#, publisher_layer])\n",
    "    # # concatenate\n",
    "    # x = tf.keras.layers.Concatenate(axis=-1)([input_continuous, input_country])\n",
    "\n",
    "    # hidden layer\n",
    "    x = tf.keras.layers.Dense(\n",
    "        64, activation='relu', \n",
    "        kernel_regularizer=tf.keras.regularizers.l2(alpha))(x)\n",
    "\n",
    "    # hidden layer\n",
    "    x = tf.keras.layers.Dense(\n",
    "        16, activation='relu',\n",
    "        kernel_regularizer=tf.keras.regularizers.l2(alpha))(x)\n",
    "\n",
    "    # output layer\n",
    "    x = tf.keras.layers.Dense(1, activation='linear')(x)\n",
    "\n",
    "    model = tf.keras.Model([input_continuous, input_country], x) #, input_publisher\n",
    "\n",
    "    return model"
   ]
  },
  {
   "cell_type": "code",
   "execution_count": 25,
   "id": "c7aed546",
   "metadata": {},
   "outputs": [],
   "source": [
    "learning_rate = 0.001\n",
    "batch_size = 1024\n",
    "epochs = 100"
   ]
  },
  {
   "cell_type": "code",
   "execution_count": 26,
   "id": "4cf3fd94",
   "metadata": {},
   "outputs": [
    {
     "name": "stderr",
     "output_type": "stream",
     "text": [
      "2023-04-27 16:15:26.135499: I tensorflow/core/common_runtime/gpu/gpu_device.cc:1613] Created device /job:localhost/replica:0/task:0/device:GPU:0 with 38220 MB memory:  -> device: 0, name: NVIDIA A100-SXM4-40GB, pci bus id: 0000:00:04.0, compute capability: 8.0\n"
     ]
    },
    {
     "name": "stdout",
     "output_type": "stream",
     "text": [
      "INFO:tensorflow:Using MirroredStrategy with devices ('/job:localhost/replica:0/task:0/device:GPU:0',)\n",
      "INFO:tensorflow:Reduce to /job:localhost/replica:0/task:0/device:CPU:0 then broadcast to ('/job:localhost/replica:0/task:0/device:CPU:0',).\n",
      "INFO:tensorflow:Reduce to /job:localhost/replica:0/task:0/device:CPU:0 then broadcast to ('/job:localhost/replica:0/task:0/device:CPU:0',).\n",
      "INFO:tensorflow:Reduce to /job:localhost/replica:0/task:0/device:CPU:0 then broadcast to ('/job:localhost/replica:0/task:0/device:CPU:0',).\n",
      "INFO:tensorflow:Reduce to /job:localhost/replica:0/task:0/device:CPU:0 then broadcast to ('/job:localhost/replica:0/task:0/device:CPU:0',).\n"
     ]
    }
   ],
   "source": [
    "mirrored_strategy = tf.distribute.MirroredStrategy()\n",
    "\n",
    "with mirrored_strategy.scope():\n",
    "    model = build_custom_model(input_dims=[\n",
    "        train_cont_array.shape[1], \n",
    "        train_country_array.shape[1], \n",
    "        # train_publisher_array.shape[1]\n",
    "    ])\n",
    "\n",
    "    # define optimizer Adam\n",
    "    optimizer = tf.keras.optimizers.Adam(learning_rate=learning_rate)\n",
    "\n",
    "    # model compile\n",
    "    model.compile(optimizer=optimizer, loss='mse', metrics='mse')"
   ]
  },
  {
   "cell_type": "code",
   "execution_count": 27,
   "id": "602a2b94",
   "metadata": {},
   "outputs": [
    {
     "name": "stdout",
     "output_type": "stream",
     "text": [
      "Model: \"model\"\n",
      "__________________________________________________________________________________________________\n",
      " Layer (type)                   Output Shape         Param #     Connected to                     \n",
      "==================================================================================================\n",
      " input_2 (InputLayer)           [(None, 243)]        0           []                               \n",
      "                                                                                                  \n",
      " embedding (Embedding)          (None, 243, 10)      2430        ['input_2[0][0]']                \n",
      "                                                                                                  \n",
      " input_1 (InputLayer)           [(None, 2)]          0           []                               \n",
      "                                                                                                  \n",
      " simple_rnn (SimpleRNN)         (None, 10)           210         ['embedding[0][0]']              \n",
      "                                                                                                  \n",
      " concatenate (Concatenate)      (None, 12)           0           ['input_1[0][0]',                \n",
      "                                                                  'simple_rnn[0][0]']             \n",
      "                                                                                                  \n",
      " dense (Dense)                  (None, 64)           832         ['concatenate[0][0]']            \n",
      "                                                                                                  \n",
      " dense_1 (Dense)                (None, 16)           1040        ['dense[0][0]']                  \n",
      "                                                                                                  \n",
      " dense_2 (Dense)                (None, 1)            17          ['dense_1[0][0]']                \n",
      "                                                                                                  \n",
      "==================================================================================================\n",
      "Total params: 4,529\n",
      "Trainable params: 4,529\n",
      "Non-trainable params: 0\n",
      "__________________________________________________________________________________________________\n"
     ]
    }
   ],
   "source": [
    "model.summary()"
   ]
  },
  {
   "cell_type": "code",
   "execution_count": 28,
   "id": "eef8947c",
   "metadata": {},
   "outputs": [
    {
     "name": "stdout",
     "output_type": "stream",
     "text": [
      "Epoch 1/100\n",
      "INFO:tensorflow:Reduce to /job:localhost/replica:0/task:0/device:CPU:0 then broadcast to ('/job:localhost/replica:0/task:0/device:CPU:0',).\n",
      "INFO:tensorflow:Reduce to /job:localhost/replica:0/task:0/device:CPU:0 then broadcast to ('/job:localhost/replica:0/task:0/device:CPU:0',).\n",
      "INFO:tensorflow:Reduce to /job:localhost/replica:0/task:0/device:CPU:0 then broadcast to ('/job:localhost/replica:0/task:0/device:CPU:0',).\n",
      "INFO:tensorflow:Reduce to /job:localhost/replica:0/task:0/device:CPU:0 then broadcast to ('/job:localhost/replica:0/task:0/device:CPU:0',).\n",
      "INFO:tensorflow:Reduce to /job:localhost/replica:0/task:0/device:CPU:0 then broadcast to ('/job:localhost/replica:0/task:0/device:CPU:0',).\n",
      "INFO:tensorflow:Reduce to /job:localhost/replica:0/task:0/device:CPU:0 then broadcast to ('/job:localhost/replica:0/task:0/device:CPU:0',).\n"
     ]
    },
    {
     "name": "stderr",
     "output_type": "stream",
     "text": [
      "2023-04-27 16:15:31.744151: I tensorflow/compiler/xla/stream_executor/cuda/cuda_blas.cc:630] TensorFloat-32 will be used for the matrix multiplication. This will only be logged once.\n"
     ]
    },
    {
     "name": "stdout",
     "output_type": "stream",
     "text": [
      "766/766 [==============================] - 118s 146ms/step - loss: 15.0899 - mse: 15.0502 - val_loss: 14.7497 - val_mse: 14.7140\n",
      "Epoch 2/100\n",
      "766/766 [==============================] - 109s 143ms/step - loss: 14.8047 - mse: 14.7714 - val_loss: 14.7364 - val_mse: 14.7046\n",
      "Epoch 3/100\n",
      "766/766 [==============================] - 110s 143ms/step - loss: 14.7585 - mse: 14.7275 - val_loss: 14.7052 - val_mse: 14.6750\n",
      "Epoch 4/100\n",
      "766/766 [==============================] - 110s 143ms/step - loss: 14.7311 - mse: 14.7011 - val_loss: 14.7021 - val_mse: 14.6724\n",
      "Epoch 5/100\n",
      "766/766 [==============================] - 108s 141ms/step - loss: 14.7114 - mse: 14.6818 - val_loss: 14.6912 - val_mse: 14.6618\n",
      "Epoch 6/100\n",
      "766/766 [==============================] - 108s 141ms/step - loss: 14.7012 - mse: 14.6720 - val_loss: 14.7073 - val_mse: 14.6780\n",
      "Epoch 7/100\n",
      "766/766 [==============================] - 109s 142ms/step - loss: 14.6932 - mse: 14.6638 - val_loss: 14.6832 - val_mse: 14.6538\n",
      "Epoch 8/100\n",
      "766/766 [==============================] - 108s 141ms/step - loss: 14.6808 - mse: 14.6511 - val_loss: 14.7243 - val_mse: 14.6945\n",
      "Epoch 9/100\n",
      "766/766 [==============================] - 109s 142ms/step - loss: 14.6704 - mse: 14.6401 - val_loss: 14.6938 - val_mse: 14.6630\n",
      "Epoch 10/100\n",
      "766/766 [==============================] - 108s 141ms/step - loss: 14.6648 - mse: 14.6333 - val_loss: 14.6848 - val_mse: 14.6530\n",
      "Epoch 11/100\n",
      "766/766 [==============================] - 108s 141ms/step - loss: 14.6536 - mse: 14.6210 - val_loss: 14.6819 - val_mse: 14.6487\n",
      "Epoch 12/100\n",
      "766/766 [==============================] - 108s 142ms/step - loss: 14.6378 - mse: 14.6038 - val_loss: 14.6931 - val_mse: 14.6584\n",
      "Epoch 13/100\n",
      "766/766 [==============================] - 109s 143ms/step - loss: 14.6316 - mse: 14.5961 - val_loss: 14.6788 - val_mse: 14.6425\n",
      "Epoch 14/100\n",
      "766/766 [==============================] - 109s 142ms/step - loss: 14.6217 - mse: 14.5846 - val_loss: 14.7403 - val_mse: 14.7021\n",
      "Epoch 15/100\n",
      "766/766 [==============================] - 108s 141ms/step - loss: 14.6215 - mse: 14.5824 - val_loss: 14.6952 - val_mse: 14.6558\n",
      "Epoch 16/100\n",
      "766/766 [==============================] - 109s 142ms/step - loss: 14.6206 - mse: 14.5803 - val_loss: 14.6268 - val_mse: 14.5857\n",
      "Epoch 17/100\n",
      "766/766 [==============================] - 109s 142ms/step - loss: 14.6056 - mse: 14.5638 - val_loss: 14.6684 - val_mse: 14.6258\n",
      "Epoch 18/100\n",
      "766/766 [==============================] - 109s 143ms/step - loss: 14.5960 - mse: 14.5529 - val_loss: 14.7056 - val_mse: 14.6620\n",
      "Epoch 19/100\n",
      "766/766 [==============================] - 110s 144ms/step - loss: 14.5879 - mse: 14.5437 - val_loss: 14.7010 - val_mse: 14.6565\n",
      "Epoch 20/100\n",
      "766/766 [==============================] - 108s 142ms/step - loss: 14.5822 - mse: 14.5374 - val_loss: 14.7813 - val_mse: 14.7361\n",
      "Epoch 21/100\n",
      "766/766 [==============================] - 108s 141ms/step - loss: 14.5794 - mse: 14.5341 - val_loss: 14.6515 - val_mse: 14.6057\n",
      "Epoch 22/100\n",
      "766/766 [==============================] - 109s 142ms/step - loss: 14.5817 - mse: 14.5361 - val_loss: 14.6996 - val_mse: 14.6540\n",
      "Epoch 23/100\n",
      "766/766 [==============================] - 109s 142ms/step - loss: 14.5670 - mse: 14.5210 - val_loss: 14.7822 - val_mse: 14.7361\n",
      "Epoch 24/100\n",
      "766/766 [==============================] - 107s 140ms/step - loss: 14.5627 - mse: 14.5165 - val_loss: 14.7024 - val_mse: 14.6560\n",
      "Epoch 25/100\n",
      "766/766 [==============================] - 107s 139ms/step - loss: 14.5569 - mse: 14.5103 - val_loss: 14.6536 - val_mse: 14.6069\n",
      "Epoch 26/100\n",
      "766/766 [==============================] - 107s 139ms/step - loss: 14.5488 - mse: 14.5018 - val_loss: 14.6722 - val_mse: 14.6251\n",
      "Epoch 27/100\n",
      "766/766 [==============================] - 108s 141ms/step - loss: 14.5494 - mse: 14.5021 - val_loss: 14.6745 - val_mse: 14.6272\n",
      "Epoch 28/100\n",
      "766/766 [==============================] - 108s 140ms/step - loss: 14.5477 - mse: 14.5005 - val_loss: 14.6585 - val_mse: 14.6114\n",
      "Epoch 29/100\n",
      "766/766 [==============================] - 107s 140ms/step - loss: 14.5420 - mse: 14.4948 - val_loss: 14.6982 - val_mse: 14.6512\n",
      "Epoch 30/100\n",
      "766/766 [==============================] - 107s 140ms/step - loss: 14.5410 - mse: 14.4939 - val_loss: 14.7051 - val_mse: 14.6582\n",
      "Epoch 31/100\n",
      "766/766 [==============================] - 107s 140ms/step - loss: 14.5393 - mse: 14.4923 - val_loss: 14.6863 - val_mse: 14.6395\n",
      "Epoch 32/100\n",
      "766/766 [==============================] - 107s 139ms/step - loss: 14.5339 - mse: 14.4868 - val_loss: 14.7158 - val_mse: 14.6689\n",
      "Epoch 33/100\n",
      "766/766 [==============================] - 108s 141ms/step - loss: 14.5337 - mse: 14.4867 - val_loss: 14.6918 - val_mse: 14.6448\n",
      "Epoch 34/100\n",
      "766/766 [==============================] - 107s 140ms/step - loss: 14.5337 - mse: 14.4867 - val_loss: 14.6915 - val_mse: 14.6447\n",
      "Epoch 35/100\n",
      "766/766 [==============================] - 108s 141ms/step - loss: 14.5347 - mse: 14.4881 - val_loss: 14.7309 - val_mse: 14.6843\n",
      "Epoch 36/100\n",
      "766/766 [==============================] - 107s 140ms/step - loss: 14.5336 - mse: 14.4870 - val_loss: 14.7549 - val_mse: 14.7085\n",
      "Epoch 37/100\n",
      "766/766 [==============================] - 107s 140ms/step - loss: 14.5288 - mse: 14.4824 - val_loss: 14.7450 - val_mse: 14.6986\n",
      "Epoch 38/100\n",
      "766/766 [==============================] - 106s 139ms/step - loss: 14.5264 - mse: 14.4801 - val_loss: 14.7534 - val_mse: 14.7071\n",
      "Epoch 39/100\n",
      "766/766 [==============================] - 107s 140ms/step - loss: 14.5247 - mse: 14.4784 - val_loss: 14.6705 - val_mse: 14.6243\n",
      "Epoch 40/100\n",
      "766/766 [==============================] - 107s 140ms/step - loss: 14.5272 - mse: 14.4812 - val_loss: 14.7114 - val_mse: 14.6653\n",
      "Epoch 41/100\n",
      "766/766 [==============================] - 107s 140ms/step - loss: 14.5250 - mse: 14.4790 - val_loss: 14.7214 - val_mse: 14.6755\n",
      "Epoch 42/100\n",
      "766/766 [==============================] - 109s 142ms/step - loss: 14.5216 - mse: 14.4757 - val_loss: 14.7456 - val_mse: 14.6998\n",
      "Epoch 43/100\n",
      "766/766 [==============================] - 108s 140ms/step - loss: 14.5260 - mse: 14.4803 - val_loss: 14.7556 - val_mse: 14.7100\n",
      "Epoch 44/100\n",
      "766/766 [==============================] - 106s 138ms/step - loss: 14.5198 - mse: 14.4741 - val_loss: 14.7259 - val_mse: 14.6802\n",
      "Epoch 45/100\n",
      "766/766 [==============================] - 106s 139ms/step - loss: 14.5179 - mse: 14.4722 - val_loss: 14.7436 - val_mse: 14.6977\n",
      "Epoch 46/100\n",
      "766/766 [==============================] - 107s 140ms/step - loss: 14.5204 - mse: 14.4747 - val_loss: 14.7432 - val_mse: 14.6978\n",
      "Epoch 47/100\n",
      "766/766 [==============================] - 106s 139ms/step - loss: 14.5161 - mse: 14.4706 - val_loss: 14.7781 - val_mse: 14.7324\n",
      "Epoch 48/100\n",
      "766/766 [==============================] - 107s 140ms/step - loss: 14.5176 - mse: 14.4720 - val_loss: 14.7693 - val_mse: 14.7238\n",
      "Epoch 49/100\n",
      "766/766 [==============================] - 107s 139ms/step - loss: 14.5125 - mse: 14.4671 - val_loss: 14.7409 - val_mse: 14.6954\n",
      "Epoch 50/100\n",
      "766/766 [==============================] - 106s 139ms/step - loss: 14.5105 - mse: 14.4648 - val_loss: 14.7325 - val_mse: 14.6870\n",
      "Epoch 51/100\n",
      "766/766 [==============================] - 108s 141ms/step - loss: 14.5101 - mse: 14.4647 - val_loss: 14.7143 - val_mse: 14.6688\n",
      "Epoch 52/100\n",
      "766/766 [==============================] - 107s 140ms/step - loss: 14.5096 - mse: 14.4643 - val_loss: 14.7569 - val_mse: 14.7115\n",
      "Epoch 53/100\n",
      "766/766 [==============================] - 107s 140ms/step - loss: 14.5107 - mse: 14.4654 - val_loss: 14.7156 - val_mse: 14.6705\n",
      "Epoch 54/100\n",
      "766/766 [==============================] - 108s 141ms/step - loss: 14.5102 - mse: 14.4652 - val_loss: 14.7973 - val_mse: 14.7522\n",
      "Epoch 55/100\n",
      "766/766 [==============================] - 107s 139ms/step - loss: 14.5069 - mse: 14.4616 - val_loss: 14.7050 - val_mse: 14.6598\n",
      "Epoch 56/100\n",
      "766/766 [==============================] - 107s 140ms/step - loss: 14.5113 - mse: 14.4662 - val_loss: 14.7282 - val_mse: 14.6834\n",
      "Epoch 57/100\n",
      "766/766 [==============================] - 107s 140ms/step - loss: 14.5063 - mse: 14.4613 - val_loss: 14.7128 - val_mse: 14.6678\n",
      "Epoch 58/100\n",
      "766/766 [==============================] - 108s 140ms/step - loss: 14.5053 - mse: 14.4603 - val_loss: 14.7429 - val_mse: 14.6980\n",
      "Epoch 59/100\n",
      "766/766 [==============================] - 108s 141ms/step - loss: 14.5054 - mse: 14.4605 - val_loss: 14.7635 - val_mse: 14.7186\n",
      "Epoch 60/100\n",
      "766/766 [==============================] - 107s 140ms/step - loss: 14.5086 - mse: 14.4638 - val_loss: 14.7277 - val_mse: 14.6830\n",
      "Epoch 61/100\n",
      "766/766 [==============================] - 107s 140ms/step - loss: 14.5007 - mse: 14.4559 - val_loss: 14.7440 - val_mse: 14.6992\n",
      "Epoch 62/100\n",
      "766/766 [==============================] - 107s 140ms/step - loss: 14.5012 - mse: 14.4565 - val_loss: 14.7342 - val_mse: 14.6894\n",
      "Epoch 63/100\n",
      "766/766 [==============================] - 108s 141ms/step - loss: 14.5006 - mse: 14.4561 - val_loss: 14.7311 - val_mse: 14.6864\n",
      "Epoch 64/100\n",
      "766/766 [==============================] - 108s 141ms/step - loss: 14.5029 - mse: 14.4584 - val_loss: 14.7658 - val_mse: 14.7215\n",
      "Epoch 65/100\n",
      "766/766 [==============================] - 108s 140ms/step - loss: 14.5024 - mse: 14.4581 - val_loss: 14.7572 - val_mse: 14.7129\n",
      "Epoch 66/100\n",
      "766/766 [==============================] - 107s 140ms/step - loss: 14.5026 - mse: 14.4583 - val_loss: 14.7293 - val_mse: 14.6851\n",
      "Epoch 67/100\n",
      "766/766 [==============================] - 107s 139ms/step - loss: 14.5011 - mse: 14.4570 - val_loss: 14.7873 - val_mse: 14.7434\n",
      "Epoch 68/100\n",
      "766/766 [==============================] - 107s 140ms/step - loss: 14.5007 - mse: 14.4569 - val_loss: 14.7261 - val_mse: 14.6824\n",
      "Epoch 69/100\n",
      "766/766 [==============================] - 108s 141ms/step - loss: 14.4995 - mse: 14.4558 - val_loss: 14.7690 - val_mse: 14.7252\n",
      "Epoch 70/100\n",
      "766/766 [==============================] - 108s 141ms/step - loss: 14.4991 - mse: 14.4554 - val_loss: 14.7344 - val_mse: 14.6906\n",
      "Epoch 71/100\n",
      "766/766 [==============================] - 107s 140ms/step - loss: 14.4986 - mse: 14.4550 - val_loss: 14.7698 - val_mse: 14.7261\n",
      "Epoch 72/100\n",
      "766/766 [==============================] - 107s 140ms/step - loss: 14.4994 - mse: 14.4557 - val_loss: 14.7885 - val_mse: 14.7451\n",
      "Epoch 73/100\n",
      "766/766 [==============================] - 108s 141ms/step - loss: 14.4971 - mse: 14.4538 - val_loss: 14.8376 - val_mse: 14.7942\n",
      "Epoch 74/100\n",
      "766/766 [==============================] - 109s 142ms/step - loss: 14.4951 - mse: 14.4517 - val_loss: 14.8355 - val_mse: 14.7922\n",
      "Epoch 75/100\n",
      "766/766 [==============================] - 108s 141ms/step - loss: 14.4988 - mse: 14.4557 - val_loss: 14.7560 - val_mse: 14.7129\n",
      "Epoch 76/100\n",
      "766/766 [==============================] - 108s 141ms/step - loss: 14.4964 - mse: 14.4533 - val_loss: 14.7785 - val_mse: 14.7352\n",
      "Epoch 77/100\n",
      "766/766 [==============================] - 108s 140ms/step - loss: 14.4946 - mse: 14.4514 - val_loss: 14.7108 - val_mse: 14.6677\n",
      "Epoch 78/100\n",
      "766/766 [==============================] - 108s 140ms/step - loss: 14.4937 - mse: 14.4507 - val_loss: 14.7467 - val_mse: 14.7036\n",
      "Epoch 79/100\n",
      "766/766 [==============================] - 107s 140ms/step - loss: 14.4942 - mse: 14.4511 - val_loss: 14.7325 - val_mse: 14.6897\n",
      "Epoch 80/100\n",
      "766/766 [==============================] - 108s 141ms/step - loss: 14.4923 - mse: 14.4495 - val_loss: 14.7627 - val_mse: 14.7198\n",
      "Epoch 81/100\n",
      "766/766 [==============================] - 107s 140ms/step - loss: 14.4958 - mse: 14.4530 - val_loss: 14.8361 - val_mse: 14.7935\n",
      "Epoch 82/100\n",
      "766/766 [==============================] - 108s 141ms/step - loss: 14.4976 - mse: 14.4553 - val_loss: 14.7369 - val_mse: 14.6946\n",
      "Epoch 83/100\n",
      "766/766 [==============================] - 107s 140ms/step - loss: 14.4904 - mse: 14.4481 - val_loss: 14.7802 - val_mse: 14.7378\n",
      "Epoch 84/100\n",
      "766/766 [==============================] - 108s 140ms/step - loss: 14.4922 - mse: 14.4498 - val_loss: 14.7892 - val_mse: 14.7469\n",
      "Epoch 85/100\n",
      "766/766 [==============================] - 108s 141ms/step - loss: 14.4880 - mse: 14.4457 - val_loss: 14.7457 - val_mse: 14.7034\n",
      "Epoch 86/100\n",
      "766/766 [==============================] - 107s 140ms/step - loss: 14.4939 - mse: 14.4519 - val_loss: 14.7415 - val_mse: 14.6995\n",
      "Epoch 87/100\n",
      "766/766 [==============================] - 107s 140ms/step - loss: 14.4900 - mse: 14.4480 - val_loss: 14.7759 - val_mse: 14.7339\n",
      "Epoch 88/100\n",
      "766/766 [==============================] - 109s 142ms/step - loss: 14.4928 - mse: 14.4507 - val_loss: 14.7426 - val_mse: 14.7006\n",
      "Epoch 89/100\n",
      "766/766 [==============================] - 107s 140ms/step - loss: 14.4895 - mse: 14.4477 - val_loss: 14.7035 - val_mse: 14.6615\n",
      "Epoch 90/100\n",
      "766/766 [==============================] - 108s 140ms/step - loss: 14.4855 - mse: 14.4435 - val_loss: 14.7537 - val_mse: 14.7116\n",
      "Epoch 91/100\n",
      "766/766 [==============================] - 108s 142ms/step - loss: 14.4845 - mse: 14.4424 - val_loss: 14.7220 - val_mse: 14.6799\n",
      "Epoch 92/100\n",
      "766/766 [==============================] - 108s 141ms/step - loss: 14.4866 - mse: 14.4446 - val_loss: 14.7378 - val_mse: 14.6959\n",
      "Epoch 93/100\n",
      "766/766 [==============================] - 108s 141ms/step - loss: 14.4865 - mse: 14.4447 - val_loss: 14.7121 - val_mse: 14.6703\n",
      "Epoch 94/100\n",
      "766/766 [==============================] - 108s 141ms/step - loss: 14.4851 - mse: 14.4434 - val_loss: 14.7191 - val_mse: 14.6774\n",
      "Epoch 95/100\n",
      "766/766 [==============================] - 107s 140ms/step - loss: 14.4847 - mse: 14.4431 - val_loss: 14.7491 - val_mse: 14.7073\n",
      "Epoch 96/100\n",
      "766/766 [==============================] - 108s 140ms/step - loss: 14.4814 - mse: 14.4396 - val_loss: 14.7655 - val_mse: 14.7237\n",
      "Epoch 97/100\n",
      "766/766 [==============================] - 108s 140ms/step - loss: 14.4869 - mse: 14.4453 - val_loss: 14.7328 - val_mse: 14.6912\n",
      "Epoch 98/100\n",
      "766/766 [==============================] - 108s 141ms/step - loss: 14.4827 - mse: 14.4412 - val_loss: 14.7427 - val_mse: 14.7011\n",
      "Epoch 99/100\n",
      "766/766 [==============================] - 107s 140ms/step - loss: 14.4851 - mse: 14.4436 - val_loss: 14.7146 - val_mse: 14.6733\n",
      "Epoch 100/100\n",
      "766/766 [==============================] - 108s 141ms/step - loss: 14.4813 - mse: 14.4399 - val_loss: 14.7840 - val_mse: 14.7426\n"
     ]
    }
   ],
   "source": [
    "history = model.fit(train_x, train_y, validation_split=.1, epochs=epochs, batch_size=batch_size)"
   ]
  },
  {
   "cell_type": "code",
   "execution_count": 29,
   "id": "367a2bb3",
   "metadata": {},
   "outputs": [
    {
     "data": {
      "image/png": "[encoded data removed]",
      "text/plain": [
       "<Figure size 640x480 with 1 Axes>"
      ]
     },
     "metadata": {},
     "output_type": "display_data"
    }
   ],
   "source": [
    "plt.plot(history.history['loss'])\n",
    "plt.plot(history.history['val_loss'])\n",
    "plt.show()"
   ]
  },
  {
   "cell_type": "code",
   "execution_count": 30,
   "id": "ea451a38",
   "metadata": {},
   "outputs": [
    {
     "name": "stdout",
     "output_type": "stream",
     "text": [
      "27232/27232 [==============================] - 550s 20ms/step\n"
     ]
    },
    {
     "data": {
      "text/plain": [
       "array([[3.3053591],\n",
       "       [3.2349198],\n",
       "       [3.2349198],\n",
       "       ...,\n",
       "       [3.5425441],\n",
       "       [2.4353745],\n",
       "       [3.0699022]], dtype=float32)"
      ]
     },
     "execution_count": 30,
     "metadata": {},
     "output_type": "execute_result"
    }
   ],
   "source": [
    "train_pred = model.predict(train_x)\n",
    "train_pred"
   ]
  },
  {
   "cell_type": "code",
   "execution_count": 31,
   "id": "1820a336",
   "metadata": {},
   "outputs": [
    {
     "data": {
      "text/plain": [
       "(871393, 1)"
      ]
     },
     "execution_count": 31,
     "metadata": {},
     "output_type": "execute_result"
    }
   ],
   "source": [
    "train_pred.shape"
   ]
  },
  {
   "cell_type": "code",
   "execution_count": 32,
   "id": "44be1d60",
   "metadata": {},
   "outputs": [
    {
     "name": "stdout",
     "output_type": "stream",
     "text": [
      "4989/4989 [==============================] - 100s 20ms/step\n"
     ]
    },
    {
     "data": {
      "text/plain": [
       "array([[2.6699731],\n",
       "       [2.7041337],\n",
       "       [2.4656327],\n",
       "       ...,\n",
       "       [3.4443479],\n",
       "       [3.5405881],\n",
       "       [3.6137817]], dtype=float32)"
      ]
     },
     "execution_count": 32,
     "metadata": {},
     "output_type": "execute_result"
    }
   ],
   "source": [
    "test_pred = model.predict(test_x)\n",
    "test_pred"
   ]
  },
  {
   "cell_type": "code",
   "execution_count": 33,
   "id": "0318eec6",
   "metadata": {},
   "outputs": [],
   "source": [
    "from sklearn.metrics import mean_squared_error"
   ]
  },
  {
   "cell_type": "code",
   "execution_count": 34,
   "id": "b9ca55e0",
   "metadata": {},
   "outputs": [
    {
     "data": {
      "text/plain": [
       "3.804447646116466"
      ]
     },
     "execution_count": 34,
     "metadata": {},
     "output_type": "execute_result"
    }
   ],
   "source": [
    "rmse = mean_squared_error(train_y, train_pred, squared=False)\n",
    "rmse"
   ]
  },
  {
   "cell_type": "code",
   "execution_count": 35,
   "id": "6e68d40a",
   "metadata": {},
   "outputs": [
    {
     "data": {
      "text/html": [
       "<div>\n",
       "<style scoped>\n",
       "    .dataframe tbody tr th:only-of-type {\n",
       "        vertical-align: middle;\n",
       "    }\n",
       "\n",
       "    .dataframe tbody tr th {\n",
       "        vertical-align: top;\n",
       "    }\n",
       "\n",
       "    .dataframe thead th {\n",
       "        text-align: right;\n",
       "    }\n",
       "</style>\n",
       "<table border=\"1\" class=\"dataframe\">\n",
       "  <thead>\n",
       "    <tr style=\"text-align: right;\">\n",
       "      <th></th>\n",
       "      <th>ID</th>\n",
       "      <th>Book-Rating</th>\n",
       "    </tr>\n",
       "  </thead>\n",
       "  <tbody>\n",
       "    <tr>\n",
       "      <th>0</th>\n",
       "      <td>TEST_000000</td>\n",
       "      <td>0</td>\n",
       "    </tr>\n",
       "    <tr>\n",
       "      <th>1</th>\n",
       "      <td>TEST_000001</td>\n",
       "      <td>0</td>\n",
       "    </tr>\n",
       "    <tr>\n",
       "      <th>2</th>\n",
       "      <td>TEST_000002</td>\n",
       "      <td>0</td>\n",
       "    </tr>\n",
       "    <tr>\n",
       "      <th>3</th>\n",
       "      <td>TEST_000003</td>\n",
       "      <td>0</td>\n",
       "    </tr>\n",
       "    <tr>\n",
       "      <th>4</th>\n",
       "      <td>TEST_000004</td>\n",
       "      <td>0</td>\n",
       "    </tr>\n",
       "    <tr>\n",
       "      <th>...</th>\n",
       "      <td>...</td>\n",
       "      <td>...</td>\n",
       "    </tr>\n",
       "    <tr>\n",
       "      <th>159616</th>\n",
       "      <td>TEST_159616</td>\n",
       "      <td>0</td>\n",
       "    </tr>\n",
       "    <tr>\n",
       "      <th>159617</th>\n",
       "      <td>TEST_159617</td>\n",
       "      <td>0</td>\n",
       "    </tr>\n",
       "    <tr>\n",
       "      <th>159618</th>\n",
       "      <td>TEST_159618</td>\n",
       "      <td>0</td>\n",
       "    </tr>\n",
       "    <tr>\n",
       "      <th>159619</th>\n",
       "      <td>TEST_159619</td>\n",
       "      <td>0</td>\n",
       "    </tr>\n",
       "    <tr>\n",
       "      <th>159620</th>\n",
       "      <td>TEST_159620</td>\n",
       "      <td>0</td>\n",
       "    </tr>\n",
       "  </tbody>\n",
       "</table>\n",
       "<p>159621 rows × 2 columns</p>\n",
       "</div>"
      ],
      "text/plain": [
       "                 ID  Book-Rating\n",
       "0       TEST_000000            0\n",
       "1       TEST_000001            0\n",
       "2       TEST_000002            0\n",
       "3       TEST_000003            0\n",
       "4       TEST_000004            0\n",
       "...             ...          ...\n",
       "159616  TEST_159616            0\n",
       "159617  TEST_159617            0\n",
       "159618  TEST_159618            0\n",
       "159619  TEST_159619            0\n",
       "159620  TEST_159620            0\n",
       "\n",
       "[159621 rows x 2 columns]"
      ]
     },
     "execution_count": 35,
     "metadata": {},
     "output_type": "execute_result"
    }
   ],
   "source": [
    "sample_submission_df = pd.read_csv(\"open/sample_submission.csv\")\n",
    "sample_submission_df"
   ]
  },
  {
   "cell_type": "code",
   "execution_count": 36,
   "id": "1ec53519",
   "metadata": {},
   "outputs": [],
   "source": [
    "mname = 'custom_dl'"
   ]
  },
  {
   "cell_type": "code",
   "execution_count": 37,
   "id": "4e1b7265",
   "metadata": {},
   "outputs": [],
   "source": [
    "def make_report(template, test_pred, mname):\n",
    "    template['Book-Rating'] = test_pred\n",
    "    now = dt.strftime(dt.now(), '%y-%m-%d')\n",
    "    template.to_csv(f'results/{mname}-{now}.csv', index=False)\n",
    "    \n",
    "make_report(sample_submission_df, test_pred, mname)"
   ]
  },
  {
   "attachments": {},
   "cell_type": "markdown",
   "id": "0e6ce5be",
   "metadata": {},
   "source": [
    "test_rmse = 3.8036542165822924"
   ]
  }
 ],
 "metadata": {
  "kernelspec": {
   "display_name": "general",
   "language": "python",
   "name": "python3"
  },
  "language_info": {
   "codemirror_mode": {
    "name": "ipython",
    "version": 3
   },
   "file_extension": ".py",
   "mimetype": "text/x-python",
   "name": "python",
   "nbconvert_exporter": "python",
   "pygments_lexer": "ipython3",
   "version": "3.10.0"
  }
 },
 "nbformat": 4,
 "nbformat_minor": 5
}
