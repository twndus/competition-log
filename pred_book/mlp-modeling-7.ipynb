{
 "cells": [
  {
   "attachments": {},
   "cell_type": "markdown",
   "id": "e4c024ed-156e-4ac2-9df8-63be9bd57dbf",
   "metadata": {},
   "source": [
    "# MLP Modeling - 7\n",
    "\n",
    "with hugging face api"
   ]
  },
  {
   "cell_type": "code",
   "execution_count": 1,
   "id": "c99a78df-a588-4746-aa1c-827fc197adb2",
   "metadata": {},
   "outputs": [
    {
     "name": "stderr",
     "output_type": "stream",
     "text": [
      "2023-04-29 16:12:59.354904: I tensorflow/core/platform/cpu_feature_guard.cc:193] This TensorFlow binary is optimized with oneAPI Deep Neural Network Library (oneDNN) to use the following CPU instructions in performance-critical operations:  AVX2 AVX512F AVX512_VNNI FMA\n",
      "To enable them in other operations, rebuild TensorFlow with the appropriate compiler flags.\n",
      "2023-04-29 16:12:59.495014: I tensorflow/core/util/port.cc:104] oneDNN custom operations are on. You may see slightly different numerical results due to floating-point round-off errors from different computation orders. To turn them off, set the environment variable `TF_ENABLE_ONEDNN_OPTS=0`.\n",
      "2023-04-29 16:13:00.292395: W tensorflow/compiler/xla/stream_executor/platform/default/dso_loader.cc:64] Could not load dynamic library 'libnvinfer.so.7'; dlerror: libnvinfer.so.7: cannot open shared object file: No such file or directory; LD_LIBRARY_PATH: /usr/local/cuda/lib64:/usr/local/nccl2/lib:/usr/local/cuda/extras/CUPTI/lib64:/usr/local/cuda/lib64:/usr/local/nccl2/lib:/usr/local/cuda/extras/CUPTI/lib64\n",
      "2023-04-29 16:13:00.292517: W tensorflow/compiler/xla/stream_executor/platform/default/dso_loader.cc:64] Could not load dynamic library 'libnvinfer_plugin.so.7'; dlerror: libnvinfer_plugin.so.7: cannot open shared object file: No such file or directory; LD_LIBRARY_PATH: /usr/local/cuda/lib64:/usr/local/nccl2/lib:/usr/local/cuda/extras/CUPTI/lib64:/usr/local/cuda/lib64:/usr/local/nccl2/lib:/usr/local/cuda/extras/CUPTI/lib64\n",
      "2023-04-29 16:13:00.292527: W tensorflow/compiler/tf2tensorrt/utils/py_utils.cc:38] TF-TRT Warning: Cannot dlopen some TensorRT libraries. If you would like to use Nvidia GPU with TensorRT, please make sure the missing libraries mentioned above are installed properly.\n",
      "/opt/conda/envs/general/lib/python3.10/site-packages/tqdm/auto.py:21: TqdmWarning: IProgress not found. Please update jupyter and ipywidgets. See https://ipywidgets.readthedocs.io/en/stable/user_install.html\n",
      "  from .autonotebook import tqdm as notebook_tqdm\n"
     ]
    }
   ],
   "source": [
    "import os\n",
    "from datetime import datetime as dt\n",
    "\n",
    "import numpy as np\n",
    "import pandas as pd\n",
    "from tqdm import tqdm\n",
    "\n",
    "import matplotlib.pyplot as plt\n",
    "import seaborn as sns\n",
    "\n",
    "import tensorflow as tf\n",
    "from sentence_transformers import SentenceTransformer\n",
    "# import optuna"
   ]
  },
  {
   "cell_type": "code",
   "execution_count": 2,
   "id": "b834b502",
   "metadata": {},
   "outputs": [],
   "source": [
    "# model = SentenceTransformer(\"sentence-transformers/distiluse-base-multilingual-cased-v2\")"
   ]
  },
  {
   "cell_type": "markdown",
   "id": "70ac056c-da9c-4fbf-9187-1cf73df5e1ef",
   "metadata": {},
   "source": [
    "## load data"
   ]
  },
  {
   "cell_type": "code",
   "execution_count": 3,
   "id": "14bd5180-e00c-4e12-b8e7-5959054e102b",
   "metadata": {},
   "outputs": [
    {
     "data": {
      "text/plain": [
       "((871393, 9), (159621, 8), (159621, 2))"
      ]
     },
     "execution_count": 3,
     "metadata": {},
     "output_type": "execute_result"
    }
   ],
   "source": [
    "train_df = pd.read_csv(\"open/train.csv\", index_col='ID')\n",
    "test_df = pd.read_csv(\"open/test.csv\", index_col='ID')\n",
    "sample_submission_df = pd.read_csv(\"open/sample_submission.csv\")\n",
    "\n",
    "train_df.shape, test_df.shape, sample_submission_df.shape"
   ]
  },
  {
   "cell_type": "code",
   "execution_count": 4,
   "id": "60502406",
   "metadata": {},
   "outputs": [],
   "source": [
    "book_dict = train_df[['Book-ID', 'Book-Title']].drop_duplicates(\n",
    "    keep='first').values\n",
    "book_list = np.unique(book_dict[:, 0])"
   ]
  },
  {
   "cell_type": "code",
   "execution_count": 5,
   "id": "71223fd1",
   "metadata": {},
   "outputs": [],
   "source": [
    "test_book_dict = test_df[['Book-ID', 'Book-Title']].drop_duplicates(\n",
    "    keep='first').values\n",
    "test_book_list = np.unique(test_book_dict[:, 0])"
   ]
  },
  {
   "cell_type": "code",
   "execution_count": 6,
   "id": "8fefe7e6-f6b1-4fa5-826a-6fd7c7a51441",
   "metadata": {},
   "outputs": [
    {
     "name": "stdout",
     "output_type": "stream",
     "text": [
      "<class 'pandas.core.frame.DataFrame'>\n",
      "Index: 871393 entries, TRAIN_000000 to TRAIN_871392\n",
      "Data columns (total 9 columns):\n",
      " #   Column               Non-Null Count   Dtype  \n",
      "---  ------               --------------   -----  \n",
      " 0   User-ID              871393 non-null  object \n",
      " 1   Book-ID              871393 non-null  object \n",
      " 2   Book-Rating          871393 non-null  int64  \n",
      " 3   Age                  871393 non-null  float64\n",
      " 4   Location             871393 non-null  object \n",
      " 5   Book-Title           871393 non-null  object \n",
      " 6   Book-Author          871393 non-null  object \n",
      " 7   Year-Of-Publication  871393 non-null  float64\n",
      " 8   Publisher            871393 non-null  object \n",
      "dtypes: float64(2), int64(1), object(6)\n",
      "memory usage: 66.5+ MB\n"
     ]
    }
   ],
   "source": [
    "train_df.info()"
   ]
  },
  {
   "cell_type": "markdown",
   "id": "fb46156c-cfdc-41d5-b11d-6375f6f9b8c7",
   "metadata": {},
   "source": [
    "## preprocess data"
   ]
  },
  {
   "cell_type": "code",
   "execution_count": 7,
   "id": "d1724967-00b1-4acc-972c-a6918158e420",
   "metadata": {},
   "outputs": [
    {
     "data": {
      "text/plain": [
       "(83256, 243441)"
      ]
     },
     "execution_count": 7,
     "metadata": {},
     "output_type": "execute_result"
    }
   ],
   "source": [
    "train_users = train_df['User-ID'].unique()\n",
    "train_books = train_df['Book-ID'].unique()\n",
    "\n",
    "len(train_users), len(train_books)"
   ]
  },
  {
   "cell_type": "code",
   "execution_count": 8,
   "id": "e37b65fe-4e31-4ce8-a379-10027903de2e",
   "metadata": {},
   "outputs": [
    {
     "data": {
      "text/plain": [
       "(21909, 62333)"
      ]
     },
     "execution_count": 8,
     "metadata": {},
     "output_type": "execute_result"
    }
   ],
   "source": [
    "test_users = test_df['User-ID'].unique()\n",
    "test_books = test_df['Book-ID'].unique()\n",
    "\n",
    "len(test_users), len(test_books)"
   ]
  },
  {
   "cell_type": "code",
   "execution_count": 9,
   "id": "0f8ad687-f299-4abe-8800-7aa2ebed42f8",
   "metadata": {},
   "outputs": [
    {
     "data": {
      "text/plain": [
       "(92101, 270056)"
      ]
     },
     "execution_count": 9,
     "metadata": {},
     "output_type": "execute_result"
    }
   ],
   "source": [
    "len(set(train_users) | set(test_users)), len(set(train_books) | set(test_books))"
   ]
  },
  {
   "cell_type": "markdown",
   "id": "2bdb91f0-3379-41ff-adeb-1517c26fe0a1",
   "metadata": {},
   "source": [
    "새로운 유저, 새로운 책이 분명 있음"
   ]
  },
  {
   "cell_type": "code",
   "execution_count": 10,
   "id": "6c7004c0-c6b9-4242-86ba-a24fb6547be3",
   "metadata": {},
   "outputs": [
    {
     "data": {
      "text/html": [
       "<div>\n",
       "<style scoped>\n",
       "    .dataframe tbody tr th:only-of-type {\n",
       "        vertical-align: middle;\n",
       "    }\n",
       "\n",
       "    .dataframe tbody tr th {\n",
       "        vertical-align: top;\n",
       "    }\n",
       "\n",
       "    .dataframe thead th {\n",
       "        text-align: right;\n",
       "    }\n",
       "</style>\n",
       "<table border=\"1\" class=\"dataframe\">\n",
       "  <thead>\n",
       "    <tr style=\"text-align: right;\">\n",
       "      <th></th>\n",
       "      <th>User-ID</th>\n",
       "      <th>Book-ID</th>\n",
       "      <th>Book-Rating</th>\n",
       "      <th>Age</th>\n",
       "      <th>Location</th>\n",
       "      <th>Book-Title</th>\n",
       "      <th>Book-Author</th>\n",
       "      <th>Year-Of-Publication</th>\n",
       "      <th>Publisher</th>\n",
       "    </tr>\n",
       "    <tr>\n",
       "      <th>ID</th>\n",
       "      <th></th>\n",
       "      <th></th>\n",
       "      <th></th>\n",
       "      <th></th>\n",
       "      <th></th>\n",
       "      <th></th>\n",
       "      <th></th>\n",
       "      <th></th>\n",
       "      <th></th>\n",
       "    </tr>\n",
       "  </thead>\n",
       "  <tbody>\n",
       "    <tr>\n",
       "      <th>TRAIN_000000</th>\n",
       "      <td>USER_00000</td>\n",
       "      <td>BOOK_044368</td>\n",
       "      <td>8</td>\n",
       "      <td>23.0</td>\n",
       "      <td>sackville, new brunswick, canada</td>\n",
       "      <td>Road Taken</td>\n",
       "      <td>Rona Jaffe</td>\n",
       "      <td>2001.0</td>\n",
       "      <td>Mira</td>\n",
       "    </tr>\n",
       "    <tr>\n",
       "      <th>TRAIN_000001</th>\n",
       "      <td>USER_00000</td>\n",
       "      <td>BOOK_081205</td>\n",
       "      <td>8</td>\n",
       "      <td>23.0</td>\n",
       "      <td>sackville, new brunswick, canada</td>\n",
       "      <td>Macbeth (New Penguin Shakespeare)</td>\n",
       "      <td>William Shakespeare</td>\n",
       "      <td>1981.0</td>\n",
       "      <td>Penguin Books</td>\n",
       "    </tr>\n",
       "    <tr>\n",
       "      <th>TRAIN_000002</th>\n",
       "      <td>USER_00000</td>\n",
       "      <td>BOOK_086781</td>\n",
       "      <td>0</td>\n",
       "      <td>23.0</td>\n",
       "      <td>sackville, new brunswick, canada</td>\n",
       "      <td>Waverley (Penguin English Library)</td>\n",
       "      <td>Walter Scott</td>\n",
       "      <td>1981.0</td>\n",
       "      <td>Penguin Books</td>\n",
       "    </tr>\n",
       "    <tr>\n",
       "      <th>TRAIN_000003</th>\n",
       "      <td>USER_00000</td>\n",
       "      <td>BOOK_098622</td>\n",
       "      <td>0</td>\n",
       "      <td>23.0</td>\n",
       "      <td>sackville, new brunswick, canada</td>\n",
       "      <td>Mother Earth Father Sky</td>\n",
       "      <td>Sue Harrison</td>\n",
       "      <td>1991.0</td>\n",
       "      <td>Avon</td>\n",
       "    </tr>\n",
       "    <tr>\n",
       "      <th>TRAIN_000004</th>\n",
       "      <td>USER_00000</td>\n",
       "      <td>BOOK_180810</td>\n",
       "      <td>8</td>\n",
       "      <td>23.0</td>\n",
       "      <td>sackville, new brunswick, canada</td>\n",
       "      <td>She Who Remembers</td>\n",
       "      <td>Linda Lay Shuler</td>\n",
       "      <td>1989.0</td>\n",
       "      <td>Signet Book</td>\n",
       "    </tr>\n",
       "  </tbody>\n",
       "</table>\n",
       "</div>"
      ],
      "text/plain": [
       "                 User-ID      Book-ID  Book-Rating   Age   \n",
       "ID                                                         \n",
       "TRAIN_000000  USER_00000  BOOK_044368            8  23.0  \\\n",
       "TRAIN_000001  USER_00000  BOOK_081205            8  23.0   \n",
       "TRAIN_000002  USER_00000  BOOK_086781            0  23.0   \n",
       "TRAIN_000003  USER_00000  BOOK_098622            0  23.0   \n",
       "TRAIN_000004  USER_00000  BOOK_180810            8  23.0   \n",
       "\n",
       "                                      Location   \n",
       "ID                                               \n",
       "TRAIN_000000  sackville, new brunswick, canada  \\\n",
       "TRAIN_000001  sackville, new brunswick, canada   \n",
       "TRAIN_000002  sackville, new brunswick, canada   \n",
       "TRAIN_000003  sackville, new brunswick, canada   \n",
       "TRAIN_000004  sackville, new brunswick, canada   \n",
       "\n",
       "                                      Book-Title          Book-Author   \n",
       "ID                                                                      \n",
       "TRAIN_000000                          Road Taken           Rona Jaffe  \\\n",
       "TRAIN_000001   Macbeth (New Penguin Shakespeare)  William Shakespeare   \n",
       "TRAIN_000002  Waverley (Penguin English Library)         Walter Scott   \n",
       "TRAIN_000003             Mother Earth Father Sky         Sue Harrison   \n",
       "TRAIN_000004                   She Who Remembers     Linda Lay Shuler   \n",
       "\n",
       "              Year-Of-Publication      Publisher  \n",
       "ID                                                \n",
       "TRAIN_000000               2001.0           Mira  \n",
       "TRAIN_000001               1981.0  Penguin Books  \n",
       "TRAIN_000002               1981.0  Penguin Books  \n",
       "TRAIN_000003               1991.0           Avon  \n",
       "TRAIN_000004               1989.0    Signet Book  "
      ]
     },
     "execution_count": 10,
     "metadata": {},
     "output_type": "execute_result"
    }
   ],
   "source": [
    "train_df.head()"
   ]
  },
  {
   "cell_type": "markdown",
   "id": "c37910e6-9481-4c2f-ab12-039ca6543a59",
   "metadata": {},
   "source": [
    "User feature\n",
    " * Age: int\n",
    " * Location: string\n",
    "\n",
    "Book feature\n",
    " * Book-Title: string\n",
    " * Book-Author: string\n",
    " * Year-Of-Pulication: int\n",
    " * Publisher: string"
   ]
  },
  {
   "cell_type": "markdown",
   "id": "d57114ba-03e0-463e-84f2-5baf375f06d9",
   "metadata": {},
   "source": [
    "특징의 분해 이전에 label 형태로도 해볼 수 있음"
   ]
  },
  {
   "cell_type": "markdown",
   "id": "51039168-6946-402b-bb6c-8ffddf8f7ecc",
   "metadata": {},
   "source": [
    "# Feature Selection"
   ]
  },
  {
   "cell_type": "code",
   "execution_count": 11,
   "id": "1b22c596-17c4-4ead-ac76-7288c5d03d00",
   "metadata": {},
   "outputs": [
    {
     "data": {
      "text/plain": [
       "Index(['User-ID', 'Book-ID', 'Age', 'Location', 'Book-Title', 'Book-Author',\n",
       "       'Year-Of-Publication', 'Publisher'],\n",
       "      dtype='object')"
      ]
     },
     "execution_count": 11,
     "metadata": {},
     "output_type": "execute_result"
    }
   ],
   "source": [
    "features = test_df.columns\n",
    "features"
   ]
  },
  {
   "cell_type": "code",
   "execution_count": 12,
   "id": "2e687b27-055b-4541-9cf1-f95d74de3bef",
   "metadata": {},
   "outputs": [],
   "source": [
    "continuous_features = ['Age', 'Year-Of-Publication']\n",
    "categorical_features = ['Location', 'Book-Title', 'Book-Author', 'Publisher']"
   ]
  },
  {
   "cell_type": "code",
   "execution_count": 13,
   "id": "10e22f70-bab6-4de6-bfdb-090af36f14bd",
   "metadata": {},
   "outputs": [
    {
     "data": {
      "text/html": [
       "<div>\n",
       "<style scoped>\n",
       "    .dataframe tbody tr th:only-of-type {\n",
       "        vertical-align: middle;\n",
       "    }\n",
       "\n",
       "    .dataframe tbody tr th {\n",
       "        vertical-align: top;\n",
       "    }\n",
       "\n",
       "    .dataframe thead th {\n",
       "        text-align: right;\n",
       "    }\n",
       "</style>\n",
       "<table border=\"1\" class=\"dataframe\">\n",
       "  <thead>\n",
       "    <tr style=\"text-align: right;\">\n",
       "      <th></th>\n",
       "      <th>User-ID</th>\n",
       "      <th>Book-ID</th>\n",
       "      <th>Book-Rating</th>\n",
       "      <th>Age</th>\n",
       "      <th>Book-Title</th>\n",
       "      <th>Book-Author</th>\n",
       "      <th>Year-Of-Publication</th>\n",
       "      <th>Publisher</th>\n",
       "      <th>Location_country</th>\n",
       "      <th>Location_city</th>\n",
       "    </tr>\n",
       "    <tr>\n",
       "      <th>ID</th>\n",
       "      <th></th>\n",
       "      <th></th>\n",
       "      <th></th>\n",
       "      <th></th>\n",
       "      <th></th>\n",
       "      <th></th>\n",
       "      <th></th>\n",
       "      <th></th>\n",
       "      <th></th>\n",
       "      <th></th>\n",
       "    </tr>\n",
       "  </thead>\n",
       "  <tbody>\n",
       "    <tr>\n",
       "      <th>TRAIN_000000</th>\n",
       "      <td>USER_00000</td>\n",
       "      <td>BOOK_044368</td>\n",
       "      <td>8</td>\n",
       "      <td>23.0</td>\n",
       "      <td>Road Taken</td>\n",
       "      <td>Rona Jaffe</td>\n",
       "      <td>2001.0</td>\n",
       "      <td>Mira</td>\n",
       "      <td>canada</td>\n",
       "      <td>newbrunswick</td>\n",
       "    </tr>\n",
       "    <tr>\n",
       "      <th>TRAIN_000001</th>\n",
       "      <td>USER_00000</td>\n",
       "      <td>BOOK_081205</td>\n",
       "      <td>8</td>\n",
       "      <td>23.0</td>\n",
       "      <td>Macbeth (New Penguin Shakespeare)</td>\n",
       "      <td>William Shakespeare</td>\n",
       "      <td>1981.0</td>\n",
       "      <td>Penguin Books</td>\n",
       "      <td>canada</td>\n",
       "      <td>newbrunswick</td>\n",
       "    </tr>\n",
       "    <tr>\n",
       "      <th>TRAIN_000002</th>\n",
       "      <td>USER_00000</td>\n",
       "      <td>BOOK_086781</td>\n",
       "      <td>0</td>\n",
       "      <td>23.0</td>\n",
       "      <td>Waverley (Penguin English Library)</td>\n",
       "      <td>Walter Scott</td>\n",
       "      <td>1981.0</td>\n",
       "      <td>Penguin Books</td>\n",
       "      <td>canada</td>\n",
       "      <td>newbrunswick</td>\n",
       "    </tr>\n",
       "    <tr>\n",
       "      <th>TRAIN_000003</th>\n",
       "      <td>USER_00000</td>\n",
       "      <td>BOOK_098622</td>\n",
       "      <td>0</td>\n",
       "      <td>23.0</td>\n",
       "      <td>Mother Earth Father Sky</td>\n",
       "      <td>Sue Harrison</td>\n",
       "      <td>1991.0</td>\n",
       "      <td>Avon</td>\n",
       "      <td>canada</td>\n",
       "      <td>newbrunswick</td>\n",
       "    </tr>\n",
       "    <tr>\n",
       "      <th>TRAIN_000004</th>\n",
       "      <td>USER_00000</td>\n",
       "      <td>BOOK_180810</td>\n",
       "      <td>8</td>\n",
       "      <td>23.0</td>\n",
       "      <td>She Who Remembers</td>\n",
       "      <td>Linda Lay Shuler</td>\n",
       "      <td>1989.0</td>\n",
       "      <td>Signet Book</td>\n",
       "      <td>canada</td>\n",
       "      <td>newbrunswick</td>\n",
       "    </tr>\n",
       "  </tbody>\n",
       "</table>\n",
       "</div>"
      ],
      "text/plain": [
       "                 User-ID      Book-ID  Book-Rating   Age   \n",
       "ID                                                         \n",
       "TRAIN_000000  USER_00000  BOOK_044368            8  23.0  \\\n",
       "TRAIN_000001  USER_00000  BOOK_081205            8  23.0   \n",
       "TRAIN_000002  USER_00000  BOOK_086781            0  23.0   \n",
       "TRAIN_000003  USER_00000  BOOK_098622            0  23.0   \n",
       "TRAIN_000004  USER_00000  BOOK_180810            8  23.0   \n",
       "\n",
       "                                      Book-Title          Book-Author   \n",
       "ID                                                                      \n",
       "TRAIN_000000                          Road Taken           Rona Jaffe  \\\n",
       "TRAIN_000001   Macbeth (New Penguin Shakespeare)  William Shakespeare   \n",
       "TRAIN_000002  Waverley (Penguin English Library)         Walter Scott   \n",
       "TRAIN_000003             Mother Earth Father Sky         Sue Harrison   \n",
       "TRAIN_000004                   She Who Remembers     Linda Lay Shuler   \n",
       "\n",
       "              Year-Of-Publication      Publisher Location_country   \n",
       "ID                                                                  \n",
       "TRAIN_000000               2001.0           Mira           canada  \\\n",
       "TRAIN_000001               1981.0  Penguin Books           canada   \n",
       "TRAIN_000002               1981.0  Penguin Books           canada   \n",
       "TRAIN_000003               1991.0           Avon           canada   \n",
       "TRAIN_000004               1989.0    Signet Book           canada   \n",
       "\n",
       "             Location_city  \n",
       "ID                          \n",
       "TRAIN_000000  newbrunswick  \n",
       "TRAIN_000001  newbrunswick  \n",
       "TRAIN_000002  newbrunswick  \n",
       "TRAIN_000003  newbrunswick  \n",
       "TRAIN_000004  newbrunswick  "
      ]
     },
     "execution_count": 13,
     "metadata": {},
     "output_type": "execute_result"
    }
   ],
   "source": [
    "train_df['Location'] = train_df['Location'].str.replace(' ', '')\n",
    "train_df['Location_country'] = train_df['Location'].apply(lambda x: x.split(',')[-1])\n",
    "train_df['Location_city'] = train_df['Location'].apply(lambda x: x.split(',')[-2])\n",
    "train_df.drop(columns='Location', inplace=True)\n",
    "train_df.head()"
   ]
  },
  {
   "cell_type": "code",
   "execution_count": 14,
   "id": "328e87fe-8091-4c84-bd0c-c43f2fe4f5a1",
   "metadata": {},
   "outputs": [
    {
     "data": {
      "text/html": [
       "<div>\n",
       "<style scoped>\n",
       "    .dataframe tbody tr th:only-of-type {\n",
       "        vertical-align: middle;\n",
       "    }\n",
       "\n",
       "    .dataframe tbody tr th {\n",
       "        vertical-align: top;\n",
       "    }\n",
       "\n",
       "    .dataframe thead th {\n",
       "        text-align: right;\n",
       "    }\n",
       "</style>\n",
       "<table border=\"1\" class=\"dataframe\">\n",
       "  <thead>\n",
       "    <tr style=\"text-align: right;\">\n",
       "      <th></th>\n",
       "      <th>User-ID</th>\n",
       "      <th>Book-ID</th>\n",
       "      <th>Age</th>\n",
       "      <th>Book-Title</th>\n",
       "      <th>Book-Author</th>\n",
       "      <th>Year-Of-Publication</th>\n",
       "      <th>Publisher</th>\n",
       "      <th>Location_country</th>\n",
       "      <th>Location_city</th>\n",
       "    </tr>\n",
       "    <tr>\n",
       "      <th>ID</th>\n",
       "      <th></th>\n",
       "      <th></th>\n",
       "      <th></th>\n",
       "      <th></th>\n",
       "      <th></th>\n",
       "      <th></th>\n",
       "      <th></th>\n",
       "      <th></th>\n",
       "      <th></th>\n",
       "    </tr>\n",
       "  </thead>\n",
       "  <tbody>\n",
       "    <tr>\n",
       "      <th>TEST_000000</th>\n",
       "      <td>USER_00008</td>\n",
       "      <td>BOOK_047966</td>\n",
       "      <td>37.0</td>\n",
       "      <td>Birds of Prey: A Novel of Suspense</td>\n",
       "      <td>J.A. Jance</td>\n",
       "      <td>2002.0</td>\n",
       "      <td>Avon</td>\n",
       "      <td>usa</td>\n",
       "      <td>ohio</td>\n",
       "    </tr>\n",
       "    <tr>\n",
       "      <th>TEST_000001</th>\n",
       "      <td>USER_00008</td>\n",
       "      <td>BOOK_119494</td>\n",
       "      <td>37.0</td>\n",
       "      <td>Midnight Voices</td>\n",
       "      <td>JOHN SAUL</td>\n",
       "      <td>2003.0</td>\n",
       "      <td>Ballantine Books</td>\n",
       "      <td>usa</td>\n",
       "      <td>ohio</td>\n",
       "    </tr>\n",
       "    <tr>\n",
       "      <th>TEST_000002</th>\n",
       "      <td>USER_00008</td>\n",
       "      <td>BOOK_151775</td>\n",
       "      <td>37.0</td>\n",
       "      <td>Breaking Free : A Prescription for Personal an...</td>\n",
       "      <td>David M.  Noer</td>\n",
       "      <td>1996.0</td>\n",
       "      <td>Jossey-Bass</td>\n",
       "      <td>usa</td>\n",
       "      <td>ohio</td>\n",
       "    </tr>\n",
       "    <tr>\n",
       "      <th>TEST_000003</th>\n",
       "      <td>USER_00008</td>\n",
       "      <td>BOOK_176255</td>\n",
       "      <td>37.0</td>\n",
       "      <td>Bitter Harvest</td>\n",
       "      <td>Ann Rule</td>\n",
       "      <td>1999.0</td>\n",
       "      <td>Pocket</td>\n",
       "      <td>usa</td>\n",
       "      <td>ohio</td>\n",
       "    </tr>\n",
       "    <tr>\n",
       "      <th>TEST_000004</th>\n",
       "      <td>USER_00008</td>\n",
       "      <td>BOOK_187307</td>\n",
       "      <td>37.0</td>\n",
       "      <td>Embraced by the Light</td>\n",
       "      <td>Betty J. Eadie</td>\n",
       "      <td>1994.0</td>\n",
       "      <td>Bantam Books</td>\n",
       "      <td>usa</td>\n",
       "      <td>ohio</td>\n",
       "    </tr>\n",
       "  </tbody>\n",
       "</table>\n",
       "</div>"
      ],
      "text/plain": [
       "                User-ID      Book-ID   Age   \n",
       "ID                                           \n",
       "TEST_000000  USER_00008  BOOK_047966  37.0  \\\n",
       "TEST_000001  USER_00008  BOOK_119494  37.0   \n",
       "TEST_000002  USER_00008  BOOK_151775  37.0   \n",
       "TEST_000003  USER_00008  BOOK_176255  37.0   \n",
       "TEST_000004  USER_00008  BOOK_187307  37.0   \n",
       "\n",
       "                                                    Book-Title   \n",
       "ID                                                               \n",
       "TEST_000000                 Birds of Prey: A Novel of Suspense  \\\n",
       "TEST_000001                                    Midnight Voices   \n",
       "TEST_000002  Breaking Free : A Prescription for Personal an...   \n",
       "TEST_000003                                     Bitter Harvest   \n",
       "TEST_000004                              Embraced by the Light   \n",
       "\n",
       "                Book-Author  Year-Of-Publication         Publisher   \n",
       "ID                                                                   \n",
       "TEST_000000      J.A. Jance               2002.0              Avon  \\\n",
       "TEST_000001       JOHN SAUL               2003.0  Ballantine Books   \n",
       "TEST_000002  David M.  Noer               1996.0       Jossey-Bass   \n",
       "TEST_000003        Ann Rule               1999.0            Pocket   \n",
       "TEST_000004  Betty J. Eadie               1994.0      Bantam Books   \n",
       "\n",
       "            Location_country Location_city  \n",
       "ID                                          \n",
       "TEST_000000              usa          ohio  \n",
       "TEST_000001              usa          ohio  \n",
       "TEST_000002              usa          ohio  \n",
       "TEST_000003              usa          ohio  \n",
       "TEST_000004              usa          ohio  "
      ]
     },
     "execution_count": 14,
     "metadata": {},
     "output_type": "execute_result"
    }
   ],
   "source": [
    "test_df['Location'] = test_df['Location'].str.replace(' ', '')\n",
    "test_df['Location_country'] = test_df['Location'].apply(lambda x: x.split(',')[-1])\n",
    "test_df['Location_city'] = test_df['Location'].apply(lambda x: x.split(',')[-2])\n",
    "test_df.drop(columns='Location', inplace=True)\n",
    "test_df.head()"
   ]
  },
  {
   "cell_type": "markdown",
   "id": "f0d27956",
   "metadata": {},
   "source": [
    "# Embedding with huggingface api"
   ]
  },
  {
   "cell_type": "code",
   "execution_count": 15,
   "id": "3a2f1e89",
   "metadata": {},
   "outputs": [],
   "source": [
    "# from sentence_transformers import SentenceTransformer\n",
    "\n",
    "# model = SentenceTransformer(\"sentence-transformers/paraphrase-MiniLM-L6-v2\")#, from_tf=True)"
   ]
  },
  {
   "cell_type": "code",
   "execution_count": 16,
   "id": "78ae2dd2",
   "metadata": {},
   "outputs": [],
   "source": [
    "# book_title_encoded = np.zeros(shape=(book_dict.shape[0], 384), dtype='float32')\n",
    "# book_title_encoded.shape"
   ]
  },
  {
   "cell_type": "code",
   "execution_count": 17,
   "id": "7b933067",
   "metadata": {},
   "outputs": [],
   "source": [
    "# for i, row in tqdm(enumerate(book_dict[:, 1]), total=book_dict.shape[0]):\n",
    "#     book_title_encoded[i, :] = model.encode(row)"
   ]
  },
  {
   "cell_type": "code",
   "execution_count": 18,
   "id": "f273c0d5",
   "metadata": {},
   "outputs": [],
   "source": [
    "# book_dict.shape, book_title_encoded.shape"
   ]
  },
  {
   "cell_type": "code",
   "execution_count": 19,
   "id": "77f808b9",
   "metadata": {},
   "outputs": [],
   "source": [
    "# book_infos = np.concatenate([book_dict, book_title_encoded], axis=1)\n",
    "# np.save('meta/book_infos_23-04-30.npy', book_infos, allow_pickle=True)"
   ]
  },
  {
   "cell_type": "code",
   "execution_count": 20,
   "id": "a151c75e",
   "metadata": {},
   "outputs": [
    {
     "data": {
      "text/plain": [
       "array([['BOOK_044368', 'Road Taken', 0.294543981552124, ...,\n",
       "        -0.14742030203342438, -0.3801998794078827, -0.0736732929944992],\n",
       "       ['BOOK_081205', 'Macbeth (New Penguin Shakespeare)',\n",
       "        0.05064263194799423, ..., -0.04678504168987274,\n",
       "        0.33441928029060364, -0.21163484454154968],\n",
       "       ['BOOK_086781', 'Waverley (Penguin English Library)',\n",
       "        -0.41163453459739685, ..., -0.1508823037147522,\n",
       "        0.711206316947937, 0.36754968762397766],\n",
       "       ...,\n",
       "       ['BOOK_265220',\n",
       "        \"He's My Brother: Former Racial Foes Offer Strategy for Reconciliation\",\n",
       "        -0.21202334761619568, ..., 0.1758103221654892,\n",
       "        0.13197553157806396, -0.3028498888015747],\n",
       "       ['BOOK_266941',\n",
       "        'Creme De Colorado Cookbook (Celebrating Twenty Five Years of Culinary Artistry)',\n",
       "        -0.09288963675498962, ..., -0.09125104546546936,\n",
       "        0.30533093214035034, -0.1250997930765152],\n",
       "       ['BOOK_130798',\n",
       "        'The Coffin Quilt: The Feud between the Hatfields and the McCoys',\n",
       "        -0.11882448196411133, ..., -0.11357328295707703,\n",
       "        0.6942365169525146, -0.47559019923210144]], dtype=object)"
      ]
     },
     "execution_count": 20,
     "metadata": {},
     "output_type": "execute_result"
    }
   ],
   "source": [
    "book_infos = np.load('meta/book_infos_23-04-30.npy', allow_pickle=True)\n",
    "book_infos"
   ]
  },
  {
   "cell_type": "code",
   "execution_count": 21,
   "id": "c6b7cfdf",
   "metadata": {},
   "outputs": [
    {
     "data": {
      "text/plain": [
       "(243441,)"
      ]
     },
     "execution_count": 21,
     "metadata": {},
     "output_type": "execute_result"
    }
   ],
   "source": [
    "book_dict[:, 1].shape"
   ]
  },
  {
   "cell_type": "code",
   "execution_count": 22,
   "id": "9bc22429",
   "metadata": {},
   "outputs": [],
   "source": [
    "# test_book_title_encoded = np.zeros(shape=(test_book_dict.shape[0], 384), dtype='float32')\n",
    "# for i, row in tqdm(enumerate(test_book_dict[:, 1]), total=test_book_dict.shape[0]):\n",
    "#     test_book_title_encoded[i, :] = model.encode(row)"
   ]
  },
  {
   "cell_type": "code",
   "execution_count": 23,
   "id": "14738d7b",
   "metadata": {},
   "outputs": [],
   "source": [
    "# test_book_infos = np.concatenate([test_book_dict, test_book_title_encoded], axis=1)\n",
    "# np.save('meta/test_book_infos_23-04-30.npy', test_book_infos, allow_pickle=True)"
   ]
  },
  {
   "cell_type": "code",
   "execution_count": 24,
   "id": "1060688f",
   "metadata": {},
   "outputs": [
    {
     "data": {
      "text/plain": [
       "array([['BOOK_047966', 'Birds of Prey: A Novel of Suspense',\n",
       "        0.10833008587360382, ..., 0.13077646493911743,\n",
       "        -0.4036148190498352, 0.18236258625984192],\n",
       "       ['BOOK_119494', 'Midnight Voices', 0.031112201511859894, ...,\n",
       "        0.28217703104019165, -0.594933807849884, -0.544209361076355],\n",
       "       ['BOOK_151775',\n",
       "        'Breaking Free : A Prescription for Personal and Organizational Change (Jossey-Bass Business &amp; Management Series)',\n",
       "        -0.07000124454498291, ..., -0.5125600695610046,\n",
       "        0.24708081781864166, 0.05571218580007553],\n",
       "       ...,\n",
       "       ['BOOK_156256',\n",
       "        'Sierra: Notes and Images from the Range of Light',\n",
       "        -0.20738327503204346, ..., 0.06074671819806099,\n",
       "        -0.34741511940956116, 0.21215474605560303],\n",
       "       ['BOOK_199754',\n",
       "        \"From 60 Yards In : How to Master Golf's Short Game\",\n",
       "        0.518082320690155, ..., -0.1259591281414032, 0.16431060433387756,\n",
       "        0.2763310968875885],\n",
       "       ['BOOK_237054', 'Avalanche Safety: For Skiers &amp; Climbers',\n",
       "        -0.44918063282966614, ..., -0.765971302986145,\n",
       "        -0.377336710691452, 0.16308896243572235]], dtype=object)"
      ]
     },
     "execution_count": 24,
     "metadata": {},
     "output_type": "execute_result"
    }
   ],
   "source": [
    "test_book_infos = np.load('meta/test_book_infos_23-04-30.npy', allow_pickle=True)\n",
    "test_book_infos"
   ]
  },
  {
   "cell_type": "code",
   "execution_count": 25,
   "id": "3046732b",
   "metadata": {},
   "outputs": [],
   "source": [
    "book_titles = np.zeros(shape=(train_df.shape[0], 384), dtype='float32')\n",
    "test_book_titles = np.zeros(shape=(test_df.shape[0], 384), dtype='float32')"
   ]
  },
  {
   "cell_type": "code",
   "execution_count": 26,
   "id": "045aa40b",
   "metadata": {},
   "outputs": [
    {
     "data": {
      "text/plain": [
       "array(['BOOK_044368', 'BOOK_081205', 'BOOK_086781', ..., 'BOOK_265220',\n",
       "       'BOOK_266941', 'BOOK_130798'], dtype=object)"
      ]
     },
     "execution_count": 26,
     "metadata": {},
     "output_type": "execute_result"
    }
   ],
   "source": [
    "book_infos[:, 0]"
   ]
  },
  {
   "cell_type": "code",
   "execution_count": 27,
   "id": "bef07476",
   "metadata": {},
   "outputs": [],
   "source": [
    "book_infos_dict = {k: v for k, v in zip(book_list, book_infos[:, 2:])}\n",
    "test_book_infos_dict = {k: v for k, v in zip(test_book_list, test_book_infos[:, 2:])}"
   ]
  },
  {
   "cell_type": "code",
   "execution_count": 28,
   "id": "b17e61e5",
   "metadata": {},
   "outputs": [
    {
     "name": "stderr",
     "output_type": "stream",
     "text": [
      "100%|██████████| 871393/871393 [00:09<00:00, 87676.62it/s]\n"
     ]
    }
   ],
   "source": [
    "for i, row in tqdm(enumerate(train_df['Book-ID']), total=train_df.shape[0]):#book_infos\n",
    "    book_titles[i] = book_infos_dict[row]"
   ]
  },
  {
   "cell_type": "code",
   "execution_count": 29,
   "id": "4b05a0aa",
   "metadata": {},
   "outputs": [
    {
     "name": "stderr",
     "output_type": "stream",
     "text": [
      "100%|██████████| 159621/159621 [00:01<00:00, 90041.30it/s]\n"
     ]
    }
   ],
   "source": [
    "for i, row in tqdm(enumerate(test_df['Book-ID']), total=test_df.shape[0]):#book_infos\n",
    "    test_book_titles[i] = test_book_infos_dict[row]"
   ]
  },
  {
   "attachments": {},
   "cell_type": "markdown",
   "id": "4124d113",
   "metadata": {},
   "source": [
    "- https://huggingface.co/blog/getting-started-with-embeddings\n",
    "- https://anpigon.tistory.com/387\n",
    "- https://huggingface.co/docs/transformers/preprocessing"
   ]
  },
  {
   "cell_type": "markdown",
   "id": "20482046-c93a-4f94-bcdd-52994a8af400",
   "metadata": {},
   "source": [
    "# encoding\n",
    "\n",
    "for location_country, publisher"
   ]
  },
  {
   "cell_type": "code",
   "execution_count": 30,
   "id": "c6f87274-5fe4-401f-979c-2bd862f8b3ac",
   "metadata": {},
   "outputs": [],
   "source": [
    "# from sklearn.preprocessing import OneHotEncoder"
   ]
  },
  {
   "cell_type": "code",
   "execution_count": 31,
   "id": "13448b23-c176-4731-bc89-4c750792eb99",
   "metadata": {},
   "outputs": [],
   "source": [
    "# cont_encoder = OneHotEncoder(handle_unknown='ignore', dtype='bool')\n",
    "# train_country_array = cont_encoder.fit_transform(train_df[['Location_country']]).toarray()\n",
    "# test_country_array = cont_encoder.transform(test_df[['Location_country']]).toarray()"
   ]
  },
  {
   "cell_type": "code",
   "execution_count": 32,
   "id": "491a402c-ae25-4c40-9eed-c36ede970bed",
   "metadata": {},
   "outputs": [],
   "source": [
    "# pub_encoder = OneHotEncoder(handle_unknown='ignore', dtype='bool')\n",
    "# train_publisher_array = pub_encoder.fit_transform(train_df[['Publisher']]).toarray()\n",
    "# test_publisher_array = pub_encoder.transform(train_df[['Publisher']]).toarray()"
   ]
  },
  {
   "cell_type": "markdown",
   "id": "8faed6d6-9ca0-4c50-b84b-21e2c2d897db",
   "metadata": {},
   "source": [
    "# scaling"
   ]
  },
  {
   "cell_type": "code",
   "execution_count": 33,
   "id": "0b466a2e-aff2-46e7-a9b7-970affef8416",
   "metadata": {},
   "outputs": [],
   "source": [
    "from sklearn.preprocessing import StandardScaler"
   ]
  },
  {
   "cell_type": "code",
   "execution_count": 34,
   "id": "e7435345-74de-463c-9b82-2e76b466b532",
   "metadata": {},
   "outputs": [],
   "source": [
    "scaler = StandardScaler()\n",
    "train_cont_array = scaler.fit_transform(train_df[continuous_features])\n",
    "test_cont_array = scaler.transform(test_df[continuous_features])"
   ]
  },
  {
   "cell_type": "markdown",
   "id": "87b1d091-bbc5-45a7-b15f-4f90d60ff4e2",
   "metadata": {},
   "source": [
    "# merge prcessed data"
   ]
  },
  {
   "cell_type": "code",
   "execution_count": 35,
   "id": "8734759d-ca07-4c26-b48d-e67339e2cba5",
   "metadata": {},
   "outputs": [
    {
     "data": {
      "text/plain": [
       "((871393, 2), (871393, 384))"
      ]
     },
     "execution_count": 35,
     "metadata": {},
     "output_type": "execute_result"
    }
   ],
   "source": [
    "train_cont_array.shape, book_titles.shape#train_country_array.shape, train_publisher_array.shape"
   ]
  },
  {
   "cell_type": "code",
   "execution_count": 36,
   "id": "780609ea",
   "metadata": {},
   "outputs": [],
   "source": [
    "# train_x = {\n",
    "#     'input_continuous': train_cont_array,\n",
    "#     'input_country': train_country_array,\n",
    "# }\n",
    "\n",
    "# test_x = {\n",
    "#     'input_continuous': test_cont_array,\n",
    "#     'input_country': test_country_array,\n",
    "# }\n",
    "\n",
    "train_x = [train_cont_array, book_titles]#train_country_array, train_publisher_array]\n",
    "test_x = [test_cont_array, test_book_titles]#test_country_array, test_publisher_array]"
   ]
  },
  {
   "cell_type": "code",
   "execution_count": 37,
   "id": "0a05a430-7f0a-4848-8dad-74b36554bd51",
   "metadata": {},
   "outputs": [],
   "source": [
    "# train_x = np.concatenate([train_cont_array, train_df[['Location_country']].values], axis=1) #train_publisher_array\n",
    "# test_x = np.concatenate([test_cont_array, test_df[['Location_country']].values], axis=1) #test_publisher_array\n",
    "\n",
    "# train_x.shape, test_x.shape"
   ]
  },
  {
   "cell_type": "code",
   "execution_count": 38,
   "id": "3628cab0-e333-49e0-9eba-842d14f05ab9",
   "metadata": {},
   "outputs": [
    {
     "data": {
      "text/plain": [
       "(871393,)"
      ]
     },
     "execution_count": 38,
     "metadata": {},
     "output_type": "execute_result"
    }
   ],
   "source": [
    "train_y = train_df['Book-Rating'].values\n",
    "train_y.shape"
   ]
  },
  {
   "cell_type": "code",
   "execution_count": 39,
   "id": "92133ccc-5560-45c0-b88f-b84e16736032",
   "metadata": {},
   "outputs": [],
   "source": [
    "# train_array = np.concatenate([train_cont_array, train_country_array, train_publisher_array], axis=1)\n",
    "# test_array = np.concatenate([test_cont_array, test_country_array, test_publisher_array], axis=1)"
   ]
  },
  {
   "attachments": {},
   "cell_type": "markdown",
   "id": "a690f085-d1b1-4271-8779-aca955767ba2",
   "metadata": {
    "tags": []
   },
   "source": [
    "# model"
   ]
  },
  {
   "cell_type": "code",
   "execution_count": 40,
   "id": "8cde1097",
   "metadata": {},
   "outputs": [],
   "source": [
    "alpha = 0.001"
   ]
  },
  {
   "cell_type": "code",
   "execution_count": 41,
   "id": "15f15399",
   "metadata": {},
   "outputs": [
    {
     "data": {
      "text/plain": [
       "384"
      ]
     },
     "execution_count": 41,
     "metadata": {},
     "output_type": "execute_result"
    }
   ],
   "source": [
    "book_titles.shape[1]"
   ]
  },
  {
   "cell_type": "code",
   "execution_count": 42,
   "id": "7763b5e6",
   "metadata": {},
   "outputs": [],
   "source": [
    "def build_custom_model(input_dims, alpha):\n",
    "    # define input tensor\n",
    "    input_continuous = tf.keras.Input(shape=input_dims[0], dtype=tf.float32)\n",
    "    input_title = tf.keras.Input(shape=input_dims[1], dtype=tf.float32)\n",
    "    # input_country = tf.keras.Input(shape=input_dims[1], dtype='bool')\n",
    "    # input_publisher = tf.keras.Input(shape=input_dims[2], dtype='bool')\n",
    "\n",
    "    # # embedding layer\n",
    "    # embed_country_layer = tf.keras.layers.Embedding(\n",
    "    #     train_country_array.shape[1], 10)(input_country)\n",
    "\n",
    "    # # rnn layer\n",
    "    # country_layer = tf.keras.layers.SimpleRNN(\n",
    "    #     10, return_sequences=False, dtype=np.float32)(embed_country_layer)\n",
    "\n",
    "    # # embedding layer\n",
    "    # embed_publisher_layer = tf.keras.layers.Embedding(\n",
    "    #     train_country_array.shape[1], 10)(input_publisher)\n",
    "\n",
    "    # # rnn layer\n",
    "    # publisher_layer = tf.keras.layers.SimpleRNN(\n",
    "    #     10, return_sequences=False, dtype=np.float32)(embed_publisher_layer)\n",
    "\n",
    "    # concatenate\n",
    "    x = tf.keras.layers.Concatenate(axis=-1)([input_continuous, input_title])#country_layer, publisher_layer])\n",
    "    # # concatenate\n",
    "    # x = tf.keras.layers.Concatenate(axis=-1)([input_continuous, input_country])\n",
    "\n",
    "    # hidden layer\n",
    "    x = tf.keras.layers.Dense(\n",
    "        64, activation='relu', \n",
    "        kernel_regularizer=tf.keras.regularizers.l2(alpha))(x)\n",
    "\n",
    "    # hidden layer\n",
    "    x = tf.keras.layers.Dense(\n",
    "        16, activation='relu',\n",
    "        kernel_regularizer=tf.keras.regularizers.l2(alpha))(x)\n",
    "\n",
    "    # output layer\n",
    "    x = tf.keras.layers.Dense(1, activation='linear')(x)\n",
    "\n",
    "    model = tf.keras.Model([input_continuous, input_title], x)#input_country, input_publisher], x)\n",
    "\n",
    "    return model"
   ]
  },
  {
   "cell_type": "code",
   "execution_count": 43,
   "id": "c7aed546",
   "metadata": {},
   "outputs": [],
   "source": [
    "learning_rate = 0.001\n",
    "batch_size = 1000\n",
    "epochs = 100\n",
    "alpha = 0.005"
   ]
  },
  {
   "cell_type": "code",
   "execution_count": 44,
   "id": "4cf3fd94",
   "metadata": {},
   "outputs": [
    {
     "name": "stderr",
     "output_type": "stream",
     "text": [
      "2023-04-29 16:13:31.095585: I tensorflow/core/common_runtime/gpu/gpu_device.cc:1613] Created device /job:localhost/replica:0/task:0/device:GPU:0 with 38220 MB memory:  -> device: 0, name: NVIDIA A100-SXM4-40GB, pci bus id: 0000:00:04.0, compute capability: 8.0\n"
     ]
    },
    {
     "name": "stdout",
     "output_type": "stream",
     "text": [
      "INFO:tensorflow:Using MirroredStrategy with devices ('/job:localhost/replica:0/task:0/device:GPU:0',)\n",
      "INFO:tensorflow:Reduce to /job:localhost/replica:0/task:0/device:CPU:0 then broadcast to ('/job:localhost/replica:0/task:0/device:CPU:0',).\n",
      "INFO:tensorflow:Reduce to /job:localhost/replica:0/task:0/device:CPU:0 then broadcast to ('/job:localhost/replica:0/task:0/device:CPU:0',).\n",
      "INFO:tensorflow:Reduce to /job:localhost/replica:0/task:0/device:CPU:0 then broadcast to ('/job:localhost/replica:0/task:0/device:CPU:0',).\n",
      "INFO:tensorflow:Reduce to /job:localhost/replica:0/task:0/device:CPU:0 then broadcast to ('/job:localhost/replica:0/task:0/device:CPU:0',).\n"
     ]
    }
   ],
   "source": [
    "mirrored_strategy = tf.distribute.MirroredStrategy()\n",
    "\n",
    "with mirrored_strategy.scope():\n",
    "    model = build_custom_model(input_dims=[\n",
    "        train_cont_array.shape[1],\n",
    "        book_titles.shape[1]\n",
    "        # train_country_array.shape[1], \n",
    "        # train_publisher_array.shape[1]\n",
    "    ], alpha=alpha)\n",
    "\n",
    "    # define optimizer Adam\n",
    "    optimizer = tf.keras.optimizers.Adam(learning_rate=learning_rate)\n",
    "\n",
    "    # model compile\n",
    "    model.compile(optimizer=optimizer, loss='mse', metrics='mse')"
   ]
  },
  {
   "cell_type": "code",
   "execution_count": 45,
   "id": "602a2b94",
   "metadata": {},
   "outputs": [
    {
     "name": "stdout",
     "output_type": "stream",
     "text": [
      "Model: \"model\"\n",
      "__________________________________________________________________________________________________\n",
      " Layer (type)                   Output Shape         Param #     Connected to                     \n",
      "==================================================================================================\n",
      " input_1 (InputLayer)           [(None, 2)]          0           []                               \n",
      "                                                                                                  \n",
      " input_2 (InputLayer)           [(None, 384)]        0           []                               \n",
      "                                                                                                  \n",
      " concatenate (Concatenate)      (None, 386)          0           ['input_1[0][0]',                \n",
      "                                                                  'input_2[0][0]']                \n",
      "                                                                                                  \n",
      " dense (Dense)                  (None, 64)           24768       ['concatenate[0][0]']            \n",
      "                                                                                                  \n",
      " dense_1 (Dense)                (None, 16)           1040        ['dense[0][0]']                  \n",
      "                                                                                                  \n",
      " dense_2 (Dense)                (None, 1)            17          ['dense_1[0][0]']                \n",
      "                                                                                                  \n",
      "==================================================================================================\n",
      "Total params: 25,825\n",
      "Trainable params: 25,825\n",
      "Non-trainable params: 0\n",
      "__________________________________________________________________________________________________\n"
     ]
    }
   ],
   "source": [
    "model.summary()"
   ]
  },
  {
   "cell_type": "code",
   "execution_count": 46,
   "id": "eef8947c",
   "metadata": {},
   "outputs": [
    {
     "name": "stdout",
     "output_type": "stream",
     "text": [
      "Epoch 1/100\n",
      "INFO:tensorflow:Reduce to /job:localhost/replica:0/task:0/device:CPU:0 then broadcast to ('/job:localhost/replica:0/task:0/device:CPU:0',).\n",
      "INFO:tensorflow:Reduce to /job:localhost/replica:0/task:0/device:CPU:0 then broadcast to ('/job:localhost/replica:0/task:0/device:CPU:0',).\n",
      "INFO:tensorflow:Reduce to /job:localhost/replica:0/task:0/device:CPU:0 then broadcast to ('/job:localhost/replica:0/task:0/device:CPU:0',).\n",
      "INFO:tensorflow:Reduce to /job:localhost/replica:0/task:0/device:CPU:0 then broadcast to ('/job:localhost/replica:0/task:0/device:CPU:0',).\n",
      "INFO:tensorflow:Reduce to /job:localhost/replica:0/task:0/device:CPU:0 then broadcast to ('/job:localhost/replica:0/task:0/device:CPU:0',).\n",
      "INFO:tensorflow:Reduce to /job:localhost/replica:0/task:0/device:CPU:0 then broadcast to ('/job:localhost/replica:0/task:0/device:CPU:0',).\n"
     ]
    },
    {
     "name": "stderr",
     "output_type": "stream",
     "text": [
      "2023-04-29 16:13:37.428838: I tensorflow/compiler/xla/stream_executor/cuda/cuda_blas.cc:630] TensorFloat-32 will be used for the matrix multiplication. This will only be logged once.\n"
     ]
    },
    {
     "name": "stdout",
     "output_type": "stream",
     "text": [
      "785/785 [==============================] - 9s 6ms/step - loss: 15.2716 - mse: 14.8975 - val_loss: 14.9335 - val_mse: 14.7280\n",
      "Epoch 2/100\n",
      "785/785 [==============================] - 3s 4ms/step - loss: 14.9234 - mse: 14.7685 - val_loss: 14.8288 - val_mse: 14.7111\n",
      "Epoch 3/100\n",
      "785/785 [==============================] - 3s 4ms/step - loss: 14.8493 - mse: 14.7471 - val_loss: 14.7933 - val_mse: 14.7073\n",
      "Epoch 4/100\n",
      "785/785 [==============================] - 3s 4ms/step - loss: 14.8167 - mse: 14.7367 - val_loss: 14.7526 - val_mse: 14.6802\n",
      "Epoch 5/100\n",
      "785/785 [==============================] - 3s 4ms/step - loss: 14.7999 - mse: 14.7307 - val_loss: 14.7582 - val_mse: 14.6935\n",
      "Epoch 6/100\n",
      "785/785 [==============================] - 3s 4ms/step - loss: 14.7887 - mse: 14.7247 - val_loss: 14.7463 - val_mse: 14.6865\n",
      "Epoch 7/100\n",
      "785/785 [==============================] - 3s 4ms/step - loss: 14.7812 - mse: 14.7207 - val_loss: 14.7493 - val_mse: 14.6916\n",
      "Epoch 8/100\n",
      "785/785 [==============================] - 3s 4ms/step - loss: 14.7768 - mse: 14.7173 - val_loss: 14.7576 - val_mse: 14.7005\n",
      "Epoch 9/100\n",
      "785/785 [==============================] - 3s 4ms/step - loss: 14.7718 - mse: 14.7135 - val_loss: 14.7313 - val_mse: 14.6748\n",
      "Epoch 10/100\n",
      "785/785 [==============================] - 3s 4ms/step - loss: 14.7691 - mse: 14.7112 - val_loss: 14.7377 - val_mse: 14.6812\n",
      "Epoch 11/100\n",
      "785/785 [==============================] - 3s 4ms/step - loss: 14.7670 - mse: 14.7082 - val_loss: 14.7477 - val_mse: 14.6907\n",
      "Epoch 12/100\n",
      "785/785 [==============================] - 4s 4ms/step - loss: 14.7642 - mse: 14.7057 - val_loss: 14.7606 - val_mse: 14.7027\n",
      "Epoch 13/100\n",
      "785/785 [==============================] - 3s 4ms/step - loss: 14.7606 - mse: 14.7007 - val_loss: 14.7335 - val_mse: 14.6749\n",
      "Epoch 14/100\n",
      "785/785 [==============================] - 3s 4ms/step - loss: 14.7588 - mse: 14.6982 - val_loss: 14.7315 - val_mse: 14.6721\n",
      "Epoch 15/100\n",
      "785/785 [==============================] - 3s 4ms/step - loss: 14.7556 - mse: 14.6943 - val_loss: 14.7418 - val_mse: 14.6824\n",
      "Epoch 16/100\n",
      "785/785 [==============================] - 3s 4ms/step - loss: 14.7531 - mse: 14.6913 - val_loss: 14.7407 - val_mse: 14.6800\n",
      "Epoch 17/100\n",
      "785/785 [==============================] - 3s 4ms/step - loss: 14.7517 - mse: 14.6886 - val_loss: 14.7381 - val_mse: 14.6764\n",
      "Epoch 18/100\n",
      "785/785 [==============================] - 3s 4ms/step - loss: 14.7488 - mse: 14.6845 - val_loss: 14.7407 - val_mse: 14.6776\n",
      "Epoch 19/100\n",
      "785/785 [==============================] - 3s 4ms/step - loss: 14.7467 - mse: 14.6820 - val_loss: 14.7597 - val_mse: 14.6949\n",
      "Epoch 20/100\n",
      "785/785 [==============================] - 3s 4ms/step - loss: 14.7449 - mse: 14.6788 - val_loss: 14.7303 - val_mse: 14.6655\n",
      "Epoch 21/100\n",
      "785/785 [==============================] - 3s 4ms/step - loss: 14.7446 - mse: 14.6782 - val_loss: 14.7769 - val_mse: 14.7110\n",
      "Epoch 22/100\n",
      "785/785 [==============================] - 3s 4ms/step - loss: 14.7431 - mse: 14.6756 - val_loss: 14.7324 - val_mse: 14.6662\n",
      "Epoch 23/100\n",
      "785/785 [==============================] - 3s 4ms/step - loss: 14.7405 - mse: 14.6728 - val_loss: 14.7453 - val_mse: 14.6790\n",
      "Epoch 24/100\n",
      "785/785 [==============================] - 3s 4ms/step - loss: 14.7398 - mse: 14.6711 - val_loss: 14.7458 - val_mse: 14.6781\n",
      "Epoch 25/100\n",
      "785/785 [==============================] - 3s 4ms/step - loss: 14.7384 - mse: 14.6689 - val_loss: 14.7621 - val_mse: 14.6932\n",
      "Epoch 26/100\n",
      "785/785 [==============================] - 3s 4ms/step - loss: 14.7373 - mse: 14.6673 - val_loss: 14.7371 - val_mse: 14.6678\n",
      "Epoch 27/100\n",
      "785/785 [==============================] - 3s 4ms/step - loss: 14.7368 - mse: 14.6662 - val_loss: 14.7364 - val_mse: 14.6659\n",
      "Epoch 28/100\n",
      "785/785 [==============================] - 3s 4ms/step - loss: 14.7365 - mse: 14.6653 - val_loss: 14.7598 - val_mse: 14.6899\n",
      "Epoch 29/100\n",
      "785/785 [==============================] - 3s 4ms/step - loss: 14.7336 - mse: 14.6618 - val_loss: 14.7271 - val_mse: 14.6567\n",
      "Epoch 30/100\n",
      "785/785 [==============================] - 3s 4ms/step - loss: 14.7332 - mse: 14.6614 - val_loss: 14.7286 - val_mse: 14.6586\n",
      "Epoch 31/100\n",
      "785/785 [==============================] - 3s 4ms/step - loss: 14.7308 - mse: 14.6585 - val_loss: 14.7328 - val_mse: 14.6618\n",
      "Epoch 32/100\n",
      "785/785 [==============================] - 3s 4ms/step - loss: 14.7323 - mse: 14.6594 - val_loss: 14.7266 - val_mse: 14.6551\n",
      "Epoch 33/100\n",
      "785/785 [==============================] - 3s 4ms/step - loss: 14.7315 - mse: 14.6587 - val_loss: 14.7339 - val_mse: 14.6626\n",
      "Epoch 34/100\n",
      "785/785 [==============================] - 3s 4ms/step - loss: 14.7316 - mse: 14.6584 - val_loss: 14.7262 - val_mse: 14.6552\n",
      "Epoch 35/100\n",
      "785/785 [==============================] - 3s 4ms/step - loss: 14.7301 - mse: 14.6566 - val_loss: 14.7323 - val_mse: 14.6600\n",
      "Epoch 36/100\n",
      "785/785 [==============================] - 3s 4ms/step - loss: 14.7291 - mse: 14.6548 - val_loss: 14.7359 - val_mse: 14.6628\n",
      "Epoch 37/100\n",
      "785/785 [==============================] - 3s 4ms/step - loss: 14.7298 - mse: 14.6551 - val_loss: 14.7324 - val_mse: 14.6601\n",
      "Epoch 38/100\n",
      "785/785 [==============================] - 3s 4ms/step - loss: 14.7283 - mse: 14.6538 - val_loss: 14.7365 - val_mse: 14.6630\n",
      "Epoch 39/100\n",
      "785/785 [==============================] - 3s 4ms/step - loss: 14.7274 - mse: 14.6520 - val_loss: 14.7275 - val_mse: 14.6532\n",
      "Epoch 40/100\n",
      "785/785 [==============================] - 3s 4ms/step - loss: 14.7271 - mse: 14.6516 - val_loss: 14.7600 - val_mse: 14.6863\n",
      "Epoch 41/100\n",
      "785/785 [==============================] - 3s 4ms/step - loss: 14.7270 - mse: 14.6516 - val_loss: 14.7440 - val_mse: 14.6698\n",
      "Epoch 42/100\n",
      "785/785 [==============================] - 3s 4ms/step - loss: 14.7262 - mse: 14.6509 - val_loss: 14.7508 - val_mse: 14.6758\n",
      "Epoch 43/100\n",
      "785/785 [==============================] - 3s 4ms/step - loss: 14.7269 - mse: 14.6513 - val_loss: 14.7366 - val_mse: 14.6624\n",
      "Epoch 44/100\n",
      "785/785 [==============================] - 3s 4ms/step - loss: 14.7257 - mse: 14.6500 - val_loss: 14.7518 - val_mse: 14.6772\n",
      "Epoch 45/100\n",
      "785/785 [==============================] - 3s 4ms/step - loss: 14.7234 - mse: 14.6467 - val_loss: 14.7372 - val_mse: 14.6618\n",
      "Epoch 46/100\n",
      "785/785 [==============================] - 3s 4ms/step - loss: 14.7238 - mse: 14.6470 - val_loss: 14.7482 - val_mse: 14.6716\n",
      "Epoch 47/100\n",
      "785/785 [==============================] - 3s 4ms/step - loss: 14.7241 - mse: 14.6472 - val_loss: 14.7297 - val_mse: 14.6533\n",
      "Epoch 48/100\n",
      "785/785 [==============================] - 3s 4ms/step - loss: 14.7217 - mse: 14.6441 - val_loss: 14.7342 - val_mse: 14.6582\n",
      "Epoch 49/100\n",
      "785/785 [==============================] - 3s 4ms/step - loss: 14.7208 - mse: 14.6433 - val_loss: 14.7356 - val_mse: 14.6590\n",
      "Epoch 50/100\n",
      "785/785 [==============================] - 3s 4ms/step - loss: 14.7202 - mse: 14.6424 - val_loss: 14.7351 - val_mse: 14.6587\n",
      "Epoch 51/100\n",
      "785/785 [==============================] - 3s 4ms/step - loss: 14.7191 - mse: 14.6413 - val_loss: 14.7385 - val_mse: 14.6611\n",
      "Epoch 52/100\n",
      "785/785 [==============================] - 3s 4ms/step - loss: 14.7203 - mse: 14.6420 - val_loss: 14.7472 - val_mse: 14.6697\n",
      "Epoch 53/100\n",
      "785/785 [==============================] - 3s 4ms/step - loss: 14.7195 - mse: 14.6408 - val_loss: 14.7537 - val_mse: 14.6760\n",
      "Epoch 54/100\n",
      "785/785 [==============================] - 3s 4ms/step - loss: 14.7202 - mse: 14.6416 - val_loss: 14.7474 - val_mse: 14.6700\n",
      "Epoch 55/100\n",
      "785/785 [==============================] - 3s 4ms/step - loss: 14.7187 - mse: 14.6398 - val_loss: 14.7335 - val_mse: 14.6561\n",
      "Epoch 56/100\n",
      "785/785 [==============================] - 3s 4ms/step - loss: 14.7202 - mse: 14.6411 - val_loss: 14.7213 - val_mse: 14.6439\n",
      "Epoch 57/100\n",
      "785/785 [==============================] - 3s 4ms/step - loss: 14.7166 - mse: 14.6373 - val_loss: 14.7488 - val_mse: 14.6711\n",
      "Epoch 58/100\n",
      "785/785 [==============================] - 3s 4ms/step - loss: 14.7178 - mse: 14.6385 - val_loss: 14.7262 - val_mse: 14.6482\n",
      "Epoch 59/100\n",
      "785/785 [==============================] - 3s 4ms/step - loss: 14.7187 - mse: 14.6396 - val_loss: 14.7407 - val_mse: 14.6620\n",
      "Epoch 60/100\n",
      "785/785 [==============================] - 3s 4ms/step - loss: 14.7160 - mse: 14.6368 - val_loss: 14.7410 - val_mse: 14.6622\n",
      "Epoch 61/100\n",
      "785/785 [==============================] - 3s 4ms/step - loss: 14.7156 - mse: 14.6357 - val_loss: 14.7637 - val_mse: 14.6847\n",
      "Epoch 62/100\n",
      "785/785 [==============================] - 3s 4ms/step - loss: 14.7169 - mse: 14.6368 - val_loss: 14.7382 - val_mse: 14.6589\n",
      "Epoch 63/100\n",
      "785/785 [==============================] - 3s 4ms/step - loss: 14.7137 - mse: 14.6330 - val_loss: 14.7576 - val_mse: 14.6780\n",
      "Epoch 64/100\n",
      "785/785 [==============================] - 3s 4ms/step - loss: 14.7147 - mse: 14.6338 - val_loss: 14.7482 - val_mse: 14.6689\n",
      "Epoch 65/100\n",
      "785/785 [==============================] - 3s 4ms/step - loss: 14.7133 - mse: 14.6321 - val_loss: 14.7378 - val_mse: 14.6582\n",
      "Epoch 66/100\n",
      "785/785 [==============================] - 3s 4ms/step - loss: 14.7159 - mse: 14.6354 - val_loss: 14.7418 - val_mse: 14.6620\n",
      "Epoch 67/100\n",
      "785/785 [==============================] - 3s 4ms/step - loss: 14.7132 - mse: 14.6322 - val_loss: 14.7454 - val_mse: 14.6653\n",
      "Epoch 68/100\n",
      "785/785 [==============================] - 3s 4ms/step - loss: 14.7128 - mse: 14.6312 - val_loss: 14.7367 - val_mse: 14.6563\n",
      "Epoch 69/100\n",
      "785/785 [==============================] - 3s 4ms/step - loss: 14.7135 - mse: 14.6318 - val_loss: 14.7607 - val_mse: 14.6799\n",
      "Epoch 70/100\n",
      "785/785 [==============================] - 3s 4ms/step - loss: 14.7153 - mse: 14.6340 - val_loss: 14.7305 - val_mse: 14.6503\n",
      "Epoch 71/100\n",
      "785/785 [==============================] - 3s 4ms/step - loss: 14.7124 - mse: 14.6305 - val_loss: 14.7417 - val_mse: 14.6618\n",
      "Epoch 72/100\n",
      "785/785 [==============================] - 3s 4ms/step - loss: 14.7123 - mse: 14.6310 - val_loss: 14.7583 - val_mse: 14.6777\n",
      "Epoch 73/100\n",
      "785/785 [==============================] - 3s 4ms/step - loss: 14.7127 - mse: 14.6305 - val_loss: 14.7614 - val_mse: 14.6806\n",
      "Epoch 74/100\n",
      "785/785 [==============================] - 3s 4ms/step - loss: 14.7127 - mse: 14.6309 - val_loss: 14.7329 - val_mse: 14.6522\n",
      "Epoch 75/100\n",
      "785/785 [==============================] - 3s 4ms/step - loss: 14.7123 - mse: 14.6303 - val_loss: 14.7400 - val_mse: 14.6595\n",
      "Epoch 76/100\n",
      "785/785 [==============================] - 3s 4ms/step - loss: 14.7114 - mse: 14.6292 - val_loss: 14.7269 - val_mse: 14.6458\n",
      "Epoch 77/100\n",
      "785/785 [==============================] - 3s 4ms/step - loss: 14.7108 - mse: 14.6280 - val_loss: 14.7363 - val_mse: 14.6554\n",
      "Epoch 78/100\n",
      "785/785 [==============================] - 3s 4ms/step - loss: 14.7123 - mse: 14.6296 - val_loss: 14.7366 - val_mse: 14.6552\n",
      "Epoch 79/100\n",
      "785/785 [==============================] - 3s 4ms/step - loss: 14.7121 - mse: 14.6297 - val_loss: 14.7319 - val_mse: 14.6511\n",
      "Epoch 80/100\n",
      "785/785 [==============================] - 3s 4ms/step - loss: 14.7101 - mse: 14.6276 - val_loss: 14.7613 - val_mse: 14.6797\n",
      "Epoch 81/100\n",
      "785/785 [==============================] - 3s 4ms/step - loss: 14.7098 - mse: 14.6270 - val_loss: 14.7241 - val_mse: 14.6434\n",
      "Epoch 82/100\n",
      "785/785 [==============================] - 3s 4ms/step - loss: 14.7095 - mse: 14.6272 - val_loss: 14.7395 - val_mse: 14.6580\n",
      "Epoch 83/100\n",
      "785/785 [==============================] - 3s 4ms/step - loss: 14.7114 - mse: 14.6285 - val_loss: 14.7704 - val_mse: 14.6891\n",
      "Epoch 84/100\n",
      "785/785 [==============================] - 3s 4ms/step - loss: 14.7096 - mse: 14.6273 - val_loss: 14.7361 - val_mse: 14.6546\n",
      "Epoch 85/100\n",
      "785/785 [==============================] - 3s 4ms/step - loss: 14.7103 - mse: 14.6274 - val_loss: 14.7646 - val_mse: 14.6827\n",
      "Epoch 86/100\n",
      "785/785 [==============================] - 3s 4ms/step - loss: 14.7078 - mse: 14.6249 - val_loss: 14.7419 - val_mse: 14.6601\n",
      "Epoch 87/100\n",
      "785/785 [==============================] - 3s 4ms/step - loss: 14.7104 - mse: 14.6272 - val_loss: 14.7312 - val_mse: 14.6498\n",
      "Epoch 88/100\n",
      "785/785 [==============================] - 3s 4ms/step - loss: 14.7098 - mse: 14.6268 - val_loss: 14.7894 - val_mse: 14.7072\n",
      "Epoch 89/100\n",
      "785/785 [==============================] - 3s 4ms/step - loss: 14.7102 - mse: 14.6271 - val_loss: 14.7283 - val_mse: 14.6466\n",
      "Epoch 90/100\n",
      "785/785 [==============================] - 3s 4ms/step - loss: 14.7097 - mse: 14.6262 - val_loss: 14.7458 - val_mse: 14.6639\n",
      "Epoch 91/100\n",
      "785/785 [==============================] - 3s 4ms/step - loss: 14.7090 - mse: 14.6255 - val_loss: 14.7405 - val_mse: 14.6578\n",
      "Epoch 92/100\n",
      "785/785 [==============================] - 3s 4ms/step - loss: 14.7089 - mse: 14.6255 - val_loss: 14.7556 - val_mse: 14.6726\n",
      "Epoch 93/100\n",
      "785/785 [==============================] - 3s 4ms/step - loss: 14.7090 - mse: 14.6250 - val_loss: 14.7542 - val_mse: 14.6721\n",
      "Epoch 94/100\n",
      "785/785 [==============================] - 3s 4ms/step - loss: 14.7083 - mse: 14.6251 - val_loss: 14.7524 - val_mse: 14.6698\n",
      "Epoch 95/100\n",
      "785/785 [==============================] - 4s 4ms/step - loss: 14.7103 - mse: 14.6264 - val_loss: 14.7444 - val_mse: 14.6628\n",
      "Epoch 96/100\n",
      "785/785 [==============================] - 3s 4ms/step - loss: 14.7075 - mse: 14.6240 - val_loss: 14.7549 - val_mse: 14.6730\n",
      "Epoch 97/100\n",
      "785/785 [==============================] - 3s 4ms/step - loss: 14.7077 - mse: 14.6244 - val_loss: 14.7980 - val_mse: 14.7164\n",
      "Epoch 98/100\n",
      "785/785 [==============================] - 3s 4ms/step - loss: 14.7080 - mse: 14.6250 - val_loss: 14.7542 - val_mse: 14.6716\n",
      "Epoch 99/100\n",
      "785/785 [==============================] - 3s 4ms/step - loss: 14.7071 - mse: 14.6242 - val_loss: 14.7588 - val_mse: 14.6764\n",
      "Epoch 100/100\n",
      "785/785 [==============================] - 3s 4ms/step - loss: 14.7093 - mse: 14.6253 - val_loss: 14.7493 - val_mse: 14.6674\n"
     ]
    }
   ],
   "source": [
    "history = model.fit(train_x, train_y, validation_split=.1, epochs=epochs, batch_size=batch_size)"
   ]
  },
  {
   "cell_type": "code",
   "execution_count": 47,
   "id": "367a2bb3",
   "metadata": {},
   "outputs": [
    {
     "data": {
      "image/png": "[encoded data removed]",
      "text/plain": [
       "<Figure size 640x480 with 1 Axes>"
      ]
     },
     "metadata": {},
     "output_type": "display_data"
    }
   ],
   "source": [
    "plt.plot(history.history['loss'])\n",
    "plt.plot(history.history['val_loss'])\n",
    "plt.show()"
   ]
  },
  {
   "cell_type": "code",
   "execution_count": 50,
   "id": "ea451a38",
   "metadata": {},
   "outputs": [
    {
     "name": "stdout",
     "output_type": "stream",
     "text": [
      "27232/27232 [==============================] - 53s 2ms/step\n"
     ]
    },
    {
     "data": {
      "text/plain": [
       "array([[2.6771321],\n",
       "       [2.7879457],\n",
       "       [2.5461497],\n",
       "       ...,\n",
       "       [2.9343586],\n",
       "       [2.7446923],\n",
       "       [2.7909765]], dtype=float32)"
      ]
     },
     "execution_count": 50,
     "metadata": {},
     "output_type": "execute_result"
    }
   ],
   "source": [
    "train_pred = model.predict(train_x)\n",
    "train_pred"
   ]
  },
  {
   "cell_type": "code",
   "execution_count": 51,
   "id": "1820a336",
   "metadata": {},
   "outputs": [
    {
     "data": {
      "text/plain": [
       "(871393, 1)"
      ]
     },
     "execution_count": 51,
     "metadata": {},
     "output_type": "execute_result"
    }
   ],
   "source": [
    "train_pred.shape"
   ]
  },
  {
   "cell_type": "code",
   "execution_count": 52,
   "id": "44be1d60",
   "metadata": {},
   "outputs": [
    {
     "name": "stdout",
     "output_type": "stream",
     "text": [
      "4989/4989 [==============================] - 10s 2ms/step\n"
     ]
    },
    {
     "data": {
      "text/plain": [
       "array([[3.0521374],\n",
       "       [2.9082785],\n",
       "       [2.5291767],\n",
       "       ...,\n",
       "       [3.5296183],\n",
       "       [3.6354275],\n",
       "       [3.7303672]], dtype=float32)"
      ]
     },
     "execution_count": 52,
     "metadata": {},
     "output_type": "execute_result"
    }
   ],
   "source": [
    "test_pred = model.predict(test_x)\n",
    "test_pred"
   ]
  },
  {
   "cell_type": "code",
   "execution_count": 53,
   "id": "0318eec6",
   "metadata": {},
   "outputs": [],
   "source": [
    "from sklearn.metrics import mean_squared_error"
   ]
  },
  {
   "cell_type": "code",
   "execution_count": 54,
   "id": "b9ca55e0",
   "metadata": {},
   "outputs": [
    {
     "data": {
      "text/plain": [
       "3.8194152334861986"
      ]
     },
     "execution_count": 54,
     "metadata": {},
     "output_type": "execute_result"
    }
   ],
   "source": [
    "rmse = mean_squared_error(train_y, train_pred, squared=False)\n",
    "rmse"
   ]
  },
  {
   "cell_type": "code",
   "execution_count": 55,
   "id": "6e68d40a",
   "metadata": {},
   "outputs": [
    {
     "data": {
      "text/html": [
       "<div>\n",
       "<style scoped>\n",
       "    .dataframe tbody tr th:only-of-type {\n",
       "        vertical-align: middle;\n",
       "    }\n",
       "\n",
       "    .dataframe tbody tr th {\n",
       "        vertical-align: top;\n",
       "    }\n",
       "\n",
       "    .dataframe thead th {\n",
       "        text-align: right;\n",
       "    }\n",
       "</style>\n",
       "<table border=\"1\" class=\"dataframe\">\n",
       "  <thead>\n",
       "    <tr style=\"text-align: right;\">\n",
       "      <th></th>\n",
       "      <th>ID</th>\n",
       "      <th>Book-Rating</th>\n",
       "    </tr>\n",
       "  </thead>\n",
       "  <tbody>\n",
       "    <tr>\n",
       "      <th>0</th>\n",
       "      <td>TEST_000000</td>\n",
       "      <td>0</td>\n",
       "    </tr>\n",
       "    <tr>\n",
       "      <th>1</th>\n",
       "      <td>TEST_000001</td>\n",
       "      <td>0</td>\n",
       "    </tr>\n",
       "    <tr>\n",
       "      <th>2</th>\n",
       "      <td>TEST_000002</td>\n",
       "      <td>0</td>\n",
       "    </tr>\n",
       "    <tr>\n",
       "      <th>3</th>\n",
       "      <td>TEST_000003</td>\n",
       "      <td>0</td>\n",
       "    </tr>\n",
       "    <tr>\n",
       "      <th>4</th>\n",
       "      <td>TEST_000004</td>\n",
       "      <td>0</td>\n",
       "    </tr>\n",
       "    <tr>\n",
       "      <th>...</th>\n",
       "      <td>...</td>\n",
       "      <td>...</td>\n",
       "    </tr>\n",
       "    <tr>\n",
       "      <th>159616</th>\n",
       "      <td>TEST_159616</td>\n",
       "      <td>0</td>\n",
       "    </tr>\n",
       "    <tr>\n",
       "      <th>159617</th>\n",
       "      <td>TEST_159617</td>\n",
       "      <td>0</td>\n",
       "    </tr>\n",
       "    <tr>\n",
       "      <th>159618</th>\n",
       "      <td>TEST_159618</td>\n",
       "      <td>0</td>\n",
       "    </tr>\n",
       "    <tr>\n",
       "      <th>159619</th>\n",
       "      <td>TEST_159619</td>\n",
       "      <td>0</td>\n",
       "    </tr>\n",
       "    <tr>\n",
       "      <th>159620</th>\n",
       "      <td>TEST_159620</td>\n",
       "      <td>0</td>\n",
       "    </tr>\n",
       "  </tbody>\n",
       "</table>\n",
       "<p>159621 rows × 2 columns</p>\n",
       "</div>"
      ],
      "text/plain": [
       "                 ID  Book-Rating\n",
       "0       TEST_000000            0\n",
       "1       TEST_000001            0\n",
       "2       TEST_000002            0\n",
       "3       TEST_000003            0\n",
       "4       TEST_000004            0\n",
       "...             ...          ...\n",
       "159616  TEST_159616            0\n",
       "159617  TEST_159617            0\n",
       "159618  TEST_159618            0\n",
       "159619  TEST_159619            0\n",
       "159620  TEST_159620            0\n",
       "\n",
       "[159621 rows x 2 columns]"
      ]
     },
     "execution_count": 55,
     "metadata": {},
     "output_type": "execute_result"
    }
   ],
   "source": [
    "sample_submission_df = pd.read_csv(\"open/sample_submission.csv\")\n",
    "sample_submission_df"
   ]
  },
  {
   "cell_type": "code",
   "execution_count": 56,
   "id": "1ec53519",
   "metadata": {},
   "outputs": [],
   "source": [
    "mname = 'custom_dl'"
   ]
  },
  {
   "cell_type": "code",
   "execution_count": 58,
   "id": "4e1b7265",
   "metadata": {},
   "outputs": [],
   "source": [
    "def make_report(template, test_pred, mname):\n",
    "    template['Book-Rating'] = test_pred\n",
    "    now = dt.strftime(dt.now(), '%y-%m-%d')\n",
    "    template.to_csv(f'results/{mname}-{now}.csv', index=False)\n",
    "    \n",
    "make_report(sample_submission_df, test_pred, mname)"
   ]
  },
  {
   "attachments": {},
   "cell_type": "markdown",
   "id": "0e6ce5be",
   "metadata": {},
   "source": [
    "test_rmse = 3.8036542165822924"
   ]
  }
 ],
 "metadata": {
  "kernelspec": {
   "display_name": "general",
   "language": "python",
   "name": "python3"
  },
  "language_info": {
   "codemirror_mode": {
    "name": "ipython",
    "version": 3
   },
   "file_extension": ".py",
   "mimetype": "text/x-python",
   "name": "python",
   "nbconvert_exporter": "python",
   "pygments_lexer": "ipython3",
   "version": "3.10.0"
  }
 },
 "nbformat": 4,
 "nbformat_minor": 5
}
