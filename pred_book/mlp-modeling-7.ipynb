{
 "cells": [
  {
   "attachments": {},
   "cell_type": "markdown",
   "id": "e4c024ed-156e-4ac2-9df8-63be9bd57dbf",
   "metadata": {},
   "source": [
    "# MLP Modeling - 7\n",
    "\n",
    "with hugging face api"
   ]
  },
  {
   "cell_type": "code",
   "execution_count": 1,
   "id": "c99a78df-a588-4746-aa1c-827fc197adb2",
   "metadata": {},
   "outputs": [
    {
     "name": "stderr",
     "output_type": "stream",
     "text": [
<<<<<<< HEAD
      "2023-04-28 08:17:23.348314: I tensorflow/core/platform/cpu_feature_guard.cc:193] This TensorFlow binary is optimized with oneAPI Deep Neural Network Library (oneDNN) to use the following CPU instructions in performance-critical operations:  AVX2 AVX512F FMA\n",
      "To enable them in other operations, rebuild TensorFlow with the appropriate compiler flags.\n",
      "2023-04-28 08:17:24.258361: W tensorflow/compiler/xla/stream_executor/platform/default/dso_loader.cc:64] Could not load dynamic library 'libnvinfer.so.7'; dlerror: libnvinfer.so.7: cannot open shared object file: No such file or directory; LD_LIBRARY_PATH: /usr/local/cuda/lib64:/usr/local/nccl2/lib:/usr/local/cuda/extras/CUPTI/lib64:/usr/local/cuda/lib64:/usr/local/nccl2/lib:/usr/local/cuda/extras/CUPTI/lib64\n",
      "2023-04-28 08:17:24.258481: W tensorflow/compiler/xla/stream_executor/platform/default/dso_loader.cc:64] Could not load dynamic library 'libnvinfer_plugin.so.7'; dlerror: libnvinfer_plugin.so.7: cannot open shared object file: No such file or directory; LD_LIBRARY_PATH: /usr/local/cuda/lib64:/usr/local/nccl2/lib:/usr/local/cuda/extras/CUPTI/lib64:/usr/local/cuda/lib64:/usr/local/nccl2/lib:/usr/local/cuda/extras/CUPTI/lib64\n",
      "2023-04-28 08:17:24.258492: W tensorflow/compiler/tf2tensorrt/utils/py_utils.cc:38] TF-TRT Warning: Cannot dlopen some TensorRT libraries. If you would like to use Nvidia GPU with TensorRT, please make sure the missing libraries mentioned above are installed properly.\n",
=======
      "2023-04-29 16:12:59.354904: I tensorflow/core/platform/cpu_feature_guard.cc:193] This TensorFlow binary is optimized with oneAPI Deep Neural Network Library (oneDNN) to use the following CPU instructions in performance-critical operations:  AVX2 AVX512F AVX512_VNNI FMA\n",
      "To enable them in other operations, rebuild TensorFlow with the appropriate compiler flags.\n",
      "2023-04-29 16:12:59.495014: I tensorflow/core/util/port.cc:104] oneDNN custom operations are on. You may see slightly different numerical results due to floating-point round-off errors from different computation orders. To turn them off, set the environment variable `TF_ENABLE_ONEDNN_OPTS=0`.\n",
      "2023-04-29 16:13:00.292395: W tensorflow/compiler/xla/stream_executor/platform/default/dso_loader.cc:64] Could not load dynamic library 'libnvinfer.so.7'; dlerror: libnvinfer.so.7: cannot open shared object file: No such file or directory; LD_LIBRARY_PATH: /usr/local/cuda/lib64:/usr/local/nccl2/lib:/usr/local/cuda/extras/CUPTI/lib64:/usr/local/cuda/lib64:/usr/local/nccl2/lib:/usr/local/cuda/extras/CUPTI/lib64\n",
      "2023-04-29 16:13:00.292517: W tensorflow/compiler/xla/stream_executor/platform/default/dso_loader.cc:64] Could not load dynamic library 'libnvinfer_plugin.so.7'; dlerror: libnvinfer_plugin.so.7: cannot open shared object file: No such file or directory; LD_LIBRARY_PATH: /usr/local/cuda/lib64:/usr/local/nccl2/lib:/usr/local/cuda/extras/CUPTI/lib64:/usr/local/cuda/lib64:/usr/local/nccl2/lib:/usr/local/cuda/extras/CUPTI/lib64\n",
      "2023-04-29 16:13:00.292527: W tensorflow/compiler/tf2tensorrt/utils/py_utils.cc:38] TF-TRT Warning: Cannot dlopen some TensorRT libraries. If you would like to use Nvidia GPU with TensorRT, please make sure the missing libraries mentioned above are installed properly.\n",
>>>>>>> d46728a1eb40d10b537a26113a654669bd178ab0
      "/opt/conda/envs/general/lib/python3.10/site-packages/tqdm/auto.py:21: TqdmWarning: IProgress not found. Please update jupyter and ipywidgets. See https://ipywidgets.readthedocs.io/en/stable/user_install.html\n",
      "  from .autonotebook import tqdm as notebook_tqdm\n"
     ]
    }
   ],
   "source": [
    "import os\n",
    "from datetime import datetime as dt\n",
    "\n",
    "import numpy as np\n",
    "import pandas as pd\n",
    "from tqdm import tqdm\n",
    "\n",
    "import matplotlib.pyplot as plt\n",
    "import seaborn as sns\n",
    "\n",
    "import tensorflow as tf\n",
    "from sentence_transformers import SentenceTransformer\n",
    "# import optuna"
   ]
  },
  {
   "cell_type": "code",
   "execution_count": 2,
   "id": "b834b502",
   "metadata": {},
   "outputs": [],
   "source": [
    "# model = SentenceTransformer(\"sentence-transformers/distiluse-base-multilingual-cased-v2\")"
   ]
  },
  {
   "cell_type": "markdown",
   "id": "70ac056c-da9c-4fbf-9187-1cf73df5e1ef",
   "metadata": {},
   "source": [
    "## load data"
   ]
  },
  {
   "cell_type": "code",
   "execution_count": 3,
   "id": "14bd5180-e00c-4e12-b8e7-5959054e102b",
   "metadata": {},
   "outputs": [
    {
     "data": {
      "text/plain": [
       "((871393, 9), (159621, 8), (159621, 2))"
      ]
     },
     "execution_count": 3,
     "metadata": {},
     "output_type": "execute_result"
    }
   ],
   "source": [
    "train_df = pd.read_csv(\"open/train.csv\", index_col='ID')\n",
    "test_df = pd.read_csv(\"open/test.csv\", index_col='ID')\n",
    "sample_submission_df = pd.read_csv(\"open/sample_submission.csv\")\n",
    "\n",
    "train_df.shape, test_df.shape, sample_submission_df.shape"
   ]
  },
  {
   "cell_type": "code",
   "execution_count": 4,
<<<<<<< HEAD
=======
   "id": "60502406",
   "metadata": {},
   "outputs": [],
   "source": [
    "book_dict = train_df[['Book-ID', 'Book-Title']].drop_duplicates(\n",
    "    keep='first').values\n",
    "book_list = np.unique(book_dict[:, 0])"
   ]
  },
  {
   "cell_type": "code",
   "execution_count": 5,
   "id": "71223fd1",
   "metadata": {},
   "outputs": [],
   "source": [
    "test_book_dict = test_df[['Book-ID', 'Book-Title']].drop_duplicates(\n",
    "    keep='first').values\n",
    "test_book_list = np.unique(test_book_dict[:, 0])"
   ]
  },
  {
   "cell_type": "code",
   "execution_count": 6,
>>>>>>> d46728a1eb40d10b537a26113a654669bd178ab0
   "id": "8fefe7e6-f6b1-4fa5-826a-6fd7c7a51441",
   "metadata": {},
   "outputs": [
    {
     "name": "stdout",
     "output_type": "stream",
     "text": [
      "<class 'pandas.core.frame.DataFrame'>\n",
      "Index: 871393 entries, TRAIN_000000 to TRAIN_871392\n",
      "Data columns (total 9 columns):\n",
      " #   Column               Non-Null Count   Dtype  \n",
      "---  ------               --------------   -----  \n",
      " 0   User-ID              871393 non-null  object \n",
      " 1   Book-ID              871393 non-null  object \n",
      " 2   Book-Rating          871393 non-null  int64  \n",
      " 3   Age                  871393 non-null  float64\n",
      " 4   Location             871393 non-null  object \n",
      " 5   Book-Title           871393 non-null  object \n",
      " 6   Book-Author          871393 non-null  object \n",
      " 7   Year-Of-Publication  871393 non-null  float64\n",
      " 8   Publisher            871393 non-null  object \n",
      "dtypes: float64(2), int64(1), object(6)\n",
      "memory usage: 66.5+ MB\n"
     ]
    }
   ],
   "source": [
    "train_df.info()"
   ]
  },
  {
   "cell_type": "markdown",
   "id": "fb46156c-cfdc-41d5-b11d-6375f6f9b8c7",
   "metadata": {},
   "source": [
    "## preprocess data"
   ]
  },
  {
   "cell_type": "code",
<<<<<<< HEAD
   "execution_count": 5,
=======
   "execution_count": 7,
>>>>>>> d46728a1eb40d10b537a26113a654669bd178ab0
   "id": "d1724967-00b1-4acc-972c-a6918158e420",
   "metadata": {},
   "outputs": [
    {
     "data": {
      "text/plain": [
       "(83256, 243441)"
      ]
     },
<<<<<<< HEAD
     "execution_count": 5,
=======
     "execution_count": 7,
>>>>>>> d46728a1eb40d10b537a26113a654669bd178ab0
     "metadata": {},
     "output_type": "execute_result"
    }
   ],
   "source": [
    "train_users = train_df['User-ID'].unique()\n",
    "train_books = train_df['Book-ID'].unique()\n",
    "\n",
    "len(train_users), len(train_books)"
   ]
  },
  {
   "cell_type": "code",
<<<<<<< HEAD
   "execution_count": 6,
=======
   "execution_count": 8,
>>>>>>> d46728a1eb40d10b537a26113a654669bd178ab0
   "id": "e37b65fe-4e31-4ce8-a379-10027903de2e",
   "metadata": {},
   "outputs": [
    {
     "data": {
      "text/plain": [
       "(21909, 62333)"
      ]
     },
<<<<<<< HEAD
     "execution_count": 6,
=======
     "execution_count": 8,
>>>>>>> d46728a1eb40d10b537a26113a654669bd178ab0
     "metadata": {},
     "output_type": "execute_result"
    }
   ],
   "source": [
    "test_users = test_df['User-ID'].unique()\n",
    "test_books = test_df['Book-ID'].unique()\n",
    "\n",
    "len(test_users), len(test_books)"
   ]
  },
  {
   "cell_type": "code",
<<<<<<< HEAD
   "execution_count": 7,
=======
   "execution_count": 9,
>>>>>>> d46728a1eb40d10b537a26113a654669bd178ab0
   "id": "0f8ad687-f299-4abe-8800-7aa2ebed42f8",
   "metadata": {},
   "outputs": [
    {
     "data": {
      "text/plain": [
       "(92101, 270056)"
      ]
     },
<<<<<<< HEAD
     "execution_count": 7,
=======
     "execution_count": 9,
>>>>>>> d46728a1eb40d10b537a26113a654669bd178ab0
     "metadata": {},
     "output_type": "execute_result"
    }
   ],
   "source": [
    "len(set(train_users) | set(test_users)), len(set(train_books) | set(test_books))"
   ]
  },
  {
   "cell_type": "markdown",
   "id": "2bdb91f0-3379-41ff-adeb-1517c26fe0a1",
   "metadata": {},
   "source": [
    "새로운 유저, 새로운 책이 분명 있음"
   ]
  },
  {
   "cell_type": "code",
<<<<<<< HEAD
   "execution_count": 8,
=======
   "execution_count": 10,
>>>>>>> d46728a1eb40d10b537a26113a654669bd178ab0
   "id": "6c7004c0-c6b9-4242-86ba-a24fb6547be3",
   "metadata": {},
   "outputs": [
    {
     "data": {
      "text/html": [
       "<div>\n",
       "<style scoped>\n",
       "    .dataframe tbody tr th:only-of-type {\n",
       "        vertical-align: middle;\n",
       "    }\n",
       "\n",
       "    .dataframe tbody tr th {\n",
       "        vertical-align: top;\n",
       "    }\n",
       "\n",
       "    .dataframe thead th {\n",
       "        text-align: right;\n",
       "    }\n",
       "</style>\n",
       "<table border=\"1\" class=\"dataframe\">\n",
       "  <thead>\n",
       "    <tr style=\"text-align: right;\">\n",
       "      <th></th>\n",
       "      <th>User-ID</th>\n",
       "      <th>Book-ID</th>\n",
       "      <th>Book-Rating</th>\n",
       "      <th>Age</th>\n",
       "      <th>Location</th>\n",
       "      <th>Book-Title</th>\n",
       "      <th>Book-Author</th>\n",
       "      <th>Year-Of-Publication</th>\n",
       "      <th>Publisher</th>\n",
       "    </tr>\n",
       "    <tr>\n",
       "      <th>ID</th>\n",
       "      <th></th>\n",
       "      <th></th>\n",
       "      <th></th>\n",
       "      <th></th>\n",
       "      <th></th>\n",
       "      <th></th>\n",
       "      <th></th>\n",
       "      <th></th>\n",
       "      <th></th>\n",
       "    </tr>\n",
       "  </thead>\n",
       "  <tbody>\n",
       "    <tr>\n",
       "      <th>TRAIN_000000</th>\n",
       "      <td>USER_00000</td>\n",
       "      <td>BOOK_044368</td>\n",
       "      <td>8</td>\n",
       "      <td>23.0</td>\n",
       "      <td>sackville, new brunswick, canada</td>\n",
       "      <td>Road Taken</td>\n",
       "      <td>Rona Jaffe</td>\n",
       "      <td>2001.0</td>\n",
       "      <td>Mira</td>\n",
       "    </tr>\n",
       "    <tr>\n",
       "      <th>TRAIN_000001</th>\n",
       "      <td>USER_00000</td>\n",
       "      <td>BOOK_081205</td>\n",
       "      <td>8</td>\n",
       "      <td>23.0</td>\n",
       "      <td>sackville, new brunswick, canada</td>\n",
       "      <td>Macbeth (New Penguin Shakespeare)</td>\n",
       "      <td>William Shakespeare</td>\n",
       "      <td>1981.0</td>\n",
       "      <td>Penguin Books</td>\n",
       "    </tr>\n",
       "    <tr>\n",
       "      <th>TRAIN_000002</th>\n",
       "      <td>USER_00000</td>\n",
       "      <td>BOOK_086781</td>\n",
       "      <td>0</td>\n",
       "      <td>23.0</td>\n",
       "      <td>sackville, new brunswick, canada</td>\n",
       "      <td>Waverley (Penguin English Library)</td>\n",
       "      <td>Walter Scott</td>\n",
       "      <td>1981.0</td>\n",
       "      <td>Penguin Books</td>\n",
       "    </tr>\n",
       "    <tr>\n",
       "      <th>TRAIN_000003</th>\n",
       "      <td>USER_00000</td>\n",
       "      <td>BOOK_098622</td>\n",
       "      <td>0</td>\n",
       "      <td>23.0</td>\n",
       "      <td>sackville, new brunswick, canada</td>\n",
       "      <td>Mother Earth Father Sky</td>\n",
       "      <td>Sue Harrison</td>\n",
       "      <td>1991.0</td>\n",
       "      <td>Avon</td>\n",
       "    </tr>\n",
       "    <tr>\n",
       "      <th>TRAIN_000004</th>\n",
       "      <td>USER_00000</td>\n",
       "      <td>BOOK_180810</td>\n",
       "      <td>8</td>\n",
       "      <td>23.0</td>\n",
       "      <td>sackville, new brunswick, canada</td>\n",
       "      <td>She Who Remembers</td>\n",
       "      <td>Linda Lay Shuler</td>\n",
       "      <td>1989.0</td>\n",
       "      <td>Signet Book</td>\n",
       "    </tr>\n",
       "  </tbody>\n",
       "</table>\n",
       "</div>"
      ],
      "text/plain": [
       "                 User-ID      Book-ID  Book-Rating   Age   \n",
       "ID                                                         \n",
       "TRAIN_000000  USER_00000  BOOK_044368            8  23.0  \\\n",
       "TRAIN_000001  USER_00000  BOOK_081205            8  23.0   \n",
       "TRAIN_000002  USER_00000  BOOK_086781            0  23.0   \n",
       "TRAIN_000003  USER_00000  BOOK_098622            0  23.0   \n",
       "TRAIN_000004  USER_00000  BOOK_180810            8  23.0   \n",
       "\n",
       "                                      Location   \n",
       "ID                                               \n",
       "TRAIN_000000  sackville, new brunswick, canada  \\\n",
       "TRAIN_000001  sackville, new brunswick, canada   \n",
       "TRAIN_000002  sackville, new brunswick, canada   \n",
       "TRAIN_000003  sackville, new brunswick, canada   \n",
       "TRAIN_000004  sackville, new brunswick, canada   \n",
       "\n",
       "                                      Book-Title          Book-Author   \n",
       "ID                                                                      \n",
       "TRAIN_000000                          Road Taken           Rona Jaffe  \\\n",
       "TRAIN_000001   Macbeth (New Penguin Shakespeare)  William Shakespeare   \n",
       "TRAIN_000002  Waverley (Penguin English Library)         Walter Scott   \n",
       "TRAIN_000003             Mother Earth Father Sky         Sue Harrison   \n",
       "TRAIN_000004                   She Who Remembers     Linda Lay Shuler   \n",
       "\n",
       "              Year-Of-Publication      Publisher  \n",
       "ID                                                \n",
       "TRAIN_000000               2001.0           Mira  \n",
       "TRAIN_000001               1981.0  Penguin Books  \n",
       "TRAIN_000002               1981.0  Penguin Books  \n",
       "TRAIN_000003               1991.0           Avon  \n",
       "TRAIN_000004               1989.0    Signet Book  "
      ]
     },
<<<<<<< HEAD
     "execution_count": 8,
=======
     "execution_count": 10,
>>>>>>> d46728a1eb40d10b537a26113a654669bd178ab0
     "metadata": {},
     "output_type": "execute_result"
    }
   ],
   "source": [
    "train_df.head()"
   ]
  },
  {
   "cell_type": "markdown",
   "id": "c37910e6-9481-4c2f-ab12-039ca6543a59",
   "metadata": {},
   "source": [
    "User feature\n",
    " * Age: int\n",
    " * Location: string\n",
    "\n",
    "Book feature\n",
    " * Book-Title: string\n",
    " * Book-Author: string\n",
    " * Year-Of-Pulication: int\n",
    " * Publisher: string"
   ]
  },
  {
   "cell_type": "markdown",
   "id": "d57114ba-03e0-463e-84f2-5baf375f06d9",
   "metadata": {},
   "source": [
    "특징의 분해 이전에 label 형태로도 해볼 수 있음"
   ]
  },
  {
   "cell_type": "markdown",
   "id": "51039168-6946-402b-bb6c-8ffddf8f7ecc",
   "metadata": {},
   "source": [
    "# Feature Selection"
   ]
  },
  {
   "cell_type": "code",
<<<<<<< HEAD
   "execution_count": 9,
=======
   "execution_count": 11,
>>>>>>> d46728a1eb40d10b537a26113a654669bd178ab0
   "id": "1b22c596-17c4-4ead-ac76-7288c5d03d00",
   "metadata": {},
   "outputs": [
    {
     "data": {
      "text/plain": [
       "Index(['User-ID', 'Book-ID', 'Age', 'Location', 'Book-Title', 'Book-Author',\n",
       "       'Year-Of-Publication', 'Publisher'],\n",
       "      dtype='object')"
      ]
     },
<<<<<<< HEAD
     "execution_count": 9,
=======
     "execution_count": 11,
>>>>>>> d46728a1eb40d10b537a26113a654669bd178ab0
     "metadata": {},
     "output_type": "execute_result"
    }
   ],
   "source": [
    "features = test_df.columns\n",
    "features"
   ]
  },
  {
   "cell_type": "code",
<<<<<<< HEAD
   "execution_count": 10,
=======
   "execution_count": 12,
>>>>>>> d46728a1eb40d10b537a26113a654669bd178ab0
   "id": "2e687b27-055b-4541-9cf1-f95d74de3bef",
   "metadata": {},
   "outputs": [],
   "source": [
    "continuous_features = ['Age', 'Year-Of-Publication']\n",
    "categorical_features = ['Location', 'Book-Title', 'Book-Author', 'Publisher']"
   ]
  },
  {
   "cell_type": "code",
<<<<<<< HEAD
   "execution_count": 11,
=======
   "execution_count": 13,
>>>>>>> d46728a1eb40d10b537a26113a654669bd178ab0
   "id": "10e22f70-bab6-4de6-bfdb-090af36f14bd",
   "metadata": {},
   "outputs": [
    {
     "data": {
      "text/html": [
       "<div>\n",
       "<style scoped>\n",
       "    .dataframe tbody tr th:only-of-type {\n",
       "        vertical-align: middle;\n",
       "    }\n",
       "\n",
       "    .dataframe tbody tr th {\n",
       "        vertical-align: top;\n",
       "    }\n",
       "\n",
       "    .dataframe thead th {\n",
       "        text-align: right;\n",
       "    }\n",
       "</style>\n",
       "<table border=\"1\" class=\"dataframe\">\n",
       "  <thead>\n",
       "    <tr style=\"text-align: right;\">\n",
       "      <th></th>\n",
       "      <th>User-ID</th>\n",
       "      <th>Book-ID</th>\n",
       "      <th>Book-Rating</th>\n",
       "      <th>Age</th>\n",
       "      <th>Book-Title</th>\n",
       "      <th>Book-Author</th>\n",
       "      <th>Year-Of-Publication</th>\n",
       "      <th>Publisher</th>\n",
       "      <th>Location_country</th>\n",
       "      <th>Location_city</th>\n",
       "    </tr>\n",
       "    <tr>\n",
       "      <th>ID</th>\n",
       "      <th></th>\n",
       "      <th></th>\n",
       "      <th></th>\n",
       "      <th></th>\n",
       "      <th></th>\n",
       "      <th></th>\n",
       "      <th></th>\n",
       "      <th></th>\n",
       "      <th></th>\n",
       "      <th></th>\n",
       "    </tr>\n",
       "  </thead>\n",
       "  <tbody>\n",
       "    <tr>\n",
       "      <th>TRAIN_000000</th>\n",
       "      <td>USER_00000</td>\n",
       "      <td>BOOK_044368</td>\n",
       "      <td>8</td>\n",
       "      <td>23.0</td>\n",
       "      <td>Road Taken</td>\n",
       "      <td>Rona Jaffe</td>\n",
       "      <td>2001.0</td>\n",
       "      <td>Mira</td>\n",
       "      <td>canada</td>\n",
       "      <td>newbrunswick</td>\n",
       "    </tr>\n",
       "    <tr>\n",
       "      <th>TRAIN_000001</th>\n",
       "      <td>USER_00000</td>\n",
       "      <td>BOOK_081205</td>\n",
       "      <td>8</td>\n",
       "      <td>23.0</td>\n",
       "      <td>Macbeth (New Penguin Shakespeare)</td>\n",
       "      <td>William Shakespeare</td>\n",
       "      <td>1981.0</td>\n",
       "      <td>Penguin Books</td>\n",
       "      <td>canada</td>\n",
       "      <td>newbrunswick</td>\n",
       "    </tr>\n",
       "    <tr>\n",
       "      <th>TRAIN_000002</th>\n",
       "      <td>USER_00000</td>\n",
       "      <td>BOOK_086781</td>\n",
       "      <td>0</td>\n",
       "      <td>23.0</td>\n",
       "      <td>Waverley (Penguin English Library)</td>\n",
       "      <td>Walter Scott</td>\n",
       "      <td>1981.0</td>\n",
       "      <td>Penguin Books</td>\n",
       "      <td>canada</td>\n",
       "      <td>newbrunswick</td>\n",
       "    </tr>\n",
       "    <tr>\n",
       "      <th>TRAIN_000003</th>\n",
       "      <td>USER_00000</td>\n",
       "      <td>BOOK_098622</td>\n",
       "      <td>0</td>\n",
       "      <td>23.0</td>\n",
       "      <td>Mother Earth Father Sky</td>\n",
       "      <td>Sue Harrison</td>\n",
       "      <td>1991.0</td>\n",
       "      <td>Avon</td>\n",
       "      <td>canada</td>\n",
       "      <td>newbrunswick</td>\n",
       "    </tr>\n",
       "    <tr>\n",
       "      <th>TRAIN_000004</th>\n",
       "      <td>USER_00000</td>\n",
       "      <td>BOOK_180810</td>\n",
       "      <td>8</td>\n",
       "      <td>23.0</td>\n",
       "      <td>She Who Remembers</td>\n",
       "      <td>Linda Lay Shuler</td>\n",
       "      <td>1989.0</td>\n",
       "      <td>Signet Book</td>\n",
       "      <td>canada</td>\n",
       "      <td>newbrunswick</td>\n",
       "    </tr>\n",
       "  </tbody>\n",
       "</table>\n",
       "</div>"
      ],
      "text/plain": [
       "                 User-ID      Book-ID  Book-Rating   Age   \n",
       "ID                                                         \n",
       "TRAIN_000000  USER_00000  BOOK_044368            8  23.0  \\\n",
       "TRAIN_000001  USER_00000  BOOK_081205            8  23.0   \n",
       "TRAIN_000002  USER_00000  BOOK_086781            0  23.0   \n",
       "TRAIN_000003  USER_00000  BOOK_098622            0  23.0   \n",
       "TRAIN_000004  USER_00000  BOOK_180810            8  23.0   \n",
       "\n",
       "                                      Book-Title          Book-Author   \n",
       "ID                                                                      \n",
       "TRAIN_000000                          Road Taken           Rona Jaffe  \\\n",
       "TRAIN_000001   Macbeth (New Penguin Shakespeare)  William Shakespeare   \n",
       "TRAIN_000002  Waverley (Penguin English Library)         Walter Scott   \n",
       "TRAIN_000003             Mother Earth Father Sky         Sue Harrison   \n",
       "TRAIN_000004                   She Who Remembers     Linda Lay Shuler   \n",
       "\n",
       "              Year-Of-Publication      Publisher Location_country   \n",
       "ID                                                                  \n",
       "TRAIN_000000               2001.0           Mira           canada  \\\n",
       "TRAIN_000001               1981.0  Penguin Books           canada   \n",
       "TRAIN_000002               1981.0  Penguin Books           canada   \n",
       "TRAIN_000003               1991.0           Avon           canada   \n",
       "TRAIN_000004               1989.0    Signet Book           canada   \n",
       "\n",
       "             Location_city  \n",
       "ID                          \n",
       "TRAIN_000000  newbrunswick  \n",
       "TRAIN_000001  newbrunswick  \n",
       "TRAIN_000002  newbrunswick  \n",
       "TRAIN_000003  newbrunswick  \n",
       "TRAIN_000004  newbrunswick  "
      ]
     },
<<<<<<< HEAD
     "execution_count": 11,
=======
     "execution_count": 13,
>>>>>>> d46728a1eb40d10b537a26113a654669bd178ab0
     "metadata": {},
     "output_type": "execute_result"
    }
   ],
   "source": [
    "train_df['Location'] = train_df['Location'].str.replace(' ', '')\n",
    "train_df['Location_country'] = train_df['Location'].apply(lambda x: x.split(',')[-1])\n",
    "train_df['Location_city'] = train_df['Location'].apply(lambda x: x.split(',')[-2])\n",
    "train_df.drop(columns='Location', inplace=True)\n",
    "train_df.head()"
   ]
  },
  {
   "cell_type": "code",
<<<<<<< HEAD
   "execution_count": 12,
=======
   "execution_count": 14,
>>>>>>> d46728a1eb40d10b537a26113a654669bd178ab0
   "id": "328e87fe-8091-4c84-bd0c-c43f2fe4f5a1",
   "metadata": {},
   "outputs": [
    {
     "data": {
      "text/html": [
       "<div>\n",
       "<style scoped>\n",
       "    .dataframe tbody tr th:only-of-type {\n",
       "        vertical-align: middle;\n",
       "    }\n",
       "\n",
       "    .dataframe tbody tr th {\n",
       "        vertical-align: top;\n",
       "    }\n",
       "\n",
       "    .dataframe thead th {\n",
       "        text-align: right;\n",
       "    }\n",
       "</style>\n",
       "<table border=\"1\" class=\"dataframe\">\n",
       "  <thead>\n",
       "    <tr style=\"text-align: right;\">\n",
       "      <th></th>\n",
       "      <th>User-ID</th>\n",
       "      <th>Book-ID</th>\n",
       "      <th>Age</th>\n",
       "      <th>Book-Title</th>\n",
       "      <th>Book-Author</th>\n",
       "      <th>Year-Of-Publication</th>\n",
       "      <th>Publisher</th>\n",
       "      <th>Location_country</th>\n",
       "      <th>Location_city</th>\n",
       "    </tr>\n",
       "    <tr>\n",
       "      <th>ID</th>\n",
       "      <th></th>\n",
       "      <th></th>\n",
       "      <th></th>\n",
       "      <th></th>\n",
       "      <th></th>\n",
       "      <th></th>\n",
       "      <th></th>\n",
       "      <th></th>\n",
       "      <th></th>\n",
       "    </tr>\n",
       "  </thead>\n",
       "  <tbody>\n",
       "    <tr>\n",
       "      <th>TEST_000000</th>\n",
       "      <td>USER_00008</td>\n",
       "      <td>BOOK_047966</td>\n",
       "      <td>37.0</td>\n",
       "      <td>Birds of Prey: A Novel of Suspense</td>\n",
       "      <td>J.A. Jance</td>\n",
       "      <td>2002.0</td>\n",
       "      <td>Avon</td>\n",
       "      <td>usa</td>\n",
       "      <td>ohio</td>\n",
       "    </tr>\n",
       "    <tr>\n",
       "      <th>TEST_000001</th>\n",
       "      <td>USER_00008</td>\n",
       "      <td>BOOK_119494</td>\n",
       "      <td>37.0</td>\n",
       "      <td>Midnight Voices</td>\n",
       "      <td>JOHN SAUL</td>\n",
       "      <td>2003.0</td>\n",
       "      <td>Ballantine Books</td>\n",
       "      <td>usa</td>\n",
       "      <td>ohio</td>\n",
       "    </tr>\n",
       "    <tr>\n",
       "      <th>TEST_000002</th>\n",
       "      <td>USER_00008</td>\n",
       "      <td>BOOK_151775</td>\n",
       "      <td>37.0</td>\n",
       "      <td>Breaking Free : A Prescription for Personal an...</td>\n",
       "      <td>David M.  Noer</td>\n",
       "      <td>1996.0</td>\n",
       "      <td>Jossey-Bass</td>\n",
       "      <td>usa</td>\n",
       "      <td>ohio</td>\n",
       "    </tr>\n",
       "    <tr>\n",
       "      <th>TEST_000003</th>\n",
       "      <td>USER_00008</td>\n",
       "      <td>BOOK_176255</td>\n",
       "      <td>37.0</td>\n",
       "      <td>Bitter Harvest</td>\n",
       "      <td>Ann Rule</td>\n",
       "      <td>1999.0</td>\n",
       "      <td>Pocket</td>\n",
       "      <td>usa</td>\n",
       "      <td>ohio</td>\n",
       "    </tr>\n",
       "    <tr>\n",
       "      <th>TEST_000004</th>\n",
       "      <td>USER_00008</td>\n",
       "      <td>BOOK_187307</td>\n",
       "      <td>37.0</td>\n",
       "      <td>Embraced by the Light</td>\n",
       "      <td>Betty J. Eadie</td>\n",
       "      <td>1994.0</td>\n",
       "      <td>Bantam Books</td>\n",
       "      <td>usa</td>\n",
       "      <td>ohio</td>\n",
       "    </tr>\n",
       "  </tbody>\n",
       "</table>\n",
       "</div>"
      ],
      "text/plain": [
       "                User-ID      Book-ID   Age   \n",
       "ID                                           \n",
       "TEST_000000  USER_00008  BOOK_047966  37.0  \\\n",
       "TEST_000001  USER_00008  BOOK_119494  37.0   \n",
       "TEST_000002  USER_00008  BOOK_151775  37.0   \n",
       "TEST_000003  USER_00008  BOOK_176255  37.0   \n",
       "TEST_000004  USER_00008  BOOK_187307  37.0   \n",
       "\n",
       "                                                    Book-Title   \n",
       "ID                                                               \n",
       "TEST_000000                 Birds of Prey: A Novel of Suspense  \\\n",
       "TEST_000001                                    Midnight Voices   \n",
       "TEST_000002  Breaking Free : A Prescription for Personal an...   \n",
       "TEST_000003                                     Bitter Harvest   \n",
       "TEST_000004                              Embraced by the Light   \n",
       "\n",
       "                Book-Author  Year-Of-Publication         Publisher   \n",
       "ID                                                                   \n",
       "TEST_000000      J.A. Jance               2002.0              Avon  \\\n",
       "TEST_000001       JOHN SAUL               2003.0  Ballantine Books   \n",
       "TEST_000002  David M.  Noer               1996.0       Jossey-Bass   \n",
       "TEST_000003        Ann Rule               1999.0            Pocket   \n",
       "TEST_000004  Betty J. Eadie               1994.0      Bantam Books   \n",
       "\n",
       "            Location_country Location_city  \n",
       "ID                                          \n",
       "TEST_000000              usa          ohio  \n",
       "TEST_000001              usa          ohio  \n",
       "TEST_000002              usa          ohio  \n",
       "TEST_000003              usa          ohio  \n",
       "TEST_000004              usa          ohio  "
      ]
     },
<<<<<<< HEAD
     "execution_count": 12,
=======
     "execution_count": 14,
>>>>>>> d46728a1eb40d10b537a26113a654669bd178ab0
     "metadata": {},
     "output_type": "execute_result"
    }
   ],
   "source": [
    "test_df['Location'] = test_df['Location'].str.replace(' ', '')\n",
    "test_df['Location_country'] = test_df['Location'].apply(lambda x: x.split(',')[-1])\n",
    "test_df['Location_city'] = test_df['Location'].apply(lambda x: x.split(',')[-2])\n",
    "test_df.drop(columns='Location', inplace=True)\n",
    "test_df.head()"
   ]
  },
  {
   "cell_type": "markdown",
   "id": "f0d27956",
   "metadata": {},
   "source": [
    "# Embedding with huggingface api"
   ]
  },
  {
   "cell_type": "code",
<<<<<<< HEAD
   "execution_count": 13,
=======
   "execution_count": 15,
>>>>>>> d46728a1eb40d10b537a26113a654669bd178ab0
   "id": "3a2f1e89",
   "metadata": {},
   "outputs": [],
   "source": [
<<<<<<< HEAD
    "from sentence_transformers import SentenceTransformer"
=======
    "# from sentence_transformers import SentenceTransformer\n",
    "\n",
    "# model = SentenceTransformer(\"sentence-transformers/paraphrase-MiniLM-L6-v2\")#, from_tf=True)"
>>>>>>> d46728a1eb40d10b537a26113a654669bd178ab0
   ]
  },
  {
   "cell_type": "code",
<<<<<<< HEAD
   "execution_count": 14,
   "id": "de4407cc",
   "metadata": {},
   "outputs": [
    {
     "name": "stderr",
     "output_type": "stream",
     "text": [
      "/opt/conda/envs/general/lib/python3.10/site-packages/torch/cuda/__init__.py:88: UserWarning: HIP initialization: Unexpected error from hipGetDeviceCount(). Did you run some cuda functions before calling NumHipDevices() that might have already set an error? Error 101: hipErrorInvalidDevice (Triggered internally at ../c10/hip/HIPFunctions.cpp:110.)\n",
      "  return torch._C._cuda_getDeviceCount() > 0\n"
     ]
    }
   ],
   "source": [
    "model = SentenceTransformer(\"sentence-transformers/paraphrase-MiniLM-L3-v2\")"
=======
   "execution_count": 16,
   "id": "78ae2dd2",
   "metadata": {},
   "outputs": [],
   "source": [
    "# book_title_encoded = np.zeros(shape=(book_dict.shape[0], 384), dtype='float32')\n",
    "# book_title_encoded.shape"
   ]
  },
  {
   "cell_type": "code",
   "execution_count": 17,
   "id": "7b933067",
   "metadata": {},
   "outputs": [],
   "source": [
    "# for i, row in tqdm(enumerate(book_dict[:, 1]), total=book_dict.shape[0]):\n",
    "#     book_title_encoded[i, :] = model.encode(row)"
   ]
  },
  {
   "cell_type": "code",
   "execution_count": 18,
   "id": "f273c0d5",
   "metadata": {},
   "outputs": [],
   "source": [
    "# book_dict.shape, book_title_encoded.shape"
   ]
  },
  {
   "cell_type": "code",
   "execution_count": 19,
   "id": "77f808b9",
   "metadata": {},
   "outputs": [],
   "source": [
    "# book_infos = np.concatenate([book_dict, book_title_encoded], axis=1)\n",
    "# np.save('meta/book_infos_23-04-30.npy', book_infos, allow_pickle=True)"
   ]
  },
  {
   "cell_type": "code",
   "execution_count": 20,
   "id": "a151c75e",
   "metadata": {},
   "outputs": [
    {
     "data": {
      "text/plain": [
       "array([['BOOK_044368', 'Road Taken', 0.294543981552124, ...,\n",
       "        -0.14742030203342438, -0.3801998794078827, -0.0736732929944992],\n",
       "       ['BOOK_081205', 'Macbeth (New Penguin Shakespeare)',\n",
       "        0.05064263194799423, ..., -0.04678504168987274,\n",
       "        0.33441928029060364, -0.21163484454154968],\n",
       "       ['BOOK_086781', 'Waverley (Penguin English Library)',\n",
       "        -0.41163453459739685, ..., -0.1508823037147522,\n",
       "        0.711206316947937, 0.36754968762397766],\n",
       "       ...,\n",
       "       ['BOOK_265220',\n",
       "        \"He's My Brother: Former Racial Foes Offer Strategy for Reconciliation\",\n",
       "        -0.21202334761619568, ..., 0.1758103221654892,\n",
       "        0.13197553157806396, -0.3028498888015747],\n",
       "       ['BOOK_266941',\n",
       "        'Creme De Colorado Cookbook (Celebrating Twenty Five Years of Culinary Artistry)',\n",
       "        -0.09288963675498962, ..., -0.09125104546546936,\n",
       "        0.30533093214035034, -0.1250997930765152],\n",
       "       ['BOOK_130798',\n",
       "        'The Coffin Quilt: The Feud between the Hatfields and the McCoys',\n",
       "        -0.11882448196411133, ..., -0.11357328295707703,\n",
       "        0.6942365169525146, -0.47559019923210144]], dtype=object)"
      ]
     },
     "execution_count": 20,
     "metadata": {},
     "output_type": "execute_result"
    }
   ],
   "source": [
    "book_infos = np.load('meta/book_infos_23-04-30.npy', allow_pickle=True)\n",
    "book_infos"
>>>>>>> d46728a1eb40d10b537a26113a654669bd178ab0
   ]
  },
  {
   "cell_type": "code",
<<<<<<< HEAD
   "execution_count": 15,
   "id": "736710f3",
=======
   "execution_count": 21,
   "id": "c6b7cfdf",
>>>>>>> d46728a1eb40d10b537a26113a654669bd178ab0
   "metadata": {},
   "outputs": [
    {
     "data": {
      "text/plain": [
<<<<<<< HEAD
       "(871393, 384)"
      ]
     },
     "execution_count": 15,
=======
       "(243441,)"
      ]
     },
     "execution_count": 21,
>>>>>>> d46728a1eb40d10b537a26113a654669bd178ab0
     "metadata": {},
     "output_type": "execute_result"
    }
   ],
   "source": [
<<<<<<< HEAD
    "book_title_encoded = np.zeros(shape=(train_df.shape[0], 384), dtype='float32')\n",
    "book_title_encoded.shape"
=======
    "book_dict[:, 1].shape"
>>>>>>> d46728a1eb40d10b537a26113a654669bd178ab0
   ]
  },
  {
   "cell_type": "code",
<<<<<<< HEAD
   "execution_count": 16,
   "id": "ad0880bf",
=======
   "execution_count": 22,
   "id": "9bc22429",
   "metadata": {},
   "outputs": [],
   "source": [
    "# test_book_title_encoded = np.zeros(shape=(test_book_dict.shape[0], 384), dtype='float32')\n",
    "# for i, row in tqdm(enumerate(test_book_dict[:, 1]), total=test_book_dict.shape[0]):\n",
    "#     test_book_title_encoded[i, :] = model.encode(row)"
   ]
  },
  {
   "cell_type": "code",
   "execution_count": 23,
   "id": "14738d7b",
   "metadata": {},
   "outputs": [],
   "source": [
    "# test_book_infos = np.concatenate([test_book_dict, test_book_title_encoded], axis=1)\n",
    "# np.save('meta/test_book_infos_23-04-30.npy', test_book_infos, allow_pickle=True)"
   ]
  },
  {
   "cell_type": "code",
   "execution_count": 24,
   "id": "1060688f",
   "metadata": {},
   "outputs": [
    {
     "data": {
      "text/plain": [
       "array([['BOOK_047966', 'Birds of Prey: A Novel of Suspense',\n",
       "        0.10833008587360382, ..., 0.13077646493911743,\n",
       "        -0.4036148190498352, 0.18236258625984192],\n",
       "       ['BOOK_119494', 'Midnight Voices', 0.031112201511859894, ...,\n",
       "        0.28217703104019165, -0.594933807849884, -0.544209361076355],\n",
       "       ['BOOK_151775',\n",
       "        'Breaking Free : A Prescription for Personal and Organizational Change (Jossey-Bass Business &amp; Management Series)',\n",
       "        -0.07000124454498291, ..., -0.5125600695610046,\n",
       "        0.24708081781864166, 0.05571218580007553],\n",
       "       ...,\n",
       "       ['BOOK_156256',\n",
       "        'Sierra: Notes and Images from the Range of Light',\n",
       "        -0.20738327503204346, ..., 0.06074671819806099,\n",
       "        -0.34741511940956116, 0.21215474605560303],\n",
       "       ['BOOK_199754',\n",
       "        \"From 60 Yards In : How to Master Golf's Short Game\",\n",
       "        0.518082320690155, ..., -0.1259591281414032, 0.16431060433387756,\n",
       "        0.2763310968875885],\n",
       "       ['BOOK_237054', 'Avalanche Safety: For Skiers &amp; Climbers',\n",
       "        -0.44918063282966614, ..., -0.765971302986145,\n",
       "        -0.377336710691452, 0.16308896243572235]], dtype=object)"
      ]
     },
     "execution_count": 24,
     "metadata": {},
     "output_type": "execute_result"
    }
   ],
   "source": [
    "test_book_infos = np.load('meta/test_book_infos_23-04-30.npy', allow_pickle=True)\n",
    "test_book_infos"
   ]
  },
  {
   "cell_type": "code",
   "execution_count": 25,
   "id": "3046732b",
   "metadata": {},
   "outputs": [],
   "source": [
    "book_titles = np.zeros(shape=(train_df.shape[0], 384), dtype='float32')\n",
    "test_book_titles = np.zeros(shape=(test_df.shape[0], 384), dtype='float32')"
   ]
  },
  {
   "cell_type": "code",
   "execution_count": 26,
   "id": "045aa40b",
   "metadata": {},
   "outputs": [
    {
     "data": {
      "text/plain": [
       "array(['BOOK_044368', 'BOOK_081205', 'BOOK_086781', ..., 'BOOK_265220',\n",
       "       'BOOK_266941', 'BOOK_130798'], dtype=object)"
      ]
     },
     "execution_count": 26,
     "metadata": {},
     "output_type": "execute_result"
    }
   ],
   "source": [
    "book_infos[:, 0]"
   ]
  },
  {
   "cell_type": "code",
   "execution_count": 27,
   "id": "bef07476",
   "metadata": {},
   "outputs": [],
   "source": [
    "book_infos_dict = {k: v for k, v in zip(book_list, book_infos[:, 2:])}\n",
    "test_book_infos_dict = {k: v for k, v in zip(test_book_list, test_book_infos[:, 2:])}"
   ]
  },
  {
   "cell_type": "code",
   "execution_count": 28,
   "id": "b17e61e5",
   "metadata": {},
   "outputs": [
    {
     "name": "stderr",
     "output_type": "stream",
     "text": [
      "100%|██████████| 871393/871393 [00:09<00:00, 87676.62it/s]\n"
     ]
    }
   ],
   "source": [
    "for i, row in tqdm(enumerate(train_df['Book-ID']), total=train_df.shape[0]):#book_infos\n",
    "    book_titles[i] = book_infos_dict[row]"
   ]
  },
  {
   "cell_type": "code",
   "execution_count": 29,
   "id": "4b05a0aa",
>>>>>>> d46728a1eb40d10b537a26113a654669bd178ab0
   "metadata": {},
   "outputs": [
    {
     "name": "stderr",
     "output_type": "stream",
     "text": [
<<<<<<< HEAD
      " 16%|█▌        | 137939/871393 [11:22<1:00:57, 200.55it/s]"
=======
      "100%|██████████| 159621/159621 [00:01<00:00, 90041.30it/s]\n"
>>>>>>> d46728a1eb40d10b537a26113a654669bd178ab0
     ]
    }
   ],
   "source": [
<<<<<<< HEAD
    "# 아마 array로 나올 것\n",
    "# train_df['Book-Title'].apply(lambda x: model.encode(x)) # 이대로는 안된다 너무 너무 너무 * 10000000000으로 느림 (데이터 크기가 엄청난 듯) sentence 말고 다른 것 없나?\n",
    "for i, row in tqdm(enumerate(train_df['Book-Title']), total=train_df.shape[0]):\n",
    "    book_title_encoded.put(i, model.encode(row))"
=======
    "for i, row in tqdm(enumerate(test_df['Book-ID']), total=test_df.shape[0]):#book_infos\n",
    "    test_book_titles[i] = test_book_infos_dict[row]"
>>>>>>> d46728a1eb40d10b537a26113a654669bd178ab0
   ]
  },
  {
   "attachments": {},
   "cell_type": "markdown",
   "id": "4124d113",
   "metadata": {},
   "source": [
    "- https://huggingface.co/blog/getting-started-with-embeddings\n",
    "- https://anpigon.tistory.com/387\n",
    "- https://huggingface.co/docs/transformers/preprocessing"
   ]
  },
  {
   "cell_type": "markdown",
   "id": "20482046-c93a-4f94-bcdd-52994a8af400",
   "metadata": {},
   "source": [
    "# encoding\n",
    "\n",
    "for location_country, publisher"
   ]
  },
  {
   "cell_type": "code",
<<<<<<< HEAD
   "execution_count": 12,
=======
   "execution_count": 30,
>>>>>>> d46728a1eb40d10b537a26113a654669bd178ab0
   "id": "c6f87274-5fe4-401f-979c-2bd862f8b3ac",
   "metadata": {},
   "outputs": [],
   "source": [
<<<<<<< HEAD
    "from sklearn.preprocessing import OneHotEncoder"
=======
    "# from sklearn.preprocessing import OneHotEncoder"
>>>>>>> d46728a1eb40d10b537a26113a654669bd178ab0
   ]
  },
  {
   "cell_type": "code",
<<<<<<< HEAD
   "execution_count": 13,
=======
   "execution_count": 31,
>>>>>>> d46728a1eb40d10b537a26113a654669bd178ab0
   "id": "13448b23-c176-4731-bc89-4c750792eb99",
   "metadata": {},
   "outputs": [],
   "source": [
<<<<<<< HEAD
    "cont_encoder = OneHotEncoder(handle_unknown='ignore', dtype='bool')\n",
    "train_country_array = cont_encoder.fit_transform(train_df[['Location_country']]).toarray()\n",
    "test_country_array = cont_encoder.transform(test_df[['Location_country']]).toarray()"
=======
    "# cont_encoder = OneHotEncoder(handle_unknown='ignore', dtype='bool')\n",
    "# train_country_array = cont_encoder.fit_transform(train_df[['Location_country']]).toarray()\n",
    "# test_country_array = cont_encoder.transform(test_df[['Location_country']]).toarray()"
>>>>>>> d46728a1eb40d10b537a26113a654669bd178ab0
   ]
  },
  {
   "cell_type": "code",
<<<<<<< HEAD
   "execution_count": 14,
=======
   "execution_count": 32,
>>>>>>> d46728a1eb40d10b537a26113a654669bd178ab0
   "id": "491a402c-ae25-4c40-9eed-c36ede970bed",
   "metadata": {},
   "outputs": [],
   "source": [
    "# pub_encoder = OneHotEncoder(handle_unknown='ignore', dtype='bool')\n",
    "# train_publisher_array = pub_encoder.fit_transform(train_df[['Publisher']]).toarray()\n",
    "# test_publisher_array = pub_encoder.transform(train_df[['Publisher']]).toarray()"
   ]
  },
  {
   "cell_type": "markdown",
   "id": "8faed6d6-9ca0-4c50-b84b-21e2c2d897db",
   "metadata": {},
   "source": [
    "# scaling"
   ]
  },
  {
   "cell_type": "code",
<<<<<<< HEAD
   "execution_count": 15,
=======
   "execution_count": 33,
>>>>>>> d46728a1eb40d10b537a26113a654669bd178ab0
   "id": "0b466a2e-aff2-46e7-a9b7-970affef8416",
   "metadata": {},
   "outputs": [],
   "source": [
    "from sklearn.preprocessing import StandardScaler"
   ]
  },
  {
   "cell_type": "code",
<<<<<<< HEAD
   "execution_count": 16,
=======
   "execution_count": 34,
>>>>>>> d46728a1eb40d10b537a26113a654669bd178ab0
   "id": "e7435345-74de-463c-9b82-2e76b466b532",
   "metadata": {},
   "outputs": [],
   "source": [
    "scaler = StandardScaler()\n",
    "train_cont_array = scaler.fit_transform(train_df[continuous_features])\n",
    "test_cont_array = scaler.transform(test_df[continuous_features])"
   ]
  },
  {
   "cell_type": "markdown",
   "id": "87b1d091-bbc5-45a7-b15f-4f90d60ff4e2",
   "metadata": {},
   "source": [
    "# merge prcessed data"
   ]
  },
  {
   "cell_type": "code",
<<<<<<< HEAD
   "execution_count": 17,
=======
   "execution_count": 35,
>>>>>>> d46728a1eb40d10b537a26113a654669bd178ab0
   "id": "8734759d-ca07-4c26-b48d-e67339e2cba5",
   "metadata": {},
   "outputs": [
    {
     "data": {
      "text/plain": [
<<<<<<< HEAD
       "((871393, 2), (871393, 243), (871393, 15505))"
      ]
     },
     "execution_count": 17,
=======
       "((871393, 2), (871393, 384))"
      ]
     },
     "execution_count": 35,
>>>>>>> d46728a1eb40d10b537a26113a654669bd178ab0
     "metadata": {},
     "output_type": "execute_result"
    }
   ],
   "source": [
<<<<<<< HEAD
    "train_cont_array.shape, train_country_array.shape, train_publisher_array.shape"
=======
    "train_cont_array.shape, book_titles.shape#train_country_array.shape, train_publisher_array.shape"
>>>>>>> d46728a1eb40d10b537a26113a654669bd178ab0
   ]
  },
  {
   "cell_type": "code",
<<<<<<< HEAD
   "execution_count": 18,
=======
   "execution_count": 36,
>>>>>>> d46728a1eb40d10b537a26113a654669bd178ab0
   "id": "780609ea",
   "metadata": {},
   "outputs": [],
   "source": [
    "# train_x = {\n",
    "#     'input_continuous': train_cont_array,\n",
    "#     'input_country': train_country_array,\n",
    "# }\n",
    "\n",
    "# test_x = {\n",
    "#     'input_continuous': test_cont_array,\n",
    "#     'input_country': test_country_array,\n",
    "# }\n",
    "\n",
<<<<<<< HEAD
    "train_x = [train_cont_array, train_country_array, train_publisher_array]\n",
    "test_x = [test_cont_array, test_country_array, test_publisher_array]"
=======
    "train_x = [train_cont_array, book_titles]#train_country_array, train_publisher_array]\n",
    "test_x = [test_cont_array, test_book_titles]#test_country_array, test_publisher_array]"
>>>>>>> d46728a1eb40d10b537a26113a654669bd178ab0
   ]
  },
  {
   "cell_type": "code",
<<<<<<< HEAD
   "execution_count": 19,
=======
   "execution_count": 37,
>>>>>>> d46728a1eb40d10b537a26113a654669bd178ab0
   "id": "0a05a430-7f0a-4848-8dad-74b36554bd51",
   "metadata": {},
   "outputs": [],
   "source": [
    "# train_x = np.concatenate([train_cont_array, train_df[['Location_country']].values], axis=1) #train_publisher_array\n",
    "# test_x = np.concatenate([test_cont_array, test_df[['Location_country']].values], axis=1) #test_publisher_array\n",
    "\n",
    "# train_x.shape, test_x.shape"
   ]
  },
  {
   "cell_type": "code",
<<<<<<< HEAD
   "execution_count": 20,
=======
   "execution_count": 38,
>>>>>>> d46728a1eb40d10b537a26113a654669bd178ab0
   "id": "3628cab0-e333-49e0-9eba-842d14f05ab9",
   "metadata": {},
   "outputs": [
    {
     "data": {
      "text/plain": [
       "(871393,)"
      ]
     },
<<<<<<< HEAD
     "execution_count": 20,
=======
     "execution_count": 38,
>>>>>>> d46728a1eb40d10b537a26113a654669bd178ab0
     "metadata": {},
     "output_type": "execute_result"
    }
   ],
   "source": [
    "train_y = train_df['Book-Rating'].values\n",
    "train_y.shape"
   ]
  },
  {
   "cell_type": "code",
<<<<<<< HEAD
   "execution_count": 21,
=======
   "execution_count": 39,
>>>>>>> d46728a1eb40d10b537a26113a654669bd178ab0
   "id": "92133ccc-5560-45c0-b88f-b84e16736032",
   "metadata": {},
   "outputs": [],
   "source": [
    "# train_array = np.concatenate([train_cont_array, train_country_array, train_publisher_array], axis=1)\n",
    "# test_array = np.concatenate([test_cont_array, test_country_array, test_publisher_array], axis=1)"
   ]
  },
  {
   "attachments": {},
   "cell_type": "markdown",
   "id": "a690f085-d1b1-4271-8779-aca955767ba2",
   "metadata": {
    "tags": []
   },
   "source": [
    "# model"
   ]
  },
  {
   "cell_type": "code",
<<<<<<< HEAD
   "execution_count": 22,
=======
   "execution_count": 40,
>>>>>>> d46728a1eb40d10b537a26113a654669bd178ab0
   "id": "8cde1097",
   "metadata": {},
   "outputs": [],
   "source": [
    "alpha = 0.001"
   ]
  },
  {
   "cell_type": "code",
<<<<<<< HEAD
   "execution_count": 23,
=======
   "execution_count": 41,
>>>>>>> d46728a1eb40d10b537a26113a654669bd178ab0
   "id": "15f15399",
   "metadata": {},
   "outputs": [
    {
     "data": {
      "text/plain": [
<<<<<<< HEAD
       "243"
      ]
     },
     "execution_count": 23,
=======
       "384"
      ]
     },
     "execution_count": 41,
>>>>>>> d46728a1eb40d10b537a26113a654669bd178ab0
     "metadata": {},
     "output_type": "execute_result"
    }
   ],
   "source": [
<<<<<<< HEAD
    "train_country_array.shape[1]"
=======
    "book_titles.shape[1]"
>>>>>>> d46728a1eb40d10b537a26113a654669bd178ab0
   ]
  },
  {
   "cell_type": "code",
<<<<<<< HEAD
   "execution_count": 24,
=======
   "execution_count": 42,
>>>>>>> d46728a1eb40d10b537a26113a654669bd178ab0
   "id": "7763b5e6",
   "metadata": {},
   "outputs": [],
   "source": [
<<<<<<< HEAD
    "def build_custom_model(input_dims):\n",
    "    # define input tensor\n",
    "    input_continuous = tf.keras.Input(shape=input_dims[0], dtype=tf.float32)\n",
    "    input_country = tf.keras.Input(shape=input_dims[1], dtype='bool')\n",
    "    input_publisher = tf.keras.Input(shape=input_dims[2], dtype='bool')\n",
    "\n",
    "    # embedding layer\n",
    "    embed_country_layer = tf.keras.layers.Embedding(\n",
    "        train_country_array.shape[1], 10)(input_country)\n",
    "\n",
    "    # rnn layer\n",
    "    country_layer = tf.keras.layers.SimpleRNN(\n",
    "        10, return_sequences=False, dtype=np.float32)(embed_country_layer)\n",
    "\n",
    "    # embedding layer\n",
    "    embed_publisher_layer = tf.keras.layers.Embedding(\n",
    "        train_country_array.shape[1], 10)(input_publisher)\n",
    "\n",
    "    # rnn layer\n",
    "    publisher_layer = tf.keras.layers.SimpleRNN(\n",
    "        10, return_sequences=False, dtype=np.float32)(embed_publisher_layer)\n",
    "\n",
    "    # concatenate\n",
    "    x = tf.keras.layers.Concatenate(axis=-1)([input_continuous, country_layer, publisher_layer])\n",
=======
    "def build_custom_model(input_dims, alpha):\n",
    "    # define input tensor\n",
    "    input_continuous = tf.keras.Input(shape=input_dims[0], dtype=tf.float32)\n",
    "    input_title = tf.keras.Input(shape=input_dims[1], dtype=tf.float32)\n",
    "    # input_country = tf.keras.Input(shape=input_dims[1], dtype='bool')\n",
    "    # input_publisher = tf.keras.Input(shape=input_dims[2], dtype='bool')\n",
    "\n",
    "    # # embedding layer\n",
    "    # embed_country_layer = tf.keras.layers.Embedding(\n",
    "    #     train_country_array.shape[1], 10)(input_country)\n",
    "\n",
    "    # # rnn layer\n",
    "    # country_layer = tf.keras.layers.SimpleRNN(\n",
    "    #     10, return_sequences=False, dtype=np.float32)(embed_country_layer)\n",
    "\n",
    "    # # embedding layer\n",
    "    # embed_publisher_layer = tf.keras.layers.Embedding(\n",
    "    #     train_country_array.shape[1], 10)(input_publisher)\n",
    "\n",
    "    # # rnn layer\n",
    "    # publisher_layer = tf.keras.layers.SimpleRNN(\n",
    "    #     10, return_sequences=False, dtype=np.float32)(embed_publisher_layer)\n",
    "\n",
    "    # concatenate\n",
    "    x = tf.keras.layers.Concatenate(axis=-1)([input_continuous, input_title])#country_layer, publisher_layer])\n",
>>>>>>> d46728a1eb40d10b537a26113a654669bd178ab0
    "    # # concatenate\n",
    "    # x = tf.keras.layers.Concatenate(axis=-1)([input_continuous, input_country])\n",
    "\n",
    "    # hidden layer\n",
    "    x = tf.keras.layers.Dense(\n",
    "        64, activation='relu', \n",
    "        kernel_regularizer=tf.keras.regularizers.l2(alpha))(x)\n",
    "\n",
    "    # hidden layer\n",
    "    x = tf.keras.layers.Dense(\n",
    "        16, activation='relu',\n",
    "        kernel_regularizer=tf.keras.regularizers.l2(alpha))(x)\n",
    "\n",
    "    # output layer\n",
    "    x = tf.keras.layers.Dense(1, activation='linear')(x)\n",
    "\n",
<<<<<<< HEAD
    "    model = tf.keras.Model([input_continuous, input_country, input_publisher], x)\n",
=======
    "    model = tf.keras.Model([input_continuous, input_title], x)#input_country, input_publisher], x)\n",
>>>>>>> d46728a1eb40d10b537a26113a654669bd178ab0
    "\n",
    "    return model"
   ]
  },
  {
   "cell_type": "code",
<<<<<<< HEAD
   "execution_count": 25,
=======
   "execution_count": 43,
>>>>>>> d46728a1eb40d10b537a26113a654669bd178ab0
   "id": "c7aed546",
   "metadata": {},
   "outputs": [],
   "source": [
    "learning_rate = 0.001\n",
    "batch_size = 1000\n",
<<<<<<< HEAD
    "epochs = 100"
=======
    "epochs = 100\n",
    "alpha = 0.005"
>>>>>>> d46728a1eb40d10b537a26113a654669bd178ab0
   ]
  },
  {
   "cell_type": "code",
<<<<<<< HEAD
   "execution_count": 26,
=======
   "execution_count": 44,
>>>>>>> d46728a1eb40d10b537a26113a654669bd178ab0
   "id": "4cf3fd94",
   "metadata": {},
   "outputs": [
    {
<<<<<<< HEAD
     "name": "stdout",
     "output_type": "stream",
     "text": [
      "INFO:tensorflow:Using MirroredStrategy with devices ('/job:localhost/replica:0/task:0/device:GPU:0', '/job:localhost/replica:0/task:0/device:GPU:1')\n",
=======
     "name": "stderr",
     "output_type": "stream",
     "text": [
      "2023-04-29 16:13:31.095585: I tensorflow/core/common_runtime/gpu/gpu_device.cc:1613] Created device /job:localhost/replica:0/task:0/device:GPU:0 with 38220 MB memory:  -> device: 0, name: NVIDIA A100-SXM4-40GB, pci bus id: 0000:00:04.0, compute capability: 8.0\n"
     ]
    },
    {
     "name": "stdout",
     "output_type": "stream",
     "text": [
      "INFO:tensorflow:Using MirroredStrategy with devices ('/job:localhost/replica:0/task:0/device:GPU:0',)\n",
>>>>>>> d46728a1eb40d10b537a26113a654669bd178ab0
      "INFO:tensorflow:Reduce to /job:localhost/replica:0/task:0/device:CPU:0 then broadcast to ('/job:localhost/replica:0/task:0/device:CPU:0',).\n",
      "INFO:tensorflow:Reduce to /job:localhost/replica:0/task:0/device:CPU:0 then broadcast to ('/job:localhost/replica:0/task:0/device:CPU:0',).\n",
      "INFO:tensorflow:Reduce to /job:localhost/replica:0/task:0/device:CPU:0 then broadcast to ('/job:localhost/replica:0/task:0/device:CPU:0',).\n",
      "INFO:tensorflow:Reduce to /job:localhost/replica:0/task:0/device:CPU:0 then broadcast to ('/job:localhost/replica:0/task:0/device:CPU:0',).\n"
     ]
    }
   ],
   "source": [
    "mirrored_strategy = tf.distribute.MirroredStrategy()\n",
    "\n",
    "with mirrored_strategy.scope():\n",
    "    model = build_custom_model(input_dims=[\n",
<<<<<<< HEAD
=======
    "        train_cont_array.shape[1],\n",
    "        book_titles.shape[1]\n",
    "        # train_country_array.shape[1], \n",
    "        # train_publisher_array.shape[1]\n",
    "    ], alpha=alpha)\n",
>>>>>>> d46728a1eb40d10b537a26113a654669bd178ab0
    "        train_cont_array.shape[1], \n",
    "        train_country_array.shape[1], \n",
    "        train_publisher_array.shape[1]]\n",
    "    )\n",
    "\n",
    "    # define optimizer Adam\n",
    "    optimizer = tf.keras.optimizers.Adam(learning_rate=learning_rate)\n",
    "\n",
    "    # model compile\n",
    "    model.compile(optimizer=optimizer, loss='mse', metrics='mse')"
   ]
  },
  {
   "cell_type": "code",
<<<<<<< HEAD
   "execution_count": 27,
=======
   "execution_count": 45,
>>>>>>> d46728a1eb40d10b537a26113a654669bd178ab0
   "id": "602a2b94",
   "metadata": {},
   "outputs": [
    {
     "name": "stdout",
     "output_type": "stream",
     "text": [
      "Model: \"model\"\n",
      "__________________________________________________________________________________________________\n",
      " Layer (type)                   Output Shape         Param #     Connected to                     \n",
      "==================================================================================================\n",
<<<<<<< HEAD
      " input_2 (InputLayer)           [(None, 243)]        0           []                               \n",
      "                                                                                                  \n",
      " input_3 (InputLayer)           [(None, 15505)]      0           []                               \n",
      "                                                                                                  \n",
      " embedding (Embedding)          (None, 243, 10)      2430        ['input_2[0][0]']                \n",
      "                                                                                                  \n",
      " embedding_1 (Embedding)        (None, 15505, 10)    2430        ['input_3[0][0]']                \n",
      "                                                                                                  \n",
      " input_1 (InputLayer)           [(None, 2)]          0           []                               \n",
      "                                                                                                  \n",
      " simple_rnn (SimpleRNN)         (None, 10)           210         ['embedding[0][0]']              \n",
      "                                                                                                  \n",
      " simple_rnn_1 (SimpleRNN)       (None, 10)           210         ['embedding_1[0][0]']            \n",
      "                                                                                                  \n",
      " concatenate (Concatenate)      (None, 22)           0           ['input_1[0][0]',                \n",
      "                                                                  'simple_rnn[0][0]',             \n",
      "                                                                  'simple_rnn_1[0][0]']           \n",
      "                                                                                                  \n",
      " dense (Dense)                  (None, 64)           1472        ['concatenate[0][0]']            \n",
=======
      " input_1 (InputLayer)           [(None, 2)]          0           []                               \n",
      "                                                                                                  \n",
      " input_2 (InputLayer)           [(None, 384)]        0           []                               \n",
      "                                                                                                  \n",
      " concatenate (Concatenate)      (None, 386)          0           ['input_1[0][0]',                \n",
      "                                                                  'input_2[0][0]']                \n",
      "                                                                                                  \n",
      " dense (Dense)                  (None, 64)           24768       ['concatenate[0][0]']            \n",
>>>>>>> d46728a1eb40d10b537a26113a654669bd178ab0
      "                                                                                                  \n",
      " dense_1 (Dense)                (None, 16)           1040        ['dense[0][0]']                  \n",
      "                                                                                                  \n",
      " dense_2 (Dense)                (None, 1)            17          ['dense_1[0][0]']                \n",
      "                                                                                                  \n",
      "==================================================================================================\n",
<<<<<<< HEAD
      "Total params: 7,809\n",
      "Trainable params: 7,809\n",
=======
      "Total params: 25,825\n",
      "Trainable params: 25,825\n",
>>>>>>> d46728a1eb40d10b537a26113a654669bd178ab0
      "Non-trainable params: 0\n",
      "__________________________________________________________________________________________________\n"
     ]
    }
   ],
   "source": [
    "model.summary()"
   ]
  },
  {
   "cell_type": "code",
<<<<<<< HEAD
   "execution_count": 28,
=======
   "execution_count": 46,
>>>>>>> d46728a1eb40d10b537a26113a654669bd178ab0
   "id": "eef8947c",
   "metadata": {},
   "outputs": [
    {
<<<<<<< HEAD
     "name": "stderr",
     "output_type": "stream",
     "text": [
      "2023-04-27 08:11:00.209145: W tensorflow/tsl/framework/cpu_allocator_impl.cc:82] Allocation of 12159842765 exceeds 10% of free system memory.\n",
      "2023-04-27 08:11:07.124747: W tensorflow/tsl/framework/cpu_allocator_impl.cc:82] Allocation of 12159842765 exceeds 10% of free system memory.\n",
      "2023-04-27 08:11:11.572765: W tensorflow/tsl/framework/cpu_allocator_impl.cc:82] Allocation of 12159842765 exceeds 10% of free system memory.\n"
     ]
    },
    {
=======
>>>>>>> d46728a1eb40d10b537a26113a654669bd178ab0
     "name": "stdout",
     "output_type": "stream",
     "text": [
      "Epoch 1/100\n",
<<<<<<< HEAD
      "INFO:tensorflow:batch_all_reduce: 12 all-reduces with algorithm = nccl, num_packs = 1\n",
      "WARNING:tensorflow:Efficient allreduce is not supported for 2 IndexedSlices\n",
      "INFO:tensorflow:Reduce to /job:localhost/replica:0/task:0/device:GPU:0 then broadcast to ('/job:localhost/replica:0/task:0/device:GPU:0', '/job:localhost/replica:0/task:0/device:GPU:1').\n",
      "INFO:tensorflow:Reduce to /job:localhost/replica:0/task:0/device:GPU:0 then broadcast to ('/job:localhost/replica:0/task:0/device:GPU:0', '/job:localhost/replica:0/task:0/device:GPU:1').\n",
=======
>>>>>>> d46728a1eb40d10b537a26113a654669bd178ab0
      "INFO:tensorflow:Reduce to /job:localhost/replica:0/task:0/device:CPU:0 then broadcast to ('/job:localhost/replica:0/task:0/device:CPU:0',).\n",
      "INFO:tensorflow:Reduce to /job:localhost/replica:0/task:0/device:CPU:0 then broadcast to ('/job:localhost/replica:0/task:0/device:CPU:0',).\n",
      "INFO:tensorflow:Reduce to /job:localhost/replica:0/task:0/device:CPU:0 then broadcast to ('/job:localhost/replica:0/task:0/device:CPU:0',).\n",
      "INFO:tensorflow:Reduce to /job:localhost/replica:0/task:0/device:CPU:0 then broadcast to ('/job:localhost/replica:0/task:0/device:CPU:0',).\n",
      "INFO:tensorflow:Reduce to /job:localhost/replica:0/task:0/device:CPU:0 then broadcast to ('/job:localhost/replica:0/task:0/device:CPU:0',).\n",
<<<<<<< HEAD
      "INFO:tensorflow:batch_all_reduce: 12 all-reduces with algorithm = nccl, num_packs = 1\n",
      "WARNING:tensorflow:Efficient allreduce is not supported for 2 IndexedSlices\n",
      "INFO:tensorflow:Reduce to /job:localhost/replica:0/task:0/device:GPU:0 then broadcast to ('/job:localhost/replica:0/task:0/device:GPU:0', '/job:localhost/replica:0/task:0/device:GPU:1').\n",
      "INFO:tensorflow:Reduce to /job:localhost/replica:0/task:0/device:GPU:0 then broadcast to ('/job:localhost/replica:0/task:0/device:GPU:0', '/job:localhost/replica:0/task:0/device:GPU:1').\n",
=======
>>>>>>> d46728a1eb40d10b537a26113a654669bd178ab0
      "INFO:tensorflow:Reduce to /job:localhost/replica:0/task:0/device:CPU:0 then broadcast to ('/job:localhost/replica:0/task:0/device:CPU:0',).\n"
     ]
    },
    {
     "name": "stderr",
     "output_type": "stream",
     "text": [
<<<<<<< HEAD
      "2023-04-27 08:11:59.595088: W tensorflow/tsl/framework/bfc_allocator.cc:479] Allocator (GPU_0_bfc) ran out of memory trying to allocate 591.47MiB (rounded to 620200192)requested by op concat_6\n",
      "If the cause is memory fragmentation maybe the environment variable 'TF_GPU_ALLOCATOR=cuda_malloc_async' will improve the situation. \n",
      "Current allocation summary follows.\n",
      "Current allocation summary follows.\n",
      "2023-04-27 08:11:59.595291: W tensorflow/tsl/framework/bfc_allocator.cc:492] *********************************************************************************************_***___\n",
      "2023-04-27 08:11:59.595326: W tensorflow/core/framework/op_kernel.cc:1830] OP_REQUIRES failed at concat_op.cc:163 : RESOURCE_EXHAUSTED: OOM when allocating tensor with shape[15505000,10] and type float on /job:localhost/replica:0/task:0/device:GPU:0 by allocator GPU_0_bfc\n"
     ]
    },
    {
     "ename": "ResourceExhaustedError",
     "evalue": "Graph execution error:\n\nDetected at node 'concat_6' defined at (most recent call last):\n    File \"/opt/conda/envs/general/lib/python3.10/runpy.py\", line 196, in _run_module_as_main\n      return _run_code(code, main_globals, None,\n    File \"/opt/conda/envs/general/lib/python3.10/runpy.py\", line 86, in _run_code\n      exec(code, run_globals)\n    File \"/opt/conda/envs/general/lib/python3.10/site-packages/ipykernel_launcher.py\", line 17, in <module>\n      app.launch_new_instance()\n    File \"/opt/conda/envs/general/lib/python3.10/site-packages/traitlets/config/application.py\", line 1043, in launch_instance\n      app.start()\n    File \"/opt/conda/envs/general/lib/python3.10/site-packages/ipykernel/kernelapp.py\", line 725, in start\n      self.io_loop.start()\n    File \"/opt/conda/envs/general/lib/python3.10/site-packages/tornado/platform/asyncio.py\", line 195, in start\n      self.asyncio_loop.run_forever()\n    File \"/opt/conda/envs/general/lib/python3.10/asyncio/base_events.py\", line 595, in run_forever\n      self._run_once()\n    File \"/opt/conda/envs/general/lib/python3.10/asyncio/base_events.py\", line 1881, in _run_once\n      handle._run()\n    File \"/opt/conda/envs/general/lib/python3.10/asyncio/events.py\", line 80, in _run\n      self._context.run(self._callback, *self._args)\n    File \"/opt/conda/envs/general/lib/python3.10/site-packages/ipykernel/kernelbase.py\", line 513, in dispatch_queue\n      await self.process_one()\n    File \"/opt/conda/envs/general/lib/python3.10/site-packages/ipykernel/kernelbase.py\", line 502, in process_one\n      await dispatch(*args)\n    File \"/opt/conda/envs/general/lib/python3.10/site-packages/ipykernel/kernelbase.py\", line 409, in dispatch_shell\n      await result\n    File \"/opt/conda/envs/general/lib/python3.10/site-packages/ipykernel/kernelbase.py\", line 729, in execute_request\n      reply_content = await reply_content\n    File \"/opt/conda/envs/general/lib/python3.10/site-packages/ipykernel/ipkernel.py\", line 422, in do_execute\n      res = shell.run_cell(\n    File \"/opt/conda/envs/general/lib/python3.10/site-packages/ipykernel/zmqshell.py\", line 540, in run_cell\n      return super().run_cell(*args, **kwargs)\n    File \"/opt/conda/envs/general/lib/python3.10/site-packages/IPython/core/interactiveshell.py\", line 3006, in run_cell\n      result = self._run_cell(\n    File \"/opt/conda/envs/general/lib/python3.10/site-packages/IPython/core/interactiveshell.py\", line 3061, in _run_cell\n      result = runner(coro)\n    File \"/opt/conda/envs/general/lib/python3.10/site-packages/IPython/core/async_helpers.py\", line 129, in _pseudo_sync_runner\n      coro.send(None)\n    File \"/opt/conda/envs/general/lib/python3.10/site-packages/IPython/core/interactiveshell.py\", line 3266, in run_cell_async\n      has_raised = await self.run_ast_nodes(code_ast.body, cell_name,\n    File \"/opt/conda/envs/general/lib/python3.10/site-packages/IPython/core/interactiveshell.py\", line 3445, in run_ast_nodes\n      if await self.run_code(code, result, async_=asy):\n    File \"/opt/conda/envs/general/lib/python3.10/site-packages/IPython/core/interactiveshell.py\", line 3505, in run_code\n      exec(code_obj, self.user_global_ns, self.user_ns)\n    File \"/tmp/ipykernel_362/1603424062.py\", line 1, in <module>\n      history = model.fit(train_x, train_y, validation_split=.1, epochs=epochs, batch_size=batch_size)\n    File \"/opt/conda/envs/general/lib/python3.10/site-packages/keras/utils/traceback_utils.py\", line 65, in error_handler\n      return fn(*args, **kwargs)\n    File \"/opt/conda/envs/general/lib/python3.10/site-packages/keras/engine/training.py\", line 1650, in fit\n      tmp_logs = self.train_function(iterator)\n    File \"/opt/conda/envs/general/lib/python3.10/site-packages/keras/engine/training.py\", line 1249, in train_function\n      return step_function(self, iterator)\n    File \"/opt/conda/envs/general/lib/python3.10/site-packages/keras/engine/training.py\", line 1233, in step_function\n      outputs = model.distribute_strategy.run(run_step, args=(data,))\n    File \"/opt/conda/envs/general/lib/python3.10/site-packages/keras/optimizers/optimizer_v2/utils.py\", line 175, in _all_reduce_sum_fn\n      return distribution.extended.batch_reduce_to(\nNode: 'concat_6'\nDetected at node 'concat_6' defined at (most recent call last):\n    File \"/opt/conda/envs/general/lib/python3.10/runpy.py\", line 196, in _run_module_as_main\n      return _run_code(code, main_globals, None,\n    File \"/opt/conda/envs/general/lib/python3.10/runpy.py\", line 86, in _run_code\n      exec(code, run_globals)\n    File \"/opt/conda/envs/general/lib/python3.10/site-packages/ipykernel_launcher.py\", line 17, in <module>\n      app.launch_new_instance()\n    File \"/opt/conda/envs/general/lib/python3.10/site-packages/traitlets/config/application.py\", line 1043, in launch_instance\n      app.start()\n    File \"/opt/conda/envs/general/lib/python3.10/site-packages/ipykernel/kernelapp.py\", line 725, in start\n      self.io_loop.start()\n    File \"/opt/conda/envs/general/lib/python3.10/site-packages/tornado/platform/asyncio.py\", line 195, in start\n      self.asyncio_loop.run_forever()\n    File \"/opt/conda/envs/general/lib/python3.10/asyncio/base_events.py\", line 595, in run_forever\n      self._run_once()\n    File \"/opt/conda/envs/general/lib/python3.10/asyncio/base_events.py\", line 1881, in _run_once\n      handle._run()\n    File \"/opt/conda/envs/general/lib/python3.10/asyncio/events.py\", line 80, in _run\n      self._context.run(self._callback, *self._args)\n    File \"/opt/conda/envs/general/lib/python3.10/site-packages/ipykernel/kernelbase.py\", line 513, in dispatch_queue\n      await self.process_one()\n    File \"/opt/conda/envs/general/lib/python3.10/site-packages/ipykernel/kernelbase.py\", line 502, in process_one\n      await dispatch(*args)\n    File \"/opt/conda/envs/general/lib/python3.10/site-packages/ipykernel/kernelbase.py\", line 409, in dispatch_shell\n      await result\n    File \"/opt/conda/envs/general/lib/python3.10/site-packages/ipykernel/kernelbase.py\", line 729, in execute_request\n      reply_content = await reply_content\n    File \"/opt/conda/envs/general/lib/python3.10/site-packages/ipykernel/ipkernel.py\", line 422, in do_execute\n      res = shell.run_cell(\n    File \"/opt/conda/envs/general/lib/python3.10/site-packages/ipykernel/zmqshell.py\", line 540, in run_cell\n      return super().run_cell(*args, **kwargs)\n    File \"/opt/conda/envs/general/lib/python3.10/site-packages/IPython/core/interactiveshell.py\", line 3006, in run_cell\n      result = self._run_cell(\n    File \"/opt/conda/envs/general/lib/python3.10/site-packages/IPython/core/interactiveshell.py\", line 3061, in _run_cell\n      result = runner(coro)\n    File \"/opt/conda/envs/general/lib/python3.10/site-packages/IPython/core/async_helpers.py\", line 129, in _pseudo_sync_runner\n      coro.send(None)\n    File \"/opt/conda/envs/general/lib/python3.10/site-packages/IPython/core/interactiveshell.py\", line 3266, in run_cell_async\n      has_raised = await self.run_ast_nodes(code_ast.body, cell_name,\n    File \"/opt/conda/envs/general/lib/python3.10/site-packages/IPython/core/interactiveshell.py\", line 3445, in run_ast_nodes\n      if await self.run_code(code, result, async_=asy):\n    File \"/opt/conda/envs/general/lib/python3.10/site-packages/IPython/core/interactiveshell.py\", line 3505, in run_code\n      exec(code_obj, self.user_global_ns, self.user_ns)\n    File \"/tmp/ipykernel_362/1603424062.py\", line 1, in <module>\n      history = model.fit(train_x, train_y, validation_split=.1, epochs=epochs, batch_size=batch_size)\n    File \"/opt/conda/envs/general/lib/python3.10/site-packages/keras/utils/traceback_utils.py\", line 65, in error_handler\n      return fn(*args, **kwargs)\n    File \"/opt/conda/envs/general/lib/python3.10/site-packages/keras/engine/training.py\", line 1650, in fit\n      tmp_logs = self.train_function(iterator)\n    File \"/opt/conda/envs/general/lib/python3.10/site-packages/keras/engine/training.py\", line 1249, in train_function\n      return step_function(self, iterator)\n    File \"/opt/conda/envs/general/lib/python3.10/site-packages/keras/engine/training.py\", line 1233, in step_function\n      outputs = model.distribute_strategy.run(run_step, args=(data,))\n    File \"/opt/conda/envs/general/lib/python3.10/site-packages/keras/optimizers/optimizer_v2/utils.py\", line 175, in _all_reduce_sum_fn\n      return distribution.extended.batch_reduce_to(\nNode: 'concat_6'\n2 root error(s) found.\n  (0) RESOURCE_EXHAUSTED:  OOM when allocating tensor with shape[15505000,10] and type float on /job:localhost/replica:0/task:0/device:GPU:0 by allocator GPU_0_bfc\n\t [[{{node concat_6}}]]\nHint: If you want to see a list of allocated tensors when OOM happens, add report_tensor_allocations_upon_oom to RunOptions for current allocation info. This isn't available when running in Eager mode.\n\n\t [[update_0_14/AssignAddVariableOp/_237]]\nHint: If you want to see a list of allocated tensors when OOM happens, add report_tensor_allocations_upon_oom to RunOptions for current allocation info. This isn't available when running in Eager mode.\n\n  (1) RESOURCE_EXHAUSTED:  OOM when allocating tensor with shape[15505000,10] and type float on /job:localhost/replica:0/task:0/device:GPU:0 by allocator GPU_0_bfc\n\t [[{{node concat_6}}]]\nHint: If you want to see a list of allocated tensors when OOM happens, add report_tensor_allocations_upon_oom to RunOptions for current allocation info. This isn't available when running in Eager mode.\n\n0 successful operations.\n0 derived errors ignored. [Op:__inference_train_function_7164]",
     "output_type": "error",
     "traceback": [
      "\u001b[0;31m---------------------------------------------------------------------------\u001b[0m",
      "\u001b[0;31mResourceExhaustedError\u001b[0m                    Traceback (most recent call last)",
      "Cell \u001b[0;32mIn[28], line 1\u001b[0m\n\u001b[0;32m----> 1\u001b[0m history \u001b[39m=\u001b[39m model\u001b[39m.\u001b[39;49mfit(train_x, train_y, validation_split\u001b[39m=\u001b[39;49m\u001b[39m.1\u001b[39;49m, epochs\u001b[39m=\u001b[39;49mepochs, batch_size\u001b[39m=\u001b[39;49mbatch_size)\n",
      "File \u001b[0;32m/opt/conda/envs/general/lib/python3.10/site-packages/keras/utils/traceback_utils.py:70\u001b[0m, in \u001b[0;36mfilter_traceback.<locals>.error_handler\u001b[0;34m(*args, **kwargs)\u001b[0m\n\u001b[1;32m     67\u001b[0m     filtered_tb \u001b[39m=\u001b[39m _process_traceback_frames(e\u001b[39m.\u001b[39m__traceback__)\n\u001b[1;32m     68\u001b[0m     \u001b[39m# To get the full stack trace, call:\u001b[39;00m\n\u001b[1;32m     69\u001b[0m     \u001b[39m# `tf.debugging.disable_traceback_filtering()`\u001b[39;00m\n\u001b[0;32m---> 70\u001b[0m     \u001b[39mraise\u001b[39;00m e\u001b[39m.\u001b[39mwith_traceback(filtered_tb) \u001b[39mfrom\u001b[39;00m \u001b[39mNone\u001b[39;00m\n\u001b[1;32m     71\u001b[0m \u001b[39mfinally\u001b[39;00m:\n\u001b[1;32m     72\u001b[0m     \u001b[39mdel\u001b[39;00m filtered_tb\n",
      "File \u001b[0;32m/opt/conda/envs/general/lib/python3.10/site-packages/tensorflow/python/eager/execute.py:52\u001b[0m, in \u001b[0;36mquick_execute\u001b[0;34m(op_name, num_outputs, inputs, attrs, ctx, name)\u001b[0m\n\u001b[1;32m     50\u001b[0m \u001b[39mtry\u001b[39;00m:\n\u001b[1;32m     51\u001b[0m   ctx\u001b[39m.\u001b[39mensure_initialized()\n\u001b[0;32m---> 52\u001b[0m   tensors \u001b[39m=\u001b[39m pywrap_tfe\u001b[39m.\u001b[39mTFE_Py_Execute(ctx\u001b[39m.\u001b[39m_handle, device_name, op_name,\n\u001b[1;32m     53\u001b[0m                                       inputs, attrs, num_outputs)\n\u001b[1;32m     54\u001b[0m \u001b[39mexcept\u001b[39;00m core\u001b[39m.\u001b[39m_NotOkStatusException \u001b[39mas\u001b[39;00m e:\n\u001b[1;32m     55\u001b[0m   \u001b[39mif\u001b[39;00m name \u001b[39mis\u001b[39;00m \u001b[39mnot\u001b[39;00m \u001b[39mNone\u001b[39;00m:\n",
      "\u001b[0;31mResourceExhaustedError\u001b[0m: Graph execution error:\n\nDetected at node 'concat_6' defined at (most recent call last):\n    File \"/opt/conda/envs/general/lib/python3.10/runpy.py\", line 196, in _run_module_as_main\n      return _run_code(code, main_globals, None,\n    File \"/opt/conda/envs/general/lib/python3.10/runpy.py\", line 86, in _run_code\n      exec(code, run_globals)\n    File \"/opt/conda/envs/general/lib/python3.10/site-packages/ipykernel_launcher.py\", line 17, in <module>\n      app.launch_new_instance()\n    File \"/opt/conda/envs/general/lib/python3.10/site-packages/traitlets/config/application.py\", line 1043, in launch_instance\n      app.start()\n    File \"/opt/conda/envs/general/lib/python3.10/site-packages/ipykernel/kernelapp.py\", line 725, in start\n      self.io_loop.start()\n    File \"/opt/conda/envs/general/lib/python3.10/site-packages/tornado/platform/asyncio.py\", line 195, in start\n      self.asyncio_loop.run_forever()\n    File \"/opt/conda/envs/general/lib/python3.10/asyncio/base_events.py\", line 595, in run_forever\n      self._run_once()\n    File \"/opt/conda/envs/general/lib/python3.10/asyncio/base_events.py\", line 1881, in _run_once\n      handle._run()\n    File \"/opt/conda/envs/general/lib/python3.10/asyncio/events.py\", line 80, in _run\n      self._context.run(self._callback, *self._args)\n    File \"/opt/conda/envs/general/lib/python3.10/site-packages/ipykernel/kernelbase.py\", line 513, in dispatch_queue\n      await self.process_one()\n    File \"/opt/conda/envs/general/lib/python3.10/site-packages/ipykernel/kernelbase.py\", line 502, in process_one\n      await dispatch(*args)\n    File \"/opt/conda/envs/general/lib/python3.10/site-packages/ipykernel/kernelbase.py\", line 409, in dispatch_shell\n      await result\n    File \"/opt/conda/envs/general/lib/python3.10/site-packages/ipykernel/kernelbase.py\", line 729, in execute_request\n      reply_content = await reply_content\n    File \"/opt/conda/envs/general/lib/python3.10/site-packages/ipykernel/ipkernel.py\", line 422, in do_execute\n      res = shell.run_cell(\n    File \"/opt/conda/envs/general/lib/python3.10/site-packages/ipykernel/zmqshell.py\", line 540, in run_cell\n      return super().run_cell(*args, **kwargs)\n    File \"/opt/conda/envs/general/lib/python3.10/site-packages/IPython/core/interactiveshell.py\", line 3006, in run_cell\n      result = self._run_cell(\n    File \"/opt/conda/envs/general/lib/python3.10/site-packages/IPython/core/interactiveshell.py\", line 3061, in _run_cell\n      result = runner(coro)\n    File \"/opt/conda/envs/general/lib/python3.10/site-packages/IPython/core/async_helpers.py\", line 129, in _pseudo_sync_runner\n      coro.send(None)\n    File \"/opt/conda/envs/general/lib/python3.10/site-packages/IPython/core/interactiveshell.py\", line 3266, in run_cell_async\n      has_raised = await self.run_ast_nodes(code_ast.body, cell_name,\n    File \"/opt/conda/envs/general/lib/python3.10/site-packages/IPython/core/interactiveshell.py\", line 3445, in run_ast_nodes\n      if await self.run_code(code, result, async_=asy):\n    File \"/opt/conda/envs/general/lib/python3.10/site-packages/IPython/core/interactiveshell.py\", line 3505, in run_code\n      exec(code_obj, self.user_global_ns, self.user_ns)\n    File \"/tmp/ipykernel_362/1603424062.py\", line 1, in <module>\n      history = model.fit(train_x, train_y, validation_split=.1, epochs=epochs, batch_size=batch_size)\n    File \"/opt/conda/envs/general/lib/python3.10/site-packages/keras/utils/traceback_utils.py\", line 65, in error_handler\n      return fn(*args, **kwargs)\n    File \"/opt/conda/envs/general/lib/python3.10/site-packages/keras/engine/training.py\", line 1650, in fit\n      tmp_logs = self.train_function(iterator)\n    File \"/opt/conda/envs/general/lib/python3.10/site-packages/keras/engine/training.py\", line 1249, in train_function\n      return step_function(self, iterator)\n    File \"/opt/conda/envs/general/lib/python3.10/site-packages/keras/engine/training.py\", line 1233, in step_function\n      outputs = model.distribute_strategy.run(run_step, args=(data,))\n    File \"/opt/conda/envs/general/lib/python3.10/site-packages/keras/optimizers/optimizer_v2/utils.py\", line 175, in _all_reduce_sum_fn\n      return distribution.extended.batch_reduce_to(\nNode: 'concat_6'\nDetected at node 'concat_6' defined at (most recent call last):\n    File \"/opt/conda/envs/general/lib/python3.10/runpy.py\", line 196, in _run_module_as_main\n      return _run_code(code, main_globals, None,\n    File \"/opt/conda/envs/general/lib/python3.10/runpy.py\", line 86, in _run_code\n      exec(code, run_globals)\n    File \"/opt/conda/envs/general/lib/python3.10/site-packages/ipykernel_launcher.py\", line 17, in <module>\n      app.launch_new_instance()\n    File \"/opt/conda/envs/general/lib/python3.10/site-packages/traitlets/config/application.py\", line 1043, in launch_instance\n      app.start()\n    File \"/opt/conda/envs/general/lib/python3.10/site-packages/ipykernel/kernelapp.py\", line 725, in start\n      self.io_loop.start()\n    File \"/opt/conda/envs/general/lib/python3.10/site-packages/tornado/platform/asyncio.py\", line 195, in start\n      self.asyncio_loop.run_forever()\n    File \"/opt/conda/envs/general/lib/python3.10/asyncio/base_events.py\", line 595, in run_forever\n      self._run_once()\n    File \"/opt/conda/envs/general/lib/python3.10/asyncio/base_events.py\", line 1881, in _run_once\n      handle._run()\n    File \"/opt/conda/envs/general/lib/python3.10/asyncio/events.py\", line 80, in _run\n      self._context.run(self._callback, *self._args)\n    File \"/opt/conda/envs/general/lib/python3.10/site-packages/ipykernel/kernelbase.py\", line 513, in dispatch_queue\n      await self.process_one()\n    File \"/opt/conda/envs/general/lib/python3.10/site-packages/ipykernel/kernelbase.py\", line 502, in process_one\n      await dispatch(*args)\n    File \"/opt/conda/envs/general/lib/python3.10/site-packages/ipykernel/kernelbase.py\", line 409, in dispatch_shell\n      await result\n    File \"/opt/conda/envs/general/lib/python3.10/site-packages/ipykernel/kernelbase.py\", line 729, in execute_request\n      reply_content = await reply_content\n    File \"/opt/conda/envs/general/lib/python3.10/site-packages/ipykernel/ipkernel.py\", line 422, in do_execute\n      res = shell.run_cell(\n    File \"/opt/conda/envs/general/lib/python3.10/site-packages/ipykernel/zmqshell.py\", line 540, in run_cell\n      return super().run_cell(*args, **kwargs)\n    File \"/opt/conda/envs/general/lib/python3.10/site-packages/IPython/core/interactiveshell.py\", line 3006, in run_cell\n      result = self._run_cell(\n    File \"/opt/conda/envs/general/lib/python3.10/site-packages/IPython/core/interactiveshell.py\", line 3061, in _run_cell\n      result = runner(coro)\n    File \"/opt/conda/envs/general/lib/python3.10/site-packages/IPython/core/async_helpers.py\", line 129, in _pseudo_sync_runner\n      coro.send(None)\n    File \"/opt/conda/envs/general/lib/python3.10/site-packages/IPython/core/interactiveshell.py\", line 3266, in run_cell_async\n      has_raised = await self.run_ast_nodes(code_ast.body, cell_name,\n    File \"/opt/conda/envs/general/lib/python3.10/site-packages/IPython/core/interactiveshell.py\", line 3445, in run_ast_nodes\n      if await self.run_code(code, result, async_=asy):\n    File \"/opt/conda/envs/general/lib/python3.10/site-packages/IPython/core/interactiveshell.py\", line 3505, in run_code\n      exec(code_obj, self.user_global_ns, self.user_ns)\n    File \"/tmp/ipykernel_362/1603424062.py\", line 1, in <module>\n      history = model.fit(train_x, train_y, validation_split=.1, epochs=epochs, batch_size=batch_size)\n    File \"/opt/conda/envs/general/lib/python3.10/site-packages/keras/utils/traceback_utils.py\", line 65, in error_handler\n      return fn(*args, **kwargs)\n    File \"/opt/conda/envs/general/lib/python3.10/site-packages/keras/engine/training.py\", line 1650, in fit\n      tmp_logs = self.train_function(iterator)\n    File \"/opt/conda/envs/general/lib/python3.10/site-packages/keras/engine/training.py\", line 1249, in train_function\n      return step_function(self, iterator)\n    File \"/opt/conda/envs/general/lib/python3.10/site-packages/keras/engine/training.py\", line 1233, in step_function\n      outputs = model.distribute_strategy.run(run_step, args=(data,))\n    File \"/opt/conda/envs/general/lib/python3.10/site-packages/keras/optimizers/optimizer_v2/utils.py\", line 175, in _all_reduce_sum_fn\n      return distribution.extended.batch_reduce_to(\nNode: 'concat_6'\n2 root error(s) found.\n  (0) RESOURCE_EXHAUSTED:  OOM when allocating tensor with shape[15505000,10] and type float on /job:localhost/replica:0/task:0/device:GPU:0 by allocator GPU_0_bfc\n\t [[{{node concat_6}}]]\nHint: If you want to see a list of allocated tensors when OOM happens, add report_tensor_allocations_upon_oom to RunOptions for current allocation info. This isn't available when running in Eager mode.\n\n\t [[update_0_14/AssignAddVariableOp/_237]]\nHint: If you want to see a list of allocated tensors when OOM happens, add report_tensor_allocations_upon_oom to RunOptions for current allocation info. This isn't available when running in Eager mode.\n\n  (1) RESOURCE_EXHAUSTED:  OOM when allocating tensor with shape[15505000,10] and type float on /job:localhost/replica:0/task:0/device:GPU:0 by allocator GPU_0_bfc\n\t [[{{node concat_6}}]]\nHint: If you want to see a list of allocated tensors when OOM happens, add report_tensor_allocations_upon_oom to RunOptions for current allocation info. This isn't available when running in Eager mode.\n\n0 successful operations.\n0 derived errors ignored. [Op:__inference_train_function_7164]"
=======
      "2023-04-29 16:13:37.428838: I tensorflow/compiler/xla/stream_executor/cuda/cuda_blas.cc:630] TensorFloat-32 will be used for the matrix multiplication. This will only be logged once.\n"
     ]
    },
    {
     "name": "stdout",
     "output_type": "stream",
     "text": [
      "785/785 [==============================] - 9s 6ms/step - loss: 15.2716 - mse: 14.8975 - val_loss: 14.9335 - val_mse: 14.7280\n",
      "Epoch 2/100\n",
      "785/785 [==============================] - 3s 4ms/step - loss: 14.9234 - mse: 14.7685 - val_loss: 14.8288 - val_mse: 14.7111\n",
      "Epoch 3/100\n",
      "785/785 [==============================] - 3s 4ms/step - loss: 14.8493 - mse: 14.7471 - val_loss: 14.7933 - val_mse: 14.7073\n",
      "Epoch 4/100\n",
      "785/785 [==============================] - 3s 4ms/step - loss: 14.8167 - mse: 14.7367 - val_loss: 14.7526 - val_mse: 14.6802\n",
      "Epoch 5/100\n",
      "785/785 [==============================] - 3s 4ms/step - loss: 14.7999 - mse: 14.7307 - val_loss: 14.7582 - val_mse: 14.6935\n",
      "Epoch 6/100\n",
      "785/785 [==============================] - 3s 4ms/step - loss: 14.7887 - mse: 14.7247 - val_loss: 14.7463 - val_mse: 14.6865\n",
      "Epoch 7/100\n",
      "785/785 [==============================] - 3s 4ms/step - loss: 14.7812 - mse: 14.7207 - val_loss: 14.7493 - val_mse: 14.6916\n",
      "Epoch 8/100\n",
      "785/785 [==============================] - 3s 4ms/step - loss: 14.7768 - mse: 14.7173 - val_loss: 14.7576 - val_mse: 14.7005\n",
      "Epoch 9/100\n",
      "785/785 [==============================] - 3s 4ms/step - loss: 14.7718 - mse: 14.7135 - val_loss: 14.7313 - val_mse: 14.6748\n",
      "Epoch 10/100\n",
      "785/785 [==============================] - 3s 4ms/step - loss: 14.7691 - mse: 14.7112 - val_loss: 14.7377 - val_mse: 14.6812\n",
      "Epoch 11/100\n",
      "785/785 [==============================] - 3s 4ms/step - loss: 14.7670 - mse: 14.7082 - val_loss: 14.7477 - val_mse: 14.6907\n",
      "Epoch 12/100\n",
      "785/785 [==============================] - 4s 4ms/step - loss: 14.7642 - mse: 14.7057 - val_loss: 14.7606 - val_mse: 14.7027\n",
      "Epoch 13/100\n",
      "785/785 [==============================] - 3s 4ms/step - loss: 14.7606 - mse: 14.7007 - val_loss: 14.7335 - val_mse: 14.6749\n",
      "Epoch 14/100\n",
      "785/785 [==============================] - 3s 4ms/step - loss: 14.7588 - mse: 14.6982 - val_loss: 14.7315 - val_mse: 14.6721\n",
      "Epoch 15/100\n",
      "785/785 [==============================] - 3s 4ms/step - loss: 14.7556 - mse: 14.6943 - val_loss: 14.7418 - val_mse: 14.6824\n",
      "Epoch 16/100\n",
      "785/785 [==============================] - 3s 4ms/step - loss: 14.7531 - mse: 14.6913 - val_loss: 14.7407 - val_mse: 14.6800\n",
      "Epoch 17/100\n",
      "785/785 [==============================] - 3s 4ms/step - loss: 14.7517 - mse: 14.6886 - val_loss: 14.7381 - val_mse: 14.6764\n",
      "Epoch 18/100\n",
      "785/785 [==============================] - 3s 4ms/step - loss: 14.7488 - mse: 14.6845 - val_loss: 14.7407 - val_mse: 14.6776\n",
      "Epoch 19/100\n",
      "785/785 [==============================] - 3s 4ms/step - loss: 14.7467 - mse: 14.6820 - val_loss: 14.7597 - val_mse: 14.6949\n",
      "Epoch 20/100\n",
      "785/785 [==============================] - 3s 4ms/step - loss: 14.7449 - mse: 14.6788 - val_loss: 14.7303 - val_mse: 14.6655\n",
      "Epoch 21/100\n",
      "785/785 [==============================] - 3s 4ms/step - loss: 14.7446 - mse: 14.6782 - val_loss: 14.7769 - val_mse: 14.7110\n",
      "Epoch 22/100\n",
      "785/785 [==============================] - 3s 4ms/step - loss: 14.7431 - mse: 14.6756 - val_loss: 14.7324 - val_mse: 14.6662\n",
      "Epoch 23/100\n",
      "785/785 [==============================] - 3s 4ms/step - loss: 14.7405 - mse: 14.6728 - val_loss: 14.7453 - val_mse: 14.6790\n",
      "Epoch 24/100\n",
      "785/785 [==============================] - 3s 4ms/step - loss: 14.7398 - mse: 14.6711 - val_loss: 14.7458 - val_mse: 14.6781\n",
      "Epoch 25/100\n",
      "785/785 [==============================] - 3s 4ms/step - loss: 14.7384 - mse: 14.6689 - val_loss: 14.7621 - val_mse: 14.6932\n",
      "Epoch 26/100\n",
      "785/785 [==============================] - 3s 4ms/step - loss: 14.7373 - mse: 14.6673 - val_loss: 14.7371 - val_mse: 14.6678\n",
      "Epoch 27/100\n",
      "785/785 [==============================] - 3s 4ms/step - loss: 14.7368 - mse: 14.6662 - val_loss: 14.7364 - val_mse: 14.6659\n",
      "Epoch 28/100\n",
      "785/785 [==============================] - 3s 4ms/step - loss: 14.7365 - mse: 14.6653 - val_loss: 14.7598 - val_mse: 14.6899\n",
      "Epoch 29/100\n",
      "785/785 [==============================] - 3s 4ms/step - loss: 14.7336 - mse: 14.6618 - val_loss: 14.7271 - val_mse: 14.6567\n",
      "Epoch 30/100\n",
      "785/785 [==============================] - 3s 4ms/step - loss: 14.7332 - mse: 14.6614 - val_loss: 14.7286 - val_mse: 14.6586\n",
      "Epoch 31/100\n",
      "785/785 [==============================] - 3s 4ms/step - loss: 14.7308 - mse: 14.6585 - val_loss: 14.7328 - val_mse: 14.6618\n",
      "Epoch 32/100\n",
      "785/785 [==============================] - 3s 4ms/step - loss: 14.7323 - mse: 14.6594 - val_loss: 14.7266 - val_mse: 14.6551\n",
      "Epoch 33/100\n",
      "785/785 [==============================] - 3s 4ms/step - loss: 14.7315 - mse: 14.6587 - val_loss: 14.7339 - val_mse: 14.6626\n",
      "Epoch 34/100\n",
      "785/785 [==============================] - 3s 4ms/step - loss: 14.7316 - mse: 14.6584 - val_loss: 14.7262 - val_mse: 14.6552\n",
      "Epoch 35/100\n",
      "785/785 [==============================] - 3s 4ms/step - loss: 14.7301 - mse: 14.6566 - val_loss: 14.7323 - val_mse: 14.6600\n",
      "Epoch 36/100\n",
      "785/785 [==============================] - 3s 4ms/step - loss: 14.7291 - mse: 14.6548 - val_loss: 14.7359 - val_mse: 14.6628\n",
      "Epoch 37/100\n",
      "785/785 [==============================] - 3s 4ms/step - loss: 14.7298 - mse: 14.6551 - val_loss: 14.7324 - val_mse: 14.6601\n",
      "Epoch 38/100\n",
      "785/785 [==============================] - 3s 4ms/step - loss: 14.7283 - mse: 14.6538 - val_loss: 14.7365 - val_mse: 14.6630\n",
      "Epoch 39/100\n",
      "785/785 [==============================] - 3s 4ms/step - loss: 14.7274 - mse: 14.6520 - val_loss: 14.7275 - val_mse: 14.6532\n",
      "Epoch 40/100\n",
      "785/785 [==============================] - 3s 4ms/step - loss: 14.7271 - mse: 14.6516 - val_loss: 14.7600 - val_mse: 14.6863\n",
      "Epoch 41/100\n",
      "785/785 [==============================] - 3s 4ms/step - loss: 14.7270 - mse: 14.6516 - val_loss: 14.7440 - val_mse: 14.6698\n",
      "Epoch 42/100\n",
      "785/785 [==============================] - 3s 4ms/step - loss: 14.7262 - mse: 14.6509 - val_loss: 14.7508 - val_mse: 14.6758\n",
      "Epoch 43/100\n",
      "785/785 [==============================] - 3s 4ms/step - loss: 14.7269 - mse: 14.6513 - val_loss: 14.7366 - val_mse: 14.6624\n",
      "Epoch 44/100\n",
      "785/785 [==============================] - 3s 4ms/step - loss: 14.7257 - mse: 14.6500 - val_loss: 14.7518 - val_mse: 14.6772\n",
      "Epoch 45/100\n",
      "785/785 [==============================] - 3s 4ms/step - loss: 14.7234 - mse: 14.6467 - val_loss: 14.7372 - val_mse: 14.6618\n",
      "Epoch 46/100\n",
      "785/785 [==============================] - 3s 4ms/step - loss: 14.7238 - mse: 14.6470 - val_loss: 14.7482 - val_mse: 14.6716\n",
      "Epoch 47/100\n",
      "785/785 [==============================] - 3s 4ms/step - loss: 14.7241 - mse: 14.6472 - val_loss: 14.7297 - val_mse: 14.6533\n",
      "Epoch 48/100\n",
      "785/785 [==============================] - 3s 4ms/step - loss: 14.7217 - mse: 14.6441 - val_loss: 14.7342 - val_mse: 14.6582\n",
      "Epoch 49/100\n",
      "785/785 [==============================] - 3s 4ms/step - loss: 14.7208 - mse: 14.6433 - val_loss: 14.7356 - val_mse: 14.6590\n",
      "Epoch 50/100\n",
      "785/785 [==============================] - 3s 4ms/step - loss: 14.7202 - mse: 14.6424 - val_loss: 14.7351 - val_mse: 14.6587\n",
      "Epoch 51/100\n",
      "785/785 [==============================] - 3s 4ms/step - loss: 14.7191 - mse: 14.6413 - val_loss: 14.7385 - val_mse: 14.6611\n",
      "Epoch 52/100\n",
      "785/785 [==============================] - 3s 4ms/step - loss: 14.7203 - mse: 14.6420 - val_loss: 14.7472 - val_mse: 14.6697\n",
      "Epoch 53/100\n",
      "785/785 [==============================] - 3s 4ms/step - loss: 14.7195 - mse: 14.6408 - val_loss: 14.7537 - val_mse: 14.6760\n",
      "Epoch 54/100\n",
      "785/785 [==============================] - 3s 4ms/step - loss: 14.7202 - mse: 14.6416 - val_loss: 14.7474 - val_mse: 14.6700\n",
      "Epoch 55/100\n",
      "785/785 [==============================] - 3s 4ms/step - loss: 14.7187 - mse: 14.6398 - val_loss: 14.7335 - val_mse: 14.6561\n",
      "Epoch 56/100\n",
      "785/785 [==============================] - 3s 4ms/step - loss: 14.7202 - mse: 14.6411 - val_loss: 14.7213 - val_mse: 14.6439\n",
      "Epoch 57/100\n",
      "785/785 [==============================] - 3s 4ms/step - loss: 14.7166 - mse: 14.6373 - val_loss: 14.7488 - val_mse: 14.6711\n",
      "Epoch 58/100\n",
      "785/785 [==============================] - 3s 4ms/step - loss: 14.7178 - mse: 14.6385 - val_loss: 14.7262 - val_mse: 14.6482\n",
      "Epoch 59/100\n",
      "785/785 [==============================] - 3s 4ms/step - loss: 14.7187 - mse: 14.6396 - val_loss: 14.7407 - val_mse: 14.6620\n",
      "Epoch 60/100\n",
      "785/785 [==============================] - 3s 4ms/step - loss: 14.7160 - mse: 14.6368 - val_loss: 14.7410 - val_mse: 14.6622\n",
      "Epoch 61/100\n",
      "785/785 [==============================] - 3s 4ms/step - loss: 14.7156 - mse: 14.6357 - val_loss: 14.7637 - val_mse: 14.6847\n",
      "Epoch 62/100\n",
      "785/785 [==============================] - 3s 4ms/step - loss: 14.7169 - mse: 14.6368 - val_loss: 14.7382 - val_mse: 14.6589\n",
      "Epoch 63/100\n",
      "785/785 [==============================] - 3s 4ms/step - loss: 14.7137 - mse: 14.6330 - val_loss: 14.7576 - val_mse: 14.6780\n",
      "Epoch 64/100\n",
      "785/785 [==============================] - 3s 4ms/step - loss: 14.7147 - mse: 14.6338 - val_loss: 14.7482 - val_mse: 14.6689\n",
      "Epoch 65/100\n",
      "785/785 [==============================] - 3s 4ms/step - loss: 14.7133 - mse: 14.6321 - val_loss: 14.7378 - val_mse: 14.6582\n",
      "Epoch 66/100\n",
      "785/785 [==============================] - 3s 4ms/step - loss: 14.7159 - mse: 14.6354 - val_loss: 14.7418 - val_mse: 14.6620\n",
      "Epoch 67/100\n",
      "785/785 [==============================] - 3s 4ms/step - loss: 14.7132 - mse: 14.6322 - val_loss: 14.7454 - val_mse: 14.6653\n",
      "Epoch 68/100\n",
      "785/785 [==============================] - 3s 4ms/step - loss: 14.7128 - mse: 14.6312 - val_loss: 14.7367 - val_mse: 14.6563\n",
      "Epoch 69/100\n",
      "785/785 [==============================] - 3s 4ms/step - loss: 14.7135 - mse: 14.6318 - val_loss: 14.7607 - val_mse: 14.6799\n",
      "Epoch 70/100\n",
      "785/785 [==============================] - 3s 4ms/step - loss: 14.7153 - mse: 14.6340 - val_loss: 14.7305 - val_mse: 14.6503\n",
      "Epoch 71/100\n",
      "785/785 [==============================] - 3s 4ms/step - loss: 14.7124 - mse: 14.6305 - val_loss: 14.7417 - val_mse: 14.6618\n",
      "Epoch 72/100\n",
      "785/785 [==============================] - 3s 4ms/step - loss: 14.7123 - mse: 14.6310 - val_loss: 14.7583 - val_mse: 14.6777\n",
      "Epoch 73/100\n",
      "785/785 [==============================] - 3s 4ms/step - loss: 14.7127 - mse: 14.6305 - val_loss: 14.7614 - val_mse: 14.6806\n",
      "Epoch 74/100\n",
      "785/785 [==============================] - 3s 4ms/step - loss: 14.7127 - mse: 14.6309 - val_loss: 14.7329 - val_mse: 14.6522\n",
      "Epoch 75/100\n",
      "785/785 [==============================] - 3s 4ms/step - loss: 14.7123 - mse: 14.6303 - val_loss: 14.7400 - val_mse: 14.6595\n",
      "Epoch 76/100\n",
      "785/785 [==============================] - 3s 4ms/step - loss: 14.7114 - mse: 14.6292 - val_loss: 14.7269 - val_mse: 14.6458\n",
      "Epoch 77/100\n",
      "785/785 [==============================] - 3s 4ms/step - loss: 14.7108 - mse: 14.6280 - val_loss: 14.7363 - val_mse: 14.6554\n",
      "Epoch 78/100\n",
      "785/785 [==============================] - 3s 4ms/step - loss: 14.7123 - mse: 14.6296 - val_loss: 14.7366 - val_mse: 14.6552\n",
      "Epoch 79/100\n",
      "785/785 [==============================] - 3s 4ms/step - loss: 14.7121 - mse: 14.6297 - val_loss: 14.7319 - val_mse: 14.6511\n",
      "Epoch 80/100\n",
      "785/785 [==============================] - 3s 4ms/step - loss: 14.7101 - mse: 14.6276 - val_loss: 14.7613 - val_mse: 14.6797\n",
      "Epoch 81/100\n",
      "785/785 [==============================] - 3s 4ms/step - loss: 14.7098 - mse: 14.6270 - val_loss: 14.7241 - val_mse: 14.6434\n",
      "Epoch 82/100\n",
      "785/785 [==============================] - 3s 4ms/step - loss: 14.7095 - mse: 14.6272 - val_loss: 14.7395 - val_mse: 14.6580\n",
      "Epoch 83/100\n",
      "785/785 [==============================] - 3s 4ms/step - loss: 14.7114 - mse: 14.6285 - val_loss: 14.7704 - val_mse: 14.6891\n",
      "Epoch 84/100\n",
      "785/785 [==============================] - 3s 4ms/step - loss: 14.7096 - mse: 14.6273 - val_loss: 14.7361 - val_mse: 14.6546\n",
      "Epoch 85/100\n",
      "785/785 [==============================] - 3s 4ms/step - loss: 14.7103 - mse: 14.6274 - val_loss: 14.7646 - val_mse: 14.6827\n",
      "Epoch 86/100\n",
      "785/785 [==============================] - 3s 4ms/step - loss: 14.7078 - mse: 14.6249 - val_loss: 14.7419 - val_mse: 14.6601\n",
      "Epoch 87/100\n",
      "785/785 [==============================] - 3s 4ms/step - loss: 14.7104 - mse: 14.6272 - val_loss: 14.7312 - val_mse: 14.6498\n",
      "Epoch 88/100\n",
      "785/785 [==============================] - 3s 4ms/step - loss: 14.7098 - mse: 14.6268 - val_loss: 14.7894 - val_mse: 14.7072\n",
      "Epoch 89/100\n",
      "785/785 [==============================] - 3s 4ms/step - loss: 14.7102 - mse: 14.6271 - val_loss: 14.7283 - val_mse: 14.6466\n",
      "Epoch 90/100\n",
      "785/785 [==============================] - 3s 4ms/step - loss: 14.7097 - mse: 14.6262 - val_loss: 14.7458 - val_mse: 14.6639\n",
      "Epoch 91/100\n",
      "785/785 [==============================] - 3s 4ms/step - loss: 14.7090 - mse: 14.6255 - val_loss: 14.7405 - val_mse: 14.6578\n",
      "Epoch 92/100\n",
      "785/785 [==============================] - 3s 4ms/step - loss: 14.7089 - mse: 14.6255 - val_loss: 14.7556 - val_mse: 14.6726\n",
      "Epoch 93/100\n",
      "785/785 [==============================] - 3s 4ms/step - loss: 14.7090 - mse: 14.6250 - val_loss: 14.7542 - val_mse: 14.6721\n",
      "Epoch 94/100\n",
      "785/785 [==============================] - 3s 4ms/step - loss: 14.7083 - mse: 14.6251 - val_loss: 14.7524 - val_mse: 14.6698\n",
      "Epoch 95/100\n",
      "785/785 [==============================] - 4s 4ms/step - loss: 14.7103 - mse: 14.6264 - val_loss: 14.7444 - val_mse: 14.6628\n",
      "Epoch 96/100\n",
      "785/785 [==============================] - 3s 4ms/step - loss: 14.7075 - mse: 14.6240 - val_loss: 14.7549 - val_mse: 14.6730\n",
      "Epoch 97/100\n",
      "785/785 [==============================] - 3s 4ms/step - loss: 14.7077 - mse: 14.6244 - val_loss: 14.7980 - val_mse: 14.7164\n",
      "Epoch 98/100\n",
      "785/785 [==============================] - 3s 4ms/step - loss: 14.7080 - mse: 14.6250 - val_loss: 14.7542 - val_mse: 14.6716\n",
      "Epoch 99/100\n",
      "785/785 [==============================] - 3s 4ms/step - loss: 14.7071 - mse: 14.6242 - val_loss: 14.7588 - val_mse: 14.6764\n",
      "Epoch 100/100\n",
      "785/785 [==============================] - 3s 4ms/step - loss: 14.7093 - mse: 14.6253 - val_loss: 14.7493 - val_mse: 14.6674\n"
>>>>>>> d46728a1eb40d10b537a26113a654669bd178ab0
     ]
    }
   ],
   "source": [
    "history = model.fit(train_x, train_y, validation_split=.1, epochs=epochs, batch_size=batch_size)"
   ]
  },
  {
   "cell_type": "code",
<<<<<<< HEAD
   "execution_count": 32,
=======
   "execution_count": 47,
>>>>>>> d46728a1eb40d10b537a26113a654669bd178ab0
   "id": "367a2bb3",
   "metadata": {},
   "outputs": [
    {
     "data": {
<<<<<<< HEAD
      "image/png": "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",
=======
      "image/png": "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",
>>>>>>> d46728a1eb40d10b537a26113a654669bd178ab0
      "text/plain": [
       "<Figure size 640x480 with 1 Axes>"
      ]
     },
     "metadata": {},
     "output_type": "display_data"
    }
   ],
   "source": [
    "plt.plot(history.history['loss'])\n",
    "plt.plot(history.history['val_loss'])\n",
    "plt.show()"
   ]
  },
  {
   "cell_type": "code",
<<<<<<< HEAD
   "execution_count": 36,
=======
   "execution_count": 50,
>>>>>>> d46728a1eb40d10b537a26113a654669bd178ab0
   "id": "ea451a38",
   "metadata": {},
   "outputs": [
    {
<<<<<<< HEAD
     "name": "stderr",
     "output_type": "stream",
     "text": [
      "2023-04-27 07:09:00.372617: W tensorflow/tsl/framework/cpu_allocator_impl.cc:82] Allocation of 13510948465 exceeds 10% of free system memory.\n",
      "2023-04-27 07:09:15.131951: W tensorflow/tsl/framework/bfc_allocator.cc:479] Allocator (GPU_0_bfc) ran out of memory trying to allocate 12.58GiB (rounded to 13510948608)requested by op _EagerConst\n",
      "If the cause is memory fragmentation maybe the environment variable 'TF_GPU_ALLOCATOR=cuda_malloc_async' will improve the situation. \n",
      "Current allocation summary follows.\n",
      "Current allocation summary follows.\n",
      "2023-04-27 07:09:15.132095: W tensorflow/tsl/framework/bfc_allocator.cc:492] *_____________________________________________________________________________________***___________\n"
     ]
    },
    {
     "ename": "InternalError",
     "evalue": "Failed copying input tensor from /job:localhost/replica:0/task:0/device:CPU:0 to /job:localhost/replica:0/task:0/device:GPU:0 in order to run _EagerConst: Dst tensor is not initialized.",
     "output_type": "error",
     "traceback": [
      "\u001b[0;31m---------------------------------------------------------------------------\u001b[0m",
      "\u001b[0;31mInternalError\u001b[0m                             Traceback (most recent call last)",
      "Cell \u001b[0;32mIn[36], line 1\u001b[0m\n\u001b[0;32m----> 1\u001b[0m train_pred \u001b[39m=\u001b[39m model\u001b[39m.\u001b[39;49mevaluate(train_x)\n\u001b[1;32m      2\u001b[0m train_pred\n",
      "File \u001b[0;32m/opt/conda/envs/general/lib/python3.10/site-packages/keras/utils/traceback_utils.py:70\u001b[0m, in \u001b[0;36mfilter_traceback.<locals>.error_handler\u001b[0;34m(*args, **kwargs)\u001b[0m\n\u001b[1;32m     67\u001b[0m     filtered_tb \u001b[39m=\u001b[39m _process_traceback_frames(e\u001b[39m.\u001b[39m__traceback__)\n\u001b[1;32m     68\u001b[0m     \u001b[39m# To get the full stack trace, call:\u001b[39;00m\n\u001b[1;32m     69\u001b[0m     \u001b[39m# `tf.debugging.disable_traceback_filtering()`\u001b[39;00m\n\u001b[0;32m---> 70\u001b[0m     \u001b[39mraise\u001b[39;00m e\u001b[39m.\u001b[39mwith_traceback(filtered_tb) \u001b[39mfrom\u001b[39;00m \u001b[39mNone\u001b[39;00m\n\u001b[1;32m     71\u001b[0m \u001b[39mfinally\u001b[39;00m:\n\u001b[1;32m     72\u001b[0m     \u001b[39mdel\u001b[39;00m filtered_tb\n",
      "File \u001b[0;32m/opt/conda/envs/general/lib/python3.10/site-packages/tensorflow/python/framework/constant_op.py:102\u001b[0m, in \u001b[0;36mconvert_to_eager_tensor\u001b[0;34m(value, ctx, dtype)\u001b[0m\n\u001b[1;32m    100\u001b[0m     dtype \u001b[39m=\u001b[39m dtypes\u001b[39m.\u001b[39mas_dtype(dtype)\u001b[39m.\u001b[39mas_datatype_enum\n\u001b[1;32m    101\u001b[0m ctx\u001b[39m.\u001b[39mensure_initialized()\n\u001b[0;32m--> 102\u001b[0m \u001b[39mreturn\u001b[39;00m ops\u001b[39m.\u001b[39;49mEagerTensor(value, ctx\u001b[39m.\u001b[39;49mdevice_name, dtype)\n",
      "\u001b[0;31mInternalError\u001b[0m: Failed copying input tensor from /job:localhost/replica:0/task:0/device:CPU:0 to /job:localhost/replica:0/task:0/device:GPU:0 in order to run _EagerConst: Dst tensor is not initialized."
     ]
    }
   ],
   "source": [
    "train_pred = model.evaluate(train_x, test_x)\n",
=======
     "name": "stdout",
     "output_type": "stream",
     "text": [
      "27232/27232 [==============================] - 53s 2ms/step\n"
     ]
    },
    {
     "data": {
      "text/plain": [
       "array([[2.6771321],\n",
       "       [2.7879457],\n",
       "       [2.5461497],\n",
       "       ...,\n",
       "       [2.9343586],\n",
       "       [2.7446923],\n",
       "       [2.7909765]], dtype=float32)"
      ]
     },
     "execution_count": 50,
     "metadata": {},
     "output_type": "execute_result"
    }
   ],
   "source": [
    "train_pred = model.predict(train_x)\n",
>>>>>>> d46728a1eb40d10b537a26113a654669bd178ab0
    "train_pred"
   ]
  },
  {
   "cell_type": "code",
<<<<<<< HEAD
   "execution_count": null,
=======
   "execution_count": 51,
>>>>>>> d46728a1eb40d10b537a26113a654669bd178ab0
   "id": "1820a336",
   "metadata": {},
   "outputs": [
    {
     "data": {
      "text/plain": [
       "(871393, 1)"
      ]
     },
<<<<<<< HEAD
     "execution_count": 32,
=======
     "execution_count": 51,
>>>>>>> d46728a1eb40d10b537a26113a654669bd178ab0
     "metadata": {},
     "output_type": "execute_result"
    }
   ],
   "source": [
    "train_pred.shape"
   ]
  },
  {
   "cell_type": "code",
<<<<<<< HEAD
   "execution_count": 33,
=======
   "execution_count": 52,
>>>>>>> d46728a1eb40d10b537a26113a654669bd178ab0
   "id": "44be1d60",
   "metadata": {},
   "outputs": [
    {
     "name": "stdout",
     "output_type": "stream",
     "text": [
<<<<<<< HEAD
      "4989/4989 [==============================] - 6s 1ms/step\n"
=======
      "4989/4989 [==============================] - 10s 2ms/step\n"
>>>>>>> d46728a1eb40d10b537a26113a654669bd178ab0
     ]
    },
    {
     "data": {
      "text/plain": [
<<<<<<< HEAD
       "array([[2.8391378],\n",
       "       [2.8713033],\n",
       "       [2.6461456],\n",
       "       ...,\n",
       "       [3.2239828],\n",
       "       [3.5754986],\n",
       "       [3.8391364]], dtype=float32)"
      ]
     },
     "execution_count": 33,
=======
       "array([[3.0521374],\n",
       "       [2.9082785],\n",
       "       [2.5291767],\n",
       "       ...,\n",
       "       [3.5296183],\n",
       "       [3.6354275],\n",
       "       [3.7303672]], dtype=float32)"
      ]
     },
     "execution_count": 52,
>>>>>>> d46728a1eb40d10b537a26113a654669bd178ab0
     "metadata": {},
     "output_type": "execute_result"
    }
   ],
   "source": [
    "test_pred = model.predict(test_x)\n",
    "test_pred"
   ]
  },
  {
   "cell_type": "code",
<<<<<<< HEAD
   "execution_count": 34,
=======
   "execution_count": 53,
>>>>>>> d46728a1eb40d10b537a26113a654669bd178ab0
   "id": "0318eec6",
   "metadata": {},
   "outputs": [],
   "source": [
    "from sklearn.metrics import mean_squared_error"
   ]
  },
  {
   "cell_type": "code",
<<<<<<< HEAD
   "execution_count": 35,
=======
   "execution_count": 54,
>>>>>>> d46728a1eb40d10b537a26113a654669bd178ab0
   "id": "b9ca55e0",
   "metadata": {},
   "outputs": [
    {
     "data": {
      "text/plain": [
<<<<<<< HEAD
       "3.8036542165822924"
      ]
     },
     "execution_count": 35,
=======
       "3.8194152334861986"
      ]
     },
     "execution_count": 54,
>>>>>>> d46728a1eb40d10b537a26113a654669bd178ab0
     "metadata": {},
     "output_type": "execute_result"
    }
   ],
   "source": [
    "rmse = mean_squared_error(train_y, train_pred, squared=False)\n",
    "rmse"
   ]
  },
  {
   "cell_type": "code",
<<<<<<< HEAD
   "execution_count": 36,
=======
   "execution_count": 55,
>>>>>>> d46728a1eb40d10b537a26113a654669bd178ab0
   "id": "6e68d40a",
   "metadata": {},
   "outputs": [
    {
     "data": {
      "text/html": [
       "<div>\n",
       "<style scoped>\n",
       "    .dataframe tbody tr th:only-of-type {\n",
       "        vertical-align: middle;\n",
       "    }\n",
       "\n",
       "    .dataframe tbody tr th {\n",
       "        vertical-align: top;\n",
       "    }\n",
       "\n",
       "    .dataframe thead th {\n",
       "        text-align: right;\n",
       "    }\n",
       "</style>\n",
       "<table border=\"1\" class=\"dataframe\">\n",
       "  <thead>\n",
       "    <tr style=\"text-align: right;\">\n",
       "      <th></th>\n",
       "      <th>ID</th>\n",
       "      <th>Book-Rating</th>\n",
       "    </tr>\n",
       "  </thead>\n",
       "  <tbody>\n",
       "    <tr>\n",
       "      <th>0</th>\n",
       "      <td>TEST_000000</td>\n",
       "      <td>0</td>\n",
       "    </tr>\n",
       "    <tr>\n",
       "      <th>1</th>\n",
       "      <td>TEST_000001</td>\n",
       "      <td>0</td>\n",
       "    </tr>\n",
       "    <tr>\n",
       "      <th>2</th>\n",
       "      <td>TEST_000002</td>\n",
       "      <td>0</td>\n",
       "    </tr>\n",
       "    <tr>\n",
       "      <th>3</th>\n",
       "      <td>TEST_000003</td>\n",
       "      <td>0</td>\n",
       "    </tr>\n",
       "    <tr>\n",
       "      <th>4</th>\n",
       "      <td>TEST_000004</td>\n",
       "      <td>0</td>\n",
       "    </tr>\n",
       "    <tr>\n",
       "      <th>...</th>\n",
       "      <td>...</td>\n",
       "      <td>...</td>\n",
       "    </tr>\n",
       "    <tr>\n",
       "      <th>159616</th>\n",
       "      <td>TEST_159616</td>\n",
       "      <td>0</td>\n",
       "    </tr>\n",
       "    <tr>\n",
       "      <th>159617</th>\n",
       "      <td>TEST_159617</td>\n",
       "      <td>0</td>\n",
       "    </tr>\n",
       "    <tr>\n",
       "      <th>159618</th>\n",
       "      <td>TEST_159618</td>\n",
       "      <td>0</td>\n",
       "    </tr>\n",
       "    <tr>\n",
       "      <th>159619</th>\n",
       "      <td>TEST_159619</td>\n",
       "      <td>0</td>\n",
       "    </tr>\n",
       "    <tr>\n",
       "      <th>159620</th>\n",
       "      <td>TEST_159620</td>\n",
       "      <td>0</td>\n",
       "    </tr>\n",
       "  </tbody>\n",
       "</table>\n",
       "<p>159621 rows × 2 columns</p>\n",
       "</div>"
      ],
      "text/plain": [
       "                 ID  Book-Rating\n",
       "0       TEST_000000            0\n",
       "1       TEST_000001            0\n",
       "2       TEST_000002            0\n",
       "3       TEST_000003            0\n",
       "4       TEST_000004            0\n",
       "...             ...          ...\n",
       "159616  TEST_159616            0\n",
       "159617  TEST_159617            0\n",
       "159618  TEST_159618            0\n",
       "159619  TEST_159619            0\n",
       "159620  TEST_159620            0\n",
       "\n",
       "[159621 rows x 2 columns]"
      ]
     },
<<<<<<< HEAD
     "execution_count": 36,
=======
     "execution_count": 55,
>>>>>>> d46728a1eb40d10b537a26113a654669bd178ab0
     "metadata": {},
     "output_type": "execute_result"
    }
   ],
   "source": [
    "sample_submission_df = pd.read_csv(\"open/sample_submission.csv\")\n",
    "sample_submission_df"
   ]
  },
  {
   "cell_type": "code",
<<<<<<< HEAD
   "execution_count": 37,
=======
   "execution_count": 56,
>>>>>>> d46728a1eb40d10b537a26113a654669bd178ab0
   "id": "1ec53519",
   "metadata": {},
   "outputs": [],
   "source": [
    "mname = 'custom_dl'"
   ]
  },
  {
   "cell_type": "code",
<<<<<<< HEAD
   "execution_count": 38,
=======
   "execution_count": 58,
>>>>>>> d46728a1eb40d10b537a26113a654669bd178ab0
   "id": "4e1b7265",
   "metadata": {},
   "outputs": [],
   "source": [
    "def make_report(template, test_pred, mname):\n",
    "    template['Book-Rating'] = test_pred\n",
    "    now = dt.strftime(dt.now(), '%y-%m-%d')\n",
    "    template.to_csv(f'results/{mname}-{now}.csv', index=False)\n",
    "    \n",
    "make_report(sample_submission_df, test_pred, mname)"
   ]
  },
  {
   "attachments": {},
   "cell_type": "markdown",
   "id": "0e6ce5be",
   "metadata": {},
   "source": [
    "test_rmse = 3.8036542165822924"
   ]
  }
 ],
 "metadata": {
  "kernelspec": {
   "display_name": "general",
   "language": "python",
   "name": "python3"
  },
  "language_info": {
   "codemirror_mode": {
    "name": "ipython",
    "version": 3
   },
   "file_extension": ".py",
   "mimetype": "text/x-python",
   "name": "python",
   "nbconvert_exporter": "python",
   "pygments_lexer": "ipython3",
   "version": "3.10.0"
  }
 },
 "nbformat": 4,
 "nbformat_minor": 5
}
