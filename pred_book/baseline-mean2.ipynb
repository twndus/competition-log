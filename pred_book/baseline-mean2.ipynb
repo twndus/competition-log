{
 "cells": [
  {
   "attachments": {},
   "cell_type": "markdown",
   "id": "e4c024ed-156e-4ac2-9df8-63be9bd57dbf",
   "metadata": {},
   "source": [
    "# Using Content mean\n",
    "\n",
    "flow\n",
    "1. 콘텐츠 별 평점 평균 구하기\n",
    "2. 레코드별로, 각 콘텐츠의 평균을 구해서 넣기 없으면 global 평균을 활용"
   ]
  },
  {
   "cell_type": "code",
   "execution_count": 1,
   "id": "c99a78df-a588-4746-aa1c-827fc197adb2",
   "metadata": {},
   "outputs": [],
   "source": [
    "import os\n",
    "from datetime import datetime as dt\n",
    "\n",
    "\n",
    "import numpy as np\n",
    "import pandas as pd\n",
    "from tqdm import tqdm\n",
    "\n",
    "import matplotlib.pyplot as plt\n",
    "import seaborn as sns\n",
    "\n",
    "from sklearn.metrics import mean_squared_error"
   ]
  },
  {
   "cell_type": "markdown",
   "id": "70ac056c-da9c-4fbf-9187-1cf73df5e1ef",
   "metadata": {},
   "source": [
    "## load data"
   ]
  },
  {
   "cell_type": "code",
   "execution_count": 2,
   "id": "14bd5180-e00c-4e12-b8e7-5959054e102b",
   "metadata": {},
   "outputs": [
    {
     "data": {
      "text/plain": [
       "((871393, 9), (159621, 8), (159621, 2))"
      ]
     },
     "execution_count": 2,
     "metadata": {},
     "output_type": "execute_result"
    }
   ],
   "source": [
    "train_df = pd.read_csv(\"open/train.csv\", index_col='ID')\n",
    "test_df = pd.read_csv(\"open/test.csv\", index_col='ID')\n",
    "sample_submission_df = pd.read_csv(\"open/sample_submission.csv\")\n",
    "\n",
    "train_df.shape, test_df.shape, sample_submission_df.shape"
   ]
  },
  {
   "cell_type": "code",
   "execution_count": 3,
   "id": "8fefe7e6-f6b1-4fa5-826a-6fd7c7a51441",
   "metadata": {},
   "outputs": [
    {
     "name": "stdout",
     "output_type": "stream",
     "text": [
      "<class 'pandas.core.frame.DataFrame'>\n",
      "Index: 871393 entries, TRAIN_000000 to TRAIN_871392\n",
      "Data columns (total 9 columns):\n",
      " #   Column               Non-Null Count   Dtype  \n",
      "---  ------               --------------   -----  \n",
      " 0   User-ID              871393 non-null  object \n",
      " 1   Book-ID              871393 non-null  object \n",
      " 2   Book-Rating          871393 non-null  int64  \n",
      " 3   Age                  871393 non-null  float64\n",
      " 4   Location             871393 non-null  object \n",
      " 5   Book-Title           871393 non-null  object \n",
      " 6   Book-Author          871393 non-null  object \n",
      " 7   Year-Of-Publication  871393 non-null  float64\n",
      " 8   Publisher            871393 non-null  object \n",
      "dtypes: float64(2), int64(1), object(6)\n",
      "memory usage: 66.5+ MB\n"
     ]
    }
   ],
   "source": [
    "train_df.info()"
   ]
  },
  {
   "cell_type": "code",
   "execution_count": 4,
   "id": "1ffd5480",
   "metadata": {},
   "outputs": [],
   "source": [
    "train_df['Book-Rating'] = train_df['Book-Rating'].astype('float32')"
   ]
  },
  {
   "attachments": {},
   "cell_type": "markdown",
   "id": "03914ca2",
   "metadata": {},
   "source": [
    "# Get global mean"
   ]
  },
  {
   "cell_type": "code",
   "execution_count": 6,
   "id": "df5a1e18",
   "metadata": {},
   "outputs": [
    {
     "data": {
      "text/plain": [
       "7.619085"
      ]
     },
     "execution_count": 6,
     "metadata": {},
     "output_type": "execute_result"
    }
   ],
   "source": [
    "global_mean = train_df[train_df['Book-Rating']!=0]['Book-Rating'].mean()\n",
    "global_mean"
   ]
  },
  {
   "cell_type": "code",
   "execution_count": 9,
   "id": "b457eea6",
   "metadata": {},
   "outputs": [
    {
     "data": {
      "text/plain": [
       "1.1243223"
      ]
     },
     "execution_count": 9,
     "metadata": {},
     "output_type": "execute_result"
    }
   ],
   "source": [
    "train_pred = np.full((train_df.shape[0],), global_mean)\n",
    "rmse = mean_squared_error(\n",
    "    train_df['Book-Rating'].replace(0, global_mean).values, \n",
    "    train_pred, squared=False)\n",
    "rmse"
   ]
  },
  {
   "attachments": {},
   "cell_type": "markdown",
   "id": "038decf4",
   "metadata": {},
   "source": [
    "# Get Content mean"
   ]
  },
  {
   "cell_type": "code",
   "execution_count": null,
   "id": "d1b3abaf",
   "metadata": {},
   "outputs": [],
   "source": [
    "# book_mean = train_df[['Book-ID', 'Book-Rating']].groupby(by='Book-ID').mean()\n",
    "# book_mean.tail()"
   ]
  },
  {
   "cell_type": "code",
   "execution_count": null,
   "id": "9d4c9352",
   "metadata": {},
   "outputs": [],
   "source": [
    "# book_median = train_df[['Book-ID', 'Book-Rating']].groupby(by='Book-ID').median()\n",
    "# book_median.tail()"
   ]
  },
  {
   "cell_type": "code",
   "execution_count": 10,
   "id": "1cfac48b",
   "metadata": {},
   "outputs": [
    {
     "data": {
      "text/html": [
       "<div>\n",
       "<style scoped>\n",
       "    .dataframe tbody tr th:only-of-type {\n",
       "        vertical-align: middle;\n",
       "    }\n",
       "\n",
       "    .dataframe tbody tr th {\n",
       "        vertical-align: top;\n",
       "    }\n",
       "\n",
       "    .dataframe thead th {\n",
       "        text-align: right;\n",
       "    }\n",
       "</style>\n",
       "<table border=\"1\" class=\"dataframe\">\n",
       "  <thead>\n",
       "    <tr style=\"text-align: right;\">\n",
       "      <th></th>\n",
       "      <th>Book-Rating</th>\n",
       "    </tr>\n",
       "    <tr>\n",
       "      <th>Book-ID</th>\n",
       "      <th></th>\n",
       "    </tr>\n",
       "  </thead>\n",
       "  <tbody>\n",
       "    <tr>\n",
       "      <th>BOOK_270051</th>\n",
       "      <td>NaN</td>\n",
       "    </tr>\n",
       "    <tr>\n",
       "      <th>BOOK_270052</th>\n",
       "      <td>8.250000</td>\n",
       "    </tr>\n",
       "    <tr>\n",
       "      <th>BOOK_270053</th>\n",
       "      <td>6.333333</td>\n",
       "    </tr>\n",
       "    <tr>\n",
       "      <th>BOOK_270054</th>\n",
       "      <td>NaN</td>\n",
       "    </tr>\n",
       "    <tr>\n",
       "      <th>BOOK_270055</th>\n",
       "      <td>7.666667</td>\n",
       "    </tr>\n",
       "  </tbody>\n",
       "</table>\n",
       "</div>"
      ],
      "text/plain": [
       "             Book-Rating\n",
       "Book-ID                 \n",
       "BOOK_270051          NaN\n",
       "BOOK_270052     8.250000\n",
       "BOOK_270053     6.333333\n",
       "BOOK_270054          NaN\n",
       "BOOK_270055     7.666667"
      ]
     },
     "execution_count": 10,
     "metadata": {},
     "output_type": "execute_result"
    }
   ],
   "source": [
    "book_mean_nonzero = train_df[['Book-ID', 'Book-Rating']].replace(\n",
    "    0, np.nan).groupby(by='Book-ID').mean()\n",
    "book_mean_nonzero.tail()"
   ]
  },
  {
   "cell_type": "code",
   "execution_count": 11,
   "id": "d50ea5dd",
   "metadata": {},
   "outputs": [],
   "source": [
    "# book_median_nonzero = train_df[['Book-ID', 'Book-Rating']].replace(\n",
    "#     0, np.nan).groupby(by='Book-ID').median()\n",
    "# book_median_nonzero.tail()"
   ]
  },
  {
   "cell_type": "markdown",
   "id": "22dfd9c3",
   "metadata": {},
   "source": [
    "# Evaluate"
   ]
  },
  {
   "cell_type": "code",
   "execution_count": null,
   "id": "143f0c37",
   "metadata": {},
   "outputs": [],
   "source": [
    "# train_pred = np.full((train_df.shape[0],), global_mean)\n",
    "\n",
    "# for i, row in tqdm(enumerate(train_pred), total=train_pred.shape):\n",
    "#     train_pred[i] = book_mean_nonzero.loc[train_df.iloc[i]['Book-ID']].values[0]\n",
    "\n",
    "# rmse = mean_squared_error(\n",
    "#     train_df['Book-Rating'].values, train_pred, squared=False)\n",
    "# rmse"
   ]
  },
  {
   "cell_type": "code",
   "execution_count": null,
   "id": "b645c994",
   "metadata": {},
   "outputs": [],
   "source": [
    "# train_pred = np.full((train_df.shape[0],), global_mean)\n",
    "\n",
    "# for i, row in tqdm(enumerate(train_pred), total=train_pred.shape):\n",
    "#     train_pred[i] = book_median.loc[train_df.iloc[i]['Book-ID']].values[0]\n",
    "\n",
    "# rmse = mean_squared_error(\n",
    "#     train_df['Book-Rating'].values, train_pred, squared=False)\n",
    "# rmse"
   ]
  },
  {
   "cell_type": "code",
   "execution_count": 13,
   "id": "d8722470",
   "metadata": {},
   "outputs": [
    {
     "data": {
      "text/plain": [
       "True"
      ]
     },
     "execution_count": 13,
     "metadata": {},
     "output_type": "execute_result"
    }
   ],
   "source": [
    "np.isnan(np.nan)"
   ]
  },
  {
   "cell_type": "code",
   "execution_count": 15,
   "id": "ee85afab",
   "metadata": {},
   "outputs": [
    {
     "name": "stderr",
     "output_type": "stream",
     "text": [
      "100%|██████████| 871393/871393 [01:49<00:00, 7987.00it/s]\n"
     ]
    },
    {
     "data": {
      "text/plain": [
       "4.923649874683864"
      ]
     },
     "execution_count": 15,
     "metadata": {},
     "output_type": "execute_result"
    }
   ],
   "source": [
    "train_pred = np.full((train_df.shape[0],), 0)\n",
    "\n",
    "for i, row in tqdm(enumerate(train_pred), total=train_pred.shape[0]):\n",
    "    value = book_mean_nonzero.loc[train_df.iloc[i]['Book-ID']].values[0]\n",
    "    if not np.isnan(value):\n",
    "        train_pred[i] = value\n",
    "\n",
    "rmse = mean_squared_error(\n",
    "    train_df['Book-Rating'].values,\n",
    "    train_pred, squared=False)\n",
    "rmse"
   ]
  },
  {
   "cell_type": "code",
   "execution_count": null,
   "id": "b22d6a81",
   "metadata": {},
   "outputs": [],
   "source": [
    "# train_pred = np.full((train_df.shape[0],), global_mean)\n",
    "\n",
    "# for i, row in tqdm(enumerate(train_pred), total=train_pred.shape[0]):\n",
    "#     train_pred[i] = book_median_nonzero.loc[train_df.iloc[i]['Book-ID']].values[0]\n",
    "\n",
    "# train_pred = np.where(np.isnan(train_pred), global_mean, train_pred)\n",
    "# rmse = mean_squared_error(\n",
    "#     train_df['Book-Rating'].values, train_pred, squared=False)\n",
    "# rmse"
   ]
  },
  {
   "attachments": {},
   "cell_type": "markdown",
   "id": "0318eec6",
   "metadata": {},
   "source": [
    "# 가장 낮은 mse의 데이터 저장"
   ]
  },
  {
   "cell_type": "code",
   "execution_count": 19,
   "id": "28489cdb",
   "metadata": {},
   "outputs": [
    {
     "name": "stderr",
     "output_type": "stream",
     "text": [
      "100%|██████████| 159621/159621 [00:18<00:00, 8585.17it/s]\n"
     ]
    }
   ],
   "source": [
    "test_pred = np.full((test_df.shape[0],), global_mean)\n",
    "\n",
    "for i, row in tqdm(enumerate(test_pred), total=test_pred.shape[0]):\n",
    "    book_name = test_df.iloc[i]['Book-ID']\n",
    "    if book_name in book_mean_nonzero.index:\n",
    "        value = book_mean_nonzero.loc[book_name].values[0]\n",
    "        if not np.isnan(value):\n",
    "            test_pred[i] = value"
   ]
  },
  {
   "cell_type": "code",
   "execution_count": 20,
   "id": "1946ddb5",
   "metadata": {},
   "outputs": [
    {
     "data": {
      "text/plain": [
       "array([7.3846154, 7.6363635, 7.619085 , ..., 7.619085 , 9.       ,\n",
       "       7.619085 ], dtype=float32)"
      ]
     },
     "execution_count": 20,
     "metadata": {},
     "output_type": "execute_result"
    }
   ],
   "source": [
    "test_pred"
   ]
  },
  {
   "cell_type": "code",
   "execution_count": null,
   "id": "6e68d40a",
   "metadata": {},
   "outputs": [],
   "source": [
    "sample_submission_df = pd.read_csv(\"open/sample_submission.csv\")\n",
    "sample_submission_df"
   ]
  },
  {
   "cell_type": "code",
   "execution_count": 21,
   "id": "1ec53519",
   "metadata": {},
   "outputs": [],
   "source": [
    "mname = 'using-content-mean'"
   ]
  },
  {
   "cell_type": "code",
   "execution_count": 22,
   "id": "4e1b7265",
   "metadata": {},
   "outputs": [],
   "source": [
    "def make_report(template, test_pred, mname):\n",
    "    template['Book-Rating'] = test_pred\n",
    "    now = dt.strftime(dt.now(), '%y-%m-%d')\n",
    "    template.to_csv(f'results/{mname}-{now}.csv', index=False)\n",
    "    \n",
    "make_report(sample_submission_df, test_pred, mname)"
   ]
  },
  {
   "attachments": {},
   "cell_type": "markdown",
   "id": "0e6ce5be",
   "metadata": {},
   "source": [
    "# 제출 결과: test_rmse\n",
    "- 4.30 (include zeros)\n",
    "- 6.12 (ignore zeros)\n",
    "\n",
    ".... 폭망"
   ]
  }
 ],
 "metadata": {
  "kernelspec": {
   "display_name": "general",
   "language": "python",
   "name": "python3"
  },
  "language_info": {
   "codemirror_mode": {
    "name": "ipython",
    "version": 3
   },
   "file_extension": ".py",
   "mimetype": "text/x-python",
   "name": "python",
   "nbconvert_exporter": "python",
   "pygments_lexer": "ipython3",
   "version": "3.10.0"
  }
 },
 "nbformat": 4,
 "nbformat_minor": 5
}
