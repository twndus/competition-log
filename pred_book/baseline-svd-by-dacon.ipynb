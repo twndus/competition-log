{
 "cells": [
  {
   "cell_type": "code",
   "execution_count": 1,
   "id": "4b50a483-5d9e-4aea-ba4c-c5a05446ea64",
   "metadata": {},
   "outputs": [],
   "source": [
    "# Suprise 패키지 설치\n",
    "#pip install scikit-surprise"
   ]
  },
  {
   "cell_type": "markdown",
   "id": "98fef23d-e905-495a-98ed-393a8c8e19cd",
   "metadata": {},
   "source": [
    "## Import"
   ]
  },
  {
   "cell_type": "code",
   "execution_count": 2,
   "id": "57dd1c7c-9a3e-4cb3-9616-9a1a3aa45c4a",
   "metadata": {},
   "outputs": [],
   "source": [
    "import pandas as pd\n",
    "from surprise import SVD, Dataset, Reader, accuracy"
   ]
  },
  {
   "cell_type": "markdown",
   "id": "188ebb07-b146-45c8-bac9-e7bb27d45056",
   "metadata": {},
   "source": [
    "## Data Load"
   ]
  },
  {
   "cell_type": "code",
   "execution_count": 3,
   "id": "96379c36-c2ee-48f7-87f9-7e77e7c58fb3",
   "metadata": {},
   "outputs": [],
   "source": [
    "train_df = pd.read_csv('_open/train.csv')\n",
    "test_df = pd.read_csv('_open/test.csv')"
   ]
  },
  {
   "cell_type": "code",
   "execution_count": 4,
   "id": "865d2a3b-0e6d-43be-9a03-65dfbd9fab8c",
   "metadata": {},
   "outputs": [],
   "source": [
    "# Surprise 라이브러리용 Reader 및 Dataset 객체 생성\n",
    "reader = Reader(rating_scale=(0, 10))\n",
    "train = Dataset.load_from_df(train_df[['User-ID', 'Book-ID', 'Book-Rating']], reader)\n",
    "train = train.build_full_trainset()"
   ]
  },
  {
   "cell_type": "markdown",
   "id": "9adfad88-0fec-4c8c-a0cb-af2a872b7e29",
   "metadata": {},
   "source": [
    "## SVD"
   ]
  },
  {
   "cell_type": "code",
   "execution_count": 5,
   "id": "d10bfc29-a64b-4085-881b-0ade13b7eaf6",
   "metadata": {},
   "outputs": [
    {
     "data": {
      "text/plain": [
       "<surprise.prediction_algorithms.matrix_factorization.SVD at 0x7f94ed3a9f60>"
      ]
     },
     "execution_count": 5,
     "metadata": {},
     "output_type": "execute_result"
    }
   ],
   "source": [
    "# SVD 모델 훈련\n",
    "model = SVD()\n",
    "model.fit(train)"
   ]
  },
  {
   "cell_type": "markdown",
   "id": "a6796046-3103-41ba-9696-ace5c97c2065",
   "metadata": {},
   "source": [
    "## Prediction"
   ]
  },
  {
   "cell_type": "code",
   "execution_count": 6,
   "id": "4fce1dd9-2496-4693-8103-0c9d333a2104",
   "metadata": {},
   "outputs": [],
   "source": [
    "submit = pd.read_csv('_open/sample_submission.csv')"
   ]
  },
  {
   "cell_type": "code",
   "execution_count": 7,
   "id": "96dd897b-3be5-4755-9e82-a31b3b733c4e",
   "metadata": {},
   "outputs": [],
   "source": [
    "submit['Book-Rating'] = test_df.apply(lambda row: model.predict(row['User-ID'], row['Book-ID']).est, axis=1)"
   ]
  },
  {
   "cell_type": "markdown",
   "id": "d98a4c44-59d3-4ebd-b400-8ff0b2d61839",
   "metadata": {},
   "source": [
    "## Submission"
   ]
  },
  {
   "cell_type": "code",
   "execution_count": 8,
   "id": "0ca8af54-f372-4618-9ff5-cc86057ff174",
   "metadata": {},
   "outputs": [],
   "source": [
    "submit.to_csv('results/baseline_submit.csv', index=False)"
   ]
  },
  {
   "cell_type": "markdown",
   "id": "8ee00e1e",
   "metadata": {},
   "source": [
    "# Evaluation"
   ]
  },
  {
   "cell_type": "code",
   "execution_count": 9,
   "id": "475ebdcf",
   "metadata": {},
   "outputs": [],
   "source": [
    "from sklearn.metrics import mean_squared_error"
   ]
  },
  {
   "cell_type": "code",
   "execution_count": 10,
   "id": "4971eee6",
   "metadata": {},
   "outputs": [
    {
     "data": {
      "text/plain": [
       "1.0398539062176348"
      ]
     },
     "execution_count": 10,
     "metadata": {},
     "output_type": "execute_result"
    }
   ],
   "source": [
    "train_pred = train_df.apply(lambda row: model.predict(row['User-ID'], row['Book-ID']).est, axis=1)\n",
    "rmse = mean_squared_error(train_df['Book-Rating'], train_pred, squared=False)\n",
    "rmse"
   ]
  },
  {
   "attachments": {},
   "cell_type": "markdown",
   "id": "f2ae99e4",
   "metadata": {},
   "source": [
    "train rmse = 1.03985"
   ]
  },
  {
   "attachments": {},
   "cell_type": "markdown",
   "id": "206ecb55",
   "metadata": {},
   "source": [
    "# 데이콘 의견\n",
    "\n",
    "본 노트북은 데이콘에서 제공하는 베이스라인으로 제출을 목표로 함. SVD를 활용하여 예측을 수행하는데 평가 데이터 셋에 존재하는 유저나 도서가 학습 데이터 세트에 없을 수 있어 SVD는 적절하지 않을 수 있다고 경고 (Cold Start Problem)\n",
    "\n",
    "# 나의 의견\n",
    "\n",
    "여느 CF와 마찬가지로 유저id, 책id 만 가지고 평점을 학습하기 때문에 당연히 cold start 문제가 발생함. 오류를 야기하지는 않으나 학습되지 않은 콘텐츠와 유저에 대해서 그저 id의 순서에 따라서 평점을 예측하게 되므로 적절하지 않은 예측임에 분명함. 이를 고려할 수 있는 모델을 만들 필요가 있음"
   ]
  }
 ],
 "metadata": {
  "kernelspec": {
   "display_name": "PyTorch 1.14 (NGC 22.12/Python 3.8) on Backend.AI",
   "language": "python",
   "name": "python3"
  },
  "language_info": {
   "codemirror_mode": {
    "name": "ipython",
    "version": 3
   },
   "file_extension": ".py",
   "mimetype": "text/x-python",
   "name": "python",
   "nbconvert_exporter": "python",
   "pygments_lexer": "ipython3",
   "version": "3.10.0"
  }
 },
 "nbformat": 4,
 "nbformat_minor": 5
}
