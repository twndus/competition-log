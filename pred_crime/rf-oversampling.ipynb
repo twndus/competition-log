{
 "cells": [
  {
   "cell_type": "code",
   "execution_count": 1,
   "metadata": {},
   "outputs": [],
   "source": [
    "import os\n",
    "\n",
    "import numpy as np\n",
    "import pandas as pd\n",
    "\n",
    "import plotly.express as px\n",
    "import matplotlib.pyplot as plt"
   ]
  },
  {
   "attachments": {},
   "cell_type": "markdown",
   "metadata": {},
   "source": [
    "# load data"
   ]
  },
  {
   "cell_type": "code",
   "execution_count": 2,
   "metadata": {},
   "outputs": [
    {
     "name": "stdout",
     "output_type": "stream",
     "text": [
      "(84406, 20)\n"
     ]
    },
    {
     "data": {
      "text/html": [
       "<div>\n",
       "<style scoped>\n",
       "    .dataframe tbody tr th:only-of-type {\n",
       "        vertical-align: middle;\n",
       "    }\n",
       "\n",
       "    .dataframe tbody tr th {\n",
       "        vertical-align: top;\n",
       "    }\n",
       "\n",
       "    .dataframe thead th {\n",
       "        text-align: right;\n",
       "    }\n",
       "</style>\n",
       "<table border=\"1\" class=\"dataframe\">\n",
       "  <thead>\n",
       "    <tr style=\"text-align: right;\">\n",
       "      <th></th>\n",
       "      <th>ID</th>\n",
       "      <th>월</th>\n",
       "      <th>요일</th>\n",
       "      <th>시간</th>\n",
       "      <th>소관경찰서</th>\n",
       "      <th>소관지역</th>\n",
       "      <th>사건발생거리</th>\n",
       "      <th>강수량(mm)</th>\n",
       "      <th>강설량(mm)</th>\n",
       "      <th>적설량(cm)</th>\n",
       "      <th>풍향</th>\n",
       "      <th>안개</th>\n",
       "      <th>짙은안개</th>\n",
       "      <th>번개</th>\n",
       "      <th>진눈깨비</th>\n",
       "      <th>서리</th>\n",
       "      <th>연기/연무</th>\n",
       "      <th>눈날림</th>\n",
       "      <th>범죄발생지</th>\n",
       "      <th>TARGET</th>\n",
       "    </tr>\n",
       "  </thead>\n",
       "  <tbody>\n",
       "    <tr>\n",
       "      <th>0</th>\n",
       "      <td>TRAIN_00000</td>\n",
       "      <td>9</td>\n",
       "      <td>화요일</td>\n",
       "      <td>10</td>\n",
       "      <td>137</td>\n",
       "      <td>8.0</td>\n",
       "      <td>2.611124</td>\n",
       "      <td>0.000</td>\n",
       "      <td>0.0</td>\n",
       "      <td>0.0</td>\n",
       "      <td>245.0</td>\n",
       "      <td>0.0</td>\n",
       "      <td>0.0</td>\n",
       "      <td>0.0</td>\n",
       "      <td>0.0</td>\n",
       "      <td>0.0</td>\n",
       "      <td>0.0</td>\n",
       "      <td>0.0</td>\n",
       "      <td>차도</td>\n",
       "      <td>2</td>\n",
       "    </tr>\n",
       "    <tr>\n",
       "      <th>1</th>\n",
       "      <td>TRAIN_00001</td>\n",
       "      <td>11</td>\n",
       "      <td>화요일</td>\n",
       "      <td>6</td>\n",
       "      <td>438</td>\n",
       "      <td>13.0</td>\n",
       "      <td>3.209093</td>\n",
       "      <td>0.000</td>\n",
       "      <td>0.0</td>\n",
       "      <td>0.0</td>\n",
       "      <td>200.0</td>\n",
       "      <td>0.0</td>\n",
       "      <td>0.0</td>\n",
       "      <td>0.0</td>\n",
       "      <td>0.0</td>\n",
       "      <td>0.0</td>\n",
       "      <td>0.0</td>\n",
       "      <td>0.0</td>\n",
       "      <td>차도</td>\n",
       "      <td>0</td>\n",
       "    </tr>\n",
       "    <tr>\n",
       "      <th>2</th>\n",
       "      <td>TRAIN_00002</td>\n",
       "      <td>8</td>\n",
       "      <td>일요일</td>\n",
       "      <td>6</td>\n",
       "      <td>1729</td>\n",
       "      <td>47.0</td>\n",
       "      <td>1.619597</td>\n",
       "      <td>0.000</td>\n",
       "      <td>0.0</td>\n",
       "      <td>0.0</td>\n",
       "      <td>40.0</td>\n",
       "      <td>1.0</td>\n",
       "      <td>0.0</td>\n",
       "      <td>0.0</td>\n",
       "      <td>0.0</td>\n",
       "      <td>0.0</td>\n",
       "      <td>1.0</td>\n",
       "      <td>0.0</td>\n",
       "      <td>인도</td>\n",
       "      <td>1</td>\n",
       "    </tr>\n",
       "    <tr>\n",
       "      <th>3</th>\n",
       "      <td>TRAIN_00003</td>\n",
       "      <td>5</td>\n",
       "      <td>월요일</td>\n",
       "      <td>6</td>\n",
       "      <td>2337</td>\n",
       "      <td>53.0</td>\n",
       "      <td>1.921615</td>\n",
       "      <td>11.375</td>\n",
       "      <td>0.0</td>\n",
       "      <td>0.0</td>\n",
       "      <td>225.0</td>\n",
       "      <td>1.0</td>\n",
       "      <td>1.0</td>\n",
       "      <td>0.0</td>\n",
       "      <td>0.0</td>\n",
       "      <td>0.0</td>\n",
       "      <td>0.0</td>\n",
       "      <td>0.0</td>\n",
       "      <td>주거지</td>\n",
       "      <td>1</td>\n",
       "    </tr>\n",
       "    <tr>\n",
       "      <th>4</th>\n",
       "      <td>TRAIN_00004</td>\n",
       "      <td>9</td>\n",
       "      <td>일요일</td>\n",
       "      <td>11</td>\n",
       "      <td>1439</td>\n",
       "      <td>41.0</td>\n",
       "      <td>1.789721</td>\n",
       "      <td>0.000</td>\n",
       "      <td>0.0</td>\n",
       "      <td>0.0</td>\n",
       "      <td>255.0</td>\n",
       "      <td>0.0</td>\n",
       "      <td>0.0</td>\n",
       "      <td>0.0</td>\n",
       "      <td>0.0</td>\n",
       "      <td>0.0</td>\n",
       "      <td>0.0</td>\n",
       "      <td>0.0</td>\n",
       "      <td>주유소</td>\n",
       "      <td>2</td>\n",
       "    </tr>\n",
       "  </tbody>\n",
       "</table>\n",
       "</div>"
      ],
      "text/plain": [
       "            ID   월   요일  시간  소관경찰서  소관지역    사건발생거리  강수량(mm)  강설량(mm)  적설량(cm)   \n",
       "0  TRAIN_00000   9  화요일  10    137   8.0  2.611124    0.000      0.0      0.0  \\\n",
       "1  TRAIN_00001  11  화요일   6    438  13.0  3.209093    0.000      0.0      0.0   \n",
       "2  TRAIN_00002   8  일요일   6   1729  47.0  1.619597    0.000      0.0      0.0   \n",
       "3  TRAIN_00003   5  월요일   6   2337  53.0  1.921615   11.375      0.0      0.0   \n",
       "4  TRAIN_00004   9  일요일  11   1439  41.0  1.789721    0.000      0.0      0.0   \n",
       "\n",
       "      풍향   안개  짙은안개   번개  진눈깨비   서리  연기/연무  눈날림 범죄발생지  TARGET  \n",
       "0  245.0  0.0   0.0  0.0   0.0  0.0    0.0  0.0    차도       2  \n",
       "1  200.0  0.0   0.0  0.0   0.0  0.0    0.0  0.0    차도       0  \n",
       "2   40.0  1.0   0.0  0.0   0.0  0.0    1.0  0.0    인도       1  \n",
       "3  225.0  1.0   1.0  0.0   0.0  0.0    0.0  0.0   주거지       1  \n",
       "4  255.0  0.0   0.0  0.0   0.0  0.0    0.0  0.0   주유소       2  "
      ]
     },
     "execution_count": 2,
     "metadata": {},
     "output_type": "execute_result"
    }
   ],
   "source": [
    "train_df = pd.read_csv('data/train.csv')\n",
    "print(train_df.shape)\n",
    "train_df.head()"
   ]
  },
  {
   "cell_type": "code",
   "execution_count": 3,
   "metadata": {},
   "outputs": [
    {
     "name": "stdout",
     "output_type": "stream",
     "text": [
      "(17289, 19)\n"
     ]
    },
    {
     "data": {
      "text/html": [
       "<div>\n",
       "<style scoped>\n",
       "    .dataframe tbody tr th:only-of-type {\n",
       "        vertical-align: middle;\n",
       "    }\n",
       "\n",
       "    .dataframe tbody tr th {\n",
       "        vertical-align: top;\n",
       "    }\n",
       "\n",
       "    .dataframe thead th {\n",
       "        text-align: right;\n",
       "    }\n",
       "</style>\n",
       "<table border=\"1\" class=\"dataframe\">\n",
       "  <thead>\n",
       "    <tr style=\"text-align: right;\">\n",
       "      <th></th>\n",
       "      <th>ID</th>\n",
       "      <th>월</th>\n",
       "      <th>요일</th>\n",
       "      <th>시간</th>\n",
       "      <th>소관경찰서</th>\n",
       "      <th>소관지역</th>\n",
       "      <th>사건발생거리</th>\n",
       "      <th>강수량(mm)</th>\n",
       "      <th>강설량(mm)</th>\n",
       "      <th>적설량(cm)</th>\n",
       "      <th>풍향</th>\n",
       "      <th>안개</th>\n",
       "      <th>짙은안개</th>\n",
       "      <th>번개</th>\n",
       "      <th>진눈깨비</th>\n",
       "      <th>서리</th>\n",
       "      <th>연기/연무</th>\n",
       "      <th>눈날림</th>\n",
       "      <th>범죄발생지</th>\n",
       "    </tr>\n",
       "  </thead>\n",
       "  <tbody>\n",
       "    <tr>\n",
       "      <th>0</th>\n",
       "      <td>TEST_00000</td>\n",
       "      <td>9</td>\n",
       "      <td>금요일</td>\n",
       "      <td>5</td>\n",
       "      <td>927</td>\n",
       "      <td>28.0</td>\n",
       "      <td>1.570654</td>\n",
       "      <td>19.625000</td>\n",
       "      <td>0.0</td>\n",
       "      <td>0.0</td>\n",
       "      <td>165.0</td>\n",
       "      <td>1.0</td>\n",
       "      <td>0.0</td>\n",
       "      <td>1.0</td>\n",
       "      <td>0.0</td>\n",
       "      <td>0.0</td>\n",
       "      <td>0.0</td>\n",
       "      <td>0.0</td>\n",
       "      <td>차도</td>\n",
       "    </tr>\n",
       "    <tr>\n",
       "      <th>1</th>\n",
       "      <td>TEST_00001</td>\n",
       "      <td>5</td>\n",
       "      <td>수요일</td>\n",
       "      <td>3</td>\n",
       "      <td>926</td>\n",
       "      <td>28.0</td>\n",
       "      <td>1.712457</td>\n",
       "      <td>21.444444</td>\n",
       "      <td>0.0</td>\n",
       "      <td>0.0</td>\n",
       "      <td>175.0</td>\n",
       "      <td>1.0</td>\n",
       "      <td>0.0</td>\n",
       "      <td>0.0</td>\n",
       "      <td>0.0</td>\n",
       "      <td>0.0</td>\n",
       "      <td>1.0</td>\n",
       "      <td>0.0</td>\n",
       "      <td>식당</td>\n",
       "    </tr>\n",
       "    <tr>\n",
       "      <th>2</th>\n",
       "      <td>TEST_00002</td>\n",
       "      <td>5</td>\n",
       "      <td>월요일</td>\n",
       "      <td>6</td>\n",
       "      <td>1437</td>\n",
       "      <td>33.0</td>\n",
       "      <td>0.447496</td>\n",
       "      <td>25.200000</td>\n",
       "      <td>0.0</td>\n",
       "      <td>0.0</td>\n",
       "      <td>290.0</td>\n",
       "      <td>1.0</td>\n",
       "      <td>0.0</td>\n",
       "      <td>0.0</td>\n",
       "      <td>0.0</td>\n",
       "      <td>0.0</td>\n",
       "      <td>0.0</td>\n",
       "      <td>0.0</td>\n",
       "      <td>주거지</td>\n",
       "    </tr>\n",
       "    <tr>\n",
       "      <th>3</th>\n",
       "      <td>TEST_00003</td>\n",
       "      <td>11</td>\n",
       "      <td>화요일</td>\n",
       "      <td>1</td>\n",
       "      <td>1739</td>\n",
       "      <td>31.0</td>\n",
       "      <td>0.878585</td>\n",
       "      <td>0.000000</td>\n",
       "      <td>0.0</td>\n",
       "      <td>0.0</td>\n",
       "      <td>285.0</td>\n",
       "      <td>0.0</td>\n",
       "      <td>0.0</td>\n",
       "      <td>0.0</td>\n",
       "      <td>0.0</td>\n",
       "      <td>0.0</td>\n",
       "      <td>0.0</td>\n",
       "      <td>0.0</td>\n",
       "      <td>주거지</td>\n",
       "    </tr>\n",
       "    <tr>\n",
       "      <th>4</th>\n",
       "      <td>TEST_00004</td>\n",
       "      <td>10</td>\n",
       "      <td>목요일</td>\n",
       "      <td>10</td>\n",
       "      <td>830</td>\n",
       "      <td>15.0</td>\n",
       "      <td>0.496423</td>\n",
       "      <td>26.142857</td>\n",
       "      <td>0.0</td>\n",
       "      <td>0.0</td>\n",
       "      <td>95.0</td>\n",
       "      <td>1.0</td>\n",
       "      <td>0.0</td>\n",
       "      <td>0.0</td>\n",
       "      <td>0.0</td>\n",
       "      <td>0.0</td>\n",
       "      <td>0.0</td>\n",
       "      <td>0.0</td>\n",
       "      <td>주거지</td>\n",
       "    </tr>\n",
       "  </tbody>\n",
       "</table>\n",
       "</div>"
      ],
      "text/plain": [
       "           ID   월   요일  시간  소관경찰서  소관지역    사건발생거리    강수량(mm)  강설량(mm)   \n",
       "0  TEST_00000   9  금요일   5    927  28.0  1.570654  19.625000      0.0  \\\n",
       "1  TEST_00001   5  수요일   3    926  28.0  1.712457  21.444444      0.0   \n",
       "2  TEST_00002   5  월요일   6   1437  33.0  0.447496  25.200000      0.0   \n",
       "3  TEST_00003  11  화요일   1   1739  31.0  0.878585   0.000000      0.0   \n",
       "4  TEST_00004  10  목요일  10    830  15.0  0.496423  26.142857      0.0   \n",
       "\n",
       "   적설량(cm)     풍향   안개  짙은안개   번개  진눈깨비   서리  연기/연무  눈날림 범죄발생지  \n",
       "0      0.0  165.0  1.0   0.0  1.0   0.0  0.0    0.0  0.0    차도  \n",
       "1      0.0  175.0  1.0   0.0  0.0   0.0  0.0    1.0  0.0    식당  \n",
       "2      0.0  290.0  1.0   0.0  0.0   0.0  0.0    0.0  0.0   주거지  \n",
       "3      0.0  285.0  0.0   0.0  0.0   0.0  0.0    0.0  0.0   주거지  \n",
       "4      0.0   95.0  1.0   0.0  0.0   0.0  0.0    0.0  0.0   주거지  "
      ]
     },
     "execution_count": 3,
     "metadata": {},
     "output_type": "execute_result"
    }
   ],
   "source": [
    "test_df = pd.read_csv('data/test.csv')\n",
    "print(test_df.shape)\n",
    "test_df.head()"
   ]
  },
  {
   "attachments": {},
   "cell_type": "markdown",
   "metadata": {},
   "source": [
    "# feature exploration"
   ]
  },
  {
   "cell_type": "code",
   "execution_count": 4,
   "metadata": {},
   "outputs": [
    {
     "data": {
      "text/plain": [
       "TARGET\n",
       "0    36453\n",
       "1    25397\n",
       "2    22556\n",
       "Name: count, dtype: int64"
      ]
     },
     "execution_count": 4,
     "metadata": {},
     "output_type": "execute_result"
    }
   ],
   "source": [
    "train_df.TARGET.value_counts()"
   ]
  },
  {
   "attachments": {},
   "cell_type": "markdown",
   "metadata": {},
   "source": [
    "# preprocess data"
   ]
  },
  {
   "cell_type": "code",
   "execution_count": 5,
   "metadata": {},
   "outputs": [
    {
     "name": "stdout",
     "output_type": "stream",
     "text": [
      "categorical columns:  ['요일', '범죄발생지']\n",
      "numeric columns:  ['월', '시간', '소관경찰서', '소관지역', '사건발생거리', '강수량(mm)', '강설량(mm)', '적설량(cm)', '풍향', '안개', '짙은안개', '번개', '진눈깨비', '서리', '연기/연무', '눈날림']\n"
     ]
    }
   ],
   "source": [
    "cat_cols = []\n",
    "num_cols = []\n",
    "\n",
    "for col in test_df.columns[1:]:\n",
    "    if train_df[col].dtype == 'object':\n",
    "        cat_cols.append(col)\n",
    "    else:\n",
    "        num_cols.append(col)\n",
    "\n",
    "print('categorical columns: ', cat_cols)\n",
    "print('numeric columns: ', num_cols)"
   ]
  },
  {
   "attachments": {},
   "cell_type": "markdown",
   "metadata": {},
   "source": [
    "## preprocess cat data"
   ]
  },
  {
   "cell_type": "code",
   "execution_count": 6,
   "metadata": {},
   "outputs": [],
   "source": [
    "from sklearn.preprocessing import OneHotEncoder\n",
    "\n",
    "encoder = OneHotEncoder(handle_unknown='ignore', sparse_output=False)"
   ]
  },
  {
   "cell_type": "code",
   "execution_count": 7,
   "metadata": {},
   "outputs": [
    {
     "data": {
      "text/plain": [
       "array(['금요일', '목요일', '수요일', '월요일', '일요일', '토요일', '화요일', '공원', '백화점', '병원',\n",
       "       '식당', '약국', '은행', '인도', '주거지', '주유소', '주차장', '차도', '편의점', '학교',\n",
       "       '호텔/모텔'], dtype=object)"
      ]
     },
     "execution_count": 7,
     "metadata": {},
     "output_type": "execute_result"
    }
   ],
   "source": [
    "train_cat_array = encoder.fit_transform(train_df[cat_cols])\n",
    "test_cat_array = encoder.transform(test_df[cat_cols])\n",
    "\n",
    "encoded_cols = np.concatenate(encoder.categories_)\n",
    "encoded_cols"
   ]
  },
  {
   "cell_type": "code",
   "execution_count": 8,
   "metadata": {},
   "outputs": [
    {
     "data": {
      "text/plain": [
       "((84406, 39), (17289, 38))"
      ]
     },
     "execution_count": 8,
     "metadata": {},
     "output_type": "execute_result"
    }
   ],
   "source": [
    "train_df = pd.concat([\n",
    "    train_df.drop(columns=cat_cols),\n",
    "    pd.DataFrame(train_cat_array, columns=encoded_cols)], axis=1)\n",
    "    \n",
    "test_df = pd.concat([\n",
    "    test_df.drop(columns=cat_cols),\n",
    "    pd.DataFrame(test_cat_array, columns=encoded_cols)], axis=1)\n",
    "\n",
    "train_df.shape, test_df.shape"
   ]
  },
  {
   "attachments": {},
   "cell_type": "markdown",
   "metadata": {},
   "source": [
    "## preprocess numeric data"
   ]
  },
  {
   "cell_type": "code",
   "execution_count": 9,
   "metadata": {},
   "outputs": [
    {
     "data": {
      "text/html": [
       "<div>\n",
       "<style scoped>\n",
       "    .dataframe tbody tr th:only-of-type {\n",
       "        vertical-align: middle;\n",
       "    }\n",
       "\n",
       "    .dataframe tbody tr th {\n",
       "        vertical-align: top;\n",
       "    }\n",
       "\n",
       "    .dataframe thead th {\n",
       "        text-align: right;\n",
       "    }\n",
       "</style>\n",
       "<table border=\"1\" class=\"dataframe\">\n",
       "  <thead>\n",
       "    <tr style=\"text-align: right;\">\n",
       "      <th></th>\n",
       "      <th>월</th>\n",
       "      <th>시간</th>\n",
       "      <th>소관경찰서</th>\n",
       "      <th>소관지역</th>\n",
       "      <th>사건발생거리</th>\n",
       "      <th>강수량(mm)</th>\n",
       "      <th>강설량(mm)</th>\n",
       "      <th>적설량(cm)</th>\n",
       "      <th>풍향</th>\n",
       "      <th>안개</th>\n",
       "      <th>짙은안개</th>\n",
       "      <th>번개</th>\n",
       "      <th>진눈깨비</th>\n",
       "      <th>서리</th>\n",
       "      <th>연기/연무</th>\n",
       "      <th>눈날림</th>\n",
       "    </tr>\n",
       "  </thead>\n",
       "  <tbody>\n",
       "    <tr>\n",
       "      <th>count</th>\n",
       "      <td>84406.000000</td>\n",
       "      <td>84406.000000</td>\n",
       "      <td>84406.000000</td>\n",
       "      <td>84406.000000</td>\n",
       "      <td>84406.000000</td>\n",
       "      <td>84406.000000</td>\n",
       "      <td>84406.000000</td>\n",
       "      <td>84406.000000</td>\n",
       "      <td>84406.000000</td>\n",
       "      <td>84406.000000</td>\n",
       "      <td>84406.000000</td>\n",
       "      <td>84406.000000</td>\n",
       "      <td>84406.000000</td>\n",
       "      <td>84406.000000</td>\n",
       "      <td>84406.000000</td>\n",
       "      <td>84406.000000</td>\n",
       "    </tr>\n",
       "    <tr>\n",
       "      <th>mean</th>\n",
       "      <td>6.430195</td>\n",
       "      <td>6.769507</td>\n",
       "      <td>1060.027581</td>\n",
       "      <td>26.881726</td>\n",
       "      <td>1.912424</td>\n",
       "      <td>24.608776</td>\n",
       "      <td>2.284407</td>\n",
       "      <td>23.430503</td>\n",
       "      <td>186.926107</td>\n",
       "      <td>0.385423</td>\n",
       "      <td>0.017842</td>\n",
       "      <td>0.144042</td>\n",
       "      <td>0.020330</td>\n",
       "      <td>0.010260</td>\n",
       "      <td>0.210755</td>\n",
       "      <td>0.008921</td>\n",
       "    </tr>\n",
       "    <tr>\n",
       "      <th>std</th>\n",
       "      <td>3.108302</td>\n",
       "      <td>3.566390</td>\n",
       "      <td>698.380485</td>\n",
       "      <td>13.870968</td>\n",
       "      <td>0.958556</td>\n",
       "      <td>62.711211</td>\n",
       "      <td>15.852881</td>\n",
       "      <td>85.199896</td>\n",
       "      <td>98.299485</td>\n",
       "      <td>0.486698</td>\n",
       "      <td>0.132379</td>\n",
       "      <td>0.351134</td>\n",
       "      <td>0.141128</td>\n",
       "      <td>0.100771</td>\n",
       "      <td>0.407847</td>\n",
       "      <td>0.094030</td>\n",
       "    </tr>\n",
       "    <tr>\n",
       "      <th>min</th>\n",
       "      <td>1.000000</td>\n",
       "      <td>1.000000</td>\n",
       "      <td>26.000000</td>\n",
       "      <td>5.000000</td>\n",
       "      <td>0.012269</td>\n",
       "      <td>0.000000</td>\n",
       "      <td>0.000000</td>\n",
       "      <td>0.000000</td>\n",
       "      <td>10.000000</td>\n",
       "      <td>0.000000</td>\n",
       "      <td>0.000000</td>\n",
       "      <td>0.000000</td>\n",
       "      <td>0.000000</td>\n",
       "      <td>0.000000</td>\n",
       "      <td>0.000000</td>\n",
       "      <td>0.000000</td>\n",
       "    </tr>\n",
       "    <tr>\n",
       "      <th>25%</th>\n",
       "      <td>4.000000</td>\n",
       "      <td>4.000000</td>\n",
       "      <td>526.000000</td>\n",
       "      <td>13.000000</td>\n",
       "      <td>1.209985</td>\n",
       "      <td>0.000000</td>\n",
       "      <td>0.000000</td>\n",
       "      <td>0.000000</td>\n",
       "      <td>95.000000</td>\n",
       "      <td>0.000000</td>\n",
       "      <td>0.000000</td>\n",
       "      <td>0.000000</td>\n",
       "      <td>0.000000</td>\n",
       "      <td>0.000000</td>\n",
       "      <td>0.000000</td>\n",
       "      <td>0.000000</td>\n",
       "    </tr>\n",
       "    <tr>\n",
       "      <th>50%</th>\n",
       "      <td>7.000000</td>\n",
       "      <td>7.000000</td>\n",
       "      <td>937.000000</td>\n",
       "      <td>27.000000</td>\n",
       "      <td>1.822279</td>\n",
       "      <td>0.625000</td>\n",
       "      <td>0.000000</td>\n",
       "      <td>0.000000</td>\n",
       "      <td>205.000000</td>\n",
       "      <td>0.000000</td>\n",
       "      <td>0.000000</td>\n",
       "      <td>0.000000</td>\n",
       "      <td>0.000000</td>\n",
       "      <td>0.000000</td>\n",
       "      <td>0.000000</td>\n",
       "      <td>0.000000</td>\n",
       "    </tr>\n",
       "    <tr>\n",
       "      <th>75%</th>\n",
       "      <td>9.000000</td>\n",
       "      <td>10.000000</td>\n",
       "      <td>1638.000000</td>\n",
       "      <td>38.000000</td>\n",
       "      <td>2.476528</td>\n",
       "      <td>18.571429</td>\n",
       "      <td>0.000000</td>\n",
       "      <td>0.000000</td>\n",
       "      <td>260.000000</td>\n",
       "      <td>1.000000</td>\n",
       "      <td>0.000000</td>\n",
       "      <td>0.000000</td>\n",
       "      <td>0.000000</td>\n",
       "      <td>0.000000</td>\n",
       "      <td>0.000000</td>\n",
       "      <td>0.000000</td>\n",
       "    </tr>\n",
       "    <tr>\n",
       "      <th>max</th>\n",
       "      <td>12.000000</td>\n",
       "      <td>12.000000</td>\n",
       "      <td>2450.000000</td>\n",
       "      <td>54.000000</td>\n",
       "      <td>4.998936</td>\n",
       "      <td>614.875000</td>\n",
       "      <td>295.000000</td>\n",
       "      <td>649.800000</td>\n",
       "      <td>360.000000</td>\n",
       "      <td>1.000000</td>\n",
       "      <td>1.000000</td>\n",
       "      <td>1.000000</td>\n",
       "      <td>1.000000</td>\n",
       "      <td>1.000000</td>\n",
       "      <td>1.000000</td>\n",
       "      <td>1.000000</td>\n",
       "    </tr>\n",
       "  </tbody>\n",
       "</table>\n",
       "</div>"
      ],
      "text/plain": [
       "                  월            시간         소관경찰서          소관지역        사건발생거리   \n",
       "count  84406.000000  84406.000000  84406.000000  84406.000000  84406.000000  \\\n",
       "mean       6.430195      6.769507   1060.027581     26.881726      1.912424   \n",
       "std        3.108302      3.566390    698.380485     13.870968      0.958556   \n",
       "min        1.000000      1.000000     26.000000      5.000000      0.012269   \n",
       "25%        4.000000      4.000000    526.000000     13.000000      1.209985   \n",
       "50%        7.000000      7.000000    937.000000     27.000000      1.822279   \n",
       "75%        9.000000     10.000000   1638.000000     38.000000      2.476528   \n",
       "max       12.000000     12.000000   2450.000000     54.000000      4.998936   \n",
       "\n",
       "            강수량(mm)       강설량(mm)       적설량(cm)            풍향            안개   \n",
       "count  84406.000000  84406.000000  84406.000000  84406.000000  84406.000000  \\\n",
       "mean      24.608776      2.284407     23.430503    186.926107      0.385423   \n",
       "std       62.711211     15.852881     85.199896     98.299485      0.486698   \n",
       "min        0.000000      0.000000      0.000000     10.000000      0.000000   \n",
       "25%        0.000000      0.000000      0.000000     95.000000      0.000000   \n",
       "50%        0.625000      0.000000      0.000000    205.000000      0.000000   \n",
       "75%       18.571429      0.000000      0.000000    260.000000      1.000000   \n",
       "max      614.875000    295.000000    649.800000    360.000000      1.000000   \n",
       "\n",
       "               짙은안개            번개          진눈깨비            서리         연기/연무   \n",
       "count  84406.000000  84406.000000  84406.000000  84406.000000  84406.000000  \\\n",
       "mean       0.017842      0.144042      0.020330      0.010260      0.210755   \n",
       "std        0.132379      0.351134      0.141128      0.100771      0.407847   \n",
       "min        0.000000      0.000000      0.000000      0.000000      0.000000   \n",
       "25%        0.000000      0.000000      0.000000      0.000000      0.000000   \n",
       "50%        0.000000      0.000000      0.000000      0.000000      0.000000   \n",
       "75%        0.000000      0.000000      0.000000      0.000000      0.000000   \n",
       "max        1.000000      1.000000      1.000000      1.000000      1.000000   \n",
       "\n",
       "                눈날림  \n",
       "count  84406.000000  \n",
       "mean       0.008921  \n",
       "std        0.094030  \n",
       "min        0.000000  \n",
       "25%        0.000000  \n",
       "50%        0.000000  \n",
       "75%        0.000000  \n",
       "max        1.000000  "
      ]
     },
     "execution_count": 9,
     "metadata": {},
     "output_type": "execute_result"
    }
   ],
   "source": [
    "train_df[num_cols].describe()"
   ]
  },
  {
   "cell_type": "code",
   "execution_count": 10,
   "metadata": {},
   "outputs": [],
   "source": [
    "from sklearn.preprocessing import StandardScaler\n",
    "\n",
    "scaler = StandardScaler()"
   ]
  },
  {
   "cell_type": "code",
   "execution_count": 11,
   "metadata": {},
   "outputs": [
    {
     "data": {
      "text/html": [
       "<div>\n",
       "<style scoped>\n",
       "    .dataframe tbody tr th:only-of-type {\n",
       "        vertical-align: middle;\n",
       "    }\n",
       "\n",
       "    .dataframe tbody tr th {\n",
       "        vertical-align: top;\n",
       "    }\n",
       "\n",
       "    .dataframe thead th {\n",
       "        text-align: right;\n",
       "    }\n",
       "</style>\n",
       "<table border=\"1\" class=\"dataframe\">\n",
       "  <thead>\n",
       "    <tr style=\"text-align: right;\">\n",
       "      <th></th>\n",
       "      <th>월</th>\n",
       "      <th>시간</th>\n",
       "      <th>소관경찰서</th>\n",
       "      <th>소관지역</th>\n",
       "      <th>사건발생거리</th>\n",
       "      <th>강수량(mm)</th>\n",
       "      <th>강설량(mm)</th>\n",
       "      <th>적설량(cm)</th>\n",
       "      <th>풍향</th>\n",
       "      <th>안개</th>\n",
       "      <th>짙은안개</th>\n",
       "      <th>번개</th>\n",
       "      <th>진눈깨비</th>\n",
       "      <th>서리</th>\n",
       "      <th>연기/연무</th>\n",
       "      <th>눈날림</th>\n",
       "    </tr>\n",
       "  </thead>\n",
       "  <tbody>\n",
       "    <tr>\n",
       "      <th>count</th>\n",
       "      <td>8.440600e+04</td>\n",
       "      <td>8.440600e+04</td>\n",
       "      <td>8.440600e+04</td>\n",
       "      <td>8.440600e+04</td>\n",
       "      <td>8.440600e+04</td>\n",
       "      <td>8.440600e+04</td>\n",
       "      <td>8.440600e+04</td>\n",
       "      <td>8.440600e+04</td>\n",
       "      <td>8.440600e+04</td>\n",
       "      <td>8.440600e+04</td>\n",
       "      <td>8.440600e+04</td>\n",
       "      <td>8.440600e+04</td>\n",
       "      <td>8.440600e+04</td>\n",
       "      <td>8.440600e+04</td>\n",
       "      <td>8.440600e+04</td>\n",
       "      <td>8.440600e+04</td>\n",
       "    </tr>\n",
       "    <tr>\n",
       "      <th>mean</th>\n",
       "      <td>1.522002e-16</td>\n",
       "      <td>1.146132e-16</td>\n",
       "      <td>3.703988e-17</td>\n",
       "      <td>7.176477e-17</td>\n",
       "      <td>2.200506e-16</td>\n",
       "      <td>7.660520e-18</td>\n",
       "      <td>-1.043851e-17</td>\n",
       "      <td>4.322722e-17</td>\n",
       "      <td>5.219256e-17</td>\n",
       "      <td>-3.493534e-18</td>\n",
       "      <td>-4.444785e-17</td>\n",
       "      <td>1.056794e-16</td>\n",
       "      <td>-4.284841e-17</td>\n",
       "      <td>7.500576e-17</td>\n",
       "      <td>-1.052269e-17</td>\n",
       "      <td>-6.759778e-17</td>\n",
       "    </tr>\n",
       "    <tr>\n",
       "      <th>std</th>\n",
       "      <td>1.000006e+00</td>\n",
       "      <td>1.000006e+00</td>\n",
       "      <td>1.000006e+00</td>\n",
       "      <td>1.000006e+00</td>\n",
       "      <td>1.000006e+00</td>\n",
       "      <td>1.000006e+00</td>\n",
       "      <td>1.000006e+00</td>\n",
       "      <td>1.000006e+00</td>\n",
       "      <td>1.000006e+00</td>\n",
       "      <td>1.000006e+00</td>\n",
       "      <td>1.000006e+00</td>\n",
       "      <td>1.000006e+00</td>\n",
       "      <td>1.000006e+00</td>\n",
       "      <td>1.000006e+00</td>\n",
       "      <td>1.000006e+00</td>\n",
       "      <td>1.000006e+00</td>\n",
       "    </tr>\n",
       "    <tr>\n",
       "      <th>min</th>\n",
       "      <td>-1.747008e+00</td>\n",
       "      <td>-1.617754e+00</td>\n",
       "      <td>-1.480617e+00</td>\n",
       "      <td>-1.577529e+00</td>\n",
       "      <td>-1.982320e+00</td>\n",
       "      <td>-3.924166e-01</td>\n",
       "      <td>-1.441013e-01</td>\n",
       "      <td>-2.750079e-01</td>\n",
       "      <td>-1.799879e+00</td>\n",
       "      <td>-7.919185e-01</td>\n",
       "      <td>-1.347830e-01</td>\n",
       "      <td>-4.102213e-01</td>\n",
       "      <td>-1.440563e-01</td>\n",
       "      <td>-1.018150e-01</td>\n",
       "      <td>-5.167533e-01</td>\n",
       "      <td>-9.487608e-02</td>\n",
       "    </tr>\n",
       "    <tr>\n",
       "      <th>25%</th>\n",
       "      <td>-7.818446e-01</td>\n",
       "      <td>-7.765621e-01</td>\n",
       "      <td>-7.646702e-01</td>\n",
       "      <td>-1.000782e+00</td>\n",
       "      <td>-7.328137e-01</td>\n",
       "      <td>-3.924166e-01</td>\n",
       "      <td>-1.441013e-01</td>\n",
       "      <td>-2.750079e-01</td>\n",
       "      <td>-9.351692e-01</td>\n",
       "      <td>-7.919185e-01</td>\n",
       "      <td>-1.347830e-01</td>\n",
       "      <td>-4.102213e-01</td>\n",
       "      <td>-1.440563e-01</td>\n",
       "      <td>-1.018150e-01</td>\n",
       "      <td>-5.167533e-01</td>\n",
       "      <td>-9.487608e-02</td>\n",
       "    </tr>\n",
       "    <tr>\n",
       "      <th>50%</th>\n",
       "      <td>1.833184e-01</td>\n",
       "      <td>6.462963e-02</td>\n",
       "      <td>-1.761623e-01</td>\n",
       "      <td>8.526751e-03</td>\n",
       "      <td>-9.404287e-02</td>\n",
       "      <td>-3.824502e-01</td>\n",
       "      <td>-1.441013e-01</td>\n",
       "      <td>-2.750079e-01</td>\n",
       "      <td>1.838667e-01</td>\n",
       "      <td>-7.919185e-01</td>\n",
       "      <td>-1.347830e-01</td>\n",
       "      <td>-4.102213e-01</td>\n",
       "      <td>-1.440563e-01</td>\n",
       "      <td>-1.018150e-01</td>\n",
       "      <td>-5.167533e-01</td>\n",
       "      <td>-9.487608e-02</td>\n",
       "    </tr>\n",
       "    <tr>\n",
       "      <th>75%</th>\n",
       "      <td>8.267604e-01</td>\n",
       "      <td>9.058214e-01</td>\n",
       "      <td>8.275945e-01</td>\n",
       "      <td>8.015547e-01</td>\n",
       "      <td>5.884964e-01</td>\n",
       "      <td>-9.627278e-02</td>\n",
       "      <td>-1.441013e-01</td>\n",
       "      <td>-2.750079e-01</td>\n",
       "      <td>7.433846e-01</td>\n",
       "      <td>1.262756e+00</td>\n",
       "      <td>-1.347830e-01</td>\n",
       "      <td>-4.102213e-01</td>\n",
       "      <td>-1.440563e-01</td>\n",
       "      <td>-1.018150e-01</td>\n",
       "      <td>-5.167533e-01</td>\n",
       "      <td>-9.487608e-02</td>\n",
       "    </tr>\n",
       "    <tr>\n",
       "      <th>max</th>\n",
       "      <td>1.791923e+00</td>\n",
       "      <td>1.466616e+00</td>\n",
       "      <td>1.990291e+00</td>\n",
       "      <td>1.955050e+00</td>\n",
       "      <td>3.219977e+00</td>\n",
       "      <td>9.412507e+00</td>\n",
       "      <td>1.846461e+01</td>\n",
       "      <td>7.351807e+00</td>\n",
       "      <td>1.760690e+00</td>\n",
       "      <td>1.262756e+00</td>\n",
       "      <td>7.419332e+00</td>\n",
       "      <td>2.437709e+00</td>\n",
       "      <td>6.941732e+00</td>\n",
       "      <td>9.821737e+00</td>\n",
       "      <td>1.935160e+00</td>\n",
       "      <td>1.054006e+01</td>\n",
       "    </tr>\n",
       "  </tbody>\n",
       "</table>\n",
       "</div>"
      ],
      "text/plain": [
       "                  월            시간         소관경찰서          소관지역        사건발생거리   \n",
       "count  8.440600e+04  8.440600e+04  8.440600e+04  8.440600e+04  8.440600e+04  \\\n",
       "mean   1.522002e-16  1.146132e-16  3.703988e-17  7.176477e-17  2.200506e-16   \n",
       "std    1.000006e+00  1.000006e+00  1.000006e+00  1.000006e+00  1.000006e+00   \n",
       "min   -1.747008e+00 -1.617754e+00 -1.480617e+00 -1.577529e+00 -1.982320e+00   \n",
       "25%   -7.818446e-01 -7.765621e-01 -7.646702e-01 -1.000782e+00 -7.328137e-01   \n",
       "50%    1.833184e-01  6.462963e-02 -1.761623e-01  8.526751e-03 -9.404287e-02   \n",
       "75%    8.267604e-01  9.058214e-01  8.275945e-01  8.015547e-01  5.884964e-01   \n",
       "max    1.791923e+00  1.466616e+00  1.990291e+00  1.955050e+00  3.219977e+00   \n",
       "\n",
       "            강수량(mm)       강설량(mm)       적설량(cm)            풍향            안개   \n",
       "count  8.440600e+04  8.440600e+04  8.440600e+04  8.440600e+04  8.440600e+04  \\\n",
       "mean   7.660520e-18 -1.043851e-17  4.322722e-17  5.219256e-17 -3.493534e-18   \n",
       "std    1.000006e+00  1.000006e+00  1.000006e+00  1.000006e+00  1.000006e+00   \n",
       "min   -3.924166e-01 -1.441013e-01 -2.750079e-01 -1.799879e+00 -7.919185e-01   \n",
       "25%   -3.924166e-01 -1.441013e-01 -2.750079e-01 -9.351692e-01 -7.919185e-01   \n",
       "50%   -3.824502e-01 -1.441013e-01 -2.750079e-01  1.838667e-01 -7.919185e-01   \n",
       "75%   -9.627278e-02 -1.441013e-01 -2.750079e-01  7.433846e-01  1.262756e+00   \n",
       "max    9.412507e+00  1.846461e+01  7.351807e+00  1.760690e+00  1.262756e+00   \n",
       "\n",
       "               짙은안개            번개          진눈깨비            서리         연기/연무   \n",
       "count  8.440600e+04  8.440600e+04  8.440600e+04  8.440600e+04  8.440600e+04  \\\n",
       "mean  -4.444785e-17  1.056794e-16 -4.284841e-17  7.500576e-17 -1.052269e-17   \n",
       "std    1.000006e+00  1.000006e+00  1.000006e+00  1.000006e+00  1.000006e+00   \n",
       "min   -1.347830e-01 -4.102213e-01 -1.440563e-01 -1.018150e-01 -5.167533e-01   \n",
       "25%   -1.347830e-01 -4.102213e-01 -1.440563e-01 -1.018150e-01 -5.167533e-01   \n",
       "50%   -1.347830e-01 -4.102213e-01 -1.440563e-01 -1.018150e-01 -5.167533e-01   \n",
       "75%   -1.347830e-01 -4.102213e-01 -1.440563e-01 -1.018150e-01 -5.167533e-01   \n",
       "max    7.419332e+00  2.437709e+00  6.941732e+00  9.821737e+00  1.935160e+00   \n",
       "\n",
       "                눈날림  \n",
       "count  8.440600e+04  \n",
       "mean  -6.759778e-17  \n",
       "std    1.000006e+00  \n",
       "min   -9.487608e-02  \n",
       "25%   -9.487608e-02  \n",
       "50%   -9.487608e-02  \n",
       "75%   -9.487608e-02  \n",
       "max    1.054006e+01  "
      ]
     },
     "execution_count": 11,
     "metadata": {},
     "output_type": "execute_result"
    }
   ],
   "source": [
    "train_df[num_cols] = scaler.fit_transform(train_df[num_cols])\n",
    "test_df[num_cols] = scaler.transform(test_df[num_cols])\n",
    "\n",
    "train_df[num_cols].describe()"
   ]
  },
  {
   "cell_type": "code",
   "execution_count": 12,
   "metadata": {},
   "outputs": [
    {
     "data": {
      "text/plain": [
       "((84406, 37), (17289, 37))"
      ]
     },
     "execution_count": 12,
     "metadata": {},
     "output_type": "execute_result"
    }
   ],
   "source": [
    "train_X = train_df[np.concatenate([encoded_cols, num_cols])]\n",
    "test_X = test_df[np.concatenate([encoded_cols, num_cols])]\n",
    "train_X.shape, test_X.shape"
   ]
  },
  {
   "cell_type": "code",
   "execution_count": 13,
   "metadata": {},
   "outputs": [
    {
     "data": {
      "text/plain": [
       "((84406,), (84406, 3))"
      ]
     },
     "execution_count": 13,
     "metadata": {},
     "output_type": "execute_result"
    }
   ],
   "source": [
    "train_y = train_df['TARGET']\n",
    "train_y_multi = pd.get_dummies(train_df['TARGET'])\n",
    "train_y.shape, train_y_multi.shape"
   ]
  },
  {
   "cell_type": "markdown",
   "metadata": {},
   "source": [
    "# Oversampling"
   ]
  },
  {
   "cell_type": "code",
   "execution_count": 14,
   "metadata": {},
   "outputs": [
    {
     "name": "stdout",
     "output_type": "stream",
     "text": [
      "오버샘플링된 데이터 수: 109359\n",
      "오버샘플링된 클래스별 분포: [36453 36453 36453]\n"
     ]
    }
   ],
   "source": [
    "from imblearn.over_sampling import RandomOverSampler\n",
    "\n",
    "# 원본 데이터 X와 레이블 y가 있다고 가정\n",
    "# X: (n_samples, n_features) 크기의 2D 배열\n",
    "# y: (n_samples,) 크기의 1D 배열\n",
    "\n",
    "# RandomOverSampler 객체 생성\n",
    "oversampler = RandomOverSampler()\n",
    "\n",
    "# 오버샘플링 수행\n",
    "X_resampled, y_resampled = oversampler.fit_resample(train_X, train_y)\n",
    "\n",
    "# 오버샘플링된 데이터 확인\n",
    "print(\"오버샘플링된 데이터 수:\", len(X_resampled))\n",
    "print(\"오버샘플링된 클래스별 분포:\", np.bincount(y_resampled))"
   ]
  },
  {
   "cell_type": "code",
   "execution_count": 15,
   "metadata": {},
   "outputs": [
    {
     "data": {
      "text/plain": [
       "((109359,), (109359, 3))"
      ]
     },
     "execution_count": 15,
     "metadata": {},
     "output_type": "execute_result"
    }
   ],
   "source": [
    "y_resampled_multi = pd.get_dummies(y_resampled)\n",
    "y_resampled.shape, y_resampled_multi.shape"
   ]
  },
  {
   "attachments": {},
   "cell_type": "markdown",
   "metadata": {},
   "source": [
    "# Split train data into train/val with StratifiedKFold"
   ]
  },
  {
   "cell_type": "code",
   "execution_count": 16,
   "metadata": {},
   "outputs": [],
   "source": [
    "# from sklearn.model_selection import StratifiedKFold\n",
    "\n",
    "# skf = StratifiedKFold(n_splits=5, shuffle=True, random_state=42)"
   ]
  },
  {
   "cell_type": "code",
   "execution_count": 17,
   "metadata": {},
   "outputs": [],
   "source": [
    "# for i, (train_index, val_index) in enumerate(skf.split(train_X, train_y)):\n",
    "#     print(f\"Fold {i}:\")\n",
    "#     print(f\"  Train: index={train_index}\")\n",
    "#     print(f\"  Test:  index={val_index}\")"
   ]
  },
  {
   "cell_type": "code",
   "execution_count": 18,
   "metadata": {},
   "outputs": [],
   "source": [
    "## 나중에 꼭 잘라서 교차검증하자"
   ]
  },
  {
   "attachments": {},
   "cell_type": "markdown",
   "metadata": {},
   "source": [
    "# Ensembles"
   ]
  },
  {
   "cell_type": "code",
   "execution_count": 19,
   "metadata": {},
   "outputs": [],
   "source": [
    "from sklearn.ensemble import RandomForestClassifier\n",
    "from sklearn.model_selection import train_test_split\n",
    "from sklearn.metrics import accuracy_score, f1_score\n",
    "\n",
    "# 데이터 분할\n",
    "X_resampled_train, X_resampled_val, y_resampled_train, y_resampled_val = \\\n",
    "    train_test_split(X_resampled, y_resampled, test_size=0.2, random_state=42)"
   ]
  },
  {
   "cell_type": "code",
   "execution_count": 20,
   "metadata": {},
   "outputs": [
    {
     "name": "stderr",
     "output_type": "stream",
     "text": [
      "[Parallel(n_jobs=1)]: Using backend SequentialBackend with 1 concurrent workers.\n",
      "[Parallel(n_jobs=1)]: Done   1 out of   1 | elapsed:    0.1s remaining:    0.0s\n"
     ]
    },
    {
     "name": "stdout",
     "output_type": "stream",
     "text": [
      "building tree 1 of 100\n",
      "building tree 2 of 100\n",
      "building tree 3 of 100\n",
      "building tree 4 of 100\n",
      "building tree 5 of 100\n",
      "building tree 6 of 100\n",
      "building tree 7 of 100\n",
      "building tree 8 of 100\n",
      "building tree 9 of 100\n",
      "building tree 10 of 100\n",
      "building tree 11 of 100\n",
      "building tree 12 of 100\n",
      "building tree 13 of 100\n",
      "building tree 14 of 100\n",
      "building tree 15 of 100\n",
      "building tree 16 of 100\n",
      "building tree 17 of 100\n",
      "building tree 18 of 100\n",
      "building tree 19 of 100\n",
      "building tree 20 of 100\n",
      "building tree 21 of 100\n",
      "building tree 22 of 100\n",
      "building tree 23 of 100\n",
      "building tree 24 of 100\n",
      "building tree 25 of 100\n",
      "building tree 26 of 100\n",
      "building tree 27 of 100\n",
      "building tree 28 of 100\n",
      "building tree 29 of 100\n",
      "building tree 30 of 100\n",
      "building tree 31 of 100\n",
      "building tree 32 of 100\n",
      "building tree 33 of 100\n",
      "building tree 34 of 100\n",
      "building tree 35 of 100\n",
      "building tree 36 of 100\n",
      "building tree 37 of 100\n",
      "building tree 38 of 100\n",
      "building tree 39 of 100\n",
      "building tree 40 of 100\n",
      "building tree 41 of 100\n",
      "building tree 42 of 100\n",
      "building tree 43 of 100\n",
      "building tree 44 of 100\n",
      "building tree 45 of 100\n",
      "building tree 46 of 100\n",
      "building tree 47 of 100\n",
      "building tree 48 of 100\n",
      "building tree 49 of 100\n",
      "building tree 50 of 100\n",
      "building tree 51 of 100\n",
      "building tree 52 of 100\n",
      "building tree 53 of 100\n",
      "building tree 54 of 100\n",
      "building tree 55 of 100\n",
      "building tree 56 of 100\n",
      "building tree 57 of 100\n",
      "building tree 58 of 100\n",
      "building tree 59 of 100\n",
      "building tree 60 of 100\n",
      "building tree 61 of 100\n",
      "building tree 62 of 100\n",
      "building tree 63 of 100\n",
      "building tree 64 of 100\n",
      "building tree 65 of 100\n",
      "building tree 66 of 100\n",
      "building tree 67 of 100\n",
      "building tree 68 of 100\n",
      "building tree 69 of 100\n",
      "building tree 70 of 100\n",
      "building tree 71 of 100\n",
      "building tree 72 of 100\n",
      "building tree 73 of 100\n",
      "building tree 74 of 100\n",
      "building tree 75 of 100\n",
      "building tree 76 of 100\n",
      "building tree 77 of 100\n",
      "building tree 78 of 100\n",
      "building tree 79 of 100\n",
      "building tree 80 of 100\n",
      "building tree 81 of 100\n",
      "building tree 82 of 100\n",
      "building tree 83 of 100\n",
      "building tree 84 of 100\n",
      "building tree 85 of 100\n",
      "building tree 86 of 100\n",
      "building tree 87 of 100\n",
      "building tree 88 of 100\n",
      "building tree 89 of 100\n",
      "building tree 90 of 100\n",
      "building tree 91 of 100\n",
      "building tree 92 of 100\n",
      "building tree 93 of 100\n",
      "building tree 94 of 100\n",
      "building tree 95 of 100\n",
      "building tree 96 of 100\n",
      "building tree 97 of 100\n",
      "building tree 98 of 100\n",
      "building tree 99 of 100\n",
      "building tree 100 of 100\n"
     ]
    },
    {
     "name": "stderr",
     "output_type": "stream",
     "text": [
      "[Parallel(n_jobs=1)]: Done 100 out of 100 | elapsed:   13.5s finished\n"
     ]
    },
    {
     "data": {
      "text/html": [
       "<style>#sk-container-id-1 {color: black;background-color: white;}#sk-container-id-1 pre{padding: 0;}#sk-container-id-1 div.sk-toggleable {background-color: white;}#sk-container-id-1 label.sk-toggleable__label {cursor: pointer;display: block;width: 100%;margin-bottom: 0;padding: 0.3em;box-sizing: border-box;text-align: center;}#sk-container-id-1 label.sk-toggleable__label-arrow:before {content: \"▸\";float: left;margin-right: 0.25em;color: #696969;}#sk-container-id-1 label.sk-toggleable__label-arrow:hover:before {color: black;}#sk-container-id-1 div.sk-estimator:hover label.sk-toggleable__label-arrow:before {color: black;}#sk-container-id-1 div.sk-toggleable__content {max-height: 0;max-width: 0;overflow: hidden;text-align: left;background-color: #f0f8ff;}#sk-container-id-1 div.sk-toggleable__content pre {margin: 0.2em;color: black;border-radius: 0.25em;background-color: #f0f8ff;}#sk-container-id-1 input.sk-toggleable__control:checked~div.sk-toggleable__content {max-height: 200px;max-width: 100%;overflow: auto;}#sk-container-id-1 input.sk-toggleable__control:checked~label.sk-toggleable__label-arrow:before {content: \"▾\";}#sk-container-id-1 div.sk-estimator input.sk-toggleable__control:checked~label.sk-toggleable__label {background-color: #d4ebff;}#sk-container-id-1 div.sk-label input.sk-toggleable__control:checked~label.sk-toggleable__label {background-color: #d4ebff;}#sk-container-id-1 input.sk-hidden--visually {border: 0;clip: rect(1px 1px 1px 1px);clip: rect(1px, 1px, 1px, 1px);height: 1px;margin: -1px;overflow: hidden;padding: 0;position: absolute;width: 1px;}#sk-container-id-1 div.sk-estimator {font-family: monospace;background-color: #f0f8ff;border: 1px dotted black;border-radius: 0.25em;box-sizing: border-box;margin-bottom: 0.5em;}#sk-container-id-1 div.sk-estimator:hover {background-color: #d4ebff;}#sk-container-id-1 div.sk-parallel-item::after {content: \"\";width: 100%;border-bottom: 1px solid gray;flex-grow: 1;}#sk-container-id-1 div.sk-label:hover label.sk-toggleable__label {background-color: #d4ebff;}#sk-container-id-1 div.sk-serial::before {content: \"\";position: absolute;border-left: 1px solid gray;box-sizing: border-box;top: 0;bottom: 0;left: 50%;z-index: 0;}#sk-container-id-1 div.sk-serial {display: flex;flex-direction: column;align-items: center;background-color: white;padding-right: 0.2em;padding-left: 0.2em;position: relative;}#sk-container-id-1 div.sk-item {position: relative;z-index: 1;}#sk-container-id-1 div.sk-parallel {display: flex;align-items: stretch;justify-content: center;background-color: white;position: relative;}#sk-container-id-1 div.sk-item::before, #sk-container-id-1 div.sk-parallel-item::before {content: \"\";position: absolute;border-left: 1px solid gray;box-sizing: border-box;top: 0;bottom: 0;left: 50%;z-index: -1;}#sk-container-id-1 div.sk-parallel-item {display: flex;flex-direction: column;z-index: 1;position: relative;background-color: white;}#sk-container-id-1 div.sk-parallel-item:first-child::after {align-self: flex-end;width: 50%;}#sk-container-id-1 div.sk-parallel-item:last-child::after {align-self: flex-start;width: 50%;}#sk-container-id-1 div.sk-parallel-item:only-child::after {width: 0;}#sk-container-id-1 div.sk-dashed-wrapped {border: 1px dashed gray;margin: 0 0.4em 0.5em 0.4em;box-sizing: border-box;padding-bottom: 0.4em;background-color: white;}#sk-container-id-1 div.sk-label label {font-family: monospace;font-weight: bold;display: inline-block;line-height: 1.2em;}#sk-container-id-1 div.sk-label-container {text-align: center;}#sk-container-id-1 div.sk-container {/* jupyter's `normalize.less` sets `[hidden] { display: none; }` but bootstrap.min.css set `[hidden] { display: none !important; }` so we also need the `!important` here to be able to override the default hidden behavior on the sphinx rendered scikit-learn.org. See: https://github.com/scikit-learn/scikit-learn/issues/21755 */display: inline-block !important;position: relative;}#sk-container-id-1 div.sk-text-repr-fallback {display: none;}</style><div id=\"sk-container-id-1\" class=\"sk-top-container\"><div class=\"sk-text-repr-fallback\"><pre>RandomForestClassifier(random_state=42, verbose=2)</pre><b>In a Jupyter environment, please rerun this cell to show the HTML representation or trust the notebook. <br />On GitHub, the HTML representation is unable to render, please try loading this page with nbviewer.org.</b></div><div class=\"sk-container\" hidden><div class=\"sk-item\"><div class=\"sk-estimator sk-toggleable\"><input class=\"sk-toggleable__control sk-hidden--visually\" id=\"sk-estimator-id-1\" type=\"checkbox\" checked><label for=\"sk-estimator-id-1\" class=\"sk-toggleable__label sk-toggleable__label-arrow\">RandomForestClassifier</label><div class=\"sk-toggleable__content\"><pre>RandomForestClassifier(random_state=42, verbose=2)</pre></div></div></div></div></div>"
      ],
      "text/plain": [
       "RandomForestClassifier(random_state=42, verbose=2)"
      ]
     },
     "execution_count": 20,
     "metadata": {},
     "output_type": "execute_result"
    }
   ],
   "source": [
    "# 앙상블 모델 생성\n",
    "ensemble = RandomForestClassifier(random_state=42, verbose=2)\n",
    "\n",
    "# 앙상블 모델 훈련\n",
    "ensemble.fit(X_resampled_train, y_resampled_train)"
   ]
  },
  {
   "cell_type": "code",
   "execution_count": 21,
   "metadata": {},
   "outputs": [
    {
     "name": "stderr",
     "output_type": "stream",
     "text": [
      "[Parallel(n_jobs=1)]: Using backend SequentialBackend with 1 concurrent workers.\n",
      "[Parallel(n_jobs=1)]: Done   1 out of   1 | elapsed:    0.0s remaining:    0.0s\n"
     ]
    },
    {
     "name": "stdout",
     "output_type": "stream",
     "text": [
      "앙상블 모델 정확도: 0.6833851499634236\n",
      "앙상블 모델 F1: 0.682348151525427\n"
     ]
    },
    {
     "name": "stderr",
     "output_type": "stream",
     "text": [
      "[Parallel(n_jobs=1)]: Done 100 out of 100 | elapsed:    0.8s finished\n"
     ]
    }
   ],
   "source": [
    "# 앙상블 모델 예측\n",
    "val_pred = ensemble.predict(X_resampled_val)\n",
    "\n",
    "# 앙상블 모델 성능 평가\n",
    "accuracy = accuracy_score(y_resampled_val, val_pred)\n",
    "f1_macro = f1_score(y_resampled_val, val_pred, average='macro')\n",
    "\n",
    "print(\"앙상블 모델 정확도:\", accuracy)\n",
    "print(\"앙상블 모델 F1:\", f1_macro)"
   ]
  },
  {
   "cell_type": "code",
   "execution_count": 22,
   "metadata": {},
   "outputs": [
    {
     "name": "stderr",
     "output_type": "stream",
     "text": [
      "[Parallel(n_jobs=1)]: Using backend SequentialBackend with 1 concurrent workers.\n",
      "[Parallel(n_jobs=1)]: Done   1 out of   1 | elapsed:    0.0s remaining:    0.0s\n"
     ]
    },
    {
     "name": "stdout",
     "output_type": "stream",
     "text": [
      "앙상블 모델 정확도: 0.9992113113948358\n",
      "앙상블 모델 F1: 0.9992112590762517\n"
     ]
    },
    {
     "name": "stderr",
     "output_type": "stream",
     "text": [
      "[Parallel(n_jobs=1)]: Done 100 out of 100 | elapsed:    2.7s finished\n"
     ]
    }
   ],
   "source": [
    "# 앙상블 모델 예측\n",
    "train_pred = ensemble.predict(X_resampled_train)\n",
    "\n",
    "# 앙상블 모델 성능 평가\n",
    "accuracy = accuracy_score(y_resampled_train, train_pred)\n",
    "f1_macro = f1_score(y_resampled_train, train_pred, average='macro')\n",
    "\n",
    "print(\"앙상블 모델 정확도:\", accuracy)\n",
    "print(\"앙상블 모델 F1:\", f1_macro)"
   ]
  },
  {
   "cell_type": "code",
   "execution_count": 23,
   "metadata": {},
   "outputs": [
    {
     "name": "stderr",
     "output_type": "stream",
     "text": [
      "[Parallel(n_jobs=1)]: Using backend SequentialBackend with 1 concurrent workers.\n",
      "[Parallel(n_jobs=1)]: Done   1 out of   1 | elapsed:    0.0s remaining:    0.0s\n",
      "[Parallel(n_jobs=1)]: Done 100 out of 100 | elapsed:    0.6s finished\n"
     ]
    }
   ],
   "source": [
    "# 앙상블 모델 예측\n",
    "test_pred = ensemble.predict(test_X)"
   ]
  },
  {
   "cell_type": "code",
   "execution_count": 24,
   "metadata": {},
   "outputs": [
    {
     "data": {
      "text/plain": [
       "((84406, 39), (17289, 38), (17289, 2))"
      ]
     },
     "execution_count": 24,
     "metadata": {},
     "output_type": "execute_result"
    }
   ],
   "source": [
    "sample_submission_df = pd.read_csv(\"data/sample_submission.csv\")\n",
    "\n",
    "train_df.shape, test_df.shape, sample_submission_df.shape"
   ]
  },
  {
   "cell_type": "code",
   "execution_count": 25,
   "metadata": {},
   "outputs": [],
   "source": [
    "mname = 'randomforest'\n",
    "desc = 'oversampled'"
   ]
  },
  {
   "cell_type": "code",
   "execution_count": 26,
   "metadata": {},
   "outputs": [],
   "source": [
    "from datetime import datetime as dt\n",
    "\n",
    "def make_report(template, test_pred, mname):\n",
    "    template['TARGET'] = test_pred\n",
    "    now = dt.strftime(dt.now(), '%y-%m-%d')\n",
    "    template.to_csv(f'results/{mname}-{desc}-{now}.csv', index=False)\n",
    "    \n",
    "make_report(sample_submission_df, test_pred, mname)"
   ]
  },
  {
   "cell_type": "code",
   "execution_count": 27,
   "metadata": {},
   "outputs": [],
   "source": [
    "## optimizer\n",
    "## early stopping\n",
    "## compile\n",
    "## train\n",
    "## evaluate"
   ]
  },
  {
   "cell_type": "code",
   "execution_count": 28,
   "metadata": {},
   "outputs": [],
   "source": [
    "# from sklearn.ensemble import RandomForestClassifier\n",
    "# from sklearn.datasets import make_classification\n",
    "# from sklearn.model_selection import train_test_split\n",
    "# from sklearn.metrics import accuracy_score\n",
    "\n",
    "# # 분류 데이터 생성\n",
    "# X, y = make_classification(n_samples=1000, n_features=10, random_state=42)\n",
    "\n",
    "# # 데이터 분할\n",
    "# X_train, X_test, y_train, y_test = train_test_split(X, y, test_size=0.2, random_state=42)\n",
    "\n",
    "# # 앙상블 모델 생성\n",
    "# ensemble = RandomForestClassifier(random_state=42)\n",
    "\n",
    "# # 앙상블 모델 훈련\n",
    "# ensemble.fit(X_train, y_train)\n",
    "\n",
    "# # 앙상블 모델 예측\n",
    "# y_pred = ensemble.predict(X_test)\n",
    "\n",
    "# # 앙상블 모델 성능 평가\n",
    "# accuracy = accuracy_score(y_test, y_pred)\n",
    "# print(\"앙상블 모델 정확도:\", accuracy)"
   ]
  },
  {
   "attachments": {},
   "cell_type": "markdown",
   "metadata": {},
   "source": [
    "????"
   ]
  }
 ],
 "metadata": {
  "kernelspec": {
   "display_name": "recommender",
   "language": "python",
   "name": "python3"
  },
  "language_info": {
   "codemirror_mode": {
    "name": "ipython",
    "version": 3
   },
   "file_extension": ".py",
   "mimetype": "text/x-python",
   "name": "python",
   "nbconvert_exporter": "python",
   "pygments_lexer": "ipython3",
   "version": "3.10.11"
  },
  "orig_nbformat": 4
 },
 "nbformat": 4,
 "nbformat_minor": 2
}
